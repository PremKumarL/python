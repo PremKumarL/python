{
 "cells": [
  {
   "cell_type": "markdown",
   "metadata": {},
   "source": [
    "# Python Loops and Functions\n",
    "---\n"
   ]
  },
  {
   "cell_type": "markdown",
   "metadata": {},
   "source": [
    "`Please open Programming Concepts slides for reference to loops and functions`"
   ]
  },
  {
   "cell_type": "markdown",
   "metadata": {
    "slideshow": {
     "slide_type": "slide"
    }
   },
   "source": [
    "# Iterations\n",
    "\n",
    "When we need to process a piece of code again and again we need loops. It is also known as iterations. One run of the loop is called single iteration and if a loop run n number of times , in programming we call it n iterations of the loop.\n",
    "\n",
    "Python has two different statements, __`while`__ and __`for`__, that enable iteration."
   ]
  },
  {
   "cell_type": "markdown",
   "metadata": {
    "slideshow": {
     "slide_type": "subslide"
    }
   },
   "source": [
    "### While Statement\n",
    "\n",
    "Let's take a simple program to print from 1 to 5\n",
    "```\n",
    "print(1)\n",
    "print(2)\n",
    "print(3)\n",
    "print(4)\n",
    "print(5)\n",
    "```\n",
    "\n",
    "`Is there a better way to do it?`"
   ]
  },
  {
   "cell_type": "code",
   "execution_count": 1,
   "metadata": {
    "collapsed": false,
    "slideshow": {
     "slide_type": "subslide"
    }
   },
   "outputs": [
    {
     "name": "stdout",
     "output_type": "stream",
     "text": [
      "1\n",
      "2\n",
      "3\n",
      "4\n",
      "5\n"
     ]
    }
   ],
   "source": [
    "number = 1\n",
    "while (number <= 5):\n",
    "    print(number)\n",
    "    number += 1"
   ]
  },
  {
   "cell_type": "markdown",
   "metadata": {},
   "source": [
    "`Can you understand the while loop ? It is very similar to the pseudo code we have written earlier.`"
   ]
  },
  {
   "cell_type": "markdown",
   "metadata": {},
   "source": [
    "```Python\n",
    "number = 1\n",
    "while (number <= 5):\n",
    "    print(number)   #w1\n",
    "    number += 1     #w2\n",
    "```"
   ]
  },
  {
   "cell_type": "markdown",
   "metadata": {
    "slideshow": {
     "slide_type": "notes"
    }
   },
   "source": [
    "``` number <= 5``` \n",
    "\n",
    "is a condition. As long as it is true the loop will keep on running. More precisely the statement w1 w2 will keep on executing . After each execution the condition will check and if it is true it will go for another iteration"
   ]
  },
  {
   "cell_type": "markdown",
   "metadata": {
    "slideshow": {
     "slide_type": "subslide"
    }
   },
   "source": [
    "The **while** statement:\n",
    "```Python \n",
    "while (condition) :\n",
    "    true body \n",
    "    ----\n",
    "    ----\n",
    "```\n",
    "\n",
    "the **true body** must be indented by 4 spaces ( you can do it by pressing tab) than the line that begins the while statement. The block technically is part of the While statement.\n",
    "\n",
    "`Python does not use braces to define a block. It uses indentation. It force the programmer to write codes which are well indented and readable.`"
   ]
  },
  {
   "cell_type": "markdown",
   "metadata": {
    "slideshow": {
     "slide_type": "slide"
    }
   },
   "source": [
    "### Let's Start Simple\n",
    "`Let's write a program which will take input from user and and print the value. if user enter q it will quit and come out. `"
   ]
  },
  {
   "cell_type": "code",
   "execution_count": 2,
   "metadata": {
    "collapsed": false
   },
   "outputs": [
    {
     "name": "stdout",
     "output_type": "stream",
     "text": [
      "input something or press q to quit :q\n",
      "shutting down\n"
     ]
    }
   ],
   "source": [
    "done = True\n",
    "\n",
    "while(done):\n",
    "    inp = raw_input('input something or press q to quit :')\n",
    "    if inp == 'q':\n",
    "        print \"shutting down\"\n",
    "        done = False          #set loop condition to False so that it can come out!\n",
    "    else :\n",
    "        print \"--------\"\n",
    "        print \"OUTPUT\" \n",
    "        print inp\n",
    "        print \"--------\"\n",
    "    "
   ]
  },
  {
   "cell_type": "markdown",
   "metadata": {},
   "source": [
    "`Can you write a program which take user input a number and repetition and print the input number  that many times on screen. For e.g.`\n",
    "\n",
    "```\n",
    "Input :\n",
    "Enter Number : 4\n",
    "Enter repetition : 3\n",
    "\n",
    "Output : \n",
    "4\n",
    "4\n",
    "4\n",
    "----------\n",
    "```"
   ]
  },
  {
   "cell_type": "code",
   "execution_count": 3,
   "metadata": {
    "collapsed": true
   },
   "outputs": [],
   "source": [
    "\n",
    "\n",
    "# YOUR CODE HERE\n"
   ]
  },
  {
   "cell_type": "markdown",
   "metadata": {
    "slideshow": {
     "slide_type": "slide"
    }
   },
   "source": [
    "### Finite Loops and Infinite Loops"
   ]
  },
  {
   "cell_type": "markdown",
   "metadata": {},
   "source": [
    "In programming there may be a times when you have to check your conditions. If your condition on which the loop is checking is always true; the program will never terminate. It will keep executing that loop, and well it's not good. You are stuck. So be careful about your loop conditions.\n",
    "\n",
    "`It is simple , you should have some dynamics on the variable you are putting inside the conditions right ?`"
   ]
  },
  {
   "cell_type": "code",
   "execution_count": 4,
   "metadata": {
    "collapsed": false,
    "slideshow": {
     "slide_type": "slide"
    }
   },
   "outputs": [
    {
     "name": "stdout",
     "output_type": "stream",
     "text": [
      "1\n",
      "2\n",
      "3\n",
      "4\n"
     ]
    }
   ],
   "source": [
    "# So here we have condition on n\n",
    "# and we are updating n (some dynamics)\n",
    "# Let's see how many times this loop will run \n",
    "\n",
    "n = 1\n",
    "while (n <= 4) :\n",
    "    print n\n",
    "    n += 1\n",
    "    \n"
   ]
  },
  {
   "cell_type": "code",
   "execution_count": 5,
   "metadata": {
    "collapsed": false,
    "slideshow": {
     "slide_type": "slide"
    }
   },
   "outputs": [
    {
     "name": "stdout",
     "output_type": "stream",
     "text": [
      "Enter number : 1\n",
      "1\n"
     ]
    }
   ],
   "source": [
    "#sometimes the loop iterations are not fixed, so you may have to check on that\n",
    "# So here we take input from user\n",
    "\n",
    "\n",
    "n = 1\n",
    "stop = int(input(\"Enter number : \"))\n",
    "while (n <= stop) :\n",
    "    print n\n",
    "    n += 1\n",
    "    \n"
   ]
  },
  {
   "cell_type": "markdown",
   "metadata": {},
   "source": [
    "You may have some conditions on which your program control the iterations so keep an eye on the logic. "
   ]
  },
  {
   "cell_type": "markdown",
   "metadata": {},
   "source": [
    "This all will come naturally to you as you become an ace programmer. This is directly proportional to how much you code and how many codes you see."
   ]
  },
  {
   "cell_type": "markdown",
   "metadata": {},
   "source": [
    "So what can be the simplest infinite loop possible ?\n",
    "\n",
    "```Python \n",
    "\n",
    "while True :\n",
    "    print i \n",
    "    i+=1\n",
    "```"
   ]
  },
  {
   "cell_type": "code",
   "execution_count": 6,
   "metadata": {
    "collapsed": false
   },
   "outputs": [
    {
     "ename": "NameError",
     "evalue": "name 'i' is not defined",
     "output_type": "error",
     "traceback": [
      "\u001b[0;31m---------------------------------------------------------------------------\u001b[0m",
      "\u001b[0;31mNameError\u001b[0m                                 Traceback (most recent call last)",
      "\u001b[0;32m<ipython-input-6-cd81560de9ce>\u001b[0m in \u001b[0;36m<module>\u001b[0;34m()\u001b[0m\n\u001b[1;32m      1\u001b[0m \u001b[0;32mwhile\u001b[0m \u001b[0mTrue\u001b[0m \u001b[0;34m:\u001b[0m\u001b[0;34m\u001b[0m\u001b[0m\n\u001b[0;32m----> 2\u001b[0;31m     \u001b[0;32mprint\u001b[0m \u001b[0mi\u001b[0m\u001b[0;34m\u001b[0m\u001b[0m\n\u001b[0m\u001b[1;32m      3\u001b[0m     \u001b[0mi\u001b[0m\u001b[0;34m+=\u001b[0m\u001b[0;36m1\u001b[0m\u001b[0;34m\u001b[0m\u001b[0m\n",
      "\u001b[0;31mNameError\u001b[0m: name 'i' is not defined"
     ]
    }
   ],
   "source": [
    "while True :\n",
    "    print i \n",
    "    i+=1"
   ]
  },
  {
   "cell_type": "markdown",
   "metadata": {},
   "source": [
    "Did you see that error?  so variable `i` is not defined , and this is common mistake among new programmers. Referring a variable even before you assigned anything to it.\n",
    "\n",
    "So let's correct our infinite loop \n",
    "\n",
    "## Ready for some action ?\n",
    "\n",
    "`You have to hit restart button on your notebook to terminate that program. This can hang your computer but only for a while. So be patient. `"
   ]
  },
  {
   "cell_type": "code",
   "execution_count": null,
   "metadata": {
    "collapsed": false
   },
   "outputs": [],
   "source": [
    "i = 0 # assign some value\n",
    "while True :\n",
    "    print i \n",
    "    i+=1\n"
   ]
  },
  {
   "cell_type": "markdown",
   "metadata": {},
   "source": [
    "## Infinite loops are fun too\n",
    "\n",
    "`But sometime the infinite loops are helpful. What if you want your dear program to wait for you to say magic words to you, whenever you want ?`"
   ]
  },
  {
   "cell_type": "code",
   "execution_count": null,
   "metadata": {
    "collapsed": false
   },
   "outputs": [],
   "source": [
    "done = False\n",
    "while not done:\n",
    "    entry = raw_input(\"hit q to kill me, \\n Do you want me to say magic words say Y/N? \")\n",
    "    if entry == 'q':\n",
    "        print \"I am leaving . bye !!\"\n",
    "        done = True\n",
    "    elif entry == 'y' or entry == 'Y':\n",
    "        print \"------------------------------------------\"\n",
    "        print \"you are my everything, I just can't live without you.\"\n",
    "        print \"------------------------------------------\"\n",
    "    else :\n",
    "        print \"------------------------------------------\"\n",
    "        print 'waiting for your response..:('\n",
    "        print \"------------------------------------------\"\n",
    "        print \n",
    "done = False       "
   ]
  },
  {
   "cell_type": "markdown",
   "metadata": {},
   "source": [
    "### `Now you know a programmer's love. You can code` _`the one ,` _ `   who will wait for you forever..`\n",
    "\n",
    "`I mean until electricity or shutdown :)`\n"
   ]
  },
  {
   "cell_type": "code",
   "execution_count": null,
   "metadata": {
    "collapsed": true
   },
   "outputs": [],
   "source": [
    "## So can you think of some fun infinite loops?\n",
    "\n",
    "\n",
    "## CODE YOUR OWN INFINITE LOOP \n",
    "\n"
   ]
  },
  {
   "cell_type": "markdown",
   "metadata": {},
   "source": [
    "Infinite loops are used in function which wait for certain events. They are used in building listeners. You will code one listener in coming modules. They are event handlers. They keep on waiting until there is an event which they are interested in.\n",
    "\n",
    "__`Did you notice your cursor? It is always on infinite loop , waiting for you to type something from your keyboard.`__"
   ]
  },
  {
   "cell_type": "markdown",
   "metadata": {
    "slideshow": {
     "slide_type": "slide"
    }
   },
   "source": [
    "### For Loop\n",
    "\n",
    "While loop is more suited for infinite looping.\n",
    "\n",
    "When we have to iterate over a range of value or some list (you'll get to know about List's later)\n",
    "\n",
    "The **for statement** iterates over a range of values. These values can be a numeric range or elements of a data structure like a string, list, or tuple( don't worry about them, they are coming soon.)"
   ]
  },
  {
   "cell_type": "markdown",
   "metadata": {
    "collapsed": true
   },
   "source": [
    "```Python \n",
    "counter = 1\n",
    "while counter  <= 5:\n",
    "    print(counter)\n",
    "    counter += 1\n",
    "```\n",
    "\n",
    "This code requires three crucial pieces to manage the loop:\n",
    "- initialization: counter = 1\n",
    "- check: counter <= 10\n",
    "- update: counter += 1\n",
    "\n",
    "This can be re-written as : \n",
    "\n",
    "```Python\n",
    "for counter in range(1, 6):\n",
    "    print(counter)\n",
    "```"
   ]
  },
  {
   "cell_type": "markdown",
   "metadata": {},
   "source": [
    "## The `range()`"
   ]
  },
  {
   "cell_type": "markdown",
   "metadata": {},
   "source": [
    "The general form of the range function call is : \n",
    "```\n",
    "range( start,end,step )\n",
    "```\n",
    "where,\n",
    "- __`start`__ is the first value in the range; if omitted, the default value is 0\n",
    "- __`end`__ is one past the last value in the range; the end value may not be omitted.\n",
    "- __`step`__ is the amount to increment or decrement;<br>if the change parameter is omitted, it defaults to 1 (counts up by ones)\n",
    "\n",
    "__`Note: `__ `start, end, and step must all be integer values; floating type values and other types are not allowed`\n"
   ]
  },
  {
   "cell_type": "code",
   "execution_count": null,
   "metadata": {
    "collapsed": false
   },
   "outputs": [],
   "source": [
    "for n in range(0,10):\n",
    "    print n\n",
    "    \n",
    "# Notice that 10 is not included. Remember it, \n",
    "# it always confuse later. So be sure with your range() construct and its syntax."
   ]
  },
  {
   "cell_type": "code",
   "execution_count": null,
   "metadata": {
    "collapsed": false
   },
   "outputs": [],
   "source": [
    "# Let's go backward\n",
    "\n",
    "for n in range(31, 3, -3):\n",
    "    print(n)"
   ]
  },
  {
   "cell_type": "markdown",
   "metadata": {},
   "source": [
    "## Print the sum of first 100 Natural Numbers\n",
    "\n",
    "So the time has come to write this __familiar :p__ function. We wrote pseudo code for it, and we also proved it by induction. This time its Python :)"
   ]
  },
  {
   "cell_type": "code",
   "execution_count": null,
   "metadata": {
    "collapsed": false
   },
   "outputs": [],
   "source": [
    "# sum of all the positive integers less than 100:\n",
    "\n",
    "sum_values = 0 # Initialize sum\n",
    "for i in range(1, 100):\n",
    "    sum_values += i\n",
    "print(sum_values)"
   ]
  },
  {
   "cell_type": "markdown",
   "metadata": {},
   "source": [
    "## Can you take the user input as upper-bound and try computing the sum ?"
   ]
  },
  {
   "cell_type": "markdown",
   "metadata": {},
   "source": [
    "`1. Take the upperbound as user input and write a generic code for computing sum of first n numbers `"
   ]
  },
  {
   "cell_type": "code",
   "execution_count": null,
   "metadata": {
    "collapsed": true
   },
   "outputs": [],
   "source": [
    "## YOUR CODE HERE "
   ]
  },
  {
   "cell_type": "markdown",
   "metadata": {},
   "source": [
    "`2. Let's extend it further - can you take one upperbound and lowerbound as input and compute the sum of numbers ?`"
   ]
  },
  {
   "cell_type": "code",
   "execution_count": null,
   "metadata": {
    "collapsed": true
   },
   "outputs": [],
   "source": [
    "## YOUR CODE HERE "
   ]
  },
  {
   "cell_type": "markdown",
   "metadata": {},
   "source": [
    "`3. Now using range can you compute the sum of first n even numbers ? Let's try it using it conditional statement , but you have to do it using range()`"
   ]
  },
  {
   "cell_type": "code",
   "execution_count": null,
   "metadata": {
    "collapsed": false
   },
   "outputs": [],
   "source": [
    "sum_values = 0 # Initialize sum\n",
    "for i in range(1, 100):\n",
    "    if i%2 ==0 :\n",
    "        sum_values += i\n",
    "print(sum_values)"
   ]
  },
  {
   "cell_type": "code",
   "execution_count": null,
   "metadata": {
    "collapsed": true
   },
   "outputs": [],
   "source": [
    "## YOUR CODE HERE "
   ]
  },
  {
   "cell_type": "markdown",
   "metadata": {},
   "source": [
    "`4. Let's not be partial with numbers and print the sum of both first n even numbers and first n odd numbers and then verify if we did it right ? `"
   ]
  },
  {
   "cell_type": "code",
   "execution_count": null,
   "metadata": {
    "collapsed": true
   },
   "outputs": [],
   "source": [
    "## YOUR CODE HERE "
   ]
  },
  {
   "cell_type": "markdown",
   "metadata": {},
   "source": [
    "## Nested Loops\n",
    "\n",
    "There is no restriction on what a loop can contain. `another loop ? ` Why Not.\n",
    "\n",
    "So a loop inside a loop is really interesting and it can go as much as you want. 2 level deep, 3 level deep - a loop inside a loop inside a loop .\n",
    "\n",
    "Now as difficult it is to pronounce -- - a loop inside a loop inside a loop an on and on and on ....\n",
    "\n",
    "That difficult it is for your machine to process it, since it increase computation by the power of n \n",
    "\n",
    "\n",
    "### Loop inside a Loop\n",
    "`For example running one loop takes 3 second, looping the same loop inside it will take` $3^2$ `seconds and three loop will take` $3^3$ `seconds. It's computationally heavy.`"
   ]
  },
  {
   "cell_type": "code",
   "execution_count": null,
   "metadata": {
    "collapsed": false
   },
   "outputs": [],
   "source": [
    "#  Let's try one \n",
    "\n",
    "executed =  0 \n",
    "for i in range(0,5):\n",
    "    print i \n",
    "    executed+=1\n",
    "    \n",
    "print \"loop run for \", executed, \"times\"\n",
    "print \"---------------------------------\"\n",
    "\n",
    "print \"Now put it inside another loop \"\n",
    "\n",
    "executed =  0 \n",
    "for i in range(0,5):\n",
    "    for j in range(0,5):\n",
    "        print i , j\n",
    "        executed+=1\n",
    "        \n",
    "print \"loop run for \", executed, \"times\"\n",
    "print \"---------------------------------\"\n",
    "\n",
    "executed =  0 \n",
    "print \"Lets do it three fold :\"\n",
    "for i in range(0,5):\n",
    "    for j in range(0,5):\n",
    "        for k in range(0,5):\n",
    "            print i , j, k \n",
    "            executed+=1\n",
    "\n",
    "print \"loop run for \", executed, \"times\"\n",
    "print \"---------------------------------\"        "
   ]
  },
  {
   "cell_type": "markdown",
   "metadata": {},
   "source": [
    "Did you notice the frequency at which i, j , k change ? So inner loop run most of the times. Does it resemble something ?\n",
    "\n",
    "\n",
    "$0000$,\n",
    "\n",
    "$0001$, `(rightmost digit starts over, and next digit is incremented)`\n",
    "\n",
    "$0010, 0011$, `(rightmost two digits start over, and next digit is incremented)`\n",
    "\n",
    "$0100, 0101, 0110, 0111$, `(rightmost three digits start over, and the next digit is incremented)`\n",
    "\n",
    "$1000, 1001, 1010, 1011, 1100, 1101, 1110, 1111$ ...\n",
    "\n",
    "### Let's write a binary number generator "
   ]
  },
  {
   "cell_type": "code",
   "execution_count": null,
   "metadata": {
    "collapsed": false
   },
   "outputs": [],
   "source": [
    "#  Let's start simple , let's generate all 2 digit binary numbers \n",
    "\n",
    "for i in (0,1):\n",
    "    for j in range(0,2):\n",
    "        print i, j "
   ]
  },
  {
   "cell_type": "markdown",
   "metadata": {},
   "source": [
    "## Now its your turn to generate all 3 digit binary numbers "
   ]
  },
  {
   "cell_type": "code",
   "execution_count": null,
   "metadata": {
    "collapsed": true
   },
   "outputs": [],
   "source": [
    "\n",
    "## YOUR CODE HERE \n"
   ]
  },
  {
   "cell_type": "markdown",
   "metadata": {},
   "source": [
    "## Some more usage of nested loops"
   ]
  },
  {
   "cell_type": "markdown",
   "metadata": {},
   "source": [
    "`As we have seen in binary number generation , nested loops are used when an iterative process has to be repeated. Suppose we want to print the permutations of 'XY'`"
   ]
  },
  {
   "cell_type": "code",
   "execution_count": null,
   "metadata": {
    "collapsed": false
   },
   "outputs": [],
   "source": [
    "# The first letter varies from X to Y\n",
    "for first in 'XY':\n",
    "    for second in 'XY': # The second varies from X to Y\n",
    "            print(first + second)"
   ]
  },
  {
   "cell_type": "markdown",
   "metadata": {},
   "source": [
    "__There is some problem with above code, Can you eliminate the duplicates which are getting printed ?__\n",
    "\n",
    "Output should be :\n",
    "\n",
    "```\n",
    "XY\n",
    "YX\n",
    "\n",
    "```"
   ]
  },
  {
   "cell_type": "code",
   "execution_count": null,
   "metadata": {
    "collapsed": true
   },
   "outputs": [],
   "source": [
    "#YOUR CODE HERE "
   ]
  },
  {
   "cell_type": "markdown",
   "metadata": {},
   "source": [
    "## Some nice output generation from nested loops "
   ]
  },
  {
   "cell_type": "markdown",
   "metadata": {},
   "source": [
    "Double nested loop are actually 2 dimensional in nature, and triple are three dimensional.\n",
    "\n",
    "So if we want to print something which is two dimensional ? Can you do it by two for loops ?"
   ]
  },
  {
   "cell_type": "code",
   "execution_count": null,
   "metadata": {
    "collapsed": false
   },
   "outputs": [],
   "source": [
    "from __future__ import print_function\n",
    "for i in range(0,10):\n",
    "    for j in range(0,10):\n",
    "        print('*',end ='\\t')\n",
    "    print "
   ]
  },
  {
   "cell_type": "markdown",
   "metadata": {},
   "source": [
    "__Note :__ If you are using python 2.7 , you need to use python 3 to use the end keyword with `print` function "
   ]
  },
  {
   "cell_type": "markdown",
   "metadata": {},
   "source": [
    "## Can you generate following table by using nested loops ?\n",
    "\n",
    "```\n",
    "\n",
    "    1 2 3 4 5 6 7 8 9 10\n",
    "+----------------------------------------\n",
    "1 | 1 2 3 4 5 6 7 8 9 10\n",
    "2 | 2 4 6 8 10 12 14 16 18 20\n",
    "3 | 3 6 9 12 15 18 21 24 27 30\n",
    "4 | 4 8 12 16 20 24 28 32 36 40\n",
    "5 | 5 10 15 20 25 30 35 40 45 50\n",
    "6 | 6 12 18 24 30 36 42 48 54 60\n",
    "7 | 7 14 21 28 35 42 49 56 63 70\n",
    "8 | 8 16 24 32 40 48 56 64 72 80\n",
    "9 | 9 18 27 36 45 54 63 72 81 90\n",
    "10 | 10 20 30 40 50 60 70 80 90 100\n",
    "```"
   ]
  },
  {
   "cell_type": "code",
   "execution_count": null,
   "metadata": {
    "collapsed": true
   },
   "outputs": [],
   "source": [
    "\n",
    "\n",
    "#YOUR CODE HERE\n",
    "\n"
   ]
  },
  {
   "cell_type": "markdown",
   "metadata": {},
   "source": [
    "# Control Loop Termination\n",
    "\n",
    "Sometime you meet some condition at the middle of the loop that you want to come out of the loop immediately.\n",
    "<br>Python provides `break` statement for such purpose.\n",
    "\n",
    "`A break statement will take the control sequence out of the loop. This gives programmers to design more flexible logic and. But should not be used frequently as it introduces an exception into the normal control logic of the loop.` "
   ]
  },
  {
   "cell_type": "code",
   "execution_count": null,
   "metadata": {
    "collapsed": false
   },
   "outputs": [],
   "source": [
    "### Break statement\n",
    "\n",
    "#Lets look at the following program \n",
    "\n",
    "while True:\n",
    "    num = int(raw_input(\"please enter any number to print and negative number to terminate  \"))\n",
    "    if num < 0:\n",
    "        break\n",
    "    else:\n",
    "        print num\n",
    "print \"terminated and I am out of the loop \""
   ]
  },
  {
   "cell_type": "markdown",
   "metadata": {
    "slideshow": {
     "slide_type": "notes"
    }
   },
   "source": [
    "__`NOTE : break is not ideal by many programmers and should be avoided. If you can think of redesigning the logic , you should do it and use break sparingly.`__"
   ]
  },
  {
   "cell_type": "markdown",
   "metadata": {},
   "source": [
    "### Continue Statement\n"
   ]
  },
  {
   "cell_type": "markdown",
   "metadata": {
    "slideshow": {
     "slide_type": "notes"
    }
   },
   "source": [
    "The continue statement is similar to the break statement.\n",
    "Break take the control out of the loop but continue skip that particular iteration. So the control does not go out of the loop but reach at the start of the loop skipping all other statements.\n",
    "\n",
    "Continue is easy to avoid and rarely used.\n",
    "\n",
    "`It skips the iteration. This can be shown by for loop`\n"
   ]
  },
  {
   "cell_type": "code",
   "execution_count": null,
   "metadata": {
    "collapsed": false
   },
   "outputs": [],
   "source": [
    "#lets print even numbers till 20.\n",
    "\n",
    "for i in range(1,20):\n",
    "    if i%2 !=0 :\n",
    "        continue\n",
    "    print i \n",
    "\n"
   ]
  },
  {
   "cell_type": "markdown",
   "metadata": {},
   "source": [
    "__As you see it is even easier to write code without the `continue` statement.__"
   ]
  },
  {
   "cell_type": "code",
   "execution_count": null,
   "metadata": {
    "collapsed": false
   },
   "outputs": [],
   "source": [
    "for i in range(1,20):\n",
    "    if i%2 ==0 :\n",
    "        print i \n"
   ]
  },
  {
   "cell_type": "code",
   "execution_count": null,
   "metadata": {
    "collapsed": false
   },
   "outputs": [],
   "source": [
    "## So our program only print positive number and ignore negative numbers \n",
    "\n",
    "while True:\n",
    "    num = int(raw_input(\"please enter any number but I'll print only positive ones enter 0 to exit \"))\n",
    "    if num == 0:\n",
    "        break\n",
    "    elif num < 0:\n",
    "        continue\n",
    "    else:\n",
    "        print \"The number is :\", num\n",
    "        print \"--------\"\n",
    "\n",
    "print \"terminated and I am out of the loop \""
   ]
  },
  {
   "cell_type": "markdown",
   "metadata": {},
   "source": [
    "# Let's code some Algorithms \n",
    "\n",
    "`With this much of knowledge we are ready to code some cool algorithms`\n"
   ]
  },
  {
   "cell_type": "markdown",
   "metadata": {},
   "source": [
    "## Finding Square Root \n",
    "\n",
    "`Do you remember the following algorithm. The Babylonian method to find square root? Let's code it in python `\n",
    "\n",
    "__Algorithm__\n",
    "\n",
    "- Start with a guess, called g \n",
    "- If g*g is close enough to x,\tstop and say that g is the answer\t\n",
    "- Otherwise make a new guess, by averaging g and x/g\n",
    "- Using this new guess,\trepeat the process until we get close enough\n"
   ]
  },
  {
   "cell_type": "code",
   "execution_count": null,
   "metadata": {
    "collapsed": false
   },
   "outputs": [],
   "source": [
    "\n",
    "num = int(raw_input('Enter number: '))\n",
    "\n",
    "#our starting guess let's say 1\n",
    "root = 1.0;\n",
    "\n",
    "#Let's compute the distance from our guess \n",
    "diff = root*root - num\n",
    "\n",
    "# Loop until we are \"close-enough\" to the actual loop \n",
    "#So we have decided the diff to be less than 0.00000001, That's  close enough for us \n",
    "\n",
    "while diff > 0.00000001 or diff < -0.00000001:\n",
    "    root = (root + num/root) / 2  #calculate new root\n",
    "    print root, 'squared is', root*root \n",
    "    \n",
    "    # How did we go in this iteration \n",
    "    diff = root*root - num\n",
    "    \n",
    "# Report approximate square root\n",
    "print 'Square root of', num, \"=\", root\n"
   ]
  },
  {
   "cell_type": "markdown",
   "metadata": {},
   "source": [
    "## Python has pow keyword which calculate power of a number \n",
    "`Let's write a program which take a number and its power as input and calculate it `"
   ]
  },
  {
   "cell_type": "code",
   "execution_count": null,
   "metadata": {
    "collapsed": true
   },
   "outputs": [],
   "source": [
    "\n",
    "# Your code here \n"
   ]
  },
  {
   "cell_type": "markdown",
   "metadata": {},
   "source": [
    "## Use nested Loop to print following output \n",
    "```\n",
    "    1\n",
    "   22\n",
    "  333\n",
    " 4444\n",
    "55555\n",
    "```"
   ]
  },
  {
   "cell_type": "markdown",
   "metadata": {
    "collapsed": true
   },
   "source": [
    "# Introduction to Functions\n",
    "\n",
    "While we were coding and working we have used functions and even familiar with many of them. Functions are block of code which do a specific task. We have used many python functions till now.\n",
    "\n",
    "For e.g. `input` , `raw_input`, `print ` , `type()`\n",
    "\n",
    "Lets see how `type()` function work "
   ]
  },
  {
   "cell_type": "code",
   "execution_count": null,
   "metadata": {
    "collapsed": false
   },
   "outputs": [],
   "source": [
    "type(5)"
   ]
  },
  {
   "cell_type": "code",
   "execution_count": null,
   "metadata": {
    "collapsed": false
   },
   "outputs": [],
   "source": [
    "type('this is a string')"
   ]
  },
  {
   "cell_type": "markdown",
   "metadata": {
    "collapsed": true
   },
   "source": [
    "As we saw `type()` takes a parameter and return its type.  We can also receive that returned value in a variableµ"
   ]
  },
  {
   "cell_type": "code",
   "execution_count": null,
   "metadata": {
    "collapsed": false
   },
   "outputs": [],
   "source": [
    "var_type = type(3)\n",
    "print var_type\n",
    "\n",
    "print type(var_type)\n",
    "\n",
    "\n",
    "# So we can see that our type function return a value which is of python in built data type <type> "
   ]
  },
  {
   "cell_type": "markdown",
   "metadata": {
    "slideshow": {
     "slide_type": "notes"
    }
   },
   "source": [
    "Functions are black box and we should just know what a function does and what parameter it takes . \n",
    "\n",
    "`A simple example could be square root of a number `"
   ]
  },
  {
   "cell_type": "code",
   "execution_count": null,
   "metadata": {
    "collapsed": false
   },
   "outputs": [],
   "source": [
    "from math import sqrt\n",
    "\n",
    "num = int(raw_input('Provide a number '))\n",
    "print 'square root of the number is : ', sqrt(num)"
   ]
  },
  {
   "cell_type": "markdown",
   "metadata": {},
   "source": [
    "## Reuse\n",
    "One of the main advantage of a function is reusability. You do not have to write the same code again and again. We can just reuse it or call it whenever we want.\n",
    "\n",
    "So let's convert our algorithm to a function so that we can reuse it later"
   ]
  },
  {
   "cell_type": "code",
   "execution_count": null,
   "metadata": {
    "collapsed": true
   },
   "outputs": [],
   "source": [
    "def my_sqrt(num ):\n",
    "   \n",
    "    #our starting guess let's say 1\n",
    "    root = 1.0;\n",
    "\n",
    "    #Let's compute the distance from our guess \n",
    "    diff = root*root - num\n",
    "\n",
    "    # Loop until we are \"close-enough\" to the actual loop \n",
    "    #So we have decided the diff to be less than 0.00000001, That's  close enough for us \n",
    "\n",
    "    while diff > 0.00000001 or diff < -0.00000001:\n",
    "        root = (root + num/root) / 2  #calculate new root\n",
    "#         print root, 'squared is', root*root \n",
    "\n",
    "        # How did we go in this iteration \n",
    "        diff = root*root - num\n",
    "\n",
    "    # Report approximate square root\n",
    "    return root"
   ]
  },
  {
   "cell_type": "markdown",
   "metadata": {},
   "source": [
    "`As you can see we have not changed anything. We just added a definition in which we take a input and process it according to the algorithm and return the processed output `"
   ]
  },
  {
   "cell_type": "code",
   "execution_count": null,
   "metadata": {
    "collapsed": false
   },
   "outputs": [],
   "source": [
    "# Now let's call our function \n",
    "print my_sqrt(2)"
   ]
  },
  {
   "cell_type": "markdown",
   "metadata": {},
   "source": [
    "\n",
    "__``sqrt(num)``__\n",
    "\n",
    "This is a function invocation, also known as a function call."
   ]
  },
  {
   "cell_type": "markdown",
   "metadata": {},
   "source": [
    "A function has three important parts:\n",
    "\n",
    "- **Name** : Every function has a name that identifies the code to be executed. Function names follow the same rules as variable names; a function name is another example of an identifier\n",
    "- **Parameters** : A function must be called with a certain number of parameters, and each parameter must be the correct type.\n",
    "- **Result type** : A function returns a value to its caller."
   ]
  },
  {
   "cell_type": "markdown",
   "metadata": {
    "slideshow": {
     "slide_type": "notes"
    }
   },
   "source": [
    "Parameters : If a function is called with too many or too few parameters, the interpreter will issue an error message and refuse to run the program.\n",
    "\n",
    "Result-type : A function’s result type and its parameter types can be completely unrelated."
   ]
  },
  {
   "cell_type": "code",
   "execution_count": null,
   "metadata": {
    "collapsed": false
   },
   "outputs": [],
   "source": [
    "# sqrt can only take one argument. So this will lead to an error!\n",
    "\n",
    "from math import sqrt\n",
    "root = sqrt(10, 5)\n",
    "print root"
   ]
  },
  {
   "cell_type": "markdown",
   "metadata": {},
   "source": [
    "## Time \n",
    "\n",
    "__%%time__  Calculate the time elapsed in running a cell\n",
    "\n",
    "__%time__ Calculate the time elapsed in running a statement "
   ]
  },
  {
   "cell_type": "code",
   "execution_count": null,
   "metadata": {
    "collapsed": false
   },
   "outputs": [],
   "source": [
    "%%time\n",
    "print \"Enter your name: \"\n",
    "\n",
    "name = input()"
   ]
  },
  {
   "cell_type": "markdown",
   "metadata": {},
   "source": [
    "There is also very important function called __`time`__ which will check the speed of your program.  In python we use `import` to make interpreter understand that we want to use that function, so that interpreter will include its definition while executing the code.\n",
    "\n",
    "\n",
    "Like we defined our own __`my_sqrt()`__ function , we have to import other function which python modules provided. So math module has `sqrt` function `time` module has time function. which has various methods to measure running time of a program. "
   ]
  },
  {
   "cell_type": "code",
   "execution_count": null,
   "metadata": {
    "collapsed": false
   },
   "outputs": [],
   "source": [
    "import time\n",
    "from math import sqrt\n",
    "\n",
    "# current time \n",
    "ts = time.time()\n",
    "\n",
    "print sqrt(1001)\n",
    "print \"run Time =\"+str( time.time() - ts)"
   ]
  },
  {
   "cell_type": "code",
   "execution_count": null,
   "metadata": {
    "collapsed": false
   },
   "outputs": [],
   "source": [
    "ts = time.time()\n",
    "\n",
    "print my_sqrt(1001)\n",
    "print \"run Time =\"+str( time.time() - ts)"
   ]
  },
  {
   "cell_type": "markdown",
   "metadata": {},
   "source": [
    "`So above program show that our implementation of sqrt is closer to python provided function in terms of speed. They are using some advance method to calculate square root let's check by increasing the value of input `"
   ]
  },
  {
   "cell_type": "code",
   "execution_count": null,
   "metadata": {
    "collapsed": false
   },
   "outputs": [],
   "source": [
    "ts = time.time()\n",
    "print sqrt(1001000)\n",
    "print \"run Time of in-built = \"+str( time.time() - ts)\n",
    "\n",
    "ts = time.time()\n",
    "print my_sqrt(1001000)\n",
    "print \"run Time of my_sqrt = \"+str( time.time() - ts)\n",
    "\n",
    "#Very Close :)\n"
   ]
  },
  {
   "cell_type": "markdown",
   "metadata": {},
   "source": [
    "### Import Statement\n",
    "\n",
    "One module is called library which is a collection of various function on a particular use case. For example `math`, `time`\n",
    "\n",
    "\n",
    "__`You can use import statement in following ways :`__\n",
    "\n",
    "\n",
    "`1.you can import one functions using` \n",
    "\n",
    "```Python \n",
    "from math import sqrt\n",
    "```\n",
    "\n",
    "Now you can use sqrt directly, It is available in your namespace ( your interpreter now have the definition )\n",
    "\n",
    "`2. You can also import multiple modules at once   `\n",
    "\n",
    "```Python \n",
    "from math import log10, ceil, cos\n",
    "```\n",
    "\n",
    "`3. You can import all the functions at once, This is inefficient `\n",
    "```Python \n",
    "from math import *\n",
    "```\n",
    "\n",
    "\n",
    "`4. The best way to import`\n",
    "```Python \n",
    "import math\n",
    "\n",
    "#This will import the function only when you use it \n",
    "\n",
    "#press tab after writing math. , you will be able to all the functions\n",
    "math.sqrt(1000)\n",
    "\n",
    "```\n",
    "\n"
   ]
  },
  {
   "cell_type": "markdown",
   "metadata": {},
   "source": [
    "## Functions the Python way"
   ]
  },
  {
   "cell_type": "code",
   "execution_count": null,
   "metadata": {
    "collapsed": false
   },
   "outputs": [],
   "source": [
    "# Let's understand how a function works!\n",
    "\n",
    "def I_am_function_def (parameter ):\n",
    "    print \"I am definition \"\n",
    "    print \"I am parameter \", parameter\n",
    "\n",
    "    \n",
    "I_am_function_def(3)"
   ]
  },
  {
   "cell_type": "markdown",
   "metadata": {},
   "source": [
    "## Better way to define a function \n",
    "\n",
    "If you want users of your function to know what parameter to pass you can specify a default `None` value and ask for parameter"
   ]
  },
  {
   "cell_type": "code",
   "execution_count": null,
   "metadata": {
    "collapsed": false
   },
   "outputs": [],
   "source": [
    "def I_am_function_def (parameter= None ):\n",
    "    if not parameter:\n",
    "        print \"please pass parameter \"\n",
    "        return \n",
    "    print \"I am definition \"\n",
    "    print \"I am parameter \", parameter\n",
    "\n",
    "    \n",
    "I_am_function_def(parameter = 3)\n",
    "I_am_function_def()"
   ]
  },
  {
   "cell_type": "markdown",
   "metadata": {},
   "source": [
    "Remember the __`range()`__ function , in which it is required to pass second parameter which is upperbound, \n",
    "<be>but if lowerbound if not provided it takes 0 as default .\n",
    "\n",
    "`so let's write our own my_range() function`"
   ]
  },
  {
   "cell_type": "code",
   "execution_count": null,
   "metadata": {
    "collapsed": false
   },
   "outputs": [],
   "source": [
    "def my_range(lower=0, upper=None, step = 1):\n",
    "    if not upper:\n",
    "        print \"please pass upper value \"\n",
    "        return\n",
    "    \n",
    "    #don't worry about this , This is list we will see it next day \n",
    "    res = []\n",
    "    num = lower\n",
    "    while num< upper:\n",
    "        res.append(num) # just take it \n",
    "        num+=step\n",
    "    return res\n",
    "\n",
    "print my_range(lower=5,upper= 15,step=2)\n",
    "\n"
   ]
  },
  {
   "cell_type": "code",
   "execution_count": null,
   "metadata": {
    "collapsed": false
   },
   "outputs": [],
   "source": [
    "# Parameters are in order of what they are provided\n",
    "print my_range(5,15,2)\n"
   ]
  },
  {
   "cell_type": "code",
   "execution_count": null,
   "metadata": {
    "collapsed": false
   },
   "outputs": [],
   "source": [
    "# if you do not provide lower, you have take the name of all the args  \n",
    "print my_range(upper=15,step=2)\n"
   ]
  },
  {
   "cell_type": "code",
   "execution_count": null,
   "metadata": {
    "collapsed": false
   },
   "outputs": [],
   "source": [
    "# This will throw an error\n",
    "print my_range(upper=15,2)"
   ]
  },
  {
   "cell_type": "code",
   "execution_count": null,
   "metadata": {
    "collapsed": false
   },
   "outputs": [],
   "source": [
    "# if you take the name you can change the order\n",
    "print my_range(step=2,upper=15)"
   ]
  },
  {
   "cell_type": "code",
   "execution_count": null,
   "metadata": {
    "collapsed": false
   },
   "outputs": [],
   "source": [
    "# if you do not take name it will take the values in order of you provide\n",
    "print my_range(2)"
   ]
  },
  {
   "cell_type": "code",
   "execution_count": null,
   "metadata": {
    "collapsed": false
   },
   "outputs": [],
   "source": [
    "print my_range(upper=10)"
   ]
  },
  {
   "cell_type": "markdown",
   "metadata": {},
   "source": [
    "But the actual `range()` function is different. It does not ask for argument names and works just fine with any order.\n",
    "\n",
    "We will see that in later modules on how we can implement functions in that way. It is called function overloading and we can define generic function with different parameters \n"
   ]
  },
  {
   "cell_type": "markdown",
   "metadata": {
    "collapsed": true
   },
   "source": [
    "## Function Namespace\n",
    "\n",
    "As we saw earlier every function create its own name space. The variables defined inside a function are local to that function and live only inside the function. You can not access those variables.\n"
   ]
  },
  {
   "cell_type": "code",
   "execution_count": null,
   "metadata": {
    "collapsed": false
   },
   "outputs": [],
   "source": [
    "def cal_max(num_1, num_2):\n",
    "    max = 0 \n",
    "    if num_1> num_2:\n",
    "        return num_1\n",
    "    else:\n",
    "        return num_2\n",
    "\n",
    "# num_1 and num_2  are only visible inside a function. (scope of a variable)\n",
    "print num_2"
   ]
  },
  {
   "cell_type": "markdown",
   "metadata": {},
   "source": [
    "So two functions can have same variable names inside them and they are completely different. Every function creates a new Namespace inside a memory , which is separated from program namespace.\n",
    "\n",
    "This lets functions to organize code in nice way, since programmer does not worry about variable names. "
   ]
  },
  {
   "cell_type": "code",
   "execution_count": null,
   "metadata": {
    "collapsed": true
   },
   "outputs": [],
   "source": [
    "def print_even_till(n):\n",
    "    i = 0\n",
    "    while i<n:\n",
    "        if i%2 == 0:\n",
    "            print i \n",
    "        i+=1\n",
    "\n",
    "\n",
    "def print_odd_till(n):\n",
    "    i = 0\n",
    "    while i<n:\n",
    "        if i%2 != 0:\n",
    "            print i \n",
    "        i+=1\n",
    "        "
   ]
  },
  {
   "cell_type": "code",
   "execution_count": null,
   "metadata": {
    "collapsed": false
   },
   "outputs": [],
   "source": [
    "print_even_till(10)"
   ]
  },
  {
   "cell_type": "code",
   "execution_count": null,
   "metadata": {
    "collapsed": false
   },
   "outputs": [],
   "source": [
    "print_odd_till(10)"
   ]
  },
  {
   "cell_type": "markdown",
   "metadata": {},
   "source": [
    "## Reference :\n",
    "\n",
    "- [How to think like a computer scientist-Python](http://www.greenteapress.com/thinkpython/thinkCSpy.pdf)\n",
    "\n",
    "- [LEARNING TO PROGRAM WITH PYTHON](https://www.cs.uky.edu/~keen/115/Haltermanpythonbook.pdf)\n",
    "\n",
    "- [Python docs](https://docs.python.org/3/)"
   ]
  }
 ],
 "metadata": {
  "celltoolbar": "Raw Cell Format",
  "kernelspec": {
   "display_name": "Python 2",
   "language": "python",
   "name": "python2"
  },
  "language_info": {
   "codemirror_mode": {
    "name": "ipython",
    "version": 2
   },
   "file_extension": ".py",
   "mimetype": "text/x-python",
   "name": "python",
   "nbconvert_exporter": "python",
   "pygments_lexer": "ipython2",
   "version": "2.7.10"
  }
 },
 "nbformat": 4,
 "nbformat_minor": 0
}
