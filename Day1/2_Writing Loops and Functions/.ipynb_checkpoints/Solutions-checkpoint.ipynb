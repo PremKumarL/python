{
 "cells": [
  {
   "cell_type": "markdown",
   "metadata": {},
   "source": [
    "# Python Loops and Functions\n",
    "---"
   ]
  },
  {
   "cell_type": "markdown",
   "metadata": {},
   "source": [
    "# Solutions "
   ]
  },
  {
   "cell_type": "code",
   "execution_count": 2,
   "metadata": {
    "collapsed": false
   },
   "outputs": [
    {
     "name": "stdout",
     "output_type": "stream",
     "text": [
      "Enter length : 5\n",
      "Odd sum :  6\n",
      "Even sum :  2\n",
      "All sum :  8\n"
     ]
    }
   ],
   "source": [
    "# Write a program that first asks the user for an integer, N, \n",
    "# and then calculates three sums: the sum of the even integers, \n",
    "# the sum of the odd integers, and the sum of all integers from 0 to N. \n",
    "# However, excluded from these sums those integers that are divisible by 3 or divisible by 4.\n",
    "\n",
    "def compute(n):\n",
    "    counter = 0\n",
    "    sumEven = 0\n",
    "    sumOdd = 0\n",
    "    sumAll = 0\n",
    "    \n",
    "    while (counter <= n):\n",
    "        if (counter % 3 != 0) and (counter % 4 != 0):\n",
    "            sumAll += counter\n",
    "            if (counter % 2 == 0):\n",
    "                sumEven += counter\n",
    "            else:\n",
    "                sumOdd += counter\n",
    "        counter += 1\n",
    "    print \"Odd sum : \", sumOdd\n",
    "    print \"Even sum : \", sumEven\n",
    "    print \"All sum : \", sumAll\n",
    "    \n",
    "def main():\n",
    "    val = int(input(\"Enter length : \"))\n",
    "    compute(val)\n",
    "    \n",
    "main()\n",
    "                \n",
    "        "
   ]
  },
  {
   "cell_type": "code",
   "execution_count": 8,
   "metadata": {
    "collapsed": false
   },
   "outputs": [
    {
     "name": "stdout",
     "output_type": "stream",
     "text": [
      "Enter a number : 3\n",
      "Enter a number : 4\n",
      "Enter a number : -1\n",
      " Average :  3.5\n"
     ]
    }
   ],
   "source": [
    "# Calculate average of elements entered by an user. \n",
    "# You should keep reading inputs till the user enters a negative number. \n",
    "# Then compute the average\n",
    "\n",
    "def prompt():\n",
    "    val = int(input(\"Enter a number : \"))\n",
    "    return val\n",
    "\n",
    "def calculateAverage():\n",
    "        sumVal = 0\n",
    "        counter = 0\n",
    "        x = prompt()\n",
    "        while (x > 0):\n",
    "            sumVal += x\n",
    "            counter += 1\n",
    "            x = prompt()\n",
    "            \n",
    "        avg = float(sumVal)/counter\n",
    "        print \"Average : \",avg\n",
    "        \n",
    "def main():\n",
    "    calculateAverage()\n",
    "    \n",
    "main()\n",
    "            "
   ]
  },
  {
   "cell_type": "code",
   "execution_count": 16,
   "metadata": {
    "collapsed": false
   },
   "outputs": [
    {
     "name": "stdout",
     "output_type": "stream",
     "text": [
      "Enter number : 4\n",
      "Enter number : 2\n",
      "Enter number : 5\n",
      "Enter number : 3\n",
      "Enter number : 1\n",
      " Largest value is :  5\n"
     ]
    }
   ],
   "source": [
    "# Find the largest number amongst those entered by the user. Assume user can enter max 5 numbers\n",
    "\n",
    "def prompt():\n",
    "    val = int(input(\"Enter number : \"))\n",
    "    return val\n",
    "\n",
    "def largest():\n",
    "    counter = 1\n",
    "    largest = prompt()\n",
    "    while(counter < 5):\n",
    "        x = prompt()\n",
    "        if (x > largest):\n",
    "            largest = x\n",
    "        counter += 1\n",
    "    return largest\n",
    "\n",
    "def main():\n",
    "    val = largest()\n",
    "    print \"Largest value is : \", val\n",
    "    \n",
    "main()"
   ]
  },
  {
   "cell_type": "code",
   "execution_count": 18,
   "metadata": {
    "collapsed": false
   },
   "outputs": [
    {
     "name": "stdout",
     "output_type": "stream",
     "text": [
      "Enter number : 4\n",
      "Enter number : 2\n",
      "Enter number : 6\n",
      "Enter number : 3\n",
      "Enter number : 5\n",
      "Second Largest value is :  5\n"
     ]
    }
   ],
   "source": [
    "# Find the second largest number amongst those entered by the user. Assume user can enter max 5 numbers\n",
    "\n",
    "def prompt():\n",
    "    val = int(input(\"Enter number : \"))\n",
    "    return val\n",
    "\n",
    "def secondLargest():\n",
    "    counter = 3\n",
    "    largest = prompt()\n",
    "    x = prompt()\n",
    "    #assume second number is largest\n",
    "    secondLargest = x\n",
    "    \n",
    "    # is 2nd value is larger, interchange values\n",
    "    if x > largest :\n",
    "        secondLargest = largest\n",
    "        largest = x\n",
    "    \n",
    "    while(counter < 5):\n",
    "        \n",
    "        x = prompt()\n",
    "        \n",
    "        if (x < largest) and (x < secondLargest):\n",
    "            continue\n",
    "        elif (x > largest):\n",
    "            secondLargest = largest\n",
    "            largest = x\n",
    "        elif (x < largest) and (x > secondLargest):\n",
    "            secondLargest = x\n",
    "            \n",
    "               \n",
    "        \n",
    "        counter += 1\n",
    "        \n",
    "        \n",
    "    return secondLargest\n",
    "\n",
    "def main():\n",
    "    val = secondLargest()\n",
    "    print \"Second Largest value is : \", val\n",
    "    \n",
    "main()"
   ]
  },
  {
   "cell_type": "code",
   "execution_count": 14,
   "metadata": {
    "collapsed": false
   },
   "outputs": [
    {
     "name": "stdout",
     "output_type": "stream",
     "text": [
      "Enter number : 121\n",
      "Is  121  a palindrome :  True\n"
     ]
    }
   ],
   "source": [
    "# Identify if a number is a palindrome or not\n",
    "\n",
    "def isNumberAPalindrome(n):\n",
    "    number = n\n",
    "    reversedNumber  = 0\n",
    "    temp=0\n",
    "    \n",
    "    while(number > 0):\n",
    "        temp = number % 10\n",
    "        number = number / 10\n",
    "        reversedNumber = reversedNumber * 10 + temp\n",
    "    \n",
    "    if reversedNumber==n:\n",
    "        return True\n",
    "    else:\n",
    "        return False\n",
    "    \n",
    "def main():\n",
    "    val = int(input(\"Enter number : \"))\n",
    "    print \"Is \", val, \" a palindrome : \", isNumberAPalindrome(val)\n",
    "    \n",
    "main()\n",
    "                "
   ]
  },
  {
   "cell_type": "code",
   "execution_count": 22,
   "metadata": {
    "collapsed": false
   },
   "outputs": [
    {
     "name": "stdout",
     "output_type": "stream",
     "text": [
      "Enter length : 6\n",
      "0 , 1 , 1 , 2 , 3 , 5\n"
     ]
    }
   ],
   "source": [
    "# Print fibonnacci series upto n-numbers\n",
    "\n",
    "def fibonnacci(n):\n",
    "    a = 0\n",
    "    b = 1\n",
    "    counter = 3\n",
    "    \n",
    "    print a,\",\",b,\n",
    "    while (counter <= n):\n",
    "        temp = a + b\n",
    "        a = b\n",
    "        b = temp\n",
    "        print \",\",b,\n",
    "        counter += 1\n",
    "\n",
    "def main():\n",
    "    val = int(input(\"Enter length : \"))\n",
    "    fibonnacci(val)\n",
    "    \n",
    "main()\n",
    "        "
   ]
  },
  {
   "cell_type": "code",
   "execution_count": 2,
   "metadata": {
    "collapsed": false
   },
   "outputs": [
    {
     "name": "stdout",
     "output_type": "stream",
     "text": [
      "1. Add\n",
      "2. Substract\n",
      "3. Multiply\n",
      "4. Divide\n",
      "5. Exit\n",
      "Enter Option : 5\n",
      "\n",
      "\n",
      "Bubyee...\n"
     ]
    }
   ],
   "source": [
    "# Design your own calculator.\n",
    "\n",
    "def division(x, y):\n",
    "    if (y == 0):\n",
    "        print \"Cannot divide by zero\"\n",
    "    else: \n",
    "        print float(x)/y\n",
    "\n",
    "def multiplication(x, y):\n",
    "    print float(x)*y\n",
    "    \n",
    "def addition(x, y):\n",
    "    print x + y\n",
    "    \n",
    "def subtraction(x, y):\n",
    "    print x - y\n",
    "    \n",
    "def printOptions():\n",
    "    print \"1. Add\"\n",
    "    print \"2. Subtract\"\n",
    "    print \"3. Multiply\"\n",
    "    print \"4. Divide\"\n",
    "    print \"5. Exit\"\n",
    "\n",
    "    choice = int(input(\"Enter Option : \"))\n",
    "    return choice\n",
    "\n",
    "def computeOnUserSelection(x, y, choice):\n",
    "    if choice == 1:\n",
    "        addition(x, y)\n",
    "    elif choice == 2:\n",
    "        subtraction(x ,y)\n",
    "    elif choice == 3:\n",
    "        multiplication(x, y)\n",
    "    elif choice ==4:\n",
    "        division(x, y)\n",
    "        \n",
    "def calculator():\n",
    "    choice = printOptions()\n",
    "    while (choice != 5):\n",
    "        x = int(input(\"Enter x : \"))\n",
    "        y = int(input(\"Enter y : \"))\n",
    "        computeOnUserSelection(x, y, choice)\n",
    "        choice = printOptions()\n",
    "    print \"\\n\\nBubyee...\"\n",
    "    \n",
    "def main():\n",
    "    calculator()\n",
    "    \n",
    "main()\n",
    "            \n",
    "        "
   ]
  },
  {
   "cell_type": "code",
   "execution_count": 5,
   "metadata": {
    "collapsed": false
   },
   "outputs": [
    {
     "name": "stdout",
     "output_type": "stream",
     "text": [
      "First let's do this my way ....\n",
      "Sum till :  1  is :  1\n",
      "Sum till :  2  is :  3\n",
      "Sum till :  3  is :  6\n",
      "Sum till :  4  is :  10\n",
      "Sum till :  5  is :  15\n",
      "Now your way ....\n",
      "Sum till :  1 is :  1\n",
      "Sum till :  2 is :  3\n",
      "Sum till :  3 is :  6\n",
      "Sum till :  4 is :  10\n",
      "Sum till :  5 is :  15\n"
     ]
    }
   ],
   "source": [
    "# Write a main() program that computes and \n",
    "# prints N sums: 1, 1+2, 1+2+3, ... , 1+2+3+...+N. \n",
    "# There is a smart way to do this with just one loop, \n",
    "# and a not-so-smart way that uses nested loops. Try to write the smart way from scratch. \n",
    "\n",
    "def smartWay(n) :\n",
    "    sum = 0\n",
    "    counter = 1\n",
    "    while (counter <= n):\n",
    "        sum += counter\n",
    "        print \"Sum till : \", counter, \" is : \",sum\n",
    "        counter += 1\n",
    "\n",
    "def yourWay(n) :\n",
    "    for i in range(1,n+1):\n",
    "        sum = 0\n",
    "        counter = 1\n",
    "        while(counter <= i):\n",
    "            sum += counter\n",
    "            counter += 1\n",
    "        print \"Sum till : \", i, \"is : \", sum\n",
    "\n",
    "def main():\n",
    "    print \"First let's do this my way ....\"\n",
    "    smartWay(5)\n",
    "    print \"Now your way ....\"\n",
    "    yourWay(5)\n",
    "    \n",
    "main()"
   ]
  },
  {
   "cell_type": "code",
   "execution_count": 3,
   "metadata": {
    "collapsed": false
   },
   "outputs": [
    {
     "name": "stdout",
     "output_type": "stream",
     "text": [
      "Enter number : 4\n",
      "My even factorial is  8\n"
     ]
    }
   ],
   "source": [
    "##9)Write a program to calculate My-even-factorial of a number \n",
    "#Definition of  My-even-factorial of n: Instead of multiplying all number from 1 to n, \n",
    "# only multiply the numbers which are even.\n",
    "\n",
    "def isEven(n):\n",
    "    if n%2 == 0:\n",
    "        return True\n",
    "    else:\n",
    "        return False\n",
    "\n",
    "def myEvenFactorial(n):\n",
    "    factorial = 1\n",
    "    \n",
    "    if n==0 or n==1:\n",
    "        return factorial\n",
    "    \n",
    "    counter = 1\n",
    "    while( counter <= n):\n",
    "        if isEven(counter):\n",
    "            factorial = factorial*counter\n",
    "        counter+=1\n",
    "    return factorial\n",
    "\n",
    "def main():\n",
    "    val = int(input(\"Enter number : \"))\n",
    "    factorial = myEvenFactorial(val)\n",
    "    print \"My even factorial is \", factorial\n",
    "\n",
    "main()"
   ]
  },
  {
   "cell_type": "code",
   "execution_count": 5,
   "metadata": {
    "collapsed": false
   },
   "outputs": [
    {
     "name": "stdout",
     "output_type": "stream",
     "text": [
      "                    * \n",
      "                  * * * \n",
      "                * * * * * \n",
      "              * * * * * * * \n",
      "            * * * * * * * * * \n",
      "          * * * * * * * * * * * \n",
      "        * * * * * * * * * * * * * \n",
      "      * * * * * * * * * * * * * * * \n",
      "    * * * * * * * * * * * * * * * * * \n",
      "  * * * * * * * * * * * * * * * * * * * \n"
     ]
    }
   ],
   "source": [
    "'''\n",
    "Write a function where user will provide the hight of the tree and you have to print the tree. Follwoing tree is of hight 5.\n",
    "    *\n",
    "   ***\n",
    "  *****\n",
    " *******\n",
    "*********\n",
    "'''\n",
    "\n",
    "def print_tree(height):\n",
    "\n",
    "    line=0\n",
    "    while line < height:\n",
    "        \n",
    "        count = 0\n",
    "        while count < height - line:\n",
    "            print \" \",\n",
    "            count += 1\n",
    "            \n",
    "        count = 0\n",
    "        while count < 2*line + 1:\n",
    "            print \"*\",\n",
    "            count += 1\n",
    "        print ''\n",
    "        line += 1 \n",
    "print_tree(10)"
   ]
  },
  {
   "cell_type": "code",
   "execution_count": 8,
   "metadata": {
    "collapsed": false
   },
   "outputs": [
    {
     "name": "stdout",
     "output_type": "stream",
     "text": [
      "Enter number : 10\n",
      "2 is a prime number\n",
      "3 is a prime number\n",
      "4 equals 2 * 2\n",
      "5 is a prime number\n",
      "6 equals 2 * 3\n",
      "7 is a prime number\n",
      "8 equals 2 * 4\n",
      "9 equals 3 * 3\n"
     ]
    }
   ],
   "source": [
    "def first_n_prime(n):\n",
    "\n",
    "    for i in range(2, n):\n",
    "        \n",
    "        #Using nested loops to get numbers within first range\n",
    "        for x in range(2, i):\n",
    "            \n",
    "            #Checking whether first number is divisible by second number\n",
    "            if i % x == 0:\n",
    "                print i, \"equals\", x, \"*\", i/x\n",
    "                break\n",
    "        else:\n",
    "            print i, \"is a prime number\"\n",
    "                \n",
    "def main():\n",
    "    val = int(input(\"Enter number : \"))\n",
    "    first_n_prime(val)\n",
    "main()"
   ]
  }
 ],
 "metadata": {
  "kernelspec": {
   "display_name": "Python 2",
   "language": "python",
   "name": "python2"
  },
  "language_info": {
   "codemirror_mode": {
    "name": "ipython",
    "version": 2
   },
   "file_extension": ".py",
   "mimetype": "text/x-python",
   "name": "python",
   "nbconvert_exporter": "python",
   "pygments_lexer": "ipython2",
   "version": "2.7.10"
  }
 },
 "nbformat": 4,
 "nbformat_minor": 0
}
