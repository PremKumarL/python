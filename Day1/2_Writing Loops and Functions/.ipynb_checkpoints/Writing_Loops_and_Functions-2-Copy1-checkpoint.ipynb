{
 "cells": [
  {
   "cell_type": "markdown",
   "metadata": {},
   "source": [
    "![logo](files/logo1.png)"
   ]
  },
  {
   "cell_type": "markdown",
   "metadata": {},
   "source": [
    "# Python Loops and Functions\n",
    "---\n"
   ]
  },
  {
   "cell_type": "markdown",
   "metadata": {},
   "source": [
    "__Please open Programming Concepts slides for reference__"
   ]
  },
  {
   "cell_type": "markdown",
   "metadata": {
    "slideshow": {
     "slide_type": "slide"
    }
   },
   "source": [
    "# Iterations\n",
    "\n",
    "This process of executing the same section of code over and over is known as iteration, or looping.\n",
    "\n",
    "Python has two different statements, _while_ and _for_, that enable iteration."
   ]
  },
  {
   "cell_type": "markdown",
   "metadata": {
    "slideshow": {
     "slide_type": "subslide"
    }
   },
   "source": [
    "### While Statement\n",
    "\n",
    "Let's take a simple program to print from 1 to 5\n",
    "```\n",
    "print(1)\n",
    "print(2)\n",
    "print(3)\n",
    "print(4)\n",
    "print(5)\n",
    "```\n",
    "\n",
    "Is there a better way to do it?"
   ]
  },
  {
   "cell_type": "code",
   "execution_count": 1,
   "metadata": {
    "collapsed": false,
    "slideshow": {
     "slide_type": "subslide"
    }
   },
   "outputs": [
    {
     "name": "stdout",
     "output_type": "stream",
     "text": [
      "1\n",
      "2\n",
      "3\n",
      "4\n",
      "5\n"
     ]
    }
   ],
   "source": [
    "count = 1\n",
    "while (count <= 5):\n",
    "    print(count)\n",
    "    count += 1"
   ]
  },
  {
   "cell_type": "markdown",
   "metadata": {
    "slideshow": {
     "slide_type": "notes"
    }
   },
   "source": [
    "The expression following the while keyword is the condition that determines if the block it encapsulates is executed. As long as the condition is __true__, the program executes the block over and over again. \n",
    "\n",
    "When the condition becomes __false__, the loop finishes. If the condition is false initially, the block is not executed at all."
   ]
  },
  {
   "cell_type": "markdown",
   "metadata": {
    "slideshow": {
     "slide_type": "subslide"
    }
   },
   "source": [
    "The **while** statement:\n",
    "```\n",
    "while <condition> :\n",
    "    block\n",
    "```\n",
    "\n",
    "Note: As with the _if_ statement, the **block** must be indented more spaces than the line that begins the while statement. The block technically is part of the while statement."
   ]
  },
  {
   "cell_type": "markdown",
   "metadata": {
    "slideshow": {
     "slide_type": "notes"
    }
   },
   "source": [
    "- The reserved word __while__ begins the while statement.\n",
    "- The __condition__ determines whether the body will be executed or not. A colon (:) must follow the condition.\n",
    "- __Block__ is a block of one or more statements to be executed as long as the condition is true."
   ]
  },
  {
   "cell_type": "markdown",
   "metadata": {
    "slideshow": {
     "slide_type": "slide"
    }
   },
   "source": [
    "### Let's try building a simple program\n",
    "\n",
    "Write a program that allows a user to enter any number of non-negative integers. When the user enters a negative value, the program no longer accepts input, and it displays the sum of all the non-negative values.\n",
    "If a negative number is the first entry, the sum is zero."
   ]
  },
  {
   "cell_type": "code",
   "execution_count": 4,
   "metadata": {
    "collapsed": false,
    "slideshow": {
     "slide_type": "subslide"
    }
   },
   "outputs": [
    {
     "name": "stdout",
     "output_type": "stream",
     "text": [
      "Enter numbers to sum, negative number ends list:\n",
      "2\n",
      "3\n",
      "-1\n",
      "Sum = 5\n"
     ]
    }
   ],
   "source": [
    "entry = 0 # Ensure the loop is entered\n",
    "sumOfNumbers = 0  # Initialize sum\n",
    "\n",
    "# Request input from the user\n",
    "print(\"Enter numbers to sum, negative number ends list:\")\n",
    "\n",
    "while (entry >= 0) : # A negative number exits the loop\n",
    "    entry = int(input()) # Get the value\n",
    "    if (entry >= 0): # Is number non-negative?\n",
    "        sumOfNumbers += entry # Only add if it's non-negative\n",
    "\n",
    "print(\"Sum = %d\" % (sumOfNumbers)) # Display the sum"
   ]
  },
  {
   "cell_type": "markdown",
   "metadata": {
    "slideshow": {
     "slide_type": "slide"
    }
   },
   "source": [
    "### Definite Loops v/s Indefinite Loops"
   ]
  },
  {
   "cell_type": "code",
   "execution_count": 7,
   "metadata": {
    "collapsed": false,
    "slideshow": {
     "slide_type": "slide"
    }
   },
   "outputs": [
    {
     "name": "stdout",
     "output_type": "stream",
     "text": [
      "1\n",
      "2\n",
      "3\n",
      "4\n"
     ]
    }
   ],
   "source": [
    "n = 1\n",
    "while (n <= 4) :\n",
    "    print n\n",
    "    n += 1\n",
    "    \n",
    "# ------------------------------------------\n",
    "# We can inspect the code and determine the number of iterations the loop performs. \n",
    "# This kind of loop is known as a definite loop, since we can \n",
    "# predict exactly how many times the loop repeats."
   ]
  },
  {
   "cell_type": "code",
   "execution_count": 10,
   "metadata": {
    "collapsed": false,
    "slideshow": {
     "slide_type": "slide"
    }
   },
   "outputs": [
    {
     "name": "stdout",
     "output_type": "stream",
     "text": [
      "Enter number : 3\n",
      "1\n",
      "2\n",
      "3\n"
     ]
    }
   ],
   "source": [
    "n = 1\n",
    "stop = int(input(\"Enter number : \"))\n",
    "while (n <= stop) :\n",
    "    print n\n",
    "    n += 1\n",
    "    \n",
    "# -----------------------------------------\n",
    "# We cannot predict how many times the loop will repeat. \n",
    "# The number of iterations depends on the input provided by the user."
   ]
  },
  {
   "cell_type": "code",
   "execution_count": 13,
   "metadata": {
    "collapsed": false
   },
   "outputs": [
    {
     "name": "stdout",
     "output_type": "stream",
     "text": [
      "Enter number : \"20\"\n",
      "20\n",
      "Enter number : \"999\"\n"
     ]
    }
   ],
   "source": [
    "# Another example of an indefinite loop\n",
    "\n",
    "done = False # Enter the loop at least once\n",
    "while not done:\n",
    "    entry = eval(input(\"Enter number : \")) # Get value from user\n",
    "    if entry == 999: #  Did user provide the magic number?\n",
    "        done = True #  If so, get out\n",
    "    else:\n",
    "        print(entry) #  If not, print it and continue\n",
    "        \n",
    "# We cannot predict at any point during the loop’s execution,\n",
    "# how many iterations the loop will perform. \n",
    "\n",
    "# The value to match (999) is know before and during the loop, \n",
    "# but the variable entry can be anything the user enters. \n",
    "# The user could choose to enter 0 exclusively or enter 999 immediately\n",
    "# and be done with it."
   ]
  },
  {
   "cell_type": "markdown",
   "metadata": {
    "slideshow": {
     "slide_type": "slide"
    }
   },
   "source": [
    "### The for Statement\n",
    "\n",
    "Even though we can use a while loop to implement a definite loop, it is preferred to use while for an indefinite loop.\n",
    "\n",
    "But, Python provides a more convenient way to express a definite loop. \n",
    "\n",
    "The **for statement** iterates over a range of values. These values can be a numeric range or elements of a data structure like a string, list, or tuple."
   ]
  },
  {
   "cell_type": "markdown",
   "metadata": {
    "collapsed": true
   },
   "source": [
    "```\n",
    "n=1\n",
    "while n <= 10:\n",
    "    print(n)\n",
    "    n += 1\n",
    "```\n",
    "\n",
    "This code requires three crucial pieces to manage the loop:\n",
    "- initialization: n = 1\n",
    "- check: n <= 10\n",
    "- update: n += 1\n",
    "\n",
    "This can be re-written as : \n",
    "\n",
    "```\n",
    "for n in range(1, 11):\n",
    "    print(n)\n",
    "```"
   ]
  },
  {
   "cell_type": "markdown",
   "metadata": {},
   "source": [
    "The general form of the range function call is : \n",
    "```\n",
    "range( start,end,step )\n",
    "```\n",
    "where,\n",
    "- __`start`__ is the first value in the range; if omitted, the default value is 0\n",
    "- __`end`__ is one past the last value in the range; the end value may not be omitted\n",
    "- __`step`__ is the amount to increment or decrement;<br>if the change parameter is omitted, it defaults to 1 (counts up by ones)\n",
    "\n",
    "\\***Note** : start, end, and step must all be **integer values; floating-point values** and other types are not allowed\n"
   ]
  },
  {
   "cell_type": "code",
   "execution_count": 2,
   "metadata": {
    "collapsed": false
   },
   "outputs": [
    {
     "name": "stdout",
     "output_type": "stream",
     "text": [
      "21\n",
      "18\n",
      "15\n",
      "12\n",
      "9\n",
      "6\n",
      "3\n"
     ]
    }
   ],
   "source": [
    "for n in range(21, 0, -3):\n",
    "    print(n)"
   ]
  },
  {
   "cell_type": "code",
   "execution_count": 3,
   "metadata": {
    "collapsed": false
   },
   "outputs": [
    {
     "name": "stdout",
     "output_type": "stream",
     "text": [
      "4950\n"
     ]
    }
   ],
   "source": [
    "# The following code computes and prints the\n",
    "# sum of all the positive integers less than 100:\n",
    "\n",
    "sumValues = 0 # Initialize sum\n",
    "for i in range(1, 100):\n",
    "    sumValues += i\n",
    "print(sumValues)"
   ]
  },
  {
   "cell_type": "markdown",
   "metadata": {},
   "source": [
    "### Nested Loops\n",
    "\n",
    "Just like with __if statements, while and for blocks__ can contain arbitrary statements, including other loops.\n",
    "\n",
    "A loop can therefore be nested within another loop."
   ]
  },
  {
   "cell_type": "code",
   "execution_count": 2,
   "metadata": {
    "collapsed": false
   },
   "outputs": [
    {
     "name": "stdout",
     "output_type": "stream",
     "text": [
      "AB\n",
      "BA\n"
     ]
    }
   ],
   "source": [
    "# Nested loops are used when an iterative process itself must be repeated\n",
    "# Suppose we want to print the permutations of 'AB'\n",
    "\n",
    "# The first letter varies from A to B\n",
    "for first in 'AB':\n",
    "    for second in 'AB': # The second varies from A to B\n",
    "        if second != first: # No duplicate letters allowed \n",
    "            print(first + second)"
   ]
  },
  {
   "cell_type": "code",
   "execution_count": 21,
   "metadata": {
    "collapsed": false
   },
   "outputs": [
    {
     "name": "stdout",
     "output_type": "stream",
     "text": [
      "ABCD\n",
      "ABDC\n",
      "ACBD\n",
      "ACDB\n",
      "ADBC\n",
      "ADCB\n",
      "BACD\n",
      "BADC\n",
      "BCAD\n",
      "BCDA\n",
      "BDAC\n",
      "BDCA\n",
      "CABD\n",
      "CADB\n",
      "CBAD\n",
      "CBDA\n",
      "CDAB\n",
      "CDBA\n",
      "DABC\n",
      "DACB\n",
      "DBAC\n",
      "DBCA\n",
      "DCAB\n",
      "DCBA\n"
     ]
    }
   ],
   "source": [
    "# Now we can use a four-deep nested loop to print all \n",
    "# the different arrangements of the letters A, B, C, and D. \n",
    "# Each string printed is a permutation of ABCD.\n",
    "\n",
    "#  File permuteabcd.py\n",
    "#  The first letter varies from A to D\n",
    "for first in 'ABCD':\n",
    "    for second in 'ABCD': # The second varies from A to D\n",
    "        if second != first: # No duplicate letters allowed\n",
    "            for third in 'ABCD': # The third varies from A to D\n",
    "                #  Don't duplicate first or second letter\n",
    "                if third != first and third != second:\n",
    "                    for fourth in 'ABCD': # The fourth varies from A to D\n",
    "                        if fourth != first and fourth != second and fourth != third:\n",
    "                            print(first + second + third + fourth)"
   ]
  },
  {
   "cell_type": "markdown",
   "metadata": {},
   "source": [
    "# Abnormal Loop Termination\n",
    "\n",
    "Typically a while statement runs till it's condition results to false. As this happens at the top of the loop, the loop doesn't become void if the condition becomes false due to modifications to the variable being checked within the body.\n",
    "\n",
    "However, it is desirable to immediately exit the body or recheck the condition from the middle of the loop instead. Python provides the break and continue statements to give programmers more flexibility in designing the logic of loops.\n"
   ]
  },
  {
   "cell_type": "code",
   "execution_count": 3,
   "metadata": {
    "collapsed": false
   },
   "outputs": [
    {
     "name": "stdout",
     "output_type": "stream",
     "text": [
      "Enter numbers to sum, negative number ends list:\n",
      "2\n",
      "3\n",
      "-2\n",
      "Sum = 5\n"
     ]
    }
   ],
   "source": [
    "### Break statement\n",
    "\n",
    "# Allow the user to enter a sequence of non-negative\n",
    "# numbers.  The user ends the list with a negative\n",
    "# number.  At the end the sum of the non-negative\n",
    "# numbers entered is displayed.  The program prints\n",
    "# zero if the user provides no non-negative numbers.\n",
    "\n",
    "entry = 0 # Ensure the loop is entered \n",
    "sumValues = 0 # Initialize sum\n",
    "\n",
    "#  Request input from the user\n",
    "print(\"Enter numbers to sum, negative number ends list:\")\n",
    "while True:  #  Loop forever\n",
    "    entry = int(input())  #  Get the value\n",
    "    if entry < 0:  #  Is number negative number?\n",
    "        break  #  If so, exit the loop\n",
    "    sumValues += entry  #  Add entry to running sum\n",
    "print \"Sum =\", sumValues  #  Display the sum"
   ]
  },
  {
   "cell_type": "markdown",
   "metadata": {
    "slideshow": {
     "slide_type": "slide"
    }
   },
   "source": [
    "The break statement should not be used frequently as it introduces an exception into the normal control logic of the loop. \n",
    "\n",
    "Ideally, every loop should have a single entry point and single exit point."
   ]
  },
  {
   "cell_type": "markdown",
   "metadata": {
    "slideshow": {
     "slide_type": "notes"
    }
   },
   "source": [
    "The no-break version introduces a Boolean variable, and the loop control logic is a little more complicated. The no-break version uses more space (an extra variable) and more time (requires an extra check in the loop condition), and its logic is more complex. \n",
    "\n",
    "The need for having a __break__ free block results in complicated control logic for a given section of code. However, in some situations, even though it violates the “single entry point, single exit point” principle, a simple break statement can be an acceptable loop control option."
   ]
  },
  {
   "cell_type": "markdown",
   "metadata": {},
   "source": [
    "### Continue Statement\n"
   ]
  },
  {
   "cell_type": "markdown",
   "metadata": {
    "slideshow": {
     "slide_type": "notes"
    }
   },
   "source": [
    "\n",
    "The continue statement is similar to the break statement.\n",
    "\n",
    "During a program’s execution, when the break statement is encountered within the body of a loop, the remaining statements within the body of the loop are skipped, and the loop is exited. \n",
    "\n",
    "When a continue statement is encountered within a loop, the remaining statements within the body are skipped, but the loop condition is checked to see if the loop should continue or be exited. If the loop’s condition is still true, the loop is not exited."
   ]
  },
  {
   "cell_type": "code",
   "execution_count": 5,
   "metadata": {
    "collapsed": false
   },
   "outputs": [
    {
     "name": "stdout",
     "output_type": "stream",
     "text": [
      "Enter positive integer (999 quits):2\n",
      "('Calculating ...', 2)\n",
      "Enter positive integer (999 quits):3\n",
      "('Calculating ...', 3)\n",
      "Enter positive integer (999 quits):999\n",
      "('sum =', 5)\n"
     ]
    }
   ],
   "source": [
    "sumValues = 0\n",
    "done = False;\n",
    "while not done:\n",
    "    val = int(input(\"Enter positive integer (999 quits):\"))\n",
    "    if val < 0:\n",
    "        print(\"Negative value\",  val,  \"ignored\")\n",
    "        continue; # Skip rest of body for this iteration \n",
    "    if val != 999:\n",
    "        print(\"Calculating ...\", val)\n",
    "        sumValues += val\n",
    "    else:\n",
    "        done = (val == 999); # 999 entry exits loop \n",
    "print(\"sum =\", sumValues)"
   ]
  },
  {
   "cell_type": "markdown",
   "metadata": {
    "slideshow": {
     "slide_type": "notes"
    }
   },
   "source": [
    "The continue statement is not used as frequently as the break statement since it is often easy to transform the code into an equivalent form that does not use continue."
   ]
  },
  {
   "cell_type": "markdown",
   "metadata": {},
   "source": [
    "# Iteration Examples\n",
    "\n",
    "We can implement some sophisticated algorithms in Python now\n",
    "that we are armed with **if and while** statements.\n"
   ]
  },
  {
   "cell_type": "markdown",
   "metadata": {},
   "source": [
    "### Square root\n",
    "\n",
    "Write a Python program that computes the square root of a number\n",
    "supplied by the user. We can compute the square root of a number by\n",
    "using the following method:\n",
    "\n",
    "1. Guess the square root.\n",
    "2. Square the guess and see how close it is to the original number;<br>if it is close enough to the correct answer, stop.\n",
    "3. Make a new guess that will produce a better result and proceed with step 2.\n"
   ]
  },
  {
   "cell_type": "code",
   "execution_count": 27,
   "metadata": {
    "collapsed": false
   },
   "outputs": [
    {
     "name": "stdout",
     "output_type": "stream",
     "text": [
      "Enter number: 2\n",
      "1.5 squared is 2.25\n",
      "1.41666666667 squared is 2.00694444444\n",
      "1.41421568627 squared is 2.0000060073\n",
      "1.41421356237 squared is 2.0\n",
      "Square root of 2 = 1.41421356237\n"
     ]
    }
   ],
   "source": [
    "# Get value from the user\n",
    "val = int(input('Enter number: '))\n",
    "\n",
    "# Compute a provisional square root\n",
    "root = 1.0;\n",
    "\n",
    "# How far off is our provisional root?\n",
    "diff = root*root - val\n",
    "\n",
    "# Loop until the provisional root\n",
    "# is close enough to the actual root\n",
    "while diff > 0.00000001 or diff < -0.00000001:\n",
    "    root = (root + val/root) / 2 # Compute new provisional root\n",
    "    print root, 'squared is', root*root # Report how we are doing\n",
    "    # How bad is our current approximation?\n",
    "    diff = root*root - val\n",
    "    \n",
    "# Report approximate square root\n",
    "print 'Square root of', val, \"=\", root\n"
   ]
  },
  {
   "cell_type": "markdown",
   "metadata": {},
   "source": [
    "### My Favourite .. The Tree\n",
    "\n",
    "Suppose we wish to draw a triangular tree, and its height is provided\n",
    "by the user. A tree that is five levels tall would look like : \n",
    "```\n",
    "    *\n",
    "   ***\n",
    "  *****\n",
    " *******\n",
    "*********\n",
    "```"
   ]
  },
  {
   "cell_type": "code",
   "execution_count": 29,
   "metadata": {
    "collapsed": false
   },
   "outputs": [
    {
     "name": "stdout",
     "output_type": "stream",
     "text": [
      "Enter height of tree: 5\n",
      "          * \n",
      "        * * * \n",
      "      * * * * * \n",
      "    * * * * * * * \n",
      "  * * * * * * * * * \n"
     ]
    }
   ],
   "source": [
    "# Get tree height from user\n",
    "height = int(input(\"Enter height of tree: \"))\n",
    "\n",
    "# Draw one row for every unit of height\n",
    "row=0\n",
    "\n",
    "while row < height:\n",
    "    # Print leading spaces; as row gets bigger, the number of\n",
    "    # leading spaces gets smaller\n",
    "    count = 0\n",
    "    while count < height - row:\n",
    "        print \" \",\n",
    "        count += 1\n",
    "    #     Print  out stars, twice the current row plus one:\n",
    "    #       1. number of stars on left side of tree\n",
    "    #            = current row value\n",
    "    #       2. exactly one star in the center of tree\n",
    "    #       3. number of stars on right side of tree\n",
    "    #            = current row value\n",
    "    \n",
    "    count = 0\n",
    "    while count < 2*row + 1:\n",
    "        print \"*\",\n",
    "        count += 1\n",
    "    # Move cursor down to next line\n",
    "    print ''\n",
    "    row += 1 "
   ]
  },
  {
   "cell_type": "code",
   "execution_count": 31,
   "metadata": {
    "collapsed": false
   },
   "outputs": [
    {
     "name": "stdout",
     "output_type": "stream",
     "text": [
      "Enter height of tree: 3\n",
      "      * \n",
      "    * * * \n",
      "  * * * * * \n"
     ]
    }
   ],
   "source": [
    "# The above program works on a while loop. Let's try it using a for loop\n",
    "\n",
    "# Get tree height from user\n",
    "height = int(input(\"Enter height of tree: \"))\n",
    "\n",
    "# Draw one row for every unit of height\n",
    "for row in range(height):\n",
    "    # Print leading spaces; as row gets bigger, the number of\n",
    "    # leading spaces gets smaller\n",
    "    for count in range(height - row):\n",
    "        print \" \",\n",
    "        # Print stars, twice the current row plus one:\n",
    "        # 1. number of stars on left side of tree\n",
    "        #     = current row value\n",
    "        # 2. exactly one star in the center of tree\n",
    "        # 3. number of stars on right side of tree\n",
    "        #     = current row value\n",
    "    for count in range(2*row + 1):\n",
    "        print \"*\",\n",
    "    # Move cursor down to next line\n",
    "    print ''"
   ]
  },
  {
   "cell_type": "markdown",
   "metadata": {},
   "source": [
    "### Prime numbers\n",
    "\n",
    "A prime number is an integer greater than one whose only divisors are 1 and itself. For example, 5 is a prime number (only 1 and 5 divide into it with no remainder), but 10 is not (2, 5, 10 are factors of 10).\n",
    "\n",
    "Write a program that displays all the prime numbers up to a value entered by the user."
   ]
  },
  {
   "cell_type": "code",
   "execution_count": 6,
   "metadata": {
    "collapsed": false
   },
   "outputs": [
    {
     "name": "stdout",
     "output_type": "stream",
     "text": [
      "Display primes up to what value? 5\n",
      "2\n",
      "3\n",
      "5\n"
     ]
    }
   ],
   "source": [
    "max_value = int(input('Display primes up to what value? ')) \n",
    "value = 2 # Smallest prime number\n",
    "while value <= max_value:\n",
    "    # See if value is prime\n",
    "    is_prime = True # Provisionally, value is prime\n",
    "    \n",
    "    #  Try all possible factors\n",
    "    factor = 2\n",
    "    \n",
    "    while factor < value:\n",
    "        if value % factor == 0:\n",
    "            is_prime = False  #  Found a factor\n",
    "            break             # No need to continue; it is NOT prime\n",
    "        factor += 1     # Try the next potential factor\n",
    "    \n",
    "    if is_prime:\n",
    "        print value\n",
    "    value += 1"
   ]
  },
  {
   "cell_type": "markdown",
   "metadata": {
    "slideshow": {
     "slide_type": "notes"
    }
   },
   "source": [
    "Some important question to be asked:\n",
    "\n",
    "#### If the user enters a 2, will it be printed?\n",
    "\n",
    "In this case max_value = value = 2, so the condition of the outer\n",
    "\n",
    "**loop value <= max_value**<br>\n",
    "\n",
    "is true, since 2 $\\leq$ 2. is_prime is set to true, but the condition of the inner loop<br>\n",
    "\n",
    "**trial_factor < value**\n",
    "\n",
    "is not true (2 is not less than 2). Thus, the inner loop is skipped, is_prime is not\n",
    "changed from true, and 2 is printed. This behavior is correct, because 2 is the smallest\n",
    "prime number (and the only even prime)."
   ]
  },
  {
   "cell_type": "markdown",
   "metadata": {
    "slideshow": {
     "slide_type": "notes"
    }
   },
   "source": [
    "#### If the user enters a number less than 2, is anything printed?\n",
    "\n",
    "To ensure than values less than two are not taken into account, we have the while loop. If the inputed range is less than two, the body never executes."
   ]
  },
  {
   "cell_type": "markdown",
   "metadata": {
    "slideshow": {
     "slide_type": "notes"
    }
   },
   "source": [
    "#### Is the outer loop guaranteed to always terminate?\n",
    "\n",
    "After every iteration, value get's incremented. And since max_value is never altered any-where, it is guaranteed for the outer loop to terminate when value becomes greater than the max_value."
   ]
  },
  {
   "cell_type": "code",
   "execution_count": 35,
   "metadata": {
    "collapsed": false
   },
   "outputs": [
    {
     "name": "stdout",
     "output_type": "stream",
     "text": [
      "Please enter an integer in the range 0-10: 11\n",
      "Please enter an integer in the range 0-10: 10\n",
      "It took you 2 tries to enter a valid number\n"
     ]
    }
   ],
   "source": [
    "# Now let's write a program which traps the user in a loop until \n",
    "# the user provides an desired integer\n",
    "\n",
    "# Require the user to enter an integer in the range 1-10 \n",
    "in_value = 0 # Ensure loop entry\n",
    "attempts = 0 # Count the number of tries\n",
    "\n",
    "#  Loop until the user supplies a valid number\n",
    "while in_value < 1 or in_value > 10:\n",
    "    in_value = int(input(\"Please enter an integer in the range 0-10: \"))\n",
    "    attempts += 1\n",
    "    \n",
    "#  Make singular or plural word as necessary\n",
    "tries = \"try\" if attempts == 1 else \"tries\"\n",
    "# in_value at this point is guaranteed to be within range \n",
    "print \"It took you\", attempts, tries, \"to enter a valid number\"\n",
    "\n",
    "# We initialize the variable in_value at the top of the program \n",
    "# only to make sure the loop’s body executes at least one time."
   ]
  },
  {
   "cell_type": "markdown",
   "metadata": {
    "collapsed": true
   },
   "source": [
    "# Introduction to Functions\n",
    "\n",
    "We have been using functions in Python since the first chapter.\n",
    "These functions include print, input, eval, int, float, range, and type.\n",
    "The Python standard library includes many other functions useful for common programming tasks.\n",
    "\n",
    "In Python, a function is a named block of code that performs a specific task."
   ]
  },
  {
   "cell_type": "markdown",
   "metadata": {
    "slideshow": {
     "slide_type": "notes"
    }
   },
   "source": [
    "In mathematics, a function computes a result from a given value; for example, from the function definition f (x) = 2x + 3 we can compute f (5) = 13 and f (0) = 3. \n",
    "\n",
    "The square root function accepts one integer or floating-point value and produces a floating-point result; for example, sqrt(16) = 4.0, so when presented with 16.0, sqrt responds with 4.0.\n",
    "\n",
    "To the user of the square root function, the function is a black box; the user is concerned more about what the function does, not how it does it."
   ]
  },
  {
   "cell_type": "code",
   "execution_count": 7,
   "metadata": {
    "collapsed": false
   },
   "outputs": [
    {
     "name": "stdout",
     "output_type": "stream",
     "text": [
      "Enter number: 25\n",
      "Square root of 25 = 5.0\n"
     ]
    }
   ],
   "source": [
    "from math import sqrt\n",
    "# Get value from the user\n",
    "num = int(input(\"Enter number: \")) # Compute the square root\n",
    "root = sqrt(num);\n",
    "#  Report result\n",
    "print \"Square root of\", num, \"=\", root"
   ]
  },
  {
   "cell_type": "markdown",
   "metadata": {},
   "source": [
    "\n",
    "__``sqrt(num)``__\n",
    "\n",
    "This is a function invocation, also known as a function call."
   ]
  },
  {
   "cell_type": "markdown",
   "metadata": {},
   "source": [
    "The interpreter is not automatically aware of the sqrt function. The sqrt function is not part of the small collection of functions (like type, int, str, and range) always available to Python programs. The sqrt function is part of separate module. A module is a collection of Python code that can used in other programs. The statement\n",
    "```\n",
    "from math import sqrt\n",
    "```\n",
    "makes the sqrt function available for use in the program. The math module has many other mathematical\n",
    "functions.\n",
    "\n",
    "When calling a function, the function’s name is followed by parentheses that contain the information to pass to the function so it can perform its task. In the expression\n",
    "```\n",
    "sqrt(num)\n",
    "```\n",
    "\n",
    "Some functions take more than one parameter; for example, we have seen the range function that accepts one, two, or three parameters."
   ]
  },
  {
   "cell_type": "markdown",
   "metadata": {},
   "source": [
    "A function has three important parts:\n",
    "\n",
    "- **Name** : Every function has a name that identifies the code to be executed. Function names follow the same rules as variable names; a function name is another example of an identifier\n",
    "- **Parameters** : A function must be called with a certain number of parameters, and each parameter must be the correct type.\n",
    "- **Result type** : A function returns a value to its caller."
   ]
  },
  {
   "cell_type": "markdown",
   "metadata": {
    "slideshow": {
     "slide_type": "notes"
    }
   },
   "source": [
    "Parameters : If a function is called with too many or too few parameters, the interpreter will issue an error message and refuse to run the program.\n",
    "\n",
    "Result-type : A function’s result type and its parameter types can be completely unrelated."
   ]
  },
  {
   "cell_type": "code",
   "execution_count": 2,
   "metadata": {
    "collapsed": false
   },
   "outputs": [
    {
     "ename": "TypeError",
     "evalue": "sqrt() takes exactly one argument (2 given)",
     "output_type": "error",
     "traceback": [
      "\u001b[0;31m---------------------------------------------------------------------------\u001b[0m",
      "\u001b[0;31mTypeError\u001b[0m                                 Traceback (most recent call last)",
      "\u001b[0;32m<ipython-input-2-700ae75939cf>\u001b[0m in \u001b[0;36m<module>\u001b[0;34m()\u001b[0m\n\u001b[1;32m      2\u001b[0m \u001b[0;34m\u001b[0m\u001b[0m\n\u001b[1;32m      3\u001b[0m \u001b[0;32mfrom\u001b[0m \u001b[0mmath\u001b[0m \u001b[0;32mimport\u001b[0m \u001b[0msqrt\u001b[0m\u001b[0;34m\u001b[0m\u001b[0m\n\u001b[0;32m----> 4\u001b[0;31m \u001b[0mroot\u001b[0m \u001b[0;34m=\u001b[0m \u001b[0msqrt\u001b[0m\u001b[0;34m(\u001b[0m\u001b[0;36m10\u001b[0m\u001b[0;34m,\u001b[0m \u001b[0;36m5\u001b[0m\u001b[0;34m)\u001b[0m\u001b[0;34m\u001b[0m\u001b[0m\n\u001b[0m\u001b[1;32m      5\u001b[0m \u001b[0;32mprint\u001b[0m \u001b[0mroot\u001b[0m\u001b[0;34m\u001b[0m\u001b[0m\n",
      "\u001b[0;31mTypeError\u001b[0m: sqrt() takes exactly one argument (2 given)"
     ]
    }
   ],
   "source": [
    "# sqrt can only take one argument. So this will lead to an error!\n",
    "\n",
    "from math import sqrt\n",
    "root = sqrt(10, 5)\n",
    "print root"
   ]
  },
  {
   "cell_type": "markdown",
   "metadata": {},
   "source": [
    "### Time \n",
    "\n",
    "__%%time__  Calculate the time elapsed in running a cell\n",
    "\n",
    "__%time__ Calculate the time elapsed in running a statement "
   ]
  },
  {
   "cell_type": "code",
   "execution_count": 1,
   "metadata": {
    "collapsed": false
   },
   "outputs": [
    {
     "name": "stdout",
     "output_type": "stream",
     "text": [
      "Enter your name: \n",
      "90\n",
      "CPU times: user 2.89 ms, sys: 2.99 ms, total: 5.87 ms\n",
      "Wall time: 2.26 s\n"
     ]
    }
   ],
   "source": [
    "%%time\n",
    "print \"Enter your name: \"\n",
    "\n",
    "name = input()\n",
    "\n"
   ]
  },
  {
   "cell_type": "code",
   "execution_count": 11,
   "metadata": {
    "collapsed": false
   },
   "outputs": [
    {
     "name": "stdout",
     "output_type": "stream",
     "text": [
      "1\n",
      "2\n",
      "3\n"
     ]
    }
   ],
   "source": [
    "from time import sleep\n",
    "i = 1\n",
    "while (i <= 3):\n",
    "    print i\n",
    "    i += 1\n",
    "    # The thread or execution halts for 3 seconds\n",
    "    sleep(3)"
   ]
  },
  {
   "cell_type": "markdown",
   "metadata": {},
   "source": [
    "### Importing issues\n",
    "\n",
    "- Import one or more specific functions:<br>```from math import sqrt, log ```\n",
    "- Import everything the module has:<br>```from math import *```\n",
    "- Import the module itself instead of just its components:<br>```import math```<br>In this case,  to use a function the client must use the following notation: <br>```y = math.sqrt(x)\n",
    "print(math.log10(100))```"
   ]
  },
  {
   "cell_type": "markdown",
   "metadata": {},
   "source": [
    "As a programmer, one should avoid the “**import everything**” statement\n",
    "```\n",
    "from math import *\n",
    "```\n",
    "Since this provides more opportunities for name collisions and makes your code less maintainable.<br>\n",
    "The best approach imports the whole module : \n",
    "```\n",
    "import math\n",
    "```\n",
    "and uses qualified names for the functions the module provides."
   ]
  },
  {
   "cell_type": "markdown",
   "metadata": {},
   "source": [
    "### Function Basics\n",
    "\n",
    "There are two aspects to every Python function:\n",
    "- **Function definition.** The definition of a function contains the code that determines the function’s behavior. \n",
    "- **Function invocation.** A function is used within a program via a function invocation. \n"
   ]
  },
  {
   "cell_type": "code",
   "execution_count": 14,
   "metadata": {
    "collapsed": false
   },
   "outputs": [
    {
     "name": "stdout",
     "output_type": "stream",
     "text": [
      "Please enter an integer value: \n"
     ]
    }
   ],
   "source": [
    "# Let's understand how a function works!\n",
    "\n",
    "def prompt():\n",
    "    print \"Please enter an integer value: \"\n",
    "    \n",
    "prompt()"
   ]
  },
  {
   "cell_type": "code",
   "execution_count": 16,
   "metadata": {
    "collapsed": false
   },
   "outputs": [
    {
     "name": "stdout",
     "output_type": "stream",
     "text": [
      "Going to count to two . . .\n",
      "1\n",
      "2\n",
      "Going to count to three . . .\n",
      "1\n",
      "2\n",
      "3\n"
     ]
    }
   ],
   "source": [
    "# Let's create a simple function and use it!!\n",
    "\n",
    "#  Count to n and print each number on its own line\n",
    "def count_to_n(n):\n",
    "     for i in range(1, n + 1):\n",
    "        print(i)\n",
    "\n",
    "        \n",
    "print(\"Going to count to two . . .\")\n",
    "count_to_n(2)\n",
    "print(\"Going to count to three . . .\")\n",
    "count_to_n(3)"
   ]
  },
  {
   "cell_type": "code",
   "execution_count": 17,
   "metadata": {
    "collapsed": false
   },
   "outputs": [
    {
     "ename": "TypeError",
     "evalue": "count_to_n() takes exactly 1 argument (0 given)",
     "output_type": "error",
     "traceback": [
      "\u001b[0;31m---------------------------------------------------------------------------\u001b[0m",
      "\u001b[0;31mTypeError\u001b[0m                                 Traceback (most recent call last)",
      "\u001b[0;32m<ipython-input-17-7715e4f61602>\u001b[0m in \u001b[0;36m<module>\u001b[0;34m()\u001b[0m\n\u001b[0;32m----> 1\u001b[0;31m \u001b[0mcount_to_n\u001b[0m\u001b[0;34m(\u001b[0m\u001b[0;34m)\u001b[0m \u001b[0;31m# This will fail\u001b[0m\u001b[0;34m\u001b[0m\u001b[0m\n\u001b[0m",
      "\u001b[0;31mTypeError\u001b[0m: count_to_n() takes exactly 1 argument (0 given)"
     ]
    }
   ],
   "source": [
    "count_to_n() # This will fail"
   ]
  },
  {
   "cell_type": "code",
   "execution_count": 18,
   "metadata": {
    "collapsed": false
   },
   "outputs": [
    {
     "ename": "TypeError",
     "evalue": "count_to_n() takes exactly 1 argument (2 given)",
     "output_type": "error",
     "traceback": [
      "\u001b[0;31m---------------------------------------------------------------------------\u001b[0m",
      "\u001b[0;31mTypeError\u001b[0m                                 Traceback (most recent call last)",
      "\u001b[0;32m<ipython-input-18-0a08a4284a47>\u001b[0m in \u001b[0;36m<module>\u001b[0;34m()\u001b[0m\n\u001b[0;32m----> 1\u001b[0;31m \u001b[0mcount_to_n\u001b[0m\u001b[0;34m(\u001b[0m\u001b[0;36m10\u001b[0m\u001b[0;34m,\u001b[0m \u001b[0;36m5\u001b[0m\u001b[0;34m)\u001b[0m \u001b[0;31m# This will fail too\u001b[0m\u001b[0;34m\u001b[0m\u001b[0m\n\u001b[0m",
      "\u001b[0;31mTypeError\u001b[0m: count_to_n() takes exactly 1 argument (2 given)"
     ]
    }
   ],
   "source": [
    "count_to_n(10, 5) # This will fail too"
   ]
  },
  {
   "cell_type": "code",
   "execution_count": 27,
   "metadata": {
    "collapsed": false
   },
   "outputs": [
    {
     "name": "stdout",
     "output_type": "stream",
     "text": [
      "This program adds together two integers.\n",
      "Enter a number2\n",
      "Enter a number3\n",
      "2 + 3 = 5\n"
     ]
    }
   ],
   "source": [
    "# Time to do something useful!\n",
    "\n",
    "#  Definition of the prompt function\n",
    "def prompt():\n",
    "    value = int(input(\"Enter a number\"))\n",
    "    return value\n",
    "\n",
    "print(\"This program adds together two integers.\") \n",
    "value1 = prompt() # Call the function\n",
    "value2 = prompt() # Call the function again \n",
    "sumValues = value1 + value2\n",
    "print value1, \"+\", value2, \"=\", sumValues"
   ]
  },
  {
   "cell_type": "markdown",
   "metadata": {},
   "source": [
    "### Using Functions\n",
    "\n",
    "The general form of a function definition is : \n",
    "```\n",
    "def name ( parameter list ) : \n",
    "    block\n",
    "```"
   ]
  },
  {
   "cell_type": "code",
   "execution_count": 28,
   "metadata": {
    "collapsed": true
   },
   "outputs": [],
   "source": [
    "# Let's create a function to calculate the GCD of two numbers\n",
    "\n",
    "def gcd(num1, num2):\n",
    "    # Determine the smaller of num1 and num2\n",
    "    min = num1 if num1 < num2 else num2 # NOTE -  a different way of writing if-else\n",
    "    \n",
    "    # 1 is definitely a common factor to all ints \n",
    "    largestFactor = 1\n",
    "    for i in range(1, min + 1):\n",
    "        if num1 % i == 0 and num2 % i == 0: \n",
    "            largestFactor = i # Found larger factor\n",
    "    return largestFactor\n"
   ]
  },
  {
   "cell_type": "code",
   "execution_count": 30,
   "metadata": {
    "collapsed": false
   },
   "outputs": [
    {
     "name": "stdout",
     "output_type": "stream",
     "text": [
      "1\n",
      "10\n",
      "10\n"
     ]
    }
   ],
   "source": [
    "print gcd(5, 3)\n",
    "print gcd(20, 10)\n",
    "print gcd(10, 20)"
   ]
  },
  {
   "cell_type": "code",
   "execution_count": 31,
   "metadata": {
    "collapsed": false
   },
   "outputs": [
    {
     "name": "stdout",
     "output_type": "stream",
     "text": [
      "12\n",
      "2\n",
      "1\n"
     ]
    }
   ],
   "source": [
    "# Note that gcd could be called from many different places within the same program,\n",
    "# and, since different parameter values could be passed at each of these different \n",
    "# invocations, gcd could compute a different result at each invocation.\n",
    "\n",
    "x = gcd(36, 24)\n",
    "print x\n",
    "x = gcd(x - 2, 24)\n",
    "print x\n",
    "x = gcd(x - 2, gcd(10, 8))\n",
    "print x"
   ]
  },
  {
   "cell_type": "markdown",
   "metadata": {},
   "source": [
    "### Main Function\n",
    "\n",
    "Functions help us organize our code. By following a standardized architecture, main() signifies the entry point to the program!"
   ]
  },
  {
   "cell_type": "code",
   "execution_count": 33,
   "metadata": {
    "collapsed": false
   },
   "outputs": [
    {
     "name": "stdout",
     "output_type": "stream",
     "text": [
      "Please enter an integer: 5\n",
      "Please enter an integer: 25\n",
      "gcd( 5 , 25 ) =  5\n"
     ]
    }
   ],
   "source": [
    "#  Computes the greatest common divisor of m and n\n",
    "def gcd(m, n):\n",
    "    # Determine the smaller of m and n\n",
    "    min = m if m < n else n\n",
    "    # 1 is definitely a common factor to all ints largestFactor = 1\n",
    "    for i in range(1, min + 1):\n",
    "        if m % i == 0 and n % i == 0:\n",
    "            largestFactor = i # Found larger factor\n",
    "    return largestFactor\n",
    "\n",
    "#  Get an integer from the user\n",
    "def get_int():\n",
    "    return int(input(\"Please enter an integer: \"))\n",
    "#  Main code to execute\n",
    "def main():\n",
    "    n1 = get_int()\n",
    "    n2 = get_int()\n",
    "    print \"gcd(\", n1, \",\",  n2, \") = \", gcd(n1, n2)\n",
    "\n",
    "# Run the program\n",
    "main()"
   ]
  },
  {
   "cell_type": "markdown",
   "metadata": {},
   "source": [
    "### Parameter Passing\n",
    "\n",
    "When a client calls a function that expects a parameter, the client must pass a parameter to the function.\n",
    "\n",
    "The concept of parameter passing in Python is simple: the function call binds the actual parameter to the formal parameter. "
   ]
  },
  {
   "cell_type": "code",
   "execution_count": 34,
   "metadata": {
    "collapsed": false
   },
   "outputs": [
    {
     "name": "stdout",
     "output_type": "stream",
     "text": [
      "Before increment, x = 5\n",
      "Beginning execution of increment, x = 5\n",
      "Ending execution of increment, x = 6\n",
      "After increment, x = 5\n"
     ]
    }
   ],
   "source": [
    "def increment(x):\n",
    "    print \"Beginning execution of increment, x =\", x\n",
    "    x += 1 # Increment x\n",
    "    print \"Ending execution of increment, x =\", x\n",
    "\n",
    "def main(): \n",
    "    x=5\n",
    "    print \"Before increment, x =\", x\n",
    "    increment(x)\n",
    "    print \"After increment, x =\", x\n",
    "    \n",
    "main()"
   ]
  },
  {
   "cell_type": "code",
   "execution_count": 35,
   "metadata": {
    "collapsed": false
   },
   "outputs": [
    {
     "name": "stdout",
     "output_type": "stream",
     "text": [
      "Before increment, x = 5\n",
      "Beginning execution of increment, x = 5\n",
      "Ending execution of increment, x = 6\n",
      "After increment, x = 6\n"
     ]
    }
   ],
   "source": [
    "# The correct implementation\n",
    "\n",
    "def increment(x):\n",
    "    print \"Beginning execution of increment, x =\", x\n",
    "    x += 1 # Increment x\n",
    "    print \"Ending execution of increment, x =\", x\n",
    "    return x\n",
    "\n",
    "def main(): \n",
    "    x=5\n",
    "    print \"Before increment, x =\", x\n",
    "    x = increment(x)\n",
    "    print \"After increment, x =\", x\n",
    "    \n",
    "main()"
   ]
  },
  {
   "cell_type": "code",
   "execution_count": null,
   "metadata": {
    "collapsed": true
   },
   "outputs": [],
   "source": []
  }
 ],
 "metadata": {
  "kernelspec": {
   "display_name": "Python 2",
   "language": "python",
   "name": "python2"
  },
  "language_info": {
   "codemirror_mode": {
    "name": "ipython",
    "version": 2
   },
   "file_extension": ".py",
   "mimetype": "text/x-python",
   "name": "python",
   "nbconvert_exporter": "python",
   "pygments_lexer": "ipython2",
   "version": "2.7.6"
  }
 },
 "nbformat": 4,
 "nbformat_minor": 0
}
