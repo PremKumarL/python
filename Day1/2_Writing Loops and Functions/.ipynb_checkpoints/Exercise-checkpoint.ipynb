{
 "cells": [
  {
   "cell_type": "markdown",
   "metadata": {},
   "source": [
    "# Python Loops and Functions\n",
    "---"
   ]
  },
  {
   "cell_type": "markdown",
   "metadata": {},
   "source": [
    "## Assignments"
   ]
  },
  {
   "cell_type": "markdown",
   "metadata": {},
   "source": [
    "### 1) Write a program that first asks the user for an integer, N,  and then calculates three sums: \n",
    "- the sum of the even integers,\n",
    "- the sum of the odd integers, \n",
    "- and the sum of all integers from 0 to N. \n",
    "\n",
    "However, excluded from these sums those integers that are divisible by 3 or divisible by 4.\n"
   ]
  },
  {
   "cell_type": "code",
   "execution_count": 1,
   "metadata": {
    "collapsed": false
   },
   "outputs": [],
   "source": [
    "def compute(n):\n",
    "    \n",
    "    sumEven = 0\n",
    "    sumOdd = 0\n",
    "    sumAll = 0\n",
    "    \n",
    "    \n",
    "    #Your code here \n",
    "    \n",
    "    \n",
    "    \n",
    "    print \"Odd sum : \", sumOdd\n",
    "    print \"Even sum : \", sumEven\n",
    "    print \"All sum : \", sumAll\n",
    "\n",
    "def main():\n",
    "    val = int(input(\"Enter length : \"))\n",
    "    compute(val)\n",
    "    \n",
    "main()\n",
    "                "
   ]
  },
  {
   "cell_type": "markdown",
   "metadata": {},
   "source": [
    "### 2) Calculate average of elements entered by an user.\n",
    "\n",
    "You should keep reading inputs till the user enters a negative number. Then compute the average."
   ]
  },
  {
   "cell_type": "code",
   "execution_count": null,
   "metadata": {
    "collapsed": true
   },
   "outputs": [],
   "source": [
    "# function to get user input\n",
    "# we created it separate so that we can call it inside a loop\n",
    "def prompt():\n",
    "    val = int(input(\"Enter a number : \"))\n",
    "    return val\n",
    "\n",
    "def calculateAverage():\n",
    "       \n",
    "        #your code here\n",
    "        \n",
    "        #define variables \n",
    "        \n",
    "        x = prompt()\n",
    "       \n",
    "        while (x > 0):\n",
    "            #your code here\n",
    "            \n",
    "            #do calculations\n",
    "            x = prompt()\n",
    "            \n",
    "        \n",
    "        print \"Average : \",avg\n",
    "        \n",
    "def main():\n",
    "    calculateAverage()\n",
    "    \n",
    "main()"
   ]
  },
  {
   "cell_type": "markdown",
   "metadata": {},
   "source": [
    "### 3) Find the largest number amongst those entered by the user in a stream.\n",
    "\n",
    "Assume user can enter max 5 numbers."
   ]
  },
  {
   "cell_type": "code",
   "execution_count": null,
   "metadata": {
    "collapsed": true
   },
   "outputs": [],
   "source": [
    "def prompt():\n",
    "    val = int(input(\"Enter number : \"))\n",
    "    return val\n",
    "\n",
    "def largest():\n",
    "    \n",
    "    #Your Code Here\n",
    "    \n",
    "    return largest\n",
    "\n",
    "def main():\n",
    "    val = largest()\n",
    "    print \"Largest value is : \", val\n",
    "    \n",
    "main()"
   ]
  },
  {
   "cell_type": "markdown",
   "metadata": {},
   "source": [
    "### 4) Find the second largest number amongst those entered by the user in a stream.\n",
    "\n",
    "Assume user can enter max 5 numbers.__"
   ]
  },
  {
   "cell_type": "code",
   "execution_count": null,
   "metadata": {
    "collapsed": true
   },
   "outputs": [],
   "source": [
    "def prompt():\n",
    "    val = int(input(\"Enter number : \"))\n",
    "    return val\n",
    "\n",
    "def secondLargest():\n",
    "    \n",
    "    largest = prompt()\n",
    "    x = prompt()\n",
    "    \n",
    "    #assume second number is largest\n",
    "    secondLargest = x\n",
    "    \n",
    "    # is 2nd value is larger, interchange values\n",
    "    \n",
    "    #Your code here for interchange\n",
    "    \n",
    "    while(counter < 5):\n",
    "        \n",
    "        x = prompt()\n",
    "        \n",
    "        #More conditions \n",
    "        #Your code here\n",
    "            \n",
    "               \n",
    "        \n",
    "        counter += 1\n",
    "        \n",
    "        \n",
    "    return secondLargest\n",
    "\n",
    "def main():\n",
    "    val = secondLargest()\n",
    "    print \"Second Largest value is : \", val\n",
    "    \n",
    "main()"
   ]
  },
  {
   "cell_type": "markdown",
   "metadata": {},
   "source": [
    "### 5) Identify if a number is a palindrome or not\n",
    "\n",
    "Hint: [Check wikipedia for the definition of palindromic Numbers ](https://en.wikipedia.org/wiki/Palindromic_number)\n",
    "\n"
   ]
  },
  {
   "cell_type": "code",
   "execution_count": null,
   "metadata": {
    "collapsed": true
   },
   "outputs": [],
   "source": [
    "def is_palindrom(n):\n",
    "    \n",
    "    #Write logic to reverse a number \n",
    "    \n",
    "    #Your code here\n",
    "    \n",
    "    #remember high school math of decimal \n",
    "    \n",
    "    if reversedNumber==n:\n",
    "        return True\n",
    "    else:\n",
    "        return False\n",
    "    \n",
    "def main():\n",
    "    val = int(input(\"Enter number : \"))\n",
    "    print \"Is \", val, \" a palindrome : \", isNumberAPalindrome(val)\n",
    "    \n",
    "main()"
   ]
  },
  {
   "cell_type": "markdown",
   "metadata": {},
   "source": [
    "### 6) Print fibonnacci series for upto n-numbers.\n",
    "\n",
    "Sample : 0, 1, 1, 2, 3, 5, 8 .....\n",
    "\n",
    "Hint : [ wikipedia link for fibonacci series ](https://en.wikipedia.org/wiki/Fibonacci_number)"
   ]
  },
  {
   "cell_type": "code",
   "execution_count": null,
   "metadata": {
    "collapsed": true
   },
   "outputs": [],
   "source": [
    "# Print fibonnacci series upto n-numbers\n",
    "\n",
    "def fibonnacci(n):\n",
    "   \n",
    "    ##Your code here\n",
    "\n",
    "def main():\n",
    "    val = int(input(\"Enter length : \"))\n",
    "    fibonnacci(val)\n",
    "    \n",
    "main()"
   ]
  },
  {
   "cell_type": "markdown",
   "metadata": {},
   "source": [
    "### 7) Design your own calculator to support $+, -, /, *$ operations.\n",
    "\n",
    "Allow user the flexibility to enter what he wants to do. Also enable him to exit the calculator app. \n",
    "Make the entire code as modular as possible! Each function just responsible for one task i.e. all mathematical operations have their individual functions. \n",
    "\n",
    "Reading user inputs is a separate function as well as Display the choices and Entering them as well!"
   ]
  },
  {
   "cell_type": "code",
   "execution_count": null,
   "metadata": {
    "collapsed": true
   },
   "outputs": [],
   "source": [
    "def division(x, y):\n",
    "    #YOUR CODE HERE\n",
    "\n",
    "def multiplication(x, y):\n",
    "    #YOUR CODE HERE\n",
    "    \n",
    "def addition(x, y):\n",
    "    #YOUR CODE HERE\n",
    "    \n",
    "def substraction(x, y):\n",
    "    #YOUR CODE HERE\n",
    "    \n",
    "def printOptions():\n",
    "    print \"1. Add\"\n",
    "    print \"2. Substract\"\n",
    "    print \"3. Multiply\"\n",
    "    print \"4. Divide\"\n",
    "    print \"5. Exit\"\n",
    "\n",
    "    choice = int(input(\"Enter Option : \"))\n",
    "    return choice\n",
    "\n",
    "def computeOnUserSelection(x, y, choice):\n",
    "    #YOUR CODE HERE\n",
    "        \n",
    "def calculator():\n",
    "        #YOUR CODE HERE\n",
    "        \n",
    "    print \"\\n\\nBbyee...\"\n",
    "    \n",
    "def main():\n",
    "    calculator()\n",
    "    \n",
    "main()\n"
   ]
  },
  {
   "cell_type": "markdown",
   "metadata": {},
   "source": [
    "### 8) $\\ $Write a main() program that computes and prints N sums: $1, 1+2, 1+2+3, ... , 1+2+3+...+N$.\n",
    "\n",
    "There is a __smart way__ to do this with just one loop, and a __not-so-smart way__ that uses nested loops. Try to write it the easy way(using nested loops) and then the smart way."
   ]
  },
  {
   "cell_type": "code",
   "execution_count": null,
   "metadata": {
    "collapsed": true
   },
   "outputs": [],
   "source": [
    "def smartWay(n) :\n",
    "    #YOUR CODE HERE\n",
    "\n",
    "\n",
    "def yourWay(n) :\n",
    "    #YOUR CODE HERE\n",
    "\n",
    "def main():\n",
    "    print \"First let's do this my way ....\"\n",
    "    smartWay(5)\n",
    "    print \"Now your way ....\"\n",
    "    yourWay(5)\n",
    "    \n",
    "main()"
   ]
  },
  {
   "cell_type": "markdown",
   "metadata": {},
   "source": [
    "## 9) Can you print the tree ? \n",
    "\n",
    "Write a function where user will provide the hight of the tree and you have to print the tree. Follwoing tree is of hight 5.\n",
    "\n",
    "```\n",
    "    *\n",
    "   ***\n",
    "  *****\n",
    " *******\n",
    "*********\n",
    "```"
   ]
  },
  {
   "cell_type": "markdown",
   "metadata": {},
   "source": [
    "### 10) $\\ $ Write a program to calculate My-even-factorial of a number \n",
    "\n",
    "Definition of  My-even-factorial of $n$: Instead of multiplying all number from 1 to $\\ n$ , <br>only multiply the numbers which are even.\n",
    "    "
   ]
  },
  {
   "cell_type": "code",
   "execution_count": null,
   "metadata": {
    "collapsed": true
   },
   "outputs": [],
   "source": [
    "def isEven(n):\n",
    "    #YOUR CODE HERE\n",
    "    \n",
    "    \n",
    "def myEvenFactorial(n):\n",
    "    factorial = 1\n",
    "    \n",
    "    if n==0 or n==1:\n",
    "        return factorial\n",
    "    \n",
    "    #YOUR CODE HERE\n",
    "    \n",
    "    return factorial\n",
    "\n",
    "def main():\n",
    "    val = int(input(\"Enter number : \"))\n",
    "    factorial = myEvenFactorial(val)\n",
    "    print \"My even factorial is \", factorial\n",
    "\n",
    "main()"
   ]
  },
  {
   "cell_type": "markdown",
   "metadata": {},
   "source": [
    "### 11) $\\ $ Printing first n numbers and checking whether they are prime\n",
    "\n",
    "This is a great example that utilizes nested loops, if-else statements and the break command. The basic requirements are as follows:\n",
    "\n",
    "- Check whether a number is prime or not. Remember that a number is prime only if it has two divisors – one and itself.\n",
    "- If a number is not prime, list its divisors.\n",
    "- If a number is prime, print that ‘x is a prime number’.\n",
    "- Based on this information, we can start creating our program:"
   ]
  },
  {
   "cell_type": "markdown",
   "metadata": {},
   "source": [
    "# FAQs"
   ]
  },
  {
   "cell_type": "markdown",
   "metadata": {},
   "source": [
    "<br>\n",
    "\n",
    "\n",
    "\n",
    "__Q. Where should you use a for loop instead of a while loop?__\n",
    "\n",
    "Almost everywhere. The while loop has its uses, but it is also prone to throw off errors. As a beginner, try to minimize the number of while loops in your programs and stick to for loops instead. Sure, there are problems where you can’t help but use a while loop, but if possible, stick to for loops – whether you’re printing a list of numbers, working with lists, or making decisions with if-else statements.\n",
    "\n",
    "\n",
    "__Q. How many for loops can I nest inside existing loops?__\n",
    "\n",
    "As many as you want (or as many as the program requires). But like if-else statements, it’s best to limit for loops to two levels deep. Deeper than that and you’ll start walking towards ‘bad practice’ territory (and other programmers won’t like you anymore).\n",
    "\n",
    "\n",
    "__Q. I saw a ‘pass’ command in some code online. What is that?__\n",
    "\n",
    "A ‘pass’ command is basically an empty placeholder. It doesn’t do anything, but is used in a place where some code is required syntactically. For an example, look at the question below.\n",
    "\n",
    "\n",
    "__Q. What is the difference between range and xrange?__\n",
    "\n",
    "If you looked up range online, you may have encountered xrange as well. xrange is another way to specify range when using a for loop. It works exactly like range, except that it is faster and more memory efficient.\n",
    "\n",
    "When you use range, you essentially create a list which Python reiterates through. Thus, `for x in range(0, 100)` basically creates a temporary list with numbers from 0 to 100. As the for loop is executed, Python goes through each element in this list. This can be slow, especially when dealing with very large range of values.\n",
    "\n",
    "xrange on the other hand, generates an object that creates the number(s) required in the range. Understanding how this works requires going into object-oriented programming, which is an entirely new ball game altogether."
   ]
  },
  {
   "cell_type": "markdown",
   "metadata": {},
   "source": [
    "The above FAQ is really useful information and taken from \n",
    "<br >https://blog.udemy.com/python-for-loop/\n",
    "\n",
    "You should check more there\n",
    "\n"
   ]
  },
  {
   "cell_type": "code",
   "execution_count": 7,
   "metadata": {
    "collapsed": false
   },
   "outputs": [
    {
     "name": "stdout",
     "output_type": "stream",
     "text": [
      "CPU times: user 22.3 ms, sys: 11.3 ms, total: 33.6 ms\n",
      "Wall time: 39.9 ms\n"
     ]
    }
   ],
   "source": [
    "%%time\n",
    "for x in range(0,200000): \n",
    "    pass"
   ]
  },
  {
   "cell_type": "code",
   "execution_count": 8,
   "metadata": {
    "collapsed": false
   },
   "outputs": [
    {
     "name": "stdout",
     "output_type": "stream",
     "text": [
      "CPU times: user 19.8 ms, sys: 5.22 ms, total: 25 ms\n",
      "Wall time: 21.1 ms\n"
     ]
    }
   ],
   "source": [
    "%%time\n",
    "for x in xrange(200000): \n",
    "    pass"
   ]
  },
  {
   "cell_type": "code",
   "execution_count": 9,
   "metadata": {
    "collapsed": true
   },
   "outputs": [],
   "source": [
    "%magic"
   ]
  }
 ],
 "metadata": {
  "kernelspec": {
   "display_name": "Python 2",
   "language": "python",
   "name": "python2"
  },
  "language_info": {
   "codemirror_mode": {
    "name": "ipython",
    "version": 2
   },
   "file_extension": ".py",
   "mimetype": "text/x-python",
   "name": "python",
   "nbconvert_exporter": "python",
   "pygments_lexer": "ipython2",
   "version": "2.7.10"
  }
 },
 "nbformat": 4,
 "nbformat_minor": 0
}
