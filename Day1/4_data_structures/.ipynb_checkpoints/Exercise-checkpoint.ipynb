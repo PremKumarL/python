{
 "cells": [
  {
   "cell_type": "code",
   "execution_count": 1,
   "metadata": {
    "collapsed": false
   },
   "outputs": [
    {
     "name": "stdout",
     "output_type": "stream",
     "text": [
      "Enter space separated numbers : \n",
      "3 4 5 6\n",
      "False\n"
     ]
    }
   ],
   "source": [
    "# Implement the isEmpty method below\n",
    "# Return True if the list is empty\n",
    "# else return False\n",
    "\n",
    "def isEmpty(l):\n",
    "# YOUR CODE HERE\n",
    "    if len(l) == 0:\n",
    "        return True\n",
    "    else:\n",
    "        return False\n",
    "\n",
    "\n",
    "def main():\n",
    "    print \"Enter space separated numbers : \"\n",
    "    myList = [int(i) for i in raw_input().split()]\n",
    "    print isEmpty(myList)\n",
    "\n",
    "main()"
   ]
  }
 ],
 "metadata": {
  "kernelspec": {
   "display_name": "Python 2",
   "language": "python",
   "name": "python2"
  },
  "language_info": {
   "codemirror_mode": {
    "name": "ipython",
    "version": 2
   },
   "file_extension": ".py",
   "mimetype": "text/x-python",
   "name": "python",
   "nbconvert_exporter": "python",
   "pygments_lexer": "ipython2",
   "version": "2.7.10"
  }
 },
 "nbformat": 4,
 "nbformat_minor": 0
}
