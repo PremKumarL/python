{
 "cells": [
  {
   "cell_type": "code",
   "execution_count": 4,
   "metadata": {
    "collapsed": false
   },
   "outputs": [
    {
     "data": {
      "application/javascript": [
       "IPython.load_extensions(\"calico-spell-check\");"
      ],
      "text/plain": [
       "<IPython.core.display.Javascript object>"
      ]
     },
     "metadata": {},
     "output_type": "display_data"
    }
   ],
   "source": [
    "%%javascript\n",
    "IPython.load_extensions(\"calico-spell-check\");"
   ]
  },
  {
   "cell_type": "markdown",
   "metadata": {},
   "source": [
    "# Data Structures\n",
    "---\n",
    "\n",
    "### You'll learn the data structures and how to use them in this module.\n",
    "\n",
    "We have a already come across a data structure called **list** and we know how to manipulate it as well.\n",
    "\n",
    "### Data structures are basically placeholders for data. For example, a list for keeping numbers.\n",
    "\n",
    "### In this module we'll learn about the following data structures:\n",
    "* Tuple\n",
    "* Set\n",
    "* Stack\n",
    "* Queue\n",
    "* Dictionary\n",
    "\n",
    "We'll also look into **list comprehensions** and **generators**\n",
    "- - -\n",
    "\n",
    "### But why do we need data structures? We were so happy with lists, right?\n",
    "\n",
    "To solve problems, we write algorithms (like to solve **sorting**, we wrote the **mergesort** algorithm). To implement algorithms, we use data structures (like we used **lists** for **mergesort**). \n",
    "\n",
    "It's all about optimising space (memory) and time (how faster can I solve the problem). Sometimes we have to balance trade-offs between the two. Questions like, \"should we optimise space or should we make the program run faster?\", arise.\n",
    "\n",
    "For a particular problem, using a different data structure reduces the time complexity. We might have to do compromise on space, but the time reduction is so huge that sometimes this issue doesn't matter.\n",
    "\n",
    "### Let's get our feet dirty with data structures!\n",
    "---\n",
    "\n",
    "## Tuples\n",
    "---\n",
    "\n",
    "I'll talk about **mutability** and **immutability**. \n",
    "\n",
    "**Mutable** objects are those which can be changed and modified while **immutable** objects cannot be modified (Aww...:().\n",
    "\n",
    "**Lists** are an example of the former while **tuples** fall in the latter.\n",
    "\n",
    "### Let's initialise a Tuple"
   ]
  },
  {
   "cell_type": "code",
   "execution_count": 2,
   "metadata": {
    "collapsed": false
   },
   "outputs": [
    {
     "name": "stdout",
     "output_type": "stream",
     "text": [
      "('hello', 'world', 'yeah!')\n"
     ]
    }
   ],
   "source": [
    "myTuple = (\"hello\", \"world\", \"yeah!\")\n",
    "\n",
    "print myTuple"
   ]
  },
  {
   "cell_type": "markdown",
   "metadata": {},
   "source": [
    "We can initialise a tuple using comma separated values as well.\n",
    "\n",
    "For example: "
   ]
  },
  {
   "cell_type": "code",
   "execution_count": 3,
   "metadata": {
    "collapsed": false
   },
   "outputs": [
    {
     "name": "stdout",
     "output_type": "stream",
     "text": [
      "(1, 2, 3, 'Hello', 'World')\n"
     ]
    }
   ],
   "source": [
    "myTuple = 1,2,3,\"Hello\", \"World\"\n",
    "\n",
    "print myTuple"
   ]
  },
  {
   "cell_type": "markdown",
   "metadata": {},
   "source": [
    "### Wait, what! Can we put elements of different data types together?\n",
    "\n",
    "<img src = \"yes-you-can.jpg\">\n",
    "\n",
    "So, unlike **lists** where we can only put either numbers, characters, strings, etc. of the same data type, in a **tuple** we can put elements of different data types together. This is one of the few differences between a **list** and a **tuple** in python.\n",
    "\n",
    "### Can we put a list (mutable object) inside a tuple? YES YOU CAN!"
   ]
  },
  {
   "cell_type": "code",
   "execution_count": 4,
   "metadata": {
    "collapsed": false
   },
   "outputs": [
    {
     "name": "stdout",
     "output_type": "stream",
     "text": [
      "([1, 2, 3], ['a', 'b', 'c'], 'amazing', 100)\n"
     ]
    }
   ],
   "source": [
    "tup = ([1,2,3],[\"a\",\"b\",\"c\"],\"amazing\", 100)\n",
    "\n",
    "print tup"
   ]
  },
  {
   "cell_type": "markdown",
   "metadata": {},
   "source": [
    "## Let's see operations on a tuple\n",
    "\n",
    "### 1. Accessing an element\n",
    "\n",
    "There are two ways to access an element. They are:\n",
    "\n",
    "a) **Accessing via index**. Tuples, just like everywhere in python, are 0-indexed, i.e., they all begin with 0."
   ]
  },
  {
   "cell_type": "code",
   "execution_count": 5,
   "metadata": {
    "collapsed": false
   },
   "outputs": [
    {
     "name": "stdout",
     "output_type": "stream",
     "text": [
      "1\n",
      "2\n",
      "3\n",
      "string\n"
     ]
    }
   ],
   "source": [
    "tup = 1,2,3,\"string\"\n",
    "\n",
    "print tup[0]\n",
    "print tup[1]\n",
    "print tup[2]\n",
    "print tup[3]"
   ]
  },
  {
   "cell_type": "markdown",
   "metadata": {},
   "source": [
    "We can also use a loop to access them via index:"
   ]
  },
  {
   "cell_type": "code",
   "execution_count": 6,
   "metadata": {
    "collapsed": false
   },
   "outputs": [
    {
     "name": "stdout",
     "output_type": "stream",
     "text": [
      "1\n",
      "2\n",
      "3\n",
      "string\n"
     ]
    }
   ],
   "source": [
    "tup = 1,2,3,\"string\"\n",
    "\n",
    "for i in range(len(tup)):\n",
    "    print tup[i]"
   ]
  },
  {
   "cell_type": "markdown",
   "metadata": {},
   "source": [
    "### Let's see what happens if we try to change an element in a tuple:"
   ]
  },
  {
   "cell_type": "code",
   "execution_count": 7,
   "metadata": {
    "collapsed": false
   },
   "outputs": [
    {
     "ename": "TypeError",
     "evalue": "'tuple' object does not support item assignment",
     "output_type": "error",
     "traceback": [
      "\u001b[1;31m---------------------------------------------------------------------------\u001b[0m",
      "\u001b[1;31mTypeError\u001b[0m                                 Traceback (most recent call last)",
      "\u001b[1;32m<ipython-input-7-ce9e6c1d5886>\u001b[0m in \u001b[0;36m<module>\u001b[1;34m()\u001b[0m\n\u001b[0;32m      1\u001b[0m \u001b[0mmyTuple\u001b[0m \u001b[1;33m=\u001b[0m \u001b[1;33m(\u001b[0m\u001b[1;36m1\u001b[0m\u001b[1;33m,\u001b[0m\u001b[1;36m2\u001b[0m\u001b[1;33m,\u001b[0m\u001b[1;36m3\u001b[0m\u001b[1;33m,\u001b[0m\u001b[1;36m4\u001b[0m\u001b[1;33m)\u001b[0m\u001b[1;33m\u001b[0m\u001b[0m\n\u001b[0;32m      2\u001b[0m \u001b[1;33m\u001b[0m\u001b[0m\n\u001b[1;32m----> 3\u001b[1;33m \u001b[0mmyTuple\u001b[0m\u001b[1;33m[\u001b[0m\u001b[1;36m3\u001b[0m\u001b[1;33m]\u001b[0m \u001b[1;33m=\u001b[0m \u001b[1;36m100\u001b[0m\u001b[1;33m\u001b[0m\u001b[0m\n\u001b[0m",
      "\u001b[1;31mTypeError\u001b[0m: 'tuple' object does not support item assignment"
     ]
    }
   ],
   "source": [
    "myTuple = (1,2,3,4)\n",
    "\n",
    "myTuple[3] = 100"
   ]
  },
  {
   "cell_type": "markdown",
   "metadata": {},
   "source": [
    "As expected, we get an error saying: ***tuple doesn't support item assignment***. The reason being it is...wait for it... **immutable**"
   ]
  },
  {
   "cell_type": "markdown",
   "metadata": {},
   "source": [
    "b) The other way of accessing is accessing by **unpacking** the tuple:"
   ]
  },
  {
   "cell_type": "code",
   "execution_count": 9,
   "metadata": {
    "collapsed": false
   },
   "outputs": [
    {
     "name": "stdout",
     "output_type": "stream",
     "text": [
      "a:  hello\n",
      "b:  [1, 2, 3]\n",
      "c:  awesome\n"
     ]
    }
   ],
   "source": [
    "tup = (\"hello\",[1,2,3],\"awesome\")\n",
    "\n",
    "# unpacking operation\n",
    "a,b,c = tup\n",
    "\n",
    "print \"a: \", a\n",
    "print \"b: \", b\n",
    "print \"c: \", c"
   ]
  },
  {
   "cell_type": "markdown",
   "metadata": {},
   "source": [
    "So, we can store elements of a tuple in variables and use them."
   ]
  },
  {
   "cell_type": "markdown",
   "metadata": {},
   "source": [
    "Just like **lists**, we can\n",
    "\n",
    "### 2. Concatenate tuples"
   ]
  },
  {
   "cell_type": "code",
   "execution_count": 10,
   "metadata": {
    "collapsed": false
   },
   "outputs": [
    {
     "name": "stdout",
     "output_type": "stream",
     "text": [
      "(1, 2, 3, 'Hello', 'World')\n"
     ]
    }
   ],
   "source": [
    "tup1 = (1,2,3)\n",
    "tup2 = (\"Hello\", \"World\")\n",
    "\n",
    "print tup1 + tup2"
   ]
  },
  {
   "cell_type": "markdown",
   "metadata": {},
   "source": [
    "### 3. Slice tuples\n",
    "\n",
    "Try this yourself."
   ]
  },
  {
   "cell_type": "code",
   "execution_count": null,
   "metadata": {
    "collapsed": true
   },
   "outputs": [],
   "source": [
    "myTuple = (1,100,10000,\"hello\",\"obama\", \"trump\")\n",
    "\n",
    "# Slice the whole tuple here. Complete the code below:\n",
    "newTuple = mytuple[]\n",
    "\n",
    "print \"Slicing of whole tuple output: \", newTuple\n",
    "\n",
    "# Slice from the second element till the end of the tuple.\n",
    "# Complete the code below:\n",
    "newTuple = myTuple[]\n",
    "\n",
    "print \"Slicing from first element to the end output: \", newTuple\n",
    "\n",
    "# Reverse the tuple using slicing \n",
    "# Complete the code below:\n",
    "newTuple = myTuple[]\n",
    "\n",
    "print \"Reversed tuple output: \", newTuple"
   ]
  },
  {
   "cell_type": "markdown",
   "metadata": {},
   "source": [
    "You can practice many, many more."
   ]
  },
  {
   "cell_type": "markdown",
   "metadata": {},
   "source": [
    "### 4. Finding the length of the tuple"
   ]
  },
  {
   "cell_type": "code",
   "execution_count": null,
   "metadata": {
    "collapsed": true
   },
   "outputs": [],
   "source": [
    "# Use the in-built len() method just like in lists\n",
    "# Complete the code below:\n",
    "\n",
    "myTuple = (89,12,3,5678,120, [\"hello\", \"obama\"])\n",
    "length = \n",
    "\n",
    "print \"length of the tuple: \", length"
   ]
  },
  {
   "cell_type": "markdown",
   "metadata": {},
   "source": [
    "### Let's move on to sets now\n",
    "---\n",
    "\n",
    "## Sets\n",
    "\n",
    "Keep in mind two major points for a set. \n",
    "- They are unordered. (not necessarily sorted ascending or descending)\n",
    "- They have no duplicate elements.\n",
    "\n",
    "So, you might use a **set** where you need to remove duplicate elements or do not need duplicity. Also, in these cases you do not care about the order as well.\n",
    "\n",
    "### Let's see how they are initialised. You can create a set from a list, a tuple, or a string as well.\n",
    "\n",
    "The built-in **set** is used for the same."
   ]
  },
  {
   "cell_type": "code",
   "execution_count": 14,
   "metadata": {
    "collapsed": false
   },
   "outputs": [
    {
     "name": "stdout",
     "output_type": "stream",
     "text": [
      "set([1, 2, 3, 4, 5])\n"
     ]
    }
   ],
   "source": [
    "# From a list\n",
    "\n",
    "set1 = set([1,2,3,4,4,4,5])\n",
    "\n",
    "print set1\n",
    "\n",
    "# Notice how the duplicate 4 is reduced to 1 (while there were 3 in the list) "
   ]
  },
  {
   "cell_type": "code",
   "execution_count": 17,
   "metadata": {
    "collapsed": false
   },
   "outputs": [
    {
     "name": "stdout",
     "output_type": "stream",
     "text": [
      "set(['a', 'e', 'i', 'h', 'm', 'o', 's', 't', 'w'])\n"
     ]
    }
   ],
   "source": [
    "# From a string\n",
    "\n",
    "set2 = set(\"thisisawesome\")\n",
    "\n",
    "print set2\n",
    "\n",
    "# Notice that the duplicates are removed and also, they aren't in the same order as well\n",
    "# So, a set is not ordered"
   ]
  },
  {
   "cell_type": "code",
   "execution_count": null,
   "metadata": {
    "collapsed": true
   },
   "outputs": [],
   "source": [
    "# From a tuple (that we just learned)\n",
    "# Initialise a tuple and using it print the set of the tuple\n",
    "\n",
    "# YOUR CODE HERE\n",
    "myTup = \n",
    "\n",
    "set3 = \n",
    "\n",
    "print set3"
   ]
  },
  {
   "cell_type": "markdown",
   "metadata": {},
   "source": [
    "### A set can also be initialised using set( ) and it can be updated further."
   ]
  },
  {
   "cell_type": "code",
   "execution_count": 18,
   "metadata": {
    "collapsed": false
   },
   "outputs": [
    {
     "name": "stdout",
     "output_type": "stream",
     "text": [
      "set([3, 4, 5])\n"
     ]
    }
   ],
   "source": [
    "mySet = set()\n",
    "\n",
    "mySet.add(3)\n",
    "mySet.update([3,4,5])\n",
    "\n",
    "# Both add and update can be used for characters or strings\n",
    "# For numbers, only add can be used\n",
    "# For lists, only update can be used\n",
    "\n",
    "print mySet\n",
    "\n",
    "# Note that the numbers in the list are added into the set than the list itself\n",
    "# Also, the duplicate 3 is reduced to 1 occurrence"
   ]
  },
  {
   "cell_type": "markdown",
   "metadata": {},
   "source": [
    "### As in normal sets, we can perform following operations on a python set :\n",
    "\n",
    "* Intersection\n",
    "* Subtraction\n",
    "* Union\n",
    "\n",
    "and more depending on the problem.\n",
    "\n",
    "### Let's look at some examples below:"
   ]
  },
  {
   "cell_type": "code",
   "execution_count": 23,
   "metadata": {
    "collapsed": false
   },
   "outputs": [
    {
     "name": "stdout",
     "output_type": "stream",
     "text": [
      "first: 1 before 2:  set([3, 4])\n",
      "second:2 before 1:  set([3, 4])\n"
     ]
    }
   ],
   "source": [
    "# Intersection of sets\n",
    "\n",
    "set1 = set([3,4,5,6,7,7])\n",
    "set2 = set([1,2,3,4,10,11])\n",
    "\n",
    "print \"first: 1 before 2: \", set1.intersection(set2)\n",
    "print \"second:2 before 1: \",set2.intersection(set1)\n",
    "\n",
    "# The order of the sets doesn't matter"
   ]
  },
  {
   "cell_type": "code",
   "execution_count": 24,
   "metadata": {
    "collapsed": false
   },
   "outputs": [
    {
     "name": "stdout",
     "output_type": "stream",
     "text": [
      "first: 1 before 2:  set([1, 2, 3, 4, 5, 6, 7, 10, 11])\n",
      "second:2 before 1:  set([1, 2, 3, 4, 5, 6, 7, 10, 11])\n"
     ]
    }
   ],
   "source": [
    "# Union of sets\n",
    "\n",
    "set1 = set([3,4,5,6,7,7])\n",
    "set2 = set([1,2,3,4,10,11])\n",
    "\n",
    "print \"first: 1 before 2: \", set1.union(set2)\n",
    "print \"second:2 before 1: \",set2.union(set1)\n",
    "\n",
    "# Again, the order of the sets doesn't matter"
   ]
  },
  {
   "cell_type": "markdown",
   "metadata": {},
   "source": [
    "**Subtraction** of sets is used when we want to remove elements of another set from the current set. \n",
    "\n",
    "Refer to the \"Venn diagram\" for visualisation:\n",
    "\n",
    "<img src=\"venn-a-minus-b.png\">\n",
    "\n",
    "How is it done?"
   ]
  },
  {
   "cell_type": "code",
   "execution_count": 30,
   "metadata": {
    "collapsed": false
   },
   "outputs": [
    {
     "name": "stdout",
     "output_type": "stream",
     "text": [
      "subtraction of sets (I):  set(['Uptown', 'winner', 'Grammy'])\n",
      "subtraction of sets (II):  set(['a', 'on', 'named', 'is', 'planet', 'not'])\n"
     ]
    }
   ],
   "source": [
    "# subtraction of lists\n",
    "\n",
    "set1 = set([\"Uptown\",\"Grammy\",\"winner\", \"Mars\", \"singer\"])\n",
    "set2 = set([\"Mars\",\"is\",\"a\",\"planet\",\"not\",\"named\", \"on\",\"a\", \"singer\"])\n",
    "\n",
    "print \"subtraction of sets (I): \", set1 - set2\n",
    "print \"subtraction of sets (II): \", set2 - set1"
   ]
  },
  {
   "cell_type": "markdown",
   "metadata": {},
   "source": [
    "### Cool, isn't it? Moving on to stacks next.\n",
    "---\n",
    "\n",
    "## Stack\n",
    "---\n",
    "\n",
    "Stack is a data structure which works exactly like a stack of **anything**. Be it books, rocks, or anything that comes to your mind. \n",
    "\n",
    "<img src=\"books_stack.jpg\">\n",
    "\n",
    "### The important thing to remember is that the first book kept is always the last one to be taken out (if you're starting from above, of course)\n",
    "\n",
    "The primary operations on a stack are:\n",
    "* **Peek** - Requesting the element on the top of the stack\n",
    "* **Pop** - Removing the element on the top\n",
    "* **Push** - Adding to the top\n",
    "* **Check** if a stack is empty\n",
    "\n",
    "So, a stack follows a **LIFO (Last In First Out)** or **FILO (First In Last Out)** approach. We can only access a stack from a side and the other side is closed.\n",
    "\n",
    "### We will implement stack using our familiar lists\n"
   ]
  },
  {
   "cell_type": "code",
   "execution_count": 6,
   "metadata": {
    "collapsed": false
   },
   "outputs": [
    {
     "name": "stdout",
     "output_type": "stream",
     "text": [
      "100\n"
     ]
    }
   ],
   "source": [
    "# Implementing peek\n",
    "# Getting the element on the top of the stack\n",
    "\n",
    "myStack = [5,6,7,100]\n",
    "\n",
    "def peek(stack):\n",
    "    return stack[-1]\n",
    "\n",
    "print peek(myStack)"
   ]
  },
  {
   "cell_type": "code",
   "execution_count": 7,
   "metadata": {
    "collapsed": false
   },
   "outputs": [
    {
     "name": "stdout",
     "output_type": "stream",
     "text": [
      "removed element:  100\n",
      "remaining stack:  [5, 6, 7]\n"
     ]
    }
   ],
   "source": [
    "# Implementing pop\n",
    "# We use the inbuilt pop method\n",
    "# It removes the element on the top of the stack and returns the removed element.\n",
    "\n",
    "myStack = [5,6,7,100]\n",
    "\n",
    "print \"removed element: \", myStack.pop()\n",
    "\n",
    "print \"remaining stack: \", myStack"
   ]
  },
  {
   "cell_type": "code",
   "execution_count": 9,
   "metadata": {
    "collapsed": false
   },
   "outputs": [
    {
     "ename": "IndexError",
     "evalue": "pop from empty list",
     "output_type": "error",
     "traceback": [
      "\u001b[1;31m---------------------------------------------------------------------------\u001b[0m",
      "\u001b[1;31mIndexError\u001b[0m                                Traceback (most recent call last)",
      "\u001b[1;32m<ipython-input-9-c34a093de497>\u001b[0m in \u001b[0;36m<module>\u001b[1;34m()\u001b[0m\n\u001b[0;32m      3\u001b[0m \u001b[0mmyStack\u001b[0m \u001b[1;33m=\u001b[0m \u001b[1;33m[\u001b[0m\u001b[1;33m]\u001b[0m\u001b[1;33m\u001b[0m\u001b[0m\n\u001b[0;32m      4\u001b[0m \u001b[1;33m\u001b[0m\u001b[0m\n\u001b[1;32m----> 5\u001b[1;33m \u001b[1;32mprint\u001b[0m \u001b[0mmyStack\u001b[0m\u001b[1;33m.\u001b[0m\u001b[0mpop\u001b[0m\u001b[1;33m(\u001b[0m\u001b[1;33m)\u001b[0m\u001b[1;33m\u001b[0m\u001b[0m\n\u001b[0m\u001b[0;32m      6\u001b[0m \u001b[1;33m\u001b[0m\u001b[0m\n\u001b[0;32m      7\u001b[0m \u001b[1;31m# We get an error (smart python :)) saying that we can't remove from an empty list\u001b[0m\u001b[1;33m\u001b[0m\u001b[1;33m\u001b[0m\u001b[0m\n",
      "\u001b[1;31mIndexError\u001b[0m: pop from empty list"
     ]
    }
   ],
   "source": [
    "# Let's try removing from an empty stack\n",
    "\n",
    "myStack = []\n",
    "\n",
    "print myStack.pop()\n",
    "\n",
    "# We get an error (smart python :)) saying that we can't remove from an empty list  "
   ]
  },
  {
   "cell_type": "code",
   "execution_count": 11,
   "metadata": {
    "collapsed": false
   },
   "outputs": [
    {
     "name": "stdout",
     "output_type": "stream",
     "text": [
      "old stack:  [5, 6, 7, 100]\n",
      "new stack:  [5, 6, 7, 100, 100000]\n"
     ]
    }
   ],
   "source": [
    "# Implementing push\n",
    "# We'll use the append() method of lists\n",
    "\n",
    "myStack = [5,6,7,100]\n",
    "\n",
    "print \"old stack: \", myStack\n",
    "\n",
    "myStack.append(100000)\n",
    "\n",
    "print \"new stack: \", myStack"
   ]
  },
  {
   "cell_type": "markdown",
   "metadata": {},
   "source": [
    "### I'll leave checking if the stack is empty as an exercise."
   ]
  },
  {
   "cell_type": "code",
   "execution_count": 15,
   "metadata": {
    "collapsed": false
   },
   "outputs": [
    {
     "name": "stdout",
     "output_type": "stream",
     "text": [
      "Enter space separated numbers : \n",
      "\n",
      "True\n"
     ]
    }
   ],
   "source": [
    "# Implement the isEmpty method below\n",
    "# Return True if the list is empty\n",
    "# else return False\n",
    "\n",
    "def isEmpty(l):\n",
    "# YOUR CODE HERE\n",
    "\n",
    "\n",
    "\n",
    "\n",
    "def main():\n",
    "    print \"Enter space separated numbers : \"\n",
    "    myList = [int(i) for i in raw_input().split()]\n",
    "    print isEmpty(myList)\n",
    "\n",
    "main()"
   ]
  },
  {
   "cell_type": "markdown",
   "metadata": {},
   "source": [
    "### But where do we use stacks?\n",
    "\n",
    "The recursion stack is an example of usage of stack by the operating system. A stack is generally used when a **LIFO** technique is required. Sometimes it is used as a temporary data structure which can be removed from memory without worrying about its contents.\n",
    "\n",
    "Refer to <a href=\"https://en.wikipedia.org/wiki/Stack_(abstract_data_type)\">this</a> for understanding more about stacks.\n",
    "\n",
    "\n",
    "Next up are queues\n",
    "---\n",
    "---\n",
    "\n",
    "## Queue\n",
    "---\n",
    "\n",
    "### What comes to mind when I say queues? Something like:\n",
    "<img src=\"queue_india.gif\">\n",
    "\n",
    "\n",
    "Oh no! That is what we see here everyday.\n",
    "\n",
    "### An ideal queue looks like:\n",
    "<img src=queue_ideal.jpg>\n",
    "\n",
    "We can see that the first person in the queue will be the first person to leave as well. So, a queue follows the **FIFO (First In First Out)** approach.\n",
    "\n",
    "So, an element that goes first in a list will be the first to be taken out.\n",
    "\n",
    "**Let's try using python list**"
   ]
  },
  {
   "cell_type": "code",
   "execution_count": 21,
   "metadata": {
    "collapsed": true
   },
   "outputs": [],
   "source": [
    "l = [\"Ramesh\", \"Suresh\", \"Sundar\"]"
   ]
  },
  {
   "cell_type": "markdown",
   "metadata": {},
   "source": [
    "So, first Ramesh enters the queue, then Suresh, and lastly Sundar. So, Ramesh will be the first to be taken out. \n",
    "\n",
    "We can use the **pop()** method we used for stacks, like this:"
   ]
  },
  {
   "cell_type": "code",
   "execution_count": 22,
   "metadata": {
    "collapsed": false
   },
   "outputs": [
    {
     "name": "stdout",
     "output_type": "stream",
     "text": [
      "new queue:  ['Suresh', 'Sundar']\n"
     ]
    }
   ],
   "source": [
    "l.pop(0)\n",
    "\n",
    "print \"new queue: \",l"
   ]
  },
  {
   "cell_type": "markdown",
   "metadata": {},
   "source": [
    "So, **Ramesh** is removed and now we have **['Suresh', 'Sundar']** in the queue. \n",
    "\n",
    "Now comes the catch. Pop was created to remove an element from the end of a list. So, when we use **pop()** to remove element from the beginning of the list, the complexity increases. First we need to remove the element, then rearrange the remaining elements by shifting.\n",
    "\n",
    "To address this problem, there is a **collections** library (already installed if you have python) has a **deque** module which is more efficient than using a **list**. Here's a good discussion on **stack overflow** about the same: http://stackoverflow.com/questions/1296511/efficiency-of-using-a-python-list-as-a-queue\n",
    "\n",
    "It works like this:"
   ]
  },
  {
   "cell_type": "code",
   "execution_count": 23,
   "metadata": {
    "collapsed": false
   },
   "outputs": [
    {
     "name": "stdout",
     "output_type": "stream",
     "text": [
      "deque(['Ramesh', 'Suresh', 'Sundaram'])\n"
     ]
    }
   ],
   "source": [
    "from collections import deque\n",
    "\n",
    "queue = deque([\"Ramesh\", \"Suresh\", \"Sundaram\"])\n",
    "\n",
    "print queue"
   ]
  },
  {
   "cell_type": "markdown",
   "metadata": {},
   "source": [
    "### A queue also has similar operations like a list\n",
    "\n",
    "* Adding elements to queue:"
   ]
  },
  {
   "cell_type": "code",
   "execution_count": 25,
   "metadata": {
    "collapsed": false
   },
   "outputs": [
    {
     "name": "stdout",
     "output_type": "stream",
     "text": [
      "Updated queue:  deque(['Ramesh', 'Suresh', 'Sundaram', 'Satyam', 'Shivam', 'Satyam', 'Shivam'])\n"
     ]
    }
   ],
   "source": [
    "queue.append(\"Satyam\")\n",
    "queue.append(\"Shivam\")\n",
    "\n",
    "print \"Updated queue: \",queue"
   ]
  },
  {
   "cell_type": "markdown",
   "metadata": {},
   "source": [
    "* Removing elements (by following **FIFO** from a queue)"
   ]
  },
  {
   "cell_type": "code",
   "execution_count": 26,
   "metadata": {
    "collapsed": false
   },
   "outputs": [
    {
     "name": "stdout",
     "output_type": "stream",
     "text": [
      "deque(['Suresh', 'Sundaram', 'Satyam', 'Shivam', 'Satyam', 'Shivam'])\n"
     ]
    }
   ],
   "source": [
    "# Use popleft() method\n",
    "\n",
    "queue.popleft()\n",
    "\n",
    "print queue\n",
    "\n",
    "# We can see Ramesh is out of the queue"
   ]
  },
  {
   "cell_type": "markdown",
   "metadata": {},
   "source": [
    "* Queue's length can be found using len method"
   ]
  },
  {
   "cell_type": "code",
   "execution_count": 27,
   "metadata": {
    "collapsed": false
   },
   "outputs": [
    {
     "data": {
      "text/plain": [
       "6"
      ]
     },
     "execution_count": 27,
     "metadata": {},
     "output_type": "execute_result"
    }
   ],
   "source": [
    "len(queue)"
   ]
  },
  {
   "cell_type": "markdown",
   "metadata": {},
   "source": [
    "What if we want to find length of an empty queue:"
   ]
  },
  {
   "cell_type": "code",
   "execution_count": 29,
   "metadata": {
    "collapsed": false
   },
   "outputs": [
    {
     "name": "stdout",
     "output_type": "stream",
     "text": [
      "0\n"
     ]
    }
   ],
   "source": [
    "queue1 = deque([])\n",
    "\n",
    "print len(queue1)"
   ]
  },
  {
   "cell_type": "markdown",
   "metadata": {},
   "source": [
    "So, as expected, we get length as **0**\n",
    "\n",
    "### Queues are used whenever we need to take a FIFO approach.\n",
    "\n",
    "Priority queues are a type of queues used to implement many **graph-based** algorithms like Djikstra's algorithm, Breadth-first Search, etc.\n",
    "\n",
    "Queues are also used in sorting algorithms.\n",
    "\n",
    "---"
   ]
  },
  {
   "cell_type": "markdown",
   "metadata": {},
   "source": [
    "### Implement stack using queues or vice versa"
   ]
  },
  {
   "cell_type": "markdown",
   "metadata": {},
   "source": [
    "### Moving on to another important data structure :\n",
    "---\n",
    "\n",
    "## Dictionaries\n",
    "---\n",
    "\n"
   ]
  }
 ],
 "metadata": {
  "kernelspec": {
   "display_name": "Python 2",
   "language": "python",
   "name": "python2"
  },
  "language_info": {
   "codemirror_mode": {
    "name": "ipython",
    "version": 2
   },
   "file_extension": ".py",
   "mimetype": "text/x-python",
   "name": "python",
   "nbconvert_exporter": "python",
   "pygments_lexer": "ipython2",
   "version": "2.7.10"
  }
 },
 "nbformat": 4,
 "nbformat_minor": 0
}
