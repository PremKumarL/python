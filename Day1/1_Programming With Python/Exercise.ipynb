{
 "cells": [
  {
   "cell_type": "markdown",
   "metadata": {},
   "source": [
    "# <font color=purple> Exercise - Programming With Python </font>"
   ]
  },
  {
   "cell_type": "markdown",
   "metadata": {},
   "source": [
    "### 1. WAP to draw a christmas tree\n",
    "\n",
    "\n",
    "&nbsp;&nbsp;&nbsp;&nbsp;\\* <br>\n",
    "&nbsp;&nbsp;&nbsp;\\* \\* <br>\n",
    "&nbsp;&nbsp;\\* \\* \\*<br>\n",
    "&nbsp;\\* \\* \\* \\*<br>\n",
    "\\* \\* \\* \\* \\*   \n",
    "&nbsp;&nbsp;&nbsp;&nbsp;\\|\\|\\|<br>\n",
    "&nbsp;&nbsp;&nbsp;&nbsp;\\|\\|\\|<br>"
   ]
  },
  {
   "cell_type": "markdown",
   "metadata": {},
   "source": [
    "### 2. WAP build a simple calculator, which takes in 2 integers and print's it's addition, substraction, multiplication and power\n",
    "\n",
    "Enter number(x) : <br>\n",
    "Enter number(y) : <br>\n",
    "\n",
    "x + y =  <br>\n",
    "x - y =  <br>\n",
    "x * y = <br>\n",
    "x ^ y = "
   ]
  },
  {
   "cell_type": "markdown",
   "metadata": {},
   "source": [
    "### 3. Now let's go a step further. Provide division operation. However, also check for divisor to be non zero! <br> P.S. - divison by 0 isn't valid.\n",
    "\n",
    "If divisor is 0, provide the user with a error message(\"__divisor cannot be zero__\")\n",
    "\n",
    "Enter number(x) : <br>\n",
    "Enter number(y) : <br>\n",
    "\n",
    "x + y =  <br>\n",
    "x - y =  <br>\n",
    "x * y = <br>\n",
    "x ^ y = <br>\n",
    "x / y = <br>"
   ]
  },
  {
   "cell_type": "markdown",
   "metadata": {},
   "source": [
    "### 4. WAP to print whether a number is even or odd\n",
    "\n",
    "Enter number(x):<br>\n",
    "Number is even/odd"
   ]
  },
  {
   "cell_type": "markdown",
   "metadata": {},
   "source": [
    "### 5. WAP to convert celsius to fahrenheit and vice-versa. The user should have the option to choose which conversion he wants to make!\n",
    "\n",
    "![Conversion Formula](files/img/cel-far.JPG)\n",
    "\n",
    "\n",
    "1. Celsius to Fahrenheit\n",
    "2. Fahrenheit to Celsius<br><br>\n",
    "Enter your choice : 1\n",
    "\n",
    "Enter Celsius value: 37<br>\n",
    "Fahrenheit value is : 98.6\n",
    "\n",
    "- __ensure that the output value is not truncated!__<br>\n",
    "- for incorrect choice, print __\"Please enter a correct option!\"__\n",
    "\n"
   ]
  },
  {
   "cell_type": "markdown",
   "metadata": {},
   "source": [
    "### 6. WAP to take in 2 numbers and find the largest amongst the two\n",
    "\n",
    "Enter number(x): <br>\n",
    "Enter number(y): <br><br>\n",
    "Largest is : "
   ]
  },
  {
   "cell_type": "markdown",
   "metadata": {},
   "source": [
    "### 7. It's time to go pro! Let's build the system to take in three numbers and print the largest amongst them :)\n",
    "\n",
    "Enter number(x):<br>\n",
    "Enter number(y):<br>\n",
    "Enter number(z):<br><br>\n",
    "Largest is : \n",
    "\n",
    "__sample inputs and their outputs__<br>\n",
    "0, 0, -1 => 0<br>\n",
    "-1, 0, 0 => 0<br>\n",
    "0, -1, 0 => 0<br>\n",
    "1, 0, 0 => 1<br>\n",
    "0, 1, 0 => 1<br>\n",
    "0, 0 ,1 => 1"
   ]
  },
  {
   "cell_type": "markdown",
   "metadata": {
    "collapsed": true
   },
   "source": [
    "### 8. WAP to accept 3 numbers and print them in ascending and descending order\n",
    "\n",
    "Enter number(x):<br>\n",
    "Enter number(y):<br>\n",
    "Enter number(z):<br><br>\n",
    "\n",
    "Descending order: z > y > x<br>\n",
    "Ascending order: x < y < z<br>"
   ]
  },
  {
   "cell_type": "markdown",
   "metadata": {},
   "source": [
    "### 9. WAP to calculate roots of a quadratic equation: \n",
    "\n",
    "**$A.x^2 + B.x + C = 0$**<br>\n",
    "Enter value for A:<br>\n",
    "Enter value for B:<br>\n",
    "Enter value for C:<br>\n",
    "\n",
    "__$n = b^2 - 4.A.C$__\n",
    "\n",
    "if $\\ n\\ $ is 0, OUTPUT -> __only one root__<br>\n",
    "if $\\ n\\ $ is greater than 0, OUTPUT -> __roots are distinct__<br>\n",
    "else, OUTPUT -> __roots are imaginary__\n",
    "\n",
    "then print the roots<br>\n",
    "__root_1 : <br>\n",
    "root_2 : __\n",
    "\n",
    "__* note - output should be 3 precision__\n",
    "![Quadratic Equation](files/img/sridhar.jpg)\n"
   ]
  }
 ],
 "metadata": {
  "kernelspec": {
   "display_name": "Python 2",
   "language": "python",
   "name": "python2"
  },
  "language_info": {
   "codemirror_mode": {
    "name": "ipython",
    "version": 2
   },
   "file_extension": ".py",
   "mimetype": "text/x-python",
   "name": "python",
   "nbconvert_exporter": "python",
   "pygments_lexer": "ipython2",
   "version": "2.7.10"
  }
 },
 "nbformat": 4,
 "nbformat_minor": 0
}
