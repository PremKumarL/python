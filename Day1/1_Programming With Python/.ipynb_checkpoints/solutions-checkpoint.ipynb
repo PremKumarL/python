{
 "cells": [
  {
   "cell_type": "markdown",
   "metadata": {},
   "source": [
    "# Solutions - Programming with Python "
   ]
  },
  {
   "cell_type": "markdown",
   "metadata": {},
   "source": [
    "### 1. WAP to draw a christmas tree\n",
    "\n",
    "\n",
    "&nbsp;&nbsp;&nbsp;&nbsp;\\* <br>\n",
    "&nbsp;&nbsp;&nbsp;\\* \\* <br>\n",
    "&nbsp;&nbsp;\\* \\* \\*<br>\n",
    "&nbsp;\\* \\* \\* \\*<br>\n",
    "\\* \\* \\* \\* \\*   \n",
    "&nbsp;&nbsp;&nbsp;&nbsp;\\|\\|\\|<br>\n",
    "&nbsp;&nbsp;&nbsp;&nbsp;\\|\\|\\|<br>"
   ]
  },
  {
   "cell_type": "code",
   "execution_count": 2,
   "metadata": {
    "collapsed": false
   },
   "outputs": [
    {
     "name": "stdout",
     "output_type": "stream",
     "text": [
      "    *\n",
      "   * *\n",
      "  * * *\n",
      " * * * *\n",
      "* * * * *\n",
      "   |||\n",
      "   |||\n"
     ]
    }
   ],
   "source": [
    "print(\"    *\")\n",
    "print(\"   * *\")\n",
    "print(\"  * * *\")\n",
    "print(\" * * * *\")\n",
    "print(\"* * * * *\")\n",
    "print(\"   |||\")\n",
    "print(\"   |||\")"
   ]
  },
  {
   "cell_type": "markdown",
   "metadata": {},
   "source": [
    "### 2. WAP to  build a simple calculator, which takes in 2 integers and print's it's addition, substraction, multiplication and power\n",
    "\n",
    "Enter number(x) : <br>\n",
    "Enter number(y) : <br>\n",
    "\n",
    "x + y =  <br>\n",
    "x - y =  <br>\n",
    "x * y = <br>\n",
    "x ^ y = "
   ]
  },
  {
   "cell_type": "code",
   "execution_count": 2,
   "metadata": {
    "collapsed": false
   },
   "outputs": [
    {
     "name": "stdout",
     "output_type": "stream",
     "text": [
      "Enter number(x) : 2\n",
      "Enter number(y) : 3\n",
      "x + y = 5\n",
      "x - y = -1\n",
      "x * y = 6\n",
      "x ^ y = 1\n"
     ]
    }
   ],
   "source": [
    "x = input(\"Enter number(x) : \")\n",
    "y = input(\"Enter number(y) : \")\n",
    "\n",
    "print \"x + y =\", x+y\n",
    "print \"x - y =\",(x-y)\n",
    "print \"x * y =\", (x*y)\n",
    "print \"x ^ y =\", (x^y)"
   ]
  },
  {
   "cell_type": "markdown",
   "metadata": {},
   "source": [
    "### 3. Now let's go a step further. Provide division operation. However, also check for divisor to be non zero! <br> P.S. - divison by 0 isn't valid.\n",
    "\n",
    "If divisor is 0, provide the user with a error message(\"__divisor cannot be zero__\")\n",
    "\n",
    "Enter number(x) : <br>\n",
    "Enter number(y) : <br>\n",
    "\n",
    "x + y =  <br>\n",
    "x - y =  <br>\n",
    "x * y = <br>\n",
    "x ^ y = <br>\n",
    "x / y = <br>"
   ]
  },
  {
   "cell_type": "code",
   "execution_count": 6,
   "metadata": {
    "collapsed": false
   },
   "outputs": [
    {
     "name": "stdout",
     "output_type": "stream",
     "text": [
      "Enter number(x) : 3\n",
      "Enter number(y) : 0\n",
      "x + y = 3\n",
      "x - y = 3\n",
      "x * y = 0\n",
      "x ^ y = 3\n",
      "x / y = divisor cannot be zero!\n"
     ]
    }
   ],
   "source": [
    "x = input(\"Enter number(x) : \")\n",
    "y = input(\"Enter number(y) : \")\n",
    "\n",
    "print \"x + y =\", x+y\n",
    "print \"x - y =\",(x-y)\n",
    "print \"x * y =\", (x*y)\n",
    "print \"x ^ y =\", (x^y)\n",
    "if (y!=0):\n",
    "    print \"x / y =\", x/y\n",
    "else:\n",
    "    print \"x / y = divisor cannot be zero!\""
   ]
  },
  {
   "cell_type": "markdown",
   "metadata": {},
   "source": [
    "### 4. WAP to print whether a number is even or odd\n",
    "\n",
    "Enter number(x):<br>\n",
    "Number is even/odd"
   ]
  },
  {
   "cell_type": "code",
   "execution_count": 19,
   "metadata": {
    "collapsed": false
   },
   "outputs": [
    {
     "name": "stdout",
     "output_type": "stream",
     "text": [
      "Enter number(x) : 5\n",
      "Number is odd!\n"
     ]
    }
   ],
   "source": [
    "x = int(input(\"Enter number(x) : \"))\n",
    "if  x % 2 == 0 :\n",
    "    print \"Number is even!\" \n",
    "else:\n",
    "    print \"Number is odd!\" "
   ]
  },
  {
   "cell_type": "markdown",
   "metadata": {},
   "source": [
    "### 5. WAP to convert celsius to fahrenheit and vice-versa. The user should have the option to choose which conversion he wants to make!\n",
    "\n",
    "![Conversion Formula](files/img/cel-far.JPG)\n",
    "\n",
    "\n",
    "1. Celsius to Fahrenheit\n",
    "2. Fahrenheit to Celsius<br><br>\n",
    "Enter your choice : 1\n",
    "\n",
    "Enter Celsius value: 37<br>\n",
    "Fahrenheit value is : 98.6\n",
    "\n",
    "- __ensure that the output value is not truncated!__<br>\n",
    "- for incorrect choice, print __\"Please enter a correct option!\"__\n",
    "\n"
   ]
  },
  {
   "cell_type": "code",
   "execution_count": 8,
   "metadata": {
    "collapsed": false
   },
   "outputs": [
    {
     "name": "stdout",
     "output_type": "stream",
     "text": [
      "1. Celsius to Fahreheit\n",
      "2. Fahreheit to Celsius\n",
      "Enter your choice : 1\n",
      "Enter Celsius value: 37\n",
      "Fahrenheit value is: 98.6\n"
     ]
    }
   ],
   "source": [
    "print(\"1. Celsius to Fahreheit\")\n",
    "print(\"2. Fahreheit to Celsius\")\n",
    "\n",
    "x = int(input(\"Enter your choice : \"))\n",
    "\n",
    "if (x == 1):\n",
    "    celsius = float(input(\"Enter Celsius value: \"))\n",
    "    fahrenheit = (celsius * 9) / 5 + 32\n",
    "    print(\"Fahrenheit value is: %s\" % fahrenheit)\n",
    "elif (x == 2):\n",
    "    fahrenheit = float(input(\"Enter Fahrenheit value: \"))\n",
    "    celsius = (fahrenheit - 32) * 5 / 9\n",
    "    print(\"Celsius value is: %s\" % celsius)\n",
    "else : \n",
    "    print(\"Please enter correct option!\")"
   ]
  },
  {
   "cell_type": "markdown",
   "metadata": {},
   "source": [
    "### 6. WAP to take in 2 numbers and find the largest amongst the two\n",
    "\n",
    "Enter number(x): <br>\n",
    "Enter number(y): <br><br>\n",
    "Largest is : "
   ]
  },
  {
   "cell_type": "code",
   "execution_count": 9,
   "metadata": {
    "collapsed": false
   },
   "outputs": [
    {
     "name": "stdout",
     "output_type": "stream",
     "text": [
      "Enter number(x) : 4\n",
      "Enter number(y) : 7\n",
      "Largest is : 7\n"
     ]
    }
   ],
   "source": [
    "x = input(\"Enter number(x) : \")\n",
    "y = input(\"Enter number(y) : \")\n",
    "\n",
    "if (x > y):\n",
    "    print(\"Largest is : %s\" % x)\n",
    "else:\n",
    "    print(\"Largest is : %s\" % y)\n",
    "    "
   ]
  },
  {
   "cell_type": "markdown",
   "metadata": {},
   "source": [
    "### 7. It's time to go pro! Let's build the system to take in three numbers and print the largest amongst them :)\n",
    "\n",
    "Enter number(x):<br>\n",
    "Enter number(y):<br>\n",
    "Enter number(z):<br><br>\n",
    "Largest is : \n",
    "\n",
    "__sample inputs and their outputs__<br>\n",
    "0, 0, -1 => 0<br>\n",
    "-1, 0, 0 => 0<br>\n",
    "0, -1, 0 => 0<br>\n",
    "1, 0, 0 => 1<br>\n",
    "0, 1, 0 => 1<br>\n",
    "0, 0 ,1 => 1"
   ]
  },
  {
   "cell_type": "code",
   "execution_count": 13,
   "metadata": {
    "collapsed": false
   },
   "outputs": [
    {
     "name": "stdout",
     "output_type": "stream",
     "text": [
      "Enter number(x) : 3\n",
      "Enter number(y) : 3\n",
      "Enter number(z) : 6\n",
      "Largest number: 6\n"
     ]
    }
   ],
   "source": [
    "x = input(\"Enter number(x) : \")\n",
    "y = input(\"Enter number(y) : \")\n",
    "z = input(\"Enter number(z) : \")\n",
    "\n",
    "if (x>=y and x>=z):\n",
    "    print(\"Largest number: %s\" % x)\n",
    "if (y>=x and y>=z):\n",
    "    print(\"Largest number: %s\" % y)\n",
    "if (z>=x and z>=y):\n",
    "    print(\"Largest number: %s\" % z)\n"
   ]
  },
  {
   "cell_type": "markdown",
   "metadata": {
    "collapsed": true
   },
   "source": [
    "### 8. WAP to accept 3 numbers and print them in ascending and descending order\n",
    "\n",
    "Enter number(x):<br>\n",
    "Enter number(y):<br>\n",
    "Enter number(z):<br><br>\n",
    "\n",
    "Descending order: z > y > x<br>\n",
    "Ascending order: x < y < z<br>"
   ]
  },
  {
   "cell_type": "code",
   "execution_count": 7,
   "metadata": {
    "collapsed": false
   },
   "outputs": [
    {
     "name": "stdout",
     "output_type": "stream",
     "text": [
      "Enter number(a): 3\n",
      "Enter number(b): 4\n",
      "Enter number(c): 5\n",
      "(' Descending order :', (5, 4, 3))\n",
      "(' Ascending order :', (3, 4, 5))\n"
     ]
    }
   ],
   "source": [
    "a = int(input(\"Enter number(a): \"))\n",
    "b = int(input(\"Enter number(b): \"))\n",
    "c = int(input(\"Enter number(c): \"))\n",
    "\n",
    "if ((a>=b) and (a>=c)) :\n",
    "    if (b>=c):\n",
    "        print (\"Descending order :\", (a,b,c))\n",
    "        print (\"Ascending order : \", (c,b,a))\n",
    "    else :\n",
    "        print (\"\\n Descending order :\", (a,c,b))\n",
    "        print (\"\\n Ascending order : \", (b,c,a)) \n",
    "\n",
    "elif ((b>=a) and (b>=c)) :\n",
    "    if (a>=c) :\n",
    "        print (\"\\n Descending order :\" ,(b,a,c))\n",
    "        print (\"\\n Ascending order :\",(c,a,b))\n",
    "    else:\n",
    "        print (\"\\n Descending order :\", (b,c,a))\n",
    "        print (\"\\n Ascending order :\",(a,c,b))\n",
    "\n",
    "elif ((c>=a) and (c>=b)) :\n",
    "    if (a>=b) :\n",
    "        print (\" Descending order :\", (c,a,b))\n",
    "        print (\" Ascending order :\", (b,a,c))\n",
    "    else :\n",
    "        print (\" Descending order :\", (c,b,a))\n",
    "        print (\" Ascending order :\", (a,b,c))\n",
    "\n"
   ]
  },
  {
   "cell_type": "markdown",
   "metadata": {},
   "source": [
    "### 9. WAP to calculate roots of a quadratic equation: \n",
    "\n",
    "**A.x^2 + B.x + C = 0**<br>\n",
    "Enter value for A:<br>\n",
    "Enter value for B:<br>\n",
    "Enter value for C:<br>\n",
    "\n",
    "__n1 = b^2 - 4.A.C__\n",
    "\n",
    "if n1 is 0, OUTPUT -- only one root<br>\n",
    "if n1 is greater than 0, OUTPUT -- roots are distinct<br>\n",
    "else, OUTPUT -- roots are imaginary\n",
    "\n",
    "then print the roots<br>\n",
    "__root1 : <br>\n",
    "root2 : __\n",
    "\n",
    "__* note - output should be 3 precision__\n",
    "![Quadratic Equation](files/img/sridhar.jpg)\n"
   ]
  },
  {
   "cell_type": "code",
   "execution_count": 7,
   "metadata": {
    "collapsed": false
   },
   "outputs": [
    {
     "name": "stdout",
     "output_type": "stream",
     "text": [
      "A.x^2 + B.x + C = 0\n",
      "Enter A : 5\n",
      "Enter B : 1\n",
      "Enter C : 6\n",
      "\n",
      "roots are imaginary\n",
      "\n",
      "\n",
      "root1 : (-0.1+1.08166538264j)\n",
      "root2 : (-0.1-1.08166538264j)\n"
     ]
    }
   ],
   "source": [
    "import cmath\n",
    "\n",
    "print (\"A.x^2 + B.x + C = 0\")\n",
    "a = int(input(\"Enter A : \"))\n",
    "b = int(input(\"Enter B : \"))\n",
    "c = int(input(\"Enter C : \"))\n",
    "\n",
    "n1 = (b ^ 2) - (4 * a * c)\n",
    "\n",
    "if (n1 == 0) :\n",
    "    print (\"\\nOnly one root\")\n",
    "elif (n1 > 0) : \n",
    "    print (\"\\nroots are distinct\")\n",
    "else :\n",
    "    print (\"\\nroots are imaginary\")\n",
    "    \n",
    "root1 = (-b + (cmath.sqrt(n1))) / (2 * a)\n",
    "root2 = (-b - (cmath.sqrt(n1))) / (2 * a)\n",
    "\n",
    "print (\"\\n\\nroot1 : %s\" % (root1))\n",
    "print (\"root2 : %s\" % (root2))"
   ]
  },
  {
   "cell_type": "code",
   "execution_count": null,
   "metadata": {
    "collapsed": true
   },
   "outputs": [],
   "source": []
  }
 ],
 "metadata": {
  "kernelspec": {
   "display_name": "Python 2",
   "language": "python",
   "name": "python2"
  },
  "language_info": {
   "codemirror_mode": {
    "name": "ipython",
    "version": 2
   },
   "file_extension": ".py",
   "mimetype": "text/x-python",
   "name": "python",
   "nbconvert_exporter": "python",
   "pygments_lexer": "ipython2",
   "version": "2.7.10"
  }
 },
 "nbformat": 4,
 "nbformat_minor": 0
}
