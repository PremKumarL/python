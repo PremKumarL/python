{
 "cells": [
  {
   "cell_type": "markdown",
   "metadata": {},
   "source": [
    "<img src=\"logo1.png\" />\n"
   ]
  },
  {
   "cell_type": "markdown",
   "metadata": {
    "slideshow": {
     "slide_type": "slide"
    }
   },
   "source": [
    "# <font color=purple> Python Overview</font>"
   ]
  },
  {
   "cell_type": "markdown",
   "metadata": {
    "slideshow": {
     "slide_type": "slide"
    }
   },
   "source": [
    "## What is Python?"
   ]
  },
  {
   "cell_type": "markdown",
   "metadata": {
    "slideshow": {
     "slide_type": "fragment"
    }
   },
   "source": [
    "> It's a multi purpose programming language you can use for basic software development, Mathematical Programming, web-development, developing compute-games etc. We can also use it to make web-crawlers a.k.a. __bots__. "
   ]
  },
  {
   "cell_type": "markdown",
   "metadata": {},
   "source": [
    "Today the language is used by Google, CERN, NASA, Yahoo and many more large organisations."
   ]
  },
  {
   "cell_type": "markdown",
   "metadata": {},
   "source": [
    "## Some Famous Softwares in Python "
   ]
  },
  {
   "cell_type": "markdown",
   "metadata": {},
   "source": [
    "- Youtube\n",
    "- Dropbox\n",
    "- Google (Uses extensively into various apps)\n",
    "- Quora\n",
    "- Instagram\n",
    "- BitTorrent (Earlier Version)\n",
    "- Spotify\n",
    "- Reddit\n",
    "- Totalspy\n",
    "- Pinterest\n",
    "- BitBucket\n",
    "- Blender3D\n",
    "- EVE Online MMOPG\n",
    "- Mercurial Source Control"
   ]
  },
  {
   "cell_type": "markdown",
   "metadata": {},
   "source": [
    "Check more at [Python Success Stories](https://www.python.org/about/success/)"
   ]
  },
  {
   "cell_type": "markdown",
   "metadata": {
    "slideshow": {
     "slide_type": "subslide"
    }
   },
   "source": [
    "### Python v/s other Programming Languages"
   ]
  },
  {
   "cell_type": "markdown",
   "metadata": {
    "slideshow": {
     "slide_type": "fragment"
    }
   },
   "source": [
    "- __Java__\n",
    "    - Python programs are generally expected to run slower than Java programs, but they also take much less time to develop. Python programs are typically 3-5 times shorter than equivalent Java programs. \n",
    "\n",
    "- __Javascript__\n",
    "    - A subset of Python is roughly equivalent to JavaScript. Like JavaScript (and unlike Java), Python supports a programming style that uses simple functions and variables without engaging in class definitions.\n",
    "\n",
    "- __C++__\n",
    "    - Python code is typically 3-5 times shorter than equivalent Java code, it is often 5-10 times shorter than equivalent C++ code! Anecdotal evidence suggests that one Python programmer can finish in two months what two C++ programmers can't complete in a year"
   ]
  },
  {
   "cell_type": "markdown",
   "metadata": {},
   "source": [
    "### Compiled and Interpreted Language"
   ]
  },
  {
   "cell_type": "markdown",
   "metadata": {
    "slideshow": {
     "slide_type": "notes"
    }
   },
   "source": [
    "- __Java__\n",
    "    - Because of the run-time typing, Python's run time must work harder than Java's. For example, when evaluating the expression a+b, it must first inspect the objects a and b to find out their type, which is not known at compile time. It then invokes the appropriate addition operation, which may be an overloaded user-defined method. Java, on the other hand, can perform an efficient integer or floating point addition, but requires variable declarations for a and b, and does not allow overloading of the + operator for instances of user-defined classes. \n",
    "    \n",
    "- __Javascript__\n",
    "    - For JavaScript, that's all there is. Python, on the other hand, supports writing much larger programs and better code reuse through a true object-oriented programming style, where classes and inheritance play an important role. "
   ]
  },
  {
   "cell_type": "markdown",
   "metadata": {
    "slideshow": {
     "slide_type": "subslide"
    }
   },
   "source": [
    "### Python tit-bits"
   ]
  },
  {
   "cell_type": "markdown",
   "metadata": {
    "slideshow": {
     "slide_type": "fragment"
    }
   },
   "source": [
    "- Python Programming From the Command Line\n",
    "    - Open a terminal window and type **_python_**. \n",
    "        This opens python in interactive mode.\n",
    "\n",
    "- Python3 vs Python2\n",
    "    - *Python 2's print statement has been replaced by the print( ) in Python 3*\n",
    "    - [Python3 v/s Python2 - please refer this site](http://sebastianraschka.com/Articles/2014_python_2_3_key_diff.html)\n",
    "\n",
    "- Check python version\n",
    "    - In the terminal window, type **_python --version_**\n",
    "    \n",
    "- **A word of caution!!**\n",
    "    - _Many programming languages typically ignore whitespace – that is the spacing in your code. But in Python, improper use of spacing can generate syntax errors._"
   ]
  },
  {
   "cell_type": "markdown",
   "metadata": {},
   "source": [
    "## Run Python code online\n",
    "\n",
    "- [Skulpt Python interpreter](http://pythonspot.com/run.php)<br>\n",
    "- [Repl.it Python interpreter](http://repl.it/languages/Python3)<br>\n",
    "- [Ideone.com Python interpreter](https://ideone.com/)<br>\n",
    "- [Codepad Python interpreter](http://codepad.org/)<br>\n"
   ]
  },
  {
   "cell_type": "markdown",
   "metadata": {},
   "source": [
    "## REPL and Program"
   ]
  },
  {
   "cell_type": "markdown",
   "metadata": {},
   "source": [
    "__REPL:__ This is a procedure that just loops, accepts one command at a time, executing it, and printing the result.\n",
    "\n",
    "The three steps at each iteration of the loop are:\n",
    "\n",
    "- Calling read to read the characters that make up a textual expression from the keyboard input buffer, and construct a data structure to represent it,\n",
    "- Calling eval to evaluate the expression--intuitively, eval \"figures out what the expression means,\" and \"does what it says to do,\" returning the value of the expression--and\n",
    "- Calling write to print a textual representation of the resulting from eval, so that the user can see it."
   ]
  },
  {
   "cell_type": "markdown",
   "metadata": {},
   "source": [
    "__Python has a interactive shell ( IPython or Jupyter ) which is much more rich than a REPL__"
   ]
  },
  {
   "cell_type": "markdown",
   "metadata": {},
   "source": [
    "A program will be a file with __.py__ extension. It is a script which you will run by giving command as<br> __python your_file.py__ "
   ]
  },
  {
   "cell_type": "markdown",
   "metadata": {},
   "source": [
    "## Hello World !!"
   ]
  },
  {
   "cell_type": "code",
   "execution_count": 2,
   "metadata": {
    "collapsed": false
   },
   "outputs": [
    {
     "name": "stdout",
     "output_type": "stream",
     "text": [
      "Hello World\n"
     ]
    }
   ],
   "source": [
    "print \"Hello World\""
   ]
  },
  {
   "cell_type": "markdown",
   "metadata": {
    "slideshow": {
     "slide_type": "slide"
    }
   },
   "source": [
    "# First baby steps with Python"
   ]
  },
  {
   "cell_type": "markdown",
   "metadata": {
    "slideshow": {
     "slide_type": "subslide"
    }
   },
   "source": [
    "### A small python program"
   ]
  },
  {
   "cell_type": "code",
   "execution_count": 1,
   "metadata": {
    "collapsed": false,
    "slideshow": {
     "slide_type": "fragment"
    }
   },
   "outputs": [
    {
     "name": "stdout",
     "output_type": "stream",
     "text": [
      "simple python program!\n"
     ]
    }
   ],
   "source": [
    "print(\"simple python program!\")"
   ]
  },
  {
   "cell_type": "markdown",
   "metadata": {
    "slideshow": {
     "slide_type": "subslide"
    }
   },
   "source": [
    "### A slightly bigger python program"
   ]
  },
  {
   "cell_type": "code",
   "execution_count": 14,
   "metadata": {
    "collapsed": false,
    "slideshow": {
     "slide_type": "fragment"
    }
   },
   "outputs": [
    {
     "name": "stdout",
     "output_type": "stream",
     "text": [
      "  *  \n",
      " *** \n",
      "*****\n",
      "  *  \n",
      "  *  \n",
      "  *  \n"
     ]
    }
   ],
   "source": [
    "print(\"  *  \")\n",
    "print(\" *** \")\n",
    "print(\"*****\")\n",
    "print(\"  *  \")\n",
    "print(\"  *  \")\n",
    "print(\"  *  \")"
   ]
  },
  {
   "cell_type": "markdown",
   "metadata": {
    "slideshow": {
     "slide_type": "slide"
    }
   },
   "source": [
    "# Values and Variables"
   ]
  },
  {
   "cell_type": "markdown",
   "metadata": {
    "slideshow": {
     "slide_type": "fragment"
    }
   },
   "source": [
    "Concepts to be touched :\n",
    "> - Numeric Values\n",
    "> - Variables\n",
    "> - Assignment\n",
    "> - Identifiers\n",
    "> - Reserved Keywords"
   ]
  },
  {
   "cell_type": "markdown",
   "metadata": {
    "slideshow": {
     "slide_type": "slide"
    }
   },
   "source": [
    "### Integer values"
   ]
  },
  {
   "cell_type": "markdown",
   "metadata": {
    "slideshow": {
     "slide_type": "subslide"
    }
   },
   "source": [
    "Unlike the above program, no quotation mark (\") appears in this statement. Value **4** is an example of an integer\n",
    "expression"
   ]
  },
  {
   "cell_type": "code",
   "execution_count": 15,
   "metadata": {
    "collapsed": false,
    "slideshow": {
     "slide_type": "fragment"
    }
   },
   "outputs": [
    {
     "name": "stdout",
     "output_type": "stream",
     "text": [
      "4\n"
     ]
    }
   ],
   "source": [
    "print(4)"
   ]
  },
  {
   "cell_type": "markdown",
   "metadata": {
    "slideshow": {
     "slide_type": "fragment"
    }
   },
   "source": [
    "If the user enters 4, Python interprets it as an _Integer value_ 4"
   ]
  },
  {
   "cell_type": "code",
   "execution_count": 16,
   "metadata": {
    "collapsed": false,
    "slideshow": {
     "slide_type": "fragment"
    }
   },
   "outputs": [
    {
     "data": {
      "text/plain": [
       "4"
      ]
     },
     "execution_count": 16,
     "metadata": {},
     "output_type": "execute_result"
    }
   ],
   "source": [
    "4"
   ]
  },
  {
   "cell_type": "markdown",
   "metadata": {
    "slideshow": {
     "slide_type": "fragment"
    }
   },
   "source": [
    "If we enter \"4\", Python interprets it as a _String_. A String is a sequence of characters"
   ]
  },
  {
   "cell_type": "code",
   "execution_count": 17,
   "metadata": {
    "collapsed": false,
    "slideshow": {
     "slide_type": "fragment"
    }
   },
   "outputs": [
    {
     "data": {
      "text/plain": [
       "'4'"
      ]
     },
     "execution_count": 17,
     "metadata": {},
     "output_type": "execute_result"
    }
   ],
   "source": [
    "\"4\""
   ]
  },
  {
   "cell_type": "markdown",
   "metadata": {
    "slideshow": {
     "slide_type": "subslide"
    }
   },
   "source": [
    "We can also perform normal arithmetic computations"
   ]
  },
  {
   "cell_type": "code",
   "execution_count": 18,
   "metadata": {
    "collapsed": false,
    "slideshow": {
     "slide_type": "fragment"
    }
   },
   "outputs": [
    {
     "data": {
      "text/plain": [
       "10"
      ]
     },
     "execution_count": 18,
     "metadata": {},
     "output_type": "execute_result"
    }
   ],
   "source": [
    "1 + 2 + 3 + 4"
   ]
  },
  {
   "cell_type": "markdown",
   "metadata": {
    "slideshow": {
     "slide_type": "fragment"
    }
   },
   "source": [
    "In the below code, even though we compute the following expression, the output is printed only for the last expression."
   ]
  },
  {
   "cell_type": "code",
   "execution_count": 19,
   "metadata": {
    "collapsed": false,
    "slideshow": {
     "slide_type": "fragment"
    }
   },
   "outputs": [
    {
     "data": {
      "text/plain": [
       "15"
      ]
     },
     "execution_count": 19,
     "metadata": {},
     "output_type": "execute_result"
    }
   ],
   "source": [
    "1 + 2\n",
    "1 + 2 + 3 + 4\n",
    "1 + 2 + 3 + 4 + 5"
   ]
  },
  {
   "cell_type": "markdown",
   "metadata": {
    "slideshow": {
     "slide_type": "subslide"
    }
   },
   "source": [
    "To print the value of an expression on the console, use print() function"
   ]
  },
  {
   "cell_type": "code",
   "execution_count": 20,
   "metadata": {
    "collapsed": false,
    "slideshow": {
     "slide_type": "fragment"
    }
   },
   "outputs": [
    {
     "name": "stdout",
     "output_type": "stream",
     "text": [
      "10\n"
     ]
    },
    {
     "data": {
      "text/plain": [
       "15"
      ]
     },
     "execution_count": 20,
     "metadata": {},
     "output_type": "execute_result"
    }
   ],
   "source": [
    "1 + 2\n",
    "print (1 + 2 + 3 + 4)\n",
    "1 + 2 + 3 + 4 + 5"
   ]
  },
  {
   "cell_type": "markdown",
   "metadata": {
    "slideshow": {
     "slide_type": "fragment"
    }
   },
   "source": [
    "To print all expression values"
   ]
  },
  {
   "cell_type": "code",
   "execution_count": 21,
   "metadata": {
    "collapsed": false,
    "slideshow": {
     "slide_type": "fragment"
    }
   },
   "outputs": [
    {
     "name": "stdout",
     "output_type": "stream",
     "text": [
      "3\n",
      "10\n",
      "15\n"
     ]
    }
   ],
   "source": [
    "print (1 + 2)\n",
    "print (1 + 2 + 3 + 4)\n",
    "print (1 + 2 + 3 + 4 + 5)"
   ]
  },
  {
   "cell_type": "markdown",
   "metadata": {
    "slideshow": {
     "slide_type": "subslide"
    }
   },
   "source": [
    "Python recognizes both single quotes (’) and double quotes (\") as valid ways to delimit a string value.\n",
    "If a single quote marks the beginning of a string value, a single quote must delimit the end of the string"
   ]
  },
  {
   "cell_type": "code",
   "execution_count": 22,
   "metadata": {
    "collapsed": false,
    "slideshow": {
     "slide_type": "fragment"
    }
   },
   "outputs": [
    {
     "name": "stdout",
     "output_type": "stream",
     "text": [
      "this is a string\n"
     ]
    }
   ],
   "source": [
    "print (\"this is a string\")"
   ]
  },
  {
   "cell_type": "code",
   "execution_count": 23,
   "metadata": {
    "collapsed": false,
    "slideshow": {
     "slide_type": "fragment"
    }
   },
   "outputs": [
    {
     "name": "stdout",
     "output_type": "stream",
     "text": [
      "this is also a string\n"
     ]
    }
   ],
   "source": [
    "print ('this is also a string')"
   ]
  },
  {
   "cell_type": "code",
   "execution_count": 24,
   "metadata": {
    "collapsed": false,
    "slideshow": {
     "slide_type": "fragment"
    }
   },
   "outputs": [
    {
     "ename": "SyntaxError",
     "evalue": "EOL while scanning string literal (<ipython-input-24-860f8e3d039e>, line 1)",
     "output_type": "error",
     "traceback": [
      "\u001b[0;36m  File \u001b[0;32m\"<ipython-input-24-860f8e3d039e>\"\u001b[0;36m, line \u001b[0;32m1\u001b[0m\n\u001b[0;31m    print (\"cannot represent string')\u001b[0m\n\u001b[0m                                    ^\u001b[0m\n\u001b[0;31mSyntaxError\u001b[0m\u001b[0;31m:\u001b[0m EOL while scanning string literal\n"
     ]
    }
   ],
   "source": [
    "print (\"cannot represent string')"
   ]
  },
  {
   "cell_type": "markdown",
   "metadata": {
    "slideshow": {
     "slide_type": "subslide"
    }
   },
   "source": [
    "All expressions in Python have a type."
   ]
  },
  {
   "cell_type": "code",
   "execution_count": null,
   "metadata": {
    "collapsed": false,
    "slideshow": {
     "slide_type": "fragment"
    }
   },
   "outputs": [],
   "source": [
    "type(4)"
   ]
  },
  {
   "cell_type": "code",
   "execution_count": null,
   "metadata": {
    "collapsed": false,
    "slideshow": {
     "slide_type": "fragment"
    }
   },
   "outputs": [],
   "source": [
    "type('4')"
   ]
  },
  {
   "cell_type": "code",
   "execution_count": null,
   "metadata": {
    "collapsed": false,
    "slideshow": {
     "slide_type": "fragment"
    }
   },
   "outputs": [],
   "source": [
    "type(\"4\")"
   ]
  },
  {
   "cell_type": "markdown",
   "metadata": {
    "slideshow": {
     "slide_type": "subslide"
    }
   },
   "source": [
    "Every integer has a string representation. But the reverse is not true."
   ]
  },
  {
   "cell_type": "code",
   "execution_count": null,
   "metadata": {
    "collapsed": false,
    "slideshow": {
     "slide_type": "fragment"
    }
   },
   "outputs": [],
   "source": [
    "int('4')"
   ]
  },
  {
   "cell_type": "code",
   "execution_count": null,
   "metadata": {
    "collapsed": false,
    "slideshow": {
     "slide_type": "fragment"
    }
   },
   "outputs": [],
   "source": [
    "int('wow')"
   ]
  },
  {
   "cell_type": "code",
   "execution_count": null,
   "metadata": {
    "collapsed": false,
    "slideshow": {
     "slide_type": "fragment"
    }
   },
   "outputs": [],
   "source": [
    "str(4)"
   ]
  },
  {
   "cell_type": "markdown",
   "metadata": {
    "slideshow": {
     "slide_type": "slide"
    }
   },
   "source": [
    "### Floating values\n",
    "\n",
    ">Python supports such non-integer numbers, and they are called floating point numbers.The Python name for the floating-point type is float\n"
   ]
  },
  {
   "cell_type": "code",
   "execution_count": 3,
   "metadata": {
    "collapsed": false,
    "slideshow": {
     "slide_type": "fragment"
    }
   },
   "outputs": [
    {
     "data": {
      "text/plain": [
       "float"
      ]
     },
     "execution_count": 3,
     "metadata": {},
     "output_type": "execute_result"
    }
   ],
   "source": [
    "x = 5.62\n",
    "type(x)"
   ]
  },
  {
   "cell_type": "markdown",
   "metadata": {},
   "source": [
    "## Python is Dynamically Typed Language"
   ]
  },
  {
   "cell_type": "markdown",
   "metadata": {},
   "source": [
    "It ease out your job. Figure out the type of the variable, as soon as you assign a value to it. So you do not have to worry about explicitly mentioning the type. Also you can change the assignment to other type of data as well"
   ]
  },
  {
   "cell_type": "code",
   "execution_count": 5,
   "metadata": {
    "collapsed": false
   },
   "outputs": [
    {
     "name": "stdout",
     "output_type": "stream",
     "text": [
      "<type 'int'>\n",
      "<type 'str'>\n"
     ]
    }
   ],
   "source": [
    "x = 4\n",
    "print type(x)\n",
    "\n",
    "x = '4'\n",
    "print type(x)"
   ]
  },
  {
   "cell_type": "markdown",
   "metadata": {
    "slideshow": {
     "slide_type": "subslide"
    }
   },
   "source": [
    "### When working with floating and integer values\n",
    "\n",
    "> **(int) op (int)** , result is of type **(int)**\n",
    ">\n",
    "> **(float) op (int)** OR **(int) op (float)** , result is of type **(float)**\n",
    ">\n",
    "> **(float) op (float)** , result is of type **(float)**\n",
    "\n",
    "5 / 2 = 2\n",
    "\n",
    "5 / 2.0 = 2.5\n",
    "\n",
    "3 + 2 = 5\n",
    "\n",
    "3.0 + 2 = 5.0"
   ]
  },
  {
   "cell_type": "markdown",
   "metadata": {
    "slideshow": {
     "slide_type": "slide"
    }
   },
   "source": [
    "### Variables and Assignments"
   ]
  },
  {
   "cell_type": "code",
   "execution_count": null,
   "metadata": {
    "collapsed": false,
    "slideshow": {
     "slide_type": "fragment"
    }
   },
   "outputs": [],
   "source": [
    "x = 10\n",
    "print (x)\n",
    "print ('x')"
   ]
  },
  {
   "cell_type": "markdown",
   "metadata": {
    "slideshow": {
     "slide_type": "subslide"
    }
   },
   "source": [
    "The meaning of the assignment operator (=) is different from equality in mathematics. \n",
    "\n",
    "In mathematics, = asserts that the expression on its left is equal to the expression on its right. In Python, = makes the variable on its left take on the value of the expression on its right. It is best to read x = 5 as “ x is assigned the value 5,” or “ x gets the value 5.” "
   ]
  },
  {
   "cell_type": "code",
   "execution_count": null,
   "metadata": {
    "collapsed": false,
    "slideshow": {
     "slide_type": "fragment"
    }
   },
   "outputs": [],
   "source": [
    "x = 10\n",
    "5 = x"
   ]
  },
  {
   "cell_type": "markdown",
   "metadata": {
    "slideshow": {
     "slide_type": "fragment"
    }
   },
   "source": [
    "This attempts to reassign the value of the literal integer value 5, but this cannot be done because 5 is always 5\n",
    "and cannot be changed."
   ]
  },
  {
   "cell_type": "markdown",
   "metadata": {
    "slideshow": {
     "slide_type": "slide"
    }
   },
   "source": [
    "### Multiple assignment"
   ]
  },
  {
   "cell_type": "code",
   "execution_count": null,
   "metadata": {
    "collapsed": false,
    "slideshow": {
     "slide_type": "fragment"
    }
   },
   "outputs": [],
   "source": [
    "x = 10\n",
    "print ('x = ' + str(x))\n",
    "x = 20\n",
    "print ('x = ' + str(x))\n",
    "x = 30\n",
    "print (\"x = \" + str(x))"
   ]
  },
  {
   "cell_type": "markdown",
   "metadata": {
    "slideshow": {
     "slide_type": "slide"
    }
   },
   "source": [
    "### Chained assignment"
   ]
  },
  {
   "cell_type": "markdown",
   "metadata": {
    "slideshow": {
     "slide_type": "fragment"
    }
   },
   "source": [
    "**x = y = z = 10**\n",
    "\n",
    "z is assigned the value 10\n",
    "\n",
    "y is assigned the value of z\n",
    "\n",
    "x is assigned the value of y"
   ]
  },
  {
   "cell_type": "code",
   "execution_count": null,
   "metadata": {
    "collapsed": false,
    "slideshow": {
     "slide_type": "fragment"
    }
   },
   "outputs": [],
   "source": [
    "x = y = 10\n",
    "print(x)"
   ]
  },
  {
   "cell_type": "markdown",
   "metadata": {
    "slideshow": {
     "slide_type": "subslide"
    }
   },
   "source": [
    "Not only can we change the value of a variable, but we can also change it's type during program execution."
   ]
  },
  {
   "cell_type": "code",
   "execution_count": null,
   "metadata": {
    "collapsed": false,
    "slideshow": {
     "slide_type": "fragment"
    }
   },
   "outputs": [],
   "source": [
    "a = 10\n",
    "print ('Variable a has value %s and type %s' % (a, type(a)))\n",
    "a = \"ABC\"\n",
    "print ('Variable a has value %s and type %s' % (a, type(a)))"
   ]
  },
  {
   "cell_type": "markdown",
   "metadata": {
    "slideshow": {
     "slide_type": "slide"
    }
   },
   "source": [
    "## Variables"
   ]
  },
  {
   "cell_type": "markdown",
   "metadata": {
    "slideshow": {
     "slide_type": "subslide"
    }
   },
   "source": [
    "Python has strict rules for variable names. A variable name is one example of an identifier. Rules for creating an identifier:\n",
    "> - Identifiers must contain at least one character\n",
    "> - The first character must be an alphabetic letter (upper or lower case) or the underscore\n",
    "> - The remaining characters (if any) may be alphabetic characters (upper or lower case), the underscore, or a digit\n",
    "> - No other characters (including spaces) are permitted in identifiers\n",
    "> - A reserved word cannot be used as an identifier\n",
    "\n",
    "Python reserves a number of words for special use that could otherwise be used as identifiers. Called reserved words or keywords, these words are special and are used to define the structure of Python programs and statement.\n",
    "\n",
    "![keywords](files/img/keywords.jpg)"
   ]
  },
  {
   "cell_type": "code",
   "execution_count": null,
   "metadata": {
    "collapsed": false,
    "slideshow": {
     "slide_type": "fragment"
    }
   },
   "outputs": [],
   "source": [
    "class = 15"
   ]
  },
  {
   "cell_type": "markdown",
   "metadata": {
    "slideshow": {
     "slide_type": "fragment"
    }
   },
   "source": [
    "This fails because _class_ is a reserver keyword"
   ]
  },
  {
   "cell_type": "code",
   "execution_count": null,
   "metadata": {
    "collapsed": false,
    "slideshow": {
     "slide_type": "fragment"
    }
   },
   "outputs": [],
   "source": [
    "Class = 15\n",
    "Class"
   ]
  },
  {
   "cell_type": "markdown",
   "metadata": {},
   "source": [
    "### print( )"
   ]
  },
  {
   "cell_type": "markdown",
   "metadata": {},
   "source": [
    "<font color=purple>x = 10<br>\n",
    "print(\"Value of x = \" + x)</font>\n",
    "\n",
    "This code will fail, as python cannot concatenate \"Value of x =\" which is a __string__ and __x__ i.e. 10 which is an __integer__."
   ]
  },
  {
   "cell_type": "code",
   "execution_count": null,
   "metadata": {
    "collapsed": false
   },
   "outputs": [],
   "source": [
    "x = 10\n",
    "print(\"Value of x = \" + x)"
   ]
  },
  {
   "cell_type": "markdown",
   "metadata": {},
   "source": [
    "There are a few ways to print an integer.\n",
    "\n",
    "x = 10\n",
    "\n",
    "__print(\"1st way : Value of x = \" + str(x))__<br>\n",
    "_Here we are converting x to a String. So, in the print() we are concatenating two strings!_\n",
    "\n",
    "__print(\"2nd way : Value of x = %s\" % (x))__<br>\n",
    "_This is another way to convert x to a String and insert it into the exsiting String i.e. **\"2nd way : Value of x = %s\"** _\n",
    "\n",
    "__print(\"3rd way : Value of x = %d\" % (x))__<br>\n",
    "_Here we are adding the integer into the existing String i.e. **\"3rd way : Value of x = %d\"**\n",
    "\n",
    "\n",
    "\n"
   ]
  },
  {
   "cell_type": "code",
   "execution_count": null,
   "metadata": {
    "collapsed": false
   },
   "outputs": [],
   "source": [
    "x = 10\n",
    "print(\"1st way : Value of x = \" + str(x))\n",
    "print(\"2nd way : Value of x = %s\" % (x))\n",
    "print(\"3rd way : Value of x = %d\" % (x))"
   ]
  },
  {
   "cell_type": "markdown",
   "metadata": {},
   "source": [
    "Let's guess the output of the following<br>\n",
    "x = 23.689\n",
    "\n",
    "**print(\"Floating value : %d\" % (x))**"
   ]
  },
  {
   "cell_type": "markdown",
   "metadata": {},
   "source": [
    "Yep, your guess is right! The output will be **23** and not **23.689**\n",
    "\n",
    "To print a floating value, we use **%f**\n",
    "\n",
    "**print(\"Floating value : %f\" % (x))**"
   ]
  },
  {
   "cell_type": "code",
   "execution_count": null,
   "metadata": {
    "collapsed": false
   },
   "outputs": [],
   "source": [
    "x = 23.123456789\n",
    "\n",
    "print (\"Floating value : %d\" % (x))\n",
    "print (\"Floating value : %f\" % (x))\n",
    "# The output is 23.123457 instead of 23.123456789 It's rounding it off to 6 decimal places\n",
    "\n",
    "# To set it to a particular precision use %.<num>f\n",
    "# num - the precision value\n",
    "\n",
    "print (\"Floating value(2-precision) : %.2f\" % (x))\n",
    "print (\"Floating value(8-precision) : %.8f\" % (x))\n",
    "\n"
   ]
  },
  {
   "cell_type": "markdown",
   "metadata": {
    "collapsed": false,
    "slideshow": {
     "slide_type": "slide"
    }
   },
   "source": [
    "## User Input"
   ]
  },
  {
   "cell_type": "markdown",
   "metadata": {
    "collapsed": true,
    "slideshow": {
     "slide_type": "subslide"
    }
   },
   "source": [
    "Programs may use the input function to obtain information from the user. The simplest use of the input function assigns a string to a variable\n",
    "\n",
    "__x = input()__"
   ]
  },
  {
   "cell_type": "code",
   "execution_count": null,
   "metadata": {
    "collapsed": false,
    "slideshow": {
     "slide_type": "fragment"
    }
   },
   "outputs": [],
   "source": [
    "print(\"Please enter some text:\")\n",
    "x = input()\n",
    "print(\"Value of x is %s, type of x is %s\" % (x, type(x)))"
   ]
  },
  {
   "cell_type": "markdown",
   "metadata": {
    "slideshow": {
     "slide_type": "subslide"
    }
   },
   "source": [
    "#### A program to read numbers from an User and perform arithmetic computations on it"
   ]
  },
  {
   "cell_type": "code",
   "execution_count": 6,
   "metadata": {
    "collapsed": false,
    "slideshow": {
     "slide_type": "fragment"
    }
   },
   "outputs": [
    {
     "name": "stdout",
     "output_type": "stream",
     "text": [
      "Enter 1st number:\n",
      "1\n",
      "Enter 2nd number:\n",
      "2\n",
      "Addition : 3\n",
      "Substraction : -1\n"
     ]
    }
   ],
   "source": [
    "print(\"Enter 1st number:\")\n",
    "x = int(input())\n",
    "print(\"Enter 2nd number:\")\n",
    "y = int(input())\n",
    "print(\"Addition : %s\" % (x + y))\n",
    "print(\"Substraction : %s\" % (x - y))"
   ]
  },
  {
   "cell_type": "markdown",
   "metadata": {
    "slideshow": {
     "slide_type": "slide"
    }
   },
   "source": [
    "# Expressions and Arithmetics"
   ]
  },
  {
   "cell_type": "markdown",
   "metadata": {
    "slideshow": {
     "slide_type": "subslide"
    }
   },
   "source": [
    "### Expressions"
   ]
  },
  {
   "cell_type": "markdown",
   "metadata": {
    "slideshow": {
     "slide_type": "fragment"
    }
   },
   "source": [
    "> A literal value like 34 and a variable like x are examples of simple expressions. Values and variables can be combined with operators to form more complex expressions.\n",
    "\n",
    "| Expression        | Meaning           |\n",
    "|:-------------:|-------------|\n",
    "| x+y      | x added to y, **if x and y are numbers** |\n",
    "| x-y      | x take away y, **if x and y are numbers** |\n",
    "| x\\*y     | x times y, **if x and y are numbers** |\n",
    "| x/y     | x divided by y, **if x and y are numbers** |\n",
    "| x//y     | floor of x divided by y, **if x and y are numbers** |\n",
    "| x%y     | remainder of x divided by y, **if x and y are numbers** |\n",
    "| x\\*\\*y     | x raised to y power, **if x and y are numbers** |\n",
    "\n"
   ]
  },
  {
   "cell_type": "markdown",
   "metadata": {
    "slideshow": {
     "slide_type": "subslide"
    }
   },
   "source": [
    "### Operator precedence and associativity\n",
    "\n",
    "> All python operators have a precedence and associativity\n",
    "    > - __Precedence__ : when an expression contains two different kinds of operators, which should be applied first\n",
    "    > - __Associativity__ : when an expression contains two operators with the same precedence, which should be applied first"
   ]
  },
  {
   "cell_type": "markdown",
   "metadata": {
    "slideshow": {
     "slide_type": "subslide"
    }
   },
   "source": [
    "Let's check how precedence works\n",
    "**2 + 3 \\* 4**\n",
    "\n",
    "Should it be interpreted as **(2 + 3) \\* 4**\n",
    "\n",
    "or as **2 + (3 \\* 4)**"
   ]
  },
  {
   "cell_type": "markdown",
   "metadata": {
    "slideshow": {
     "slide_type": "subslide"
    }
   },
   "source": [
    "Multiplication/Division has higher precedence over Addition/Substraction.\n",
    "\n",
    "So **2 + 3 \\* 4** is computed as **2 + (3 \\* 4)** which is equal to **2 + 12** i.e. **14**"
   ]
  },
  {
   "cell_type": "code",
   "execution_count": null,
   "metadata": {
    "collapsed": false,
    "slideshow": {
     "slide_type": "fragment"
    }
   },
   "outputs": [],
   "source": [
    "2 + 3 * 4"
   ]
  },
  {
   "cell_type": "markdown",
   "metadata": {
    "slideshow": {
     "slide_type": "subslide"
    }
   },
   "source": [
    "Let's now understand associativity.\n",
    "\n",
    "**2 - 3 - 4**\n",
    "\n",
    "Should it be interpreted as **(2 - 3) - 4**\n",
    "\n",
    "or as **2 - (3 - 4)**"
   ]
  },
  {
   "cell_type": "markdown",
   "metadata": {
    "slideshow": {
     "slide_type": "subslide"
    }
   },
   "source": [
    "Multiplication/Division/Addition/Substraction have associativity from **left to right**.\n",
    "\n",
    "So **2 - 3 - 4** is computed as **(2 - 3) - 4** which is equal to **-1 - 4** i.e. **-5**"
   ]
  },
  {
   "cell_type": "code",
   "execution_count": null,
   "metadata": {
    "collapsed": false,
    "slideshow": {
     "slide_type": "fragment"
    }
   },
   "outputs": [],
   "source": [
    "2 - 3 - 4"
   ]
  },
  {
   "cell_type": "markdown",
   "metadata": {
    "slideshow": {
     "slide_type": "subslide"
    }
   },
   "source": [
    "Unary operators have higher precedence over binary operators and unary operators are right associative\n",
    "\n",
    "**-3 + 2** is **(-3) + 2**\n",
    "\n",
    "Parentheses can be used to override the natural associativity within an expression\n",
    "\n",
    "**-(3 + 2)** "
   ]
  },
  {
   "cell_type": "code",
   "execution_count": null,
   "metadata": {
    "collapsed": false,
    "slideshow": {
     "slide_type": "fragment"
    }
   },
   "outputs": [],
   "source": [
    "print(\"-3 + 2 = %s\" % (-3 + 2))"
   ]
  },
  {
   "cell_type": "code",
   "execution_count": null,
   "metadata": {
    "collapsed": false,
    "slideshow": {
     "slide_type": "fragment"
    }
   },
   "outputs": [],
   "source": [
    "print(\"-(3 + 2) = %s\" % -(3 + 2))"
   ]
  },
  {
   "cell_type": "markdown",
   "metadata": {
    "slideshow": {
     "slide_type": "slide"
    }
   },
   "source": [
    "### Comments"
   ]
  },
  {
   "cell_type": "markdown",
   "metadata": {
    "slideshow": {
     "slide_type": "fragment"
    }
   },
   "source": [
    "> Good programmers annotate their code by inserting remarks that explain the purpose of a section of code or why they chose to write a section of code the way they did.\n",
    "\n",
    "> Any text contained within comments is ignored by the Python interpreter. The # symbol begins a comment in the source code. The comment is in effect until the end of the line of code."
   ]
  },
  {
   "cell_type": "code",
   "execution_count": null,
   "metadata": {
    "collapsed": false,
    "slideshow": {
     "slide_type": "fragment"
    }
   },
   "outputs": [],
   "source": [
    "print(\"This statement is NOT commented\")\n",
    "#print(\"This statement is commented\")"
   ]
  },
  {
   "cell_type": "markdown",
   "metadata": {
    "slideshow": {
     "slide_type": "slide"
    }
   },
   "source": [
    "### More arithmetic operators"
   ]
  },
  {
   "cell_type": "markdown",
   "metadata": {
    "slideshow": {
     "slide_type": "fragment"
    }
   },
   "source": [
    "Sometimes, we may want to modify a variable. Like increment/decrement it by a specific value.\n",
    "\n",
    "**x = x + 1** increments x by 1, this can be re-written as **x += 1**\n",
    "\n",
    "A similar decrement operation can be re-written as **x -= 1**. Same as **x = x - 1**\n",
    "\n",
    "**x op= exp**\n",
    "- x is a variable\n",
    "- op is an arithmetic operator (+=, -=, \\*=, /=, //=, %=)\n",
    "- exp is an expression compatible with variable x\n",
    "\n",
    "\n",
    "**x += y \\* z** is equal to **x = x + (y \\* z)**"
   ]
  },
  {
   "cell_type": "code",
   "execution_count": null,
   "metadata": {
    "collapsed": false,
    "slideshow": {
     "slide_type": "fragment"
    }
   },
   "outputs": [],
   "source": [
    "x = 1\n",
    "y = 2\n",
    "z = 3\n",
    "\n",
    "x += y*z\n",
    "print(x)"
   ]
  },
  {
   "cell_type": "markdown",
   "metadata": {
    "slideshow": {
     "slide_type": "slide"
    }
   },
   "source": [
    "# Conditional Execution\n",
    "> All the programs in the preceding chapters execute exactly the same statements regardless of the input (if\n",
    "any) provided to them. They follow a linear sequence: Statement 1, Statement 2, etc. until the last statement is executed and the program terminates. Linear programs like these are very limited in the problems they can solve. This chapter introduces constructs that allow program statements to be optionally executed, depending on the context of the program’s execution"
   ]
  },
  {
   "cell_type": "markdown",
   "metadata": {
    "slideshow": {
     "slide_type": "slide"
    }
   },
   "source": [
    "### Boolean expressions\n",
    ">Arithmetic expressions evaluate to numeric values; a Boolean expression has only one of two possible values: false or true.\n",
    "\n",
    ">The simplest Boolean expressions in Python are **True** and **False**"
   ]
  },
  {
   "cell_type": "code",
   "execution_count": null,
   "metadata": {
    "collapsed": false,
    "slideshow": {
     "slide_type": "fragment"
    }
   },
   "outputs": [],
   "source": [
    "True , type(True)"
   ]
  },
  {
   "cell_type": "code",
   "execution_count": null,
   "metadata": {
    "collapsed": false,
    "slideshow": {
     "slide_type": "fragment"
    }
   },
   "outputs": [],
   "source": [
    "False, type(False)"
   ]
  },
  {
   "cell_type": "markdown",
   "metadata": {
    "slideshow": {
     "slide_type": "subslide"
    }
   },
   "source": [
    "| Expression        | Meaning           |\n",
    "|:-------------:|-------------|\n",
    "| x==y      | True if x is equal to y, otherwise False |\n",
    "| x\\<y      | True if x is less than y, otherwise False |\n",
    "| x<=y     | True if x is less than or equal to y, otherwise False |\n",
    "| x>y     | True if x is greater than y, otherwise False |\n",
    "| x>=y     | True if x is greater than or equal to y, otherwise False |\n",
    "| x!=y     | True if x is not equal to y, otherwise False |"
   ]
  },
  {
   "cell_type": "markdown",
   "metadata": {
    "slideshow": {
     "slide_type": "fragment"
    }
   },
   "source": [
    "The relational operators are binary operators and are all left associative. They all have a lower precedence than any of the arithmetic operators; therefore, the expression\n",
    "\n",
    "**x + 2 < y / 10** if evaluated as **(x + 2) < (y / 10)**"
   ]
  },
  {
   "cell_type": "markdown",
   "metadata": {
    "slideshow": {
     "slide_type": "slide"
    }
   },
   "source": [
    "### If statement\n",
    "\n",
    ">if  __boolean expression__ :\n",
    ">    \n",
    ">     block"
   ]
  },
  {
   "cell_type": "code",
   "execution_count": null,
   "metadata": {
    "collapsed": false,
    "slideshow": {
     "slide_type": "fragment"
    }
   },
   "outputs": [],
   "source": [
    "age = input()\n",
    "\n",
    "if (age > 18) :\n",
    "    print(\"You are an adult!!!\")"
   ]
  },
  {
   "cell_type": "markdown",
   "metadata": {
    "slideshow": {
     "slide_type": "slide"
    }
   },
   "source": [
    "### If-else statement\n",
    "\n",
    ">if  __boolean expression__ :\n",
    ">    \n",
    ">     block\n",
    ">else :\n",
    ">    \n",
    ">     block"
   ]
  },
  {
   "cell_type": "code",
   "execution_count": null,
   "metadata": {
    "collapsed": false,
    "slideshow": {
     "slide_type": "fragment"
    }
   },
   "outputs": [],
   "source": [
    "x = int(input(\"Enter dividend  \"))\n",
    "y = int(input(\"Enter divisor   \"))\n",
    "\n",
    "if (y != 0) :\n",
    "    print(\"x/y : %s\" % (x/y))\n",
    "else :\n",
    "    print(\"Cannot divide as divisor is zero\")\n",
    "\n"
   ]
  },
  {
   "cell_type": "code",
   "execution_count": null,
   "metadata": {
    "collapsed": false,
    "slideshow": {
     "slide_type": "fragment"
    }
   },
   "outputs": [],
   "source": [
    "x = int(input(\"Enter 1st value  \"))\n",
    "y = int(input(\"Enter 2nd value  \"))\n",
    "\n",
    "if (y == x) :\n",
    "    print(\"Same\")\n",
    "if (x != y) : \n",
    "    print(\"Different\")\n"
   ]
  },
  {
   "cell_type": "markdown",
   "metadata": {},
   "source": [
    "### Convert the above program to a python program and run it from your machine\n",
    "\n",
    "- Just copy it to a file and name it `something.py`\n",
    "- Run it using <br>`python` `something.py`"
   ]
  },
  {
   "cell_type": "markdown",
   "metadata": {},
   "source": [
    "### If-elif-else statement\n",
    "\n",
    ">if  __boolean expression__ :\n",
    ">    \n",
    ">     block\n",
    ">elif  __boolean expression__ :\n",
    ">    \n",
    ">     block\n",
    ">else :\n",
    ">    \n",
    ">     block"
   ]
  },
  {
   "cell_type": "markdown",
   "metadata": {},
   "source": [
    "Let's take two simple examples to check how is __if-elif-else__ different from __if-else__"
   ]
  },
  {
   "cell_type": "code",
   "execution_count": null,
   "metadata": {
    "collapsed": false
   },
   "outputs": [],
   "source": [
    "x = 1\n",
    "if (x == 1):\n",
    "    print(\"x is 1\")\n",
    "if (x == 2):\n",
    "    print(\"x is 2\")\n",
    "else:\n",
    "    print(\"x is NEITHER 1 nor 2\")"
   ]
  },
  {
   "cell_type": "code",
   "execution_count": null,
   "metadata": {
    "collapsed": false
   },
   "outputs": [],
   "source": [
    "x = 1\n",
    "if (x == 1):\n",
    "    print(\"x is 1\")\n",
    "elif (x == 2):\n",
    "    print(\"x is 2\")\n",
    "else:\n",
    "    print(\"x is NEITHER 1 nor 2\")"
   ]
  },
  {
   "cell_type": "markdown",
   "metadata": {
    "slideshow": {
     "slide_type": "slide"
    }
   },
   "source": [
    "### Compound Boolean Expressions\n",
    "\n",
    ">Simple Boolean expressions, each involving one relational operator, can be combined into more complex Boolean expressions using the logical operators and, or, and not. A combination of two or more Boolean expressions using logical operators is called a compound Boolean expression.\n",
    "\n",
    "![Truth Table](https://upload.wikimedia.org/wikipedia/commons/4/4a/Truth_table_for_AND,_OR,_and_NOT.png)"
   ]
  },
  {
   "cell_type": "code",
   "execution_count": null,
   "metadata": {
    "collapsed": true,
    "slideshow": {
     "slide_type": "fragment"
    }
   },
   "outputs": [],
   "source": [
    "x = 10\n",
    "y = 20\n",
    "b = (x == 10) #assigns True to b\n",
    "b = (x != 10) #assigns False to b\n",
    "b = (x == 10 and y == 20) #assigns True to b\n",
    "b = (x != 10 and y == 20) #assigns False to b\n",
    "b = (x == 10 and y != 20) #assigns False to b\n",
    "b = (x != 10 and y != 20) #assigns False to b\n",
    "b = (x == 10 or y == 20) #assigns True to b\n",
    "b = (x != 10 or y == 20) #assigns True to b\n",
    "b = (x == 10 or y != 20) #assigns True to b\n",
    "b = (x != 10 or y != 20) #assigns False to b\n"
   ]
  },
  {
   "cell_type": "markdown",
   "metadata": {
    "slideshow": {
     "slide_type": "subslide"
    }
   },
   "source": [
    "Are the following statement equivalent ??\n",
    "\n",
    "**x != y**\n",
    "\n",
    "**!(x == y)**\n",
    "\n",
    "**x < y or x > y**"
   ]
  },
  {
   "cell_type": "markdown",
   "metadata": {
    "slideshow": {
     "slide_type": "slide"
    }
   },
   "source": [
    "### Nested Conditionals"
   ]
  },
  {
   "cell_type": "code",
   "execution_count": null,
   "metadata": {
    "collapsed": false,
    "slideshow": {
     "slide_type": "fragment"
    }
   },
   "outputs": [],
   "source": [
    "x = int(input())\n",
    "\n",
    "if x < 10 :\n",
    "    if x < 5 :\n",
    "        print (\"Less than 5\")\n",
    "    else :\n",
    "        print (\"Range 5 - 10\")\n",
    "else :\n",
    "    print (\"Greater than 10\")"
   ]
  },
  {
   "cell_type": "code",
   "execution_count": null,
   "metadata": {
    "collapsed": false,
    "slideshow": {
     "slide_type": "fragment"
    }
   },
   "outputs": [],
   "source": [
    "x = int(input())\n",
    "\n",
    "if x<=10 and x>=0 :\n",
    "    print (\"Number is in range 0 - 10\")\n",
    "else :\n",
    "    print (\"Number not in range\")"
   ]
  },
  {
   "cell_type": "markdown",
   "metadata": {},
   "source": [
    "Keep on Experimenting on your own.\n",
    "\n",
    "You'll learn only by doing it.\n",
    "# Thank You !! "
   ]
  }
 ],
 "metadata": {
  "kernelspec": {
   "display_name": "Python 2",
   "language": "python",
   "name": "python2"
  },
  "language_info": {
   "codemirror_mode": {
    "name": "ipython",
    "version": 2
   },
   "file_extension": ".py",
   "mimetype": "text/x-python",
   "name": "python",
   "nbconvert_exporter": "python",
   "pygments_lexer": "ipython2",
   "version": "2.7.9"
  }
 },
 "nbformat": 4,
 "nbformat_minor": 0
}
