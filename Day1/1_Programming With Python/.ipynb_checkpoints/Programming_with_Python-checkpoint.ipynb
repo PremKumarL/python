{
 "cells": [
  {
   "cell_type": "markdown",
   "metadata": {
    "slideshow": {
     "slide_type": "slide"
    }
   },
   "source": [
    "# <font color=purple> Programming With Python</font>"
   ]
  },
  {
   "cell_type": "markdown",
   "metadata": {
    "slideshow": {
     "slide_type": "slide"
    }
   },
   "source": [
    "## What is Python?"
   ]
  },
  {
   "cell_type": "markdown",
   "metadata": {
    "slideshow": {
     "slide_type": "fragment"
    }
   },
   "source": [
    "> It's a versatile programming language which can be used for not only developing standard softwares, but also to program mathematical functions, computer games, web-crawlers a.k.a bots, data analytics , etc."
   ]
  },
  {
   "cell_type": "markdown",
   "metadata": {},
   "source": [
    "Today python has created space for itself in organizations like __Google, CERN, NASA, Yahoo__ and many more. It is considered one of the best language for mathematical programming and is one of the leading language in the field of Machine Learning, Neural Networks, Deep Learning, Data Science and Artificial Intelligence."
   ]
  },
  {
   "cell_type": "markdown",
   "metadata": {},
   "source": [
    "## Some Famous Softwares Written in Python "
   ]
  },
  {
   "cell_type": "markdown",
   "metadata": {},
   "source": [
    "- Youtube\n",
    "- Dropbox\n",
    "- Google (Uses extensively into various apps)\n",
    "- Quora\n",
    "- Instagram\n",
    "- BitTorrent (Earlier Version)\n",
    "- Spotify\n",
    "- Reddit\n",
    "- Totalspy\n",
    "- Pinterest\n",
    "- BitBucket\n",
    "- Blender3D\n",
    "- EVE Online MMOPG\n",
    "- Mercurial Source Control"
   ]
  },
  {
   "cell_type": "markdown",
   "metadata": {},
   "source": [
    "Check more at [Python Success Stories](https://www.python.org/about/success/)"
   ]
  },
  {
   "cell_type": "markdown",
   "metadata": {},
   "source": [
    "### Compiled and Interpreted Language"
   ]
  },
  {
   "cell_type": "markdown",
   "metadata": {
    "slideshow": {
     "slide_type": "notes"
    }
   },
   "source": [
    "Python is an interpreted language. So as you write the code, it can run directly and do quick checks unlike compiled languages which require compiling first to run a program. compiler run the syntax check, type assignment etc. and create a byte code which is a lower level code and is much more faster during run time. So Python interpreter has to so everything while running the code. But Python is much faster to learn,code and simple to implement. It make up its time in development. It is fast to prototype anything in Python.\n",
    "\n",
    "\n",
    "- __Java ( compiled )__\n",
    "    - In python, typing(i.e. identifying the type of a variable) happens at run time. So, Python's run time must work harder than the run time of Java. <br> Let's take an expression a+b. In python, the type of these variables/objects is not known at compile time. So, the inspection happens at run-time, only after the variables are assigned values. Then the subsequent addition operation is executed. However, in Java, the user already specifies the type associated with the variables/objects, which is known to the compiler during compiling.\n",
    "    \n",
    "- __Javascript ( interpreted )__\n",
    "    - Javascript bears resemblance to a part of Python. But Python supports much more functionalities. It provides the ease of writing much larger programs and better code re-usability through object-oriented programming style, which we will discuss about as we will proceed forward. Javascript is also interpreted and used heavily in web browser and user interface programming. Javascript is powerful and has lots of supporting libraries. Even the slideshow you are seeing is made by Javascript library reveal.js.\n",
    "\n",
    "- __C++ ( compiled )__\n",
    "    -  Python programs are shorter than their equivalent C++ code by a large amount. Programmers have learned from experience that writing a python code is much easier than a C++ code. This not only help in maintaining the code but also to focus on algorithmic part of the code."
   ]
  },
  {
   "cell_type": "markdown",
   "metadata": {
    "slideshow": {
     "slide_type": "subslide"
    }
   },
   "source": [
    "### Python tit-bits"
   ]
  },
  {
   "cell_type": "markdown",
   "metadata": {
    "slideshow": {
     "slide_type": "fragment"
    }
   },
   "source": [
    "- `Python Programming From the Command Line`\n",
    "    - Open a terminal window and type **_python_**. \n",
    "        This opens python in interactive mode.\n",
    "\n",
    "- `Python3 vs Python2`\n",
    "    - *Python 2's print statement has been replaced by the print( ) in Python 3*\n",
    "    - [Python3 v/s Python2 - please refer this site](http://sebastianraschka.com/Articles/2014_python_2_3_key_diff.html)\n",
    "\n",
    "- `Check python version`\n",
    "    - In the terminal window, type **_python --version_**\n",
    "    \n",
    "- **`A word of caution!`**\n",
    "    - _Whitespaces are typically ignored in many programming languages – spacing in your code. But in Python, improper use of spacing can generate syntax errors. So Python force well indented code_"
   ]
  },
  {
   "cell_type": "markdown",
   "metadata": {},
   "source": [
    "## Run Python code online\n",
    "\n",
    "- [Skulpt Python interpreter](http://pythonspot.com/run.php)<br>\n",
    "- [Repl.it Python interpreter](http://repl.it/languages/Python3)<br>\n",
    "- [Ideone.com Python interpreter](https://ideone.com/)<br>\n",
    "- [Codepad Python interpreter](http://codepad.org/)<br>\n"
   ]
  },
  {
   "cell_type": "markdown",
   "metadata": {},
   "source": [
    "## REPL and Program"
   ]
  },
  {
   "cell_type": "markdown",
   "metadata": {},
   "source": [
    "__REPL:__ This is a procedure that just accepts one command at a time,executes it and prints the result.\n",
    "\n",
    "The three steps at each iteration of the loop are:\n",
    "\n",
    "- read : read the character from the keyboards input buffer, and define a data-structure around it to represent the same.\n",
    "- eval : eval as the name suggests, _evaluates_ <br> the expression needs to be evaluated to comprehend what is the meaning associated with it and what it's supposed to do!\n",
    "- write : print a textual representation of the result from eval, so a user can see it."
   ]
  },
  {
   "cell_type": "markdown",
   "metadata": {},
   "source": [
    "__Python has a interactive shell ( IPython or Jupyter ) which is much more rich than a REPL__"
   ]
  },
  {
   "cell_type": "markdown",
   "metadata": {},
   "source": [
    "A program will be a file with __.py__ extension. It is a script which you will run by giving command as<br> __python your_file.py__ "
   ]
  },
  {
   "cell_type": "markdown",
   "metadata": {},
   "source": [
    "## Hello World !"
   ]
  },
  {
   "cell_type": "code",
   "execution_count": 1,
   "metadata": {
    "collapsed": false
   },
   "outputs": [
    {
     "name": "stdout",
     "output_type": "stream",
     "text": [
      "Hello World !\n"
     ]
    }
   ],
   "source": [
    "print \"Hello World !\""
   ]
  },
  {
   "cell_type": "markdown",
   "metadata": {},
   "source": [
    "`Can you open the text editor by your Jupyter and create a hello.py file and run it from terminal.`"
   ]
  },
  {
   "cell_type": "markdown",
   "metadata": {
    "slideshow": {
     "slide_type": "slide"
    }
   },
   "source": [
    "# First baby steps with Python"
   ]
  },
  {
   "cell_type": "markdown",
   "metadata": {
    "slideshow": {
     "slide_type": "subslide"
    }
   },
   "source": [
    "### Hello World with some style"
   ]
  },
  {
   "cell_type": "code",
   "execution_count": 2,
   "metadata": {
    "collapsed": false,
    "slideshow": {
     "slide_type": "fragment"
    }
   },
   "outputs": [
    {
     "name": "stdout",
     "output_type": "stream",
     "text": [
      "  *  \n",
      " *** \n",
      "*****\n",
      "Hello World !\n",
      "*****\n",
      " *** \n",
      "  *  \n"
     ]
    }
   ],
   "source": [
    "print(\"  *  \")\n",
    "print(\" *** \")\n",
    "print(\"*****\")\n",
    "print \"Hello World !\"\n",
    "print(\"*****\")\n",
    "print(\" *** \")\n",
    "print(\"  *  \")"
   ]
  },
  {
   "cell_type": "markdown",
   "metadata": {
    "slideshow": {
     "slide_type": "slide"
    }
   },
   "source": [
    "# Python data-types"
   ]
  },
  {
   "cell_type": "markdown",
   "metadata": {
    "slideshow": {
     "slide_type": "fragment"
    }
   },
   "source": [
    "Concepts to be touched :\n",
    "> - Numeric Values\n",
    "> - Variables\n",
    "> - Assignment\n",
    "> - Reserved Keywords"
   ]
  },
  {
   "cell_type": "markdown",
   "metadata": {
    "slideshow": {
     "slide_type": "slide"
    }
   },
   "source": [
    "### Numeric Values"
   ]
  },
  {
   "cell_type": "markdown",
   "metadata": {
    "slideshow": {
     "slide_type": "subslide"
    }
   },
   "source": [
    "Lets print a number, Print function takes any constant value, or assigned variable or string. Wait we will explain all of it very soon\n",
    "\n",
    "__`Constants :`__ \n",
    "\n",
    "Constants are just values which you can not change . For e.g. \n",
    "\n",
    "__`Numeric Constants :`__ All the Numbers - \n",
    "```Python\n",
    "1,2,3,5.6, 0.009\n",
    "```\n",
    "\n",
    "__`String Constants :` __ All the characters alone or together. They can be in double quotes or single quotes, they can also have white space in between  \n",
    "```Python \n",
    "'a', 'z', 'p'```\n",
    "\n",
    "```Python \n",
    "'Dallas', \"USA\", \"This is a string \"```\n",
    "\n"
   ]
  },
  {
   "cell_type": "code",
   "execution_count": 3,
   "metadata": {
    "collapsed": false,
    "slideshow": {
     "slide_type": "fragment"
    }
   },
   "outputs": [
    {
     "name": "stdout",
     "output_type": "stream",
     "text": [
      "10\n"
     ]
    }
   ],
   "source": [
    "print(10)"
   ]
  },
  {
   "cell_type": "markdown",
   "metadata": {
    "slideshow": {
     "slide_type": "fragment"
    }
   },
   "source": [
    "If the user enters 10, Python interprets it as an _Integer value_ 10"
   ]
  },
  {
   "cell_type": "code",
   "execution_count": 4,
   "metadata": {
    "collapsed": false,
    "slideshow": {
     "slide_type": "fragment"
    }
   },
   "outputs": [
    {
     "data": {
      "text/plain": [
       "10"
      ]
     },
     "execution_count": 4,
     "metadata": {},
     "output_type": "execute_result"
    }
   ],
   "source": [
    "10"
   ]
  },
  {
   "cell_type": "code",
   "execution_count": 5,
   "metadata": {
    "collapsed": false
   },
   "outputs": [
    {
     "name": "stdout",
     "output_type": "stream",
     "text": [
      "<type 'int'>\n",
      "<type 'float'>\n"
     ]
    }
   ],
   "source": [
    "#Python has a something to check the data type of any data \n",
    "print type(4)\n",
    "print type(.09)"
   ]
  },
  {
   "cell_type": "markdown",
   "metadata": {
    "slideshow": {
     "slide_type": "fragment"
    }
   },
   "source": [
    "If we enter \"10\", Python interprets it as a _String_. A String is a sequence of characters"
   ]
  },
  {
   "cell_type": "code",
   "execution_count": 6,
   "metadata": {
    "collapsed": false
   },
   "outputs": [
    {
     "name": "stdout",
     "output_type": "stream",
     "text": [
      "<type 'str'>\n",
      "<type 'str'>\n"
     ]
    }
   ],
   "source": [
    "print type(\"10\")\n",
    "print type('a')"
   ]
  },
  {
   "cell_type": "code",
   "execution_count": 7,
   "metadata": {
    "collapsed": false,
    "slideshow": {
     "slide_type": "fragment"
    }
   },
   "outputs": [
    {
     "data": {
      "text/plain": [
       "'10'"
      ]
     },
     "execution_count": 7,
     "metadata": {},
     "output_type": "execute_result"
    }
   ],
   "source": [
    "\"10\""
   ]
  },
  {
   "cell_type": "markdown",
   "metadata": {},
   "source": [
    "### So what can we do with these constants ?"
   ]
  },
  {
   "cell_type": "markdown",
   "metadata": {
    "slideshow": {
     "slide_type": "subslide"
    }
   },
   "source": [
    "We can perform normal arithmetic computations with them "
   ]
  },
  {
   "cell_type": "code",
   "execution_count": 8,
   "metadata": {
    "collapsed": false,
    "slideshow": {
     "slide_type": "fragment"
    }
   },
   "outputs": [
    {
     "data": {
      "text/plain": [
       "10"
      ]
     },
     "execution_count": 8,
     "metadata": {},
     "output_type": "execute_result"
    }
   ],
   "source": [
    "1 + 2 + 3 + 4"
   ]
  },
  {
   "cell_type": "markdown",
   "metadata": {
    "slideshow": {
     "slide_type": "fragment"
    }
   },
   "source": [
    "`As a default operation Ipython cell prints output of only the last expression`"
   ]
  },
  {
   "cell_type": "code",
   "execution_count": 9,
   "metadata": {
    "collapsed": false,
    "slideshow": {
     "slide_type": "fragment"
    }
   },
   "outputs": [
    {
     "data": {
      "text/plain": [
       "15"
      ]
     },
     "execution_count": 9,
     "metadata": {},
     "output_type": "execute_result"
    }
   ],
   "source": [
    "1 + 2\n",
    "1 + 2 + 3 + 4\n",
    "1 + 2 + 3 + 4 + 5"
   ]
  },
  {
   "cell_type": "markdown",
   "metadata": {
    "slideshow": {
     "slide_type": "subslide"
    }
   },
   "source": [
    "`We can use print function to print anywhere in between. Still last expression output will come as out `"
   ]
  },
  {
   "cell_type": "code",
   "execution_count": 10,
   "metadata": {
    "collapsed": false,
    "slideshow": {
     "slide_type": "fragment"
    }
   },
   "outputs": [
    {
     "name": "stdout",
     "output_type": "stream",
     "text": [
      "10\n"
     ]
    },
    {
     "data": {
      "text/plain": [
       "15"
      ]
     },
     "execution_count": 10,
     "metadata": {},
     "output_type": "execute_result"
    }
   ],
   "source": [
    "1 + 2\n",
    "print (1 + 2 + 3 + 4)\n",
    "1 + 2 + 3 + 4 + 5"
   ]
  },
  {
   "cell_type": "markdown",
   "metadata": {
    "slideshow": {
     "slide_type": "fragment"
    }
   },
   "source": [
    "`Lets print all together `"
   ]
  },
  {
   "cell_type": "code",
   "execution_count": 11,
   "metadata": {
    "collapsed": false,
    "slideshow": {
     "slide_type": "fragment"
    }
   },
   "outputs": [
    {
     "name": "stdout",
     "output_type": "stream",
     "text": [
      "3\n",
      "10\n",
      "15\n"
     ]
    }
   ],
   "source": [
    "print (1 + 2)\n",
    "print (1 + 2 + 3 + 4)\n",
    "print (1 + 2 + 3 + 4 + 5)"
   ]
  },
  {
   "cell_type": "markdown",
   "metadata": {},
   "source": [
    "## Now its your turn\n",
    "\n",
    "`Try all the possible arithmetic operations with Numeric Constants`\n",
    "\n",
    "`specially notice division (/) and modulus  (%)`"
   ]
  },
  {
   "cell_type": "code",
   "execution_count": 12,
   "metadata": {
    "collapsed": true
   },
   "outputs": [],
   "source": [
    "\n",
    "##YOUR CODE HERE\n",
    "\n"
   ]
  },
  {
   "cell_type": "markdown",
   "metadata": {},
   "source": [
    "### What about string constants ?"
   ]
  },
  {
   "cell_type": "markdown",
   "metadata": {
    "slideshow": {
     "slide_type": "subslide"
    }
   },
   "source": [
    "__`NOTE :`__ `We can use both single quotes (’) and double quotes (\") as delimiter for a string value. However, a combination of both isn't valid.`"
   ]
  },
  {
   "cell_type": "code",
   "execution_count": 13,
   "metadata": {
    "collapsed": false,
    "slideshow": {
     "slide_type": "fragment"
    }
   },
   "outputs": [
    {
     "name": "stdout",
     "output_type": "stream",
     "text": [
      "this is a string\n"
     ]
    }
   ],
   "source": [
    "print (\"this is a string\")"
   ]
  },
  {
   "cell_type": "code",
   "execution_count": 14,
   "metadata": {
    "collapsed": false,
    "slideshow": {
     "slide_type": "fragment"
    }
   },
   "outputs": [
    {
     "name": "stdout",
     "output_type": "stream",
     "text": [
      "this is also a string\n"
     ]
    }
   ],
   "source": [
    "print ('this is also a string')"
   ]
  },
  {
   "cell_type": "code",
   "execution_count": 15,
   "metadata": {
    "collapsed": false,
    "slideshow": {
     "slide_type": "fragment"
    }
   },
   "outputs": [
    {
     "ename": "SyntaxError",
     "evalue": "EOL while scanning string literal (<ipython-input-15-860f8e3d039e>, line 1)",
     "output_type": "error",
     "traceback": [
      "\u001b[0;36m  File \u001b[0;32m\"<ipython-input-15-860f8e3d039e>\"\u001b[0;36m, line \u001b[0;32m1\u001b[0m\n\u001b[0;31m    print (\"cannot represent string')\u001b[0m\n\u001b[0m                                    ^\u001b[0m\n\u001b[0;31mSyntaxError\u001b[0m\u001b[0;31m:\u001b[0m EOL while scanning string literal\n"
     ]
    }
   ],
   "source": [
    "print (\"cannot represent string')"
   ]
  },
  {
   "cell_type": "markdown",
   "metadata": {},
   "source": [
    "### Can we do some operations with string constants ?"
   ]
  },
  {
   "cell_type": "code",
   "execution_count": null,
   "metadata": {
    "collapsed": true
   },
   "outputs": [],
   "source": [
    "#Let's add two strings \n",
    "\n",
    "\"I am one \" + \"I am two \""
   ]
  },
  {
   "cell_type": "markdown",
   "metadata": {},
   "source": [
    "`okay, so we can add two strings this is called concatenation of two strings.`"
   ]
  },
  {
   "cell_type": "code",
   "execution_count": null,
   "metadata": {
    "collapsed": true
   },
   "outputs": [],
   "source": [
    "# lets try other arithmetic operations \n",
    "\n",
    "\"I am one \" - \"I am two \""
   ]
  },
  {
   "cell_type": "code",
   "execution_count": null,
   "metadata": {
    "collapsed": false
   },
   "outputs": [],
   "source": [
    "\"I am one \" * \"I am two \""
   ]
  },
  {
   "cell_type": "code",
   "execution_count": null,
   "metadata": {
    "collapsed": true
   },
   "outputs": [],
   "source": [
    "\"I am one \" / \"I am two \""
   ]
  },
  {
   "cell_type": "markdown",
   "metadata": {},
   "source": [
    "Python is always good for a quick try. So never hesitate to try out things. As much you'll try that much insight you'll gain. Now please notice the error python has given. \n",
    "\n",
    "```Python\n",
    "\"TypeError: unsupported operand type(s) for -: 'str' and 'str'\"\n",
    "```\n",
    "\n",
    "It means there are few rules which you have to learn and that's it. After that you can be as creative as you want.\n",
    "\n",
    "But Please try try try ..."
   ]
  },
  {
   "cell_type": "markdown",
   "metadata": {
    "slideshow": {
     "slide_type": "slide"
    }
   },
   "source": [
    "### Floating Type Values\n",
    "\n",
    "Python save fractions in decimal values. They have special type which is called __`float`__ . Floats take more space in memory."
   ]
  },
  {
   "cell_type": "code",
   "execution_count": null,
   "metadata": {
    "collapsed": true,
    "slideshow": {
     "slide_type": "fragment"
    }
   },
   "outputs": [],
   "source": [
    "2.78\n",
    "type(2.78)"
   ]
  },
  {
   "cell_type": "markdown",
   "metadata": {},
   "source": [
    "`Can you do all the arithmetic operation on float type values and see the difference `"
   ]
  },
  {
   "cell_type": "code",
   "execution_count": null,
   "metadata": {
    "collapsed": false
   },
   "outputs": [],
   "source": [
    "\n",
    "#YOUR CODE HERE\n"
   ]
  },
  {
   "cell_type": "code",
   "execution_count": null,
   "metadata": {
    "collapsed": true
   },
   "outputs": [],
   "source": [
    "2.3/3"
   ]
  },
  {
   "cell_type": "code",
   "execution_count": null,
   "metadata": {
    "collapsed": true
   },
   "outputs": [],
   "source": [
    "3/2.3"
   ]
  },
  {
   "cell_type": "code",
   "execution_count": null,
   "metadata": {
    "collapsed": true
   },
   "outputs": [],
   "source": [
    "# Integer divided by Integer \n",
    "#  This may vary from Python 2.7 and Python 3 \n",
    "\n",
    "3/2"
   ]
  },
  {
   "cell_type": "markdown",
   "metadata": {},
   "source": [
    "### So can we convert the types of constants ?"
   ]
  },
  {
   "cell_type": "code",
   "execution_count": null,
   "metadata": {
    "collapsed": true
   },
   "outputs": [],
   "source": [
    "int('4')"
   ]
  },
  {
   "cell_type": "code",
   "execution_count": null,
   "metadata": {
    "collapsed": true
   },
   "outputs": [],
   "source": [
    "str(4)"
   ]
  },
  {
   "cell_type": "code",
   "execution_count": null,
   "metadata": {
    "collapsed": true
   },
   "outputs": [],
   "source": [
    "float(4)"
   ]
  },
  {
   "cell_type": "code",
   "execution_count": null,
   "metadata": {
    "collapsed": true
   },
   "outputs": [],
   "source": [
    "float('4')"
   ]
  },
  {
   "cell_type": "code",
   "execution_count": null,
   "metadata": {
    "collapsed": true
   },
   "outputs": [],
   "source": [
    "str(4.5)"
   ]
  },
  {
   "cell_type": "markdown",
   "metadata": {},
   "source": [
    "\n",
    "### Can you explore bool type constants ?\n"
   ]
  },
  {
   "cell_type": "code",
   "execution_count": null,
   "metadata": {
    "collapsed": false
   },
   "outputs": [],
   "source": [
    "\n",
    "#YOUR CODE HERE\n"
   ]
  },
  {
   "cell_type": "markdown",
   "metadata": {
    "slideshow": {
     "slide_type": "slide"
    }
   },
   "source": [
    "### So How can we work with these constants can we store it <br>or change it ?\n",
    "\n",
    "## Variables"
   ]
  },
  {
   "cell_type": "markdown",
   "metadata": {},
   "source": [
    "`Variable are names we can read it as a is assigned a value 30 `"
   ]
  },
  {
   "cell_type": "code",
   "execution_count": null,
   "metadata": {
    "collapsed": true,
    "slideshow": {
     "slide_type": "fragment"
    }
   },
   "outputs": [],
   "source": [
    "# Now we can refer a and since it has been assigned 30 we can use it \n",
    "a = 30 \n",
    "print \"a is \", a \n",
    "\n",
    "# what is I decide to change this value ?\n",
    "\n",
    "a = 90\n",
    "print \"a is \", a\n",
    "\n"
   ]
  },
  {
   "cell_type": "markdown",
   "metadata": {},
   "source": [
    "`So values are assignned to a variable which just hold that value and it can change`"
   ]
  },
  {
   "cell_type": "code",
   "execution_count": null,
   "metadata": {
    "collapsed": true,
    "slideshow": {
     "slide_type": "fragment"
    }
   },
   "outputs": [],
   "source": [
    "# Lets assign a value to a constant \n",
    "5 = 'w'"
   ]
  },
  {
   "cell_type": "code",
   "execution_count": null,
   "metadata": {
    "collapsed": true
   },
   "outputs": [],
   "source": [
    "9 = 0"
   ]
  },
  {
   "cell_type": "markdown",
   "metadata": {},
   "source": [
    "### Variable assignment in Python \n",
    "\n",
    "`Variable can also assigned another variable as a value. In python variables are bound to one value but not with location in the memory `"
   ]
  },
  {
   "cell_type": "markdown",
   "metadata": {},
   "source": [
    "![](files/img/variables.png)"
   ]
  },
  {
   "cell_type": "code",
   "execution_count": null,
   "metadata": {
    "collapsed": true
   },
   "outputs": [],
   "source": [
    "a= 10 \n",
    "b = 199\n",
    "print a \n",
    "print b \n",
    "print \"--------\"\n",
    "a= 2\n",
    "print a \n",
    "print b \n",
    "print \"--------\"\n",
    "a=b\n",
    "print a \n",
    "print b \n",
    "print \"--------\"\n",
    "b =45\n",
    "print a \n",
    "print b \n",
    "print \"--------\"\n"
   ]
  },
  {
   "cell_type": "markdown",
   "metadata": {},
   "source": [
    "\n",
    "### Do more hands on with it until it become your _programming intuition_ to visualize variables in this way. \n",
    "`Do with 3 variables `"
   ]
  },
  {
   "cell_type": "code",
   "execution_count": null,
   "metadata": {
    "collapsed": false
   },
   "outputs": [],
   "source": [
    "\n",
    "# YOUR CODE HERE\n"
   ]
  },
  {
   "cell_type": "markdown",
   "metadata": {},
   "source": [
    "## Python is Dynamically Typed Language"
   ]
  },
  {
   "cell_type": "markdown",
   "metadata": {},
   "source": [
    "Even though the typing of objects happens at run-time, it makes sense for a programmer to figure out the type associated with the variable, as soon as it is assigned a value. This prevents the need for having to explicitly mention the type.\n",
    "\n",
    "Additionally,  we can also change the assignment to other types of data as well."
   ]
  },
  {
   "cell_type": "code",
   "execution_count": null,
   "metadata": {
    "collapsed": true
   },
   "outputs": [],
   "source": [
    "x = 4\n",
    "print type(x)\n",
    "\n",
    "x = '4'\n",
    "print type(x)"
   ]
  },
  {
   "cell_type": "markdown",
   "metadata": {
    "slideshow": {
     "slide_type": "subslide"
    }
   },
   "source": [
    "### floating and integer values, the type of the result\n",
    "\n",
    "> **(int) op (int)** , result is of type **(int)**\n",
    ">\n",
    "> **(float) op (int)** OR **(int) op (float)** , result is of type **(float)**\n",
    ">\n",
    "> **(float) op (float)** , result is of type **(float)**\n",
    "\n",
    "5 / 2 = 2\n",
    "\n",
    "5 / 2.0 = 2.5\n",
    "\n",
    "3 + 2 = 5\n",
    "\n",
    "3.0 + 2 = 5.0"
   ]
  },
  {
   "cell_type": "markdown",
   "metadata": {
    "slideshow": {
     "slide_type": "slide"
    }
   },
   "source": [
    "### Chained assignment"
   ]
  },
  {
   "cell_type": "markdown",
   "metadata": {
    "slideshow": {
     "slide_type": "fragment"
    }
   },
   "source": [
    "Assignment of variable follow from right to left. \n",
    "\n",
    "\n",
    "**a = b = c = 10**\n",
    "\n",
    "c is assigned the value 10\n",
    "\n",
    "b is assigned the value of c\n",
    "\n",
    "a is assigned the value of b"
   ]
  },
  {
   "cell_type": "code",
   "execution_count": null,
   "metadata": {
    "collapsed": true,
    "slideshow": {
     "slide_type": "fragment"
    }
   },
   "outputs": [],
   "source": [
    "x = y = 10\n",
    "print(x)"
   ]
  },
  {
   "cell_type": "markdown",
   "metadata": {
    "slideshow": {
     "slide_type": "slide"
    }
   },
   "source": [
    "## Variables Naming Conventions"
   ]
  },
  {
   "cell_type": "markdown",
   "metadata": {
    "slideshow": {
     "slide_type": "subslide"
    }
   },
   "source": [
    "`While naming variables in Python, there are some conventions to be adhered to. A variable name is one example of an identifier. Rules for creating an identifier:`\n",
    "\n",
    "> - `Identifiers must contain at least one character`\n",
    "> - `The first character must be an alphabet (upper or lower case) or the underscore`\n",
    "> - `The remaining characters (if any) may be alphabets (upper or lower case), underscore(\\_), or a digit(0-9)`\n",
    "> - `Special characters (including spaces) are NOT permitted in identifiers`\n",
    "> - `A reserved word cannot be used as an identifier`\n",
    "\n",
    "Python has a set of reserved words a.k.a __keywords__, which it uses for defining the structure of the program and statement.\n",
    "\n",
    "`The complete set of keywords can be found ` [here](http://zetcode.com/lang/python/keywords/)"
   ]
  },
  {
   "cell_type": "markdown",
   "metadata": {},
   "source": [
    "![](files/img/keywords.jpg)"
   ]
  },
  {
   "cell_type": "code",
   "execution_count": null,
   "metadata": {
    "collapsed": true,
    "slideshow": {
     "slide_type": "fragment"
    }
   },
   "outputs": [],
   "source": [
    "class = 15"
   ]
  },
  {
   "cell_type": "markdown",
   "metadata": {
    "slideshow": {
     "slide_type": "fragment"
    }
   },
   "source": [
    "`This fails because class is a reserved keyword`"
   ]
  },
  {
   "cell_type": "code",
   "execution_count": null,
   "metadata": {
    "collapsed": true,
    "slideshow": {
     "slide_type": "fragment"
    }
   },
   "outputs": [],
   "source": [
    "Class = 15\n",
    "Class"
   ]
  },
  {
   "cell_type": "markdown",
   "metadata": {},
   "source": [
    "### Pythonic Way \n",
    "`In python we use variable names which are descriptive about the variable's function and use. `\n",
    "\n",
    "`If it is a compound word it is  separated by underscore( _ ) for e.g. date_today , count_students etc`\n"
   ]
  },
  {
   "cell_type": "markdown",
   "metadata": {},
   "source": [
    "### Let's explore print( )"
   ]
  },
  {
   "cell_type": "markdown",
   "metadata": {},
   "source": [
    "```Python\n",
    "a= 50 \n",
    "print (\"value of a is \"+ a)\n",
    "```\n",
    "This code will fail, as python cannot concatenate \"Value of a =\" which is a __string__ and __a__ i.e. 50 which is an __integer__."
   ]
  },
  {
   "cell_type": "code",
   "execution_count": null,
   "metadata": {
    "collapsed": true
   },
   "outputs": [],
   "source": [
    "a = 50\n",
    "print(\"Value of a = \" + a)"
   ]
  },
  {
   "cell_type": "markdown",
   "metadata": {},
   "source": [
    "`There are a following ways to print an integer.`\n",
    "\n",
    "\n",
    "\n",
    "```Python\n",
    "a = 50\n",
    "print(\"Value of a = \" + str(a))```\n",
    "\n",
    "`convert 'a' to string . So, in the print() we are essentially concatenating two strings.`\n",
    "\n",
    "```Python\n",
    "print(\"Value of a = %s and we can write more after it \" % (a))```\n",
    "`This is another way to convert a to a String and insert it into the existing String` \n",
    "\n",
    "\n",
    "```Python\n",
    "print \"value of a is \", a\n",
    "```\n",
    "`In Python 2.7 we can use very simple way to print any value. Just separate it with comma (,)`\n",
    "\n",
    "```Python\n",
    "print 'value of a is {} '.format(a) \n",
    "```\n",
    "\n",
    "```Python\n",
    "a=90\n",
    "b = 30 \n",
    "print 'value of a is {} and value b is {}  '.format(a, b ) \n",
    "```\n",
    "\n",
    "\n",
    "\n"
   ]
  },
  {
   "cell_type": "code",
   "execution_count": null,
   "metadata": {
    "collapsed": true
   },
   "outputs": [],
   "source": [
    "a=90\n",
    "b = 30 \n",
    "print 'value of a is {} and value b is {}  '.format(a, b )"
   ]
  },
  {
   "cell_type": "code",
   "execution_count": null,
   "metadata": {
    "collapsed": true
   },
   "outputs": [],
   "source": [
    "print 'value of a is {} '.format(a) "
   ]
  },
  {
   "cell_type": "code",
   "execution_count": null,
   "metadata": {
    "collapsed": true
   },
   "outputs": [],
   "source": [
    "a = 90\n",
    "print \"value of a is \", a"
   ]
  },
  {
   "cell_type": "markdown",
   "metadata": {},
   "source": [
    "### You can explore print function, there are lot of ways and its a personal choice.\n",
    "`Please refer python doc for more ways `\n",
    "\n",
    "https://docs.python.org/2/tutorial/inputoutput.html"
   ]
  },
  {
   "cell_type": "markdown",
   "metadata": {
    "collapsed": false,
    "slideshow": {
     "slide_type": "slide"
    }
   },
   "source": [
    "## User Input"
   ]
  },
  {
   "cell_type": "markdown",
   "metadata": {
    "collapsed": true,
    "slideshow": {
     "slide_type": "subslide"
    }
   },
   "source": [
    "To make a interactive program which can take values from user . We need some way to take input and python has `input()` and `raw_input()` functions for that. They assign the value to a variable.\n",
    "\n",
    "`Lets work out a simple example `"
   ]
  },
  {
   "cell_type": "code",
   "execution_count": null,
   "metadata": {
    "collapsed": true,
    "slideshow": {
     "slide_type": "fragment"
    }
   },
   "outputs": [],
   "source": [
    "a  = raw_input(\"please provide a input \")\n",
    "print a "
   ]
  },
  {
   "cell_type": "markdown",
   "metadata": {
    "slideshow": {
     "slide_type": "subslide"
    }
   },
   "source": [
    "### Let's build a simple interactive program"
   ]
  },
  {
   "cell_type": "code",
   "execution_count": null,
   "metadata": {
    "collapsed": true,
    "slideshow": {
     "slide_type": "fragment"
    }
   },
   "outputs": [],
   "source": [
    "print \"Enter 1st number:\"\n",
    "x = int(raw_input())\n",
    "print \"Enter 2nd number:\" \n",
    "y = int(raw_input())\n",
    "print \"Addition :\", (x + y)\n",
    "print \"Subtraction :\", (x - y)"
   ]
  },
  {
   "cell_type": "markdown",
   "metadata": {},
   "source": [
    "### `Try : Give some integer to above program and check what error comes .`"
   ]
  },
  {
   "cell_type": "markdown",
   "metadata": {
    "collapsed": true
   },
   "source": [
    "To take raw inputs we can use `raw_input()` function. It takes everything as string and you can change its type according to the program.\n",
    "\n",
    "So user is free from remembering whether to give string with quotes or integer without quotes."
   ]
  },
  {
   "cell_type": "code",
   "execution_count": null,
   "metadata": {
    "collapsed": true
   },
   "outputs": [],
   "source": [
    "print(\"Enter 1st number:\")\n",
    "x = raw_input()\n",
    "print type(x)"
   ]
  },
  {
   "cell_type": "code",
   "execution_count": null,
   "metadata": {
    "collapsed": true
   },
   "outputs": [],
   "source": [
    "print(\"Enter 1st number:\")\n",
    "x = int(raw_input())\n",
    "print type(x)"
   ]
  },
  {
   "cell_type": "code",
   "execution_count": null,
   "metadata": {
    "collapsed": true
   },
   "outputs": [],
   "source": [
    "print(\"Enter 1st number:\")\n",
    "x = int(raw_input())\n",
    "print type(x)"
   ]
  },
  {
   "cell_type": "markdown",
   "metadata": {
    "slideshow": {
     "slide_type": "subslide"
    }
   },
   "source": [
    "## Expressions"
   ]
  },
  {
   "cell_type": "markdown",
   "metadata": {},
   "source": [
    "- We have seen variable and now we also know that variables have type which python infer as we assign a value to it.\n",
    "\n",
    "- We also know that each type has certain operators (Arithmetic as well as Boolean )\n",
    "\n",
    "- Lets explore more on operators and how we can create expressions in python. "
   ]
  },
  {
   "cell_type": "code",
   "execution_count": null,
   "metadata": {
    "collapsed": true
   },
   "outputs": [],
   "source": [
    "### Let's write a simple expression \n",
    "\n",
    "x = 3 \n",
    "y = 7\n",
    "z = x+y \n",
    "print \"value of z is\", z"
   ]
  },
  {
   "cell_type": "code",
   "execution_count": null,
   "metadata": {
    "collapsed": true
   },
   "outputs": [],
   "source": [
    "# we can also do \n",
    "print \"value of z is\", (x+y)"
   ]
  },
  {
   "cell_type": "code",
   "execution_count": null,
   "metadata": {
    "collapsed": false
   },
   "outputs": [],
   "source": [
    "\n",
    "#YOUR CODE HERE\n"
   ]
  },
  {
   "cell_type": "markdown",
   "metadata": {
    "slideshow": {
     "slide_type": "subslide"
    }
   },
   "source": [
    "### Operator precedence and associativity\n",
    "\n",
    "\n",
    "__Precedence__ : `when an expression contains two different kinds of operators, which one should be applied first`\n",
    "\n",
    "__Associativity__ : `when an expression contains two operators with the same precedence, which one should be applied first`"
   ]
  },
  {
   "cell_type": "markdown",
   "metadata": {
    "slideshow": {
     "slide_type": "subslide"
    }
   },
   "source": [
    "__Python follow general mathematical precedence __\n",
    "\n",
    "`Multiplication/Division has higher precedence over Addition/Subtraction.`\n"
   ]
  },
  {
   "cell_type": "code",
   "execution_count": null,
   "metadata": {
    "collapsed": true,
    "slideshow": {
     "slide_type": "fragment"
    }
   },
   "outputs": [],
   "source": [
    "10 + 20 * 3\n",
    "\n",
    "# evaluated as 10 + (20*3) = 10 +60 = 70 "
   ]
  },
  {
   "cell_type": "code",
   "execution_count": null,
   "metadata": {
    "collapsed": true
   },
   "outputs": [],
   "source": [
    "# Lets check more\n",
    "\n",
    "10 - 20/3\n"
   ]
  },
  {
   "cell_type": "markdown",
   "metadata": {
    "slideshow": {
     "slide_type": "subslide"
    }
   },
   "source": [
    "__Let's check associativity__"
   ]
  },
  {
   "cell_type": "markdown",
   "metadata": {},
   "source": [
    "`Python has associativity left to right. So if two operator which are of same precedence python will evaluate from left to right`"
   ]
  },
  {
   "cell_type": "code",
   "execution_count": null,
   "metadata": {
    "collapsed": true,
    "slideshow": {
     "slide_type": "fragment"
    }
   },
   "outputs": [],
   "source": [
    "10 - 3 - 4"
   ]
  },
  {
   "cell_type": "code",
   "execution_count": null,
   "metadata": {
    "collapsed": false
   },
   "outputs": [],
   "source": [
    "10 * 20 /3"
   ]
  },
  {
   "cell_type": "code",
   "execution_count": null,
   "metadata": {
    "collapsed": false
   },
   "outputs": [],
   "source": [
    "\n",
    "#TRY OUT ON YOUR OWN \n"
   ]
  },
  {
   "cell_type": "markdown",
   "metadata": {
    "slideshow": {
     "slide_type": "subslide"
    }
   },
   "source": [
    "`Unary operators have higher precedence over binary operators and unary operators are right associative`"
   ]
  },
  {
   "cell_type": "code",
   "execution_count": null,
   "metadata": {
    "collapsed": true
   },
   "outputs": [],
   "source": [
    "-9 + 23\n",
    "\n",
    "# This is evaluated as (-9) + 23"
   ]
  },
  {
   "cell_type": "code",
   "execution_count": null,
   "metadata": {
    "collapsed": false
   },
   "outputs": [],
   "source": []
  },
  {
   "cell_type": "markdown",
   "metadata": {
    "slideshow": {
     "slide_type": "slide"
    }
   },
   "source": [
    "### Comments"
   ]
  },
  {
   "cell_type": "markdown",
   "metadata": {
    "slideshow": {
     "slide_type": "fragment"
    }
   },
   "source": [
    "`It is a good practice to annotate your code by adding information about the importance and significance of that segment of code.`\n",
    "\n",
    "`Any text contained within comments is ignored by the Python interpreter. The # symbol begins a comment in the source code.`"
   ]
  },
  {
   "cell_type": "code",
   "execution_count": null,
   "metadata": {
    "collapsed": true,
    "slideshow": {
     "slide_type": "fragment"
    }
   },
   "outputs": [],
   "source": [
    "print(\"This statement is NOT commented\")\n",
    "#print(\"This statement is commented\")"
   ]
  },
  {
   "cell_type": "markdown",
   "metadata": {},
   "source": [
    "`To give more comments or block comments you can use` ` \"\"\"This is a block comment \"\"\"` or  ` '''This is also a comment '''"
   ]
  },
  {
   "cell_type": "code",
   "execution_count": null,
   "metadata": {
    "collapsed": true
   },
   "outputs": [],
   "source": [
    "\"\"\"\n",
    "Since I am going to write a function, so as a good programming practice\n",
    "I should  explain what this function does, what all parameter it accept and\n",
    "what it return.\n",
    "\n",
    "You'll learn about the functions soon \n",
    "\n",
    "\"\"\"\n",
    "\n",
    "\n",
    "'''\n",
    "I can use singe quotes as well,\n",
    "This is called doc_string which is used by \n",
    "automatics document builders which pickup comments and \n",
    "blocks and create a nice documentation for your project\n",
    "\n",
    "'''\n",
    "\n",
    "print \"only this should print \"\n",
    "\n",
    "\n"
   ]
  },
  {
   "cell_type": "markdown",
   "metadata": {
    "slideshow": {
     "slide_type": "slide"
    }
   },
   "source": [
    "### Some Pythonic operators"
   ]
  },
  {
   "cell_type": "markdown",
   "metadata": {
    "slideshow": {
     "slide_type": "fragment"
    }
   },
   "source": [
    "As you might have seen during programming concepts , incrementing and decrementing any variable is very common.\n",
    "Python also provide  few short hand operators which can reduce the time of it :)\n",
    "\n",
    "\n",
    "`x op= exp`\n",
    "- where x is a variable\n",
    "- op is an arithmetic operator (+=, -=, \\*=, /=, //=, %=)\n",
    "- exp is an expression compatible with variable x\n",
    "\n",
    "So it is implemented as \n",
    "\n",
    "`x = x op exp `"
   ]
  },
  {
   "cell_type": "markdown",
   "metadata": {},
   "source": [
    "`Now what does it mean `"
   ]
  },
  {
   "cell_type": "code",
   "execution_count": null,
   "metadata": {
    "collapsed": false
   },
   "outputs": [],
   "source": [
    "# increment x by one\n",
    "x = 1\n",
    "x+=1   # which is x = x+1"
   ]
  },
  {
   "cell_type": "code",
   "execution_count": null,
   "metadata": {
    "collapsed": true
   },
   "outputs": [],
   "source": [
    "# decrement x by one\n",
    "\n",
    "x = 90\n",
    "x-=1\n",
    "\n",
    "print x"
   ]
  },
  {
   "cell_type": "code",
   "execution_count": null,
   "metadata": {
    "collapsed": true
   },
   "outputs": [],
   "source": [
    "#  increment x by a \n",
    "# There is no change in a\n",
    "\n",
    "x = 12\n",
    "a = 20 \n",
    "\n",
    "x+=a\n",
    "\n",
    "print x\n",
    "print a"
   ]
  },
  {
   "cell_type": "markdown",
   "metadata": {},
   "source": [
    "### Can you explain the below code ?"
   ]
  },
  {
   "cell_type": "code",
   "execution_count": null,
   "metadata": {
    "collapsed": true
   },
   "outputs": [],
   "source": [
    "a = 10 \n",
    "b = 9\n",
    "c = 1\n",
    "c +=(a*b)\n",
    "print c"
   ]
  },
  {
   "cell_type": "code",
   "execution_count": null,
   "metadata": {
    "collapsed": true
   },
   "outputs": [],
   "source": [
    "p = 0\n",
    "\n",
    "p *= 20\n",
    "\n",
    "print p"
   ]
  },
  {
   "cell_type": "code",
   "execution_count": null,
   "metadata": {
    "collapsed": false
   },
   "outputs": [],
   "source": [
    "# lets assign a value to a \n",
    "a = 2"
   ]
  },
  {
   "cell_type": "code",
   "execution_count": null,
   "metadata": {
    "collapsed": true
   },
   "outputs": [],
   "source": [
    "#  Execute this block for multiple time\n",
    "\n",
    "a+=2\n",
    "print a \n"
   ]
  },
  {
   "cell_type": "code",
   "execution_count": null,
   "metadata": {
    "collapsed": false
   },
   "outputs": [],
   "source": []
  },
  {
   "cell_type": "markdown",
   "metadata": {},
   "source": [
    "### `All these are styles and python has its own. It is very popular and you'll see such things a lot. We have one whole  hands on tutorial on pythonic style of coding. `\n",
    "`Python is popular for its easy,fast and intuitive code writing. Pythonic way will come with python data structure. It also helps in reducing line of code you write which in turn reduce the maintenance  of your software.`"
   ]
  },
  {
   "cell_type": "markdown",
   "metadata": {},
   "source": [
    "## Comparison operators\n",
    "\n"
   ]
  },
  {
   "cell_type": "markdown",
   "metadata": {},
   "source": [
    "To work with boolean expressions python has all the comparative operators.\n",
    "\n",
    "`The following operators evaluate to True`\n",
    "\n",
    "```Python \n",
    "a > b  #a is greater than b\n",
    "\n",
    "a >= b #a is greater than or equals to b\n",
    "\n",
    "a < b  #a is less than  b\n",
    "\n",
    "a <= b #a is less than or equals b\n",
    "\n",
    "a == b #a is equals to b \n",
    "\n",
    "a != b #a is not equals to b \n",
    "\n",
    "```\n",
    "\n",
    "\n"
   ]
  },
  {
   "cell_type": "markdown",
   "metadata": {},
   "source": [
    "### Boolean value of single Variable and Constant \n",
    "\n",
    "Any variable which has some value will evaluate to True \n",
    "\n",
    "If any variable is assigned to __`None`__ it will evaluate to false "
   ]
  },
  {
   "cell_type": "code",
   "execution_count": null,
   "metadata": {
    "collapsed": true
   },
   "outputs": [],
   "source": [
    "# Lets work out simple examples\n",
    "\n",
    "print 3<5"
   ]
  },
  {
   "cell_type": "code",
   "execution_count": null,
   "metadata": {
    "collapsed": true
   },
   "outputs": [],
   "source": [
    "print 3 == 5"
   ]
  },
  {
   "cell_type": "code",
   "execution_count": null,
   "metadata": {
    "collapsed": true
   },
   "outputs": [],
   "source": [
    "print 3 != 4"
   ]
  },
  {
   "cell_type": "code",
   "execution_count": null,
   "metadata": {
    "collapsed": true
   },
   "outputs": [],
   "source": [
    "a = 9\n",
    "b = 9\n",
    "\n",
    "print a==b "
   ]
  },
  {
   "cell_type": "code",
   "execution_count": null,
   "metadata": {
    "collapsed": true
   },
   "outputs": [],
   "source": [
    "a = 9 \n",
    "b = 8\n",
    "\n",
    "print a==b"
   ]
  },
  {
   "cell_type": "code",
   "execution_count": null,
   "metadata": {
    "collapsed": true
   },
   "outputs": [],
   "source": [
    "print a <= b "
   ]
  },
  {
   "cell_type": "code",
   "execution_count": null,
   "metadata": {
    "collapsed": true
   },
   "outputs": [],
   "source": [
    "x = 7\n",
    "y = 7\n",
    "\n",
    "print x <= y"
   ]
  },
  {
   "cell_type": "markdown",
   "metadata": {
    "slideshow": {
     "slide_type": "subslide"
    }
   },
   "source": [
    "`Are the following statements equivalent?`\n",
    "\n",
    "**x != y**\n",
    "\n",
    "**!(x == y)**\n",
    "\n",
    "**x < y or x > y**"
   ]
  },
  {
   "cell_type": "markdown",
   "metadata": {},
   "source": [
    "## Boolean Expressions "
   ]
  },
  {
   "cell_type": "markdown",
   "metadata": {},
   "source": [
    "Python has following boolean operators\n",
    "\n",
    "```Python \n",
    "\n",
    "x and y  # exp x is And'ed with y \n",
    "\n",
    "x or y  # exp x is Or'ed with y \n",
    "\n",
    "not x # negation of x\n",
    "\n",
    "```"
   ]
  },
  {
   "cell_type": "code",
   "execution_count": null,
   "metadata": {
    "collapsed": true
   },
   "outputs": [],
   "source": [
    "x = 7\n",
    "y = 7\n",
    "\n",
    "print (x <= y  or x==y )"
   ]
  },
  {
   "cell_type": "code",
   "execution_count": null,
   "metadata": {
    "collapsed": true
   },
   "outputs": [],
   "source": [
    "x = 5\n",
    "y = 7\n",
    "\n",
    "print (x <= y  and  x!=y )"
   ]
  },
  {
   "cell_type": "code",
   "execution_count": null,
   "metadata": {
    "collapsed": true
   },
   "outputs": [],
   "source": [
    "# Since x has some value assigned it will always be True\n",
    "not x"
   ]
  },
  {
   "cell_type": "code",
   "execution_count": null,
   "metadata": {
    "collapsed": true
   },
   "outputs": [],
   "source": [
    "x = None\n",
    "\n",
    "print x"
   ]
  },
  {
   "cell_type": "code",
   "execution_count": null,
   "metadata": {
    "collapsed": true
   },
   "outputs": [],
   "source": [
    "# Since x is now None it is evaluated as False\n",
    "x = None\n",
    "not x"
   ]
  },
  {
   "cell_type": "code",
   "execution_count": null,
   "metadata": {
    "collapsed": false
   },
   "outputs": [],
   "source": [
    "# Can you evaluate following expression \n",
    "\n",
    "x = 12\n",
    "y = 9\n",
    "\n",
    "(x < y ) or x\n"
   ]
  },
  {
   "cell_type": "code",
   "execution_count": null,
   "metadata": {
    "collapsed": true
   },
   "outputs": [],
   "source": [
    "# Can you evaluate following expression \n",
    "x >= y and not y  "
   ]
  },
  {
   "cell_type": "code",
   "execution_count": null,
   "metadata": {
    "collapsed": false
   },
   "outputs": [],
   "source": [
    "raining_today = True\n",
    "\n",
    "going_school = False\n",
    "\n",
    "print raining_today and going_school\n"
   ]
  },
  {
   "cell_type": "code",
   "execution_count": null,
   "metadata": {
    "collapsed": false
   },
   "outputs": [],
   "source": [
    "not raining_today or not going_school"
   ]
  },
  {
   "cell_type": "markdown",
   "metadata": {},
   "source": [
    "\n",
    "## Can you make boolean expressions from it \n",
    "\n",
    "`All players belong to a club`\n",
    "\n",
    "`All players playing for club X have salaries greater than $125,000`\n",
    "\n",
    "`All players in club Y earn Avg of $100,000 per year.`\n",
    "\n",
    "`Rooney is a player and he plays for X`\n",
    "\n",
    "`Oliver is a player and he plays for Y`"
   ]
  },
  {
   "cell_type": "code",
   "execution_count": null,
   "metadata": {
    "collapsed": false
   },
   "outputs": [],
   "source": [
    "\n",
    "#create your own variable and try out your own expressions\n",
    "\n"
   ]
  },
  {
   "cell_type": "markdown",
   "metadata": {},
   "source": [
    "## Conditional Control Statements"
   ]
  },
  {
   "cell_type": "markdown",
   "metadata": {},
   "source": [
    "Once we are familiar with above all, we are ready to write some conditional statements. \n",
    "\n",
    "Python has `if - else ` and `if elif ` as conditional statements which evaluate a boolean expression and change the order of the program. \n",
    "\n",
    "```Python \n",
    "\n",
    "a = 90\n",
    "b = 87\n",
    "\n",
    "if a> b :\n",
    "    print 'a is greater than b'\n",
    "\n",
    "print 'next statement'\n",
    "\n",
    "\n",
    "```\n",
    "\n",
    "`After the conditional statement you have write colon( : ) and indent the block. Python take the indented block as block inside the if condition. You can use tab  to do that.`"
   ]
  },
  {
   "cell_type": "code",
   "execution_count": null,
   "metadata": {
    "collapsed": true
   },
   "outputs": [],
   "source": [
    "a = 90\n",
    "b = 87\n",
    "if a> b :\n",
    "    print 'a is greater than b'\n",
    "\n",
    "print 'next statement'"
   ]
  },
  {
   "cell_type": "code",
   "execution_count": null,
   "metadata": {
    "collapsed": true
   },
   "outputs": [],
   "source": [
    "#This condition can be any complected boolean expression \n",
    "\n",
    "x = 30 \n",
    "y = 90\n",
    "z = x+y \n",
    "\n",
    "a = 12.3\n",
    "b = 12\n",
    "\n",
    "if a >= b and z>= x+y :\n",
    "    print 'inside the if block'\n"
   ]
  },
  {
   "cell_type": "code",
   "execution_count": null,
   "metadata": {
    "collapsed": true
   },
   "outputs": [],
   "source": [
    "# You should use braces for clarity on your code \n",
    "\n",
    "if (a >= b)  and ( z>= x+y ) :\n",
    "    print 'inside the if block'"
   ]
  },
  {
   "cell_type": "markdown",
   "metadata": {},
   "source": [
    "`If the condition is false it check for  ` else ` block, and if available goes inside that. If else block is not available the next statement is executed.`"
   ]
  },
  {
   "cell_type": "code",
   "execution_count": null,
   "metadata": {
    "collapsed": true
   },
   "outputs": [],
   "source": [
    "x = 30 \n",
    "y = 90\n",
    "z = x+y \n",
    "\n",
    "a = 12.3\n",
    "b = 12\n",
    "\n",
    "if a >= b and z>= x+y+100 :\n",
    "    print 'inside the if block'\n",
    "else:\n",
    "    print 'inside the else block'\n",
    "    \n",
    "print 'next statements '"
   ]
  },
  {
   "cell_type": "markdown",
   "metadata": {},
   "source": [
    "`If you have more than one condition then elif is used but if you use elif you should always have one else` "
   ]
  },
  {
   "cell_type": "code",
   "execution_count": null,
   "metadata": {
    "collapsed": true
   },
   "outputs": [],
   "source": [
    "num = raw_input('enter a number')\n",
    "\n",
    "if num ==0 :\n",
    "    print 'number is zero'\n",
    "elif num < 0 :\n",
    "    print 'number is negative'\n",
    "elif num > 0 :\n",
    "    print 'number is positive'\n",
    "else:\n",
    "    print \"please input a valid number\""
   ]
  },
  {
   "cell_type": "code",
   "execution_count": null,
   "metadata": {
    "collapsed": true
   },
   "outputs": [],
   "source": [
    "# did you try giving string value in the above function ?\n",
    "'l' > 0 \n",
    "\n",
    "# can you find out what is happening "
   ]
  },
  {
   "cell_type": "code",
   "execution_count": null,
   "metadata": {
    "collapsed": true
   },
   "outputs": [],
   "source": [
    "num = raw_input('enter a number')\n",
    "\n",
    "if num :\n",
    "    print 'its a number'\n",
    "elif num ==0:\n",
    "    print 'number is zero '\n",
    "elif num < 0 :\n",
    "    print 'number is negative'\n",
    "elif num > 0 :\n",
    "    print 'number is positive'\n",
    "else:\n",
    "    print \"please input a valid number\""
   ]
  },
  {
   "cell_type": "markdown",
   "metadata": {},
   "source": [
    "### The conditioned are check in the same order they are written. As in above example the first condition is sink, Your program will always end in the first if block"
   ]
  },
  {
   "cell_type": "markdown",
   "metadata": {
    "slideshow": {
     "slide_type": "slide"
    }
   },
   "source": [
    "### Nested Conditionals"
   ]
  },
  {
   "cell_type": "markdown",
   "metadata": {},
   "source": [
    "`conditions can be nested and now your logic can run case wise`"
   ]
  },
  {
   "cell_type": "code",
   "execution_count": null,
   "metadata": {
    "collapsed": true,
    "slideshow": {
     "slide_type": "fragment"
    }
   },
   "outputs": [],
   "source": [
    "x = int(input())\n",
    "\n",
    "if x < 10 :\n",
    "    if x < 5 :\n",
    "        print (\"Less than 5\")\n",
    "    else :\n",
    "        print (\"Range 5 - 10\")\n",
    "else :\n",
    "    print (\"Greater than 10\")"
   ]
  },
  {
   "cell_type": "code",
   "execution_count": null,
   "metadata": {
    "collapsed": true,
    "slideshow": {
     "slide_type": "fragment"
    }
   },
   "outputs": [],
   "source": [
    "x = int(input())\n",
    "\n",
    "if x<=10 and x>=0 :\n",
    "    print (\"Number is in range 0 - 10\")\n",
    "else :\n",
    "    print (\"Number not in range\")"
   ]
  },
  {
   "cell_type": "markdown",
   "metadata": {},
   "source": [
    "## If you want to get few advance mathematical functions "
   ]
  },
  {
   "cell_type": "code",
   "execution_count": null,
   "metadata": {
    "collapsed": false
   },
   "outputs": [],
   "source": [
    "import math"
   ]
  },
  {
   "cell_type": "markdown",
   "metadata": {},
   "source": [
    "Now explore math by putting `cmath.(press tab)`, \n",
    "<br>you'll see a bunch of function which you can use directly."
   ]
  },
  {
   "cell_type": "code",
   "execution_count": null,
   "metadata": {
    "collapsed": true
   },
   "outputs": [],
   "source": [
    "a = 45\n",
    "print math.sqrt(a)"
   ]
  },
  {
   "cell_type": "markdown",
   "metadata": {},
   "source": [
    "if you want to what a function accept you should write\n",
    "\n",
    "```Python\n",
    "import math\n",
    "math.sqrt?\n",
    "\n",
    "```"
   ]
  },
  {
   "cell_type": "code",
   "execution_count": null,
   "metadata": {
    "collapsed": false
   },
   "outputs": [],
   "source": [
    "import math\n",
    "math.sqrt?"
   ]
  },
  {
   "cell_type": "markdown",
   "metadata": {},
   "source": [
    "## Reference :\n",
    "\n",
    "You should check [Python official doc ](https://docs.python.org/) to understand more about python syntax etc.\n",
    "\n",
    "- [How to think like a computer scientist-Python](http://www.greenteapress.com/thinkpython/thinkCSpy.pdf)\n",
    "\n",
    "- [LEARNING TO PROGRAM WITH PYTHON](https://www.cs.uky.edu/~keen/115/Haltermanpythonbook.pdf)\n",
    "  \n",
    "    "
   ]
  },
  {
   "cell_type": "markdown",
   "metadata": {},
   "source": [
    "Keep on Experimenting on your own.\n",
    "\n",
    "You'll learn only by doing it.\n",
    "# Thank You !"
   ]
  }
 ],
 "metadata": {
  "kernelspec": {
   "display_name": "Python 2",
   "language": "python",
   "name": "python2"
  },
  "language_info": {
   "codemirror_mode": {
    "name": "ipython",
    "version": 2
   },
   "file_extension": ".py",
   "mimetype": "text/x-python",
   "name": "python",
   "nbconvert_exporter": "python",
   "pygments_lexer": "ipython2",
   "version": "2.7.10"
  }
 },
 "nbformat": 4,
 "nbformat_minor": 0
}
