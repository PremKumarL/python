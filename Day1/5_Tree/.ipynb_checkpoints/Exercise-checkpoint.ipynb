{
 "cells": [
  {
   "cell_type": "markdown",
   "metadata": {},
   "source": [
    "# Tree\n",
    "---"
   ]
  },
  {
   "cell_type": "markdown",
   "metadata": {},
   "source": [
    "## Assignments"
   ]
  },
  {
   "cell_type": "code",
   "execution_count": 1,
   "metadata": {
    "collapsed": true
   },
   "outputs": [],
   "source": [
    "class Tree:\n",
    "    def __init__(self, data, left=None, right=None):\n",
    "        self.data = data\n",
    "        self.left  = left\n",
    "        self.right = right"
   ]
  },
  {
   "cell_type": "markdown",
   "metadata": {},
   "source": [
    "### `1) In class we count the number node in a given Binary Tree. In this exercise You have to count nodes which  are within a given range`"
   ]
  },
  {
   "cell_type": "code",
   "execution_count": 3,
   "metadata": {
    "collapsed": false
   },
   "outputs": [],
   "source": [
    "def get_count_bt(head, low,high):\n",
    "    \n",
    "    #Base case\n",
    "    if not head:\n",
    "        return 0\n",
    " \n",
    "    #check for the condition and recure for left and right subtree\n",
    "    \n",
    "    #Your code here\n",
    "    \n",
    "    \n",
    "    \n",
    "    \n",
    "\"\"\"\n",
    "Test\n",
    "\"\"\"    \n",
    "# data can be of any Type \n",
    "data = 10\n",
    "\n",
    "# left and right shoud be of Tree type\n",
    "left = Tree(50)\n",
    "right = Tree(30)\n",
    "\n",
    "# create the tree\n",
    "my_tree = Tree(10, left, right)\n",
    "get_count_bt(my_tree, 10, 300)"
   ]
  },
  {
   "cell_type": "markdown",
   "metadata": {},
   "source": [
    "### `2) Now since you have done it for Binary Tree, what other steps you'll add if the tree is BST ? Few more step will optimize it further.`"
   ]
  },
  {
   "cell_type": "markdown",
   "metadata": {},
   "source": [
    "`The Binary Tree method will also work for BST but adding two more steps will optimize it and you can check the performance`"
   ]
  },
  {
   "cell_type": "code",
   "execution_count": 2,
   "metadata": {
    "collapsed": false
   },
   "outputs": [],
   "source": [
    "def get_count_bst(head, low,high):\n",
    "    \n",
    "    #Base case\n",
    "    if not head:\n",
    "        return 0\n",
    " \n",
    "    #check for the condition and recure for left and right subtree\n",
    "    \n",
    "    \n",
    "    #Since tree is BST use it's property to optimize your search  \n",
    "    \n",
    "    return\n",
    "\n",
    "\"\"\"\n",
    "Test\n",
    "\"\"\"    \n",
    "%time print get_count_bt(r, 20, 50)\n",
    "\n",
    "%time print get_count_bst(r, 20, 50)\n",
    "\n",
    "print get_count(r, 20, 40)"
   ]
  },
  {
   "cell_type": "markdown",
   "metadata": {},
   "source": [
    "### `3) We know how to find maximum depth of a binary tree , can you find out the minimu depth of any binary tree?` "
   ]
  },
  {
   "cell_type": "code",
   "execution_count": 4,
   "metadata": {
    "collapsed": false
   },
   "outputs": [],
   "source": [
    "def min_depth(head):\n",
    "    \n",
    "    if not head: \n",
    "        return 0\n",
    "     \n",
    "    # Base Case : Leaf node are deapth 1 \n",
    "     \n",
    "    # Since we are interested in finding the min depth\n",
    "    # we will check the min depth if right subtree if left subtree\n",
    "    \n",
    "    \n",
    "    #Your Code here\n",
    "    \n",
    "     return\n",
    "\"\"\"\n",
    "test the algorithm \n",
    "\"\"\"\n",
    "root = Tree(1)\n",
    "root.left = Tree(2)\n",
    "root.right = Tree(3)\n",
    "root.left.left = Tree(4)\n",
    "root.left.right = Tree(5)\n",
    "min_depth(root)"
   ]
  },
  {
   "cell_type": "markdown",
   "metadata": {},
   "source": [
    "### `4) Print Nodes at k distance form a root`\n",
    "`Given a binary tree Print the nodes which are k distance from root. Distance is the level distance. root is at distance 0, the next level is at distance 1`\n",
    "\n",
    "```\n",
    "        1\n",
    "      /   \\\n",
    "     2     3\n",
    "    / \\\n",
    "   4   5\n",
    "```\n",
    "`distance 1 nodes are 2,3`\n",
    "\n",
    "`distance 2 nodes are 4,5`"
   ]
  },
  {
   "cell_type": "code",
   "execution_count": 5,
   "metadata": {
    "collapsed": false
   },
   "outputs": [],
   "source": [
    "\n",
    "def print_nodes_k_distance(root , k):\n",
    "    \n",
    "    # Your code here\n",
    "    \n",
    "    return\n",
    "\n",
    "#Let's check the soultion\n",
    "root = Tree(1)\n",
    "root.left = Tree(2)\n",
    "root.right = Tree(3)\n",
    "root.left.left = Tree(4)\n",
    "root.left.right = Tree(5)\n",
    "\n",
    "print \"1 distance\\n\", print_nodes_k_distance(root,1)\n",
    "print \"0 distance\\n\", print_nodes_k_distance(root, 0)\n",
    "print \"4 distance\\n\",print_nodes_k_distance(root, 4)\n"
   ]
  },
  {
   "cell_type": "markdown",
   "metadata": {},
   "source": [
    "### `5) Given a binary tree and a key, print all of its Ancestors. `\n",
    "`If the tree is following and key is 4, the ancestors are 2, 1`\n",
    "\n",
    "```\n",
    "        1\n",
    "      /   \\\n",
    "     2     3\n",
    "    / \\\n",
    "   4   5\n",
    "```"
   ]
  },
  {
   "cell_type": "code",
   "execution_count": 6,
   "metadata": {
    "collapsed": false
   },
   "outputs": [],
   "source": [
    "def  ancestors(root, key):\n",
    "    \n",
    "    \n",
    "    # Your code here\n",
    "    \n",
    "    return\n",
    "    \n",
    "    \n",
    "#Let's check the soultion\n",
    "root = Tree(1)\n",
    "root.left = Tree(2)\n",
    "root.right = Tree(3)\n",
    "root.left.left = Tree(4)\n",
    "root.left.right = Tree(5)\n",
    "ancestors(root, 4)"
   ]
  },
  {
   "cell_type": "markdown",
   "metadata": {},
   "source": [
    "### `6) Given a binary tree and a number, find if there is path from root to leaf such that adding the values of path are equal to that number.` \n",
    "\n",
    "```\n",
    "        1\n",
    "      /   \\\n",
    "     2     3\n",
    "    / \\\n",
    "   4   5\n",
    "```\n",
    "\n",
    "`7 => 4+2+1`\n",
    "\n",
    "`8 => 5+2+1`\n",
    "\n",
    "`4 => 3+1`"
   ]
  },
  {
   "cell_type": "code",
   "execution_count": 7,
   "metadata": {
    "collapsed": false
   },
   "outputs": [],
   "source": [
    "def path_with_num(root, number):\n",
    "\n",
    "    \n",
    "    # Your code here\n",
    "    \n",
    "    return\n",
    "    \n",
    "#Let's check the soultion\n",
    "root = Tree(1)\n",
    "root.left = Tree(2)\n",
    "root.right = Tree(3)\n",
    "root.left.left = Tree(4)\n",
    "root.left.right = Tree(5)\n",
    "\n",
    "print path_with_num(root, 7)\n",
    "print path_with_num(root, 4)\n",
    "print path_with_num(root, 8)\n",
    "print path_with_num(root, 10)\n",
    "\n",
    "\n"
   ]
  },
  {
   "cell_type": "markdown",
   "metadata": {},
   "source": [
    "### `7) Implement level order Tree Traversal` \n",
    "![](files/img/level.png)"
   ]
  },
  {
   "cell_type": "code",
   "execution_count": 8,
   "metadata": {
    "collapsed": false
   },
   "outputs": [],
   "source": [
    " \n",
    "def level_order(head):\n",
    "    \n",
    "    # Base Case\n",
    "    if not head:\n",
    "        return\n",
    "     \n",
    "    # Hint : create a queue for appending the level nodes\n",
    "    \n",
    "    \n",
    "    \n",
    "    #Your code here\n",
    "    \n",
    "    \n",
    "    return\n",
    "    \n",
    "\"\"\"\n",
    "Test\n",
    "\"\"\"    \n",
    "# Let's test it \n",
    "\"\"\"\n",
    "        1\n",
    "      /   \\\n",
    "     2     3\n",
    "    / \\\n",
    "   4   5\n",
    "\"\"\"\n",
    "\n",
    "\n",
    "root = Tree(1)\n",
    "root.left = Tree(2)\n",
    "root.right = Tree(3)\n",
    "root.left.left = Tree(4)\n",
    "root.left.right = Tree(5)\n",
    "level_order(root)"
   ]
  },
  {
   "cell_type": "markdown",
   "metadata": {},
   "source": [
    "### `8) How to serialize a Tree ?`  \n",
    "\n",
    "`Suppose we want to stop the calculation for a while, and save our binary tree. How would you be able to restore the same binary tree back ?`\n",
    "\n",
    "For a binary tree to restore completely We can use pre-order traversal and some marker to let us know which node is leaf, so we can use '#' to store the child of leaf node which are None. \n",
    "\n",
    "Can you get back the tree? This is very tedious and you can try. If you did it please tell the instructor as well. \n",
    "\n",
    "`Let's do this , we will store it in a list and you will convert the tree back.`"
   ]
  },
  {
   "cell_type": "code",
   "execution_count": 36,
   "metadata": {
    "collapsed": false
   },
   "outputs": [],
   "source": [
    "\n",
    "def pre_order(head,l):\n",
    "    if head:\n",
    "        l.append(head.data)\n",
    "        pre_order(head.left, l)\n",
    "        pre_order(head.right, l )\n",
    "    else:\n",
    "        l.append('#')\n",
    "    return l \n",
    "\n",
    "def bt_serialize(head):\n",
    "    l = []\n",
    "    l = pre_order(head, l)\n",
    "    print l\n",
    "    fname = \"btree.txt\"\n",
    "    fp = open(fname, 'w')\n",
    "    for n in l:\n",
    "        fp.write(str(n)+\"\\n\")\n",
    "    fp.close()\n",
    "    return fname"
   ]
  },
  {
   "cell_type": "code",
   "execution_count": null,
   "metadata": {
    "collapsed": true
   },
   "outputs": [],
   "source": [
    "#Use the pre-orded list with null marker \n",
    "# rebuild the tree.\n",
    "\n",
    "def bt_deserialize(pre_order_lst):\n",
    "    \n",
    "    \n",
    "    #YOUR CODE HERE\n",
    "    \n",
    "    \n",
    "    return"
   ]
  },
  {
   "cell_type": "markdown",
   "metadata": {},
   "source": [
    "## 9) So is there another way ? Yes !\n",
    "\n",
    "`Save both inorder and preorder traversal without the null marker and rebuild from it`"
   ]
  },
  {
   "cell_type": "code",
   "execution_count": 4,
   "metadata": {
    "collapsed": false
   },
   "outputs": [],
   "source": [
    "def inorder(head, l):\n",
    "    if head:\n",
    "        inorder(head.left, l)\n",
    "        l.append(head.data)\n",
    "        inorder(head.right, l)\n",
    "    return l \n",
    "\n",
    "def preorder(head,l):\n",
    "    if head:\n",
    "        l.append(head.data)\n",
    "        preorder(head.left, l)\n",
    "        preorder(head.right, l )\n",
    "    return l "
   ]
  },
  {
   "cell_type": "code",
   "execution_count": 10,
   "metadata": {
    "collapsed": false
   },
   "outputs": [],
   "source": [
    "def build_tree(inorder, preorder):\n",
    "    \n",
    "    \n",
    "    #Your code here \n",
    "    \n",
    "    \n",
    "    return\n",
    "\"\"\"\n",
    "Test\n",
    "\"\"\"\n",
    "#let's test the solution \n",
    "root = Tree(1)\n",
    "root.left = Tree(2)\n",
    "root.right = Tree(3)\n",
    "root.left.left = Tree(4)\n",
    "root.left.right = Tree(5)\n",
    "\n",
    "print \"old tree before serialize\"\n",
    "inor_lst = inorder(root, [])\n",
    "\n",
    "preor_lst = preorder(root,[])\n",
    "\n",
    "print \"inorder \"\n",
    "print inor_lst\n",
    "\n",
    "print \"preorder  \"\n",
    "print preor_lst\n",
    "\n",
    "\n",
    "new_tree = build_tree(inor_lst, preor_lst)\n",
    "\n",
    "print \"The deserialized Tree traversal\"\n",
    "\n",
    "print inorder(new_tree, [])\n",
    "print preorder(new_tree, [])\n"
   ]
  },
  {
   "cell_type": "markdown",
   "metadata": {},
   "source": [
    "### `10) We have two trees A and B . Can you check if tree  B is a subtree of tree A? `"
   ]
  },
  {
   "cell_type": "code",
   "execution_count": 11,
   "metadata": {
    "collapsed": false
   },
   "outputs": [],
   "source": [
    "def is_subtree(tree, sub):\n",
    "\n",
    "    #Base Case\n",
    "     \n",
    " \n",
    "    # As we know inorder traversal and preorder\n",
    "    # can make a tree unique and you can recover \n",
    "    \n",
    "    \n",
    "    #Your code here\n",
    "    \n",
    "    return\n",
    "\n",
    "\n",
    "\"\"\"\n",
    "Test\n",
    "\"\"\"\n",
    "#let's test it \n",
    "\n",
    "\"\"\"\n",
    "        1\n",
    "      /   \\\n",
    "     2     3\n",
    "    / \\\n",
    "   4   5\n",
    "\"\"\"\n",
    "root = Tree(1)\n",
    "root.left = Tree(2)\n",
    "root.right = Tree(3)\n",
    "root.left.left = Tree(4)\n",
    "root.left.right = Tree(5)\n",
    "\n",
    "sub_root = Tree(2)\n",
    "sub_root.left = Tree(4)\n",
    "sub_root.right = Tree(5)\n",
    "\n",
    "is_subtree(root, sub_root)"
   ]
  }
 ],
 "metadata": {
  "kernelspec": {
   "display_name": "Python 2",
   "language": "python",
   "name": "python2"
  },
  "language_info": {
   "codemirror_mode": {
    "name": "ipython",
    "version": 2
   },
   "file_extension": ".py",
   "mimetype": "text/x-python",
   "name": "python",
   "nbconvert_exporter": "python",
   "pygments_lexer": "ipython2",
   "version": "2.7.9"
  }
 },
 "nbformat": 4,
 "nbformat_minor": 0
}
