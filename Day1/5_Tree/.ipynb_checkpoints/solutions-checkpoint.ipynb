{
 "cells": [
  {
   "cell_type": "markdown",
   "metadata": {},
   "source": [
    "# Tree\n",
    "---"
   ]
  },
  {
   "cell_type": "markdown",
   "metadata": {},
   "source": [
    "## Class Exercise - Solutions\n",
    "---"
   ]
  },
  {
   "cell_type": "code",
   "execution_count": 3,
   "metadata": {
    "collapsed": false
   },
   "outputs": [
    {
     "name": "stdout",
     "output_type": "stream",
     "text": [
      "20\n",
      "30\n",
      "40\n",
      "50\n",
      "60\n",
      "70\n",
      "80\n"
     ]
    }
   ],
   "source": [
    "##Class Exercise Solutions\n",
    "\"\"\"\n",
    "create a insert function, which take a Tree object and a data value. Insert it at the right place. \n",
    "This insert function can also be used to build BST from scratch\n",
    "\"\"\"\n",
    "\n",
    "class Tree:\n",
    "    def __init__(self, data, left=None, right=None):\n",
    "        self.data = data\n",
    "        self.left  = left\n",
    "        self.right = right\n",
    "\n",
    "\n",
    "def bst_insert(head, val):\n",
    "    if not head :\n",
    "        head = Tree(val)\n",
    "    else:\n",
    "        if head.data < val:\n",
    "            if not head.right :\n",
    "                head.right = Tree(val)\n",
    "            else:\n",
    "                bst_insert(head.right, val)\n",
    "        else:\n",
    "            if not head.left: \n",
    "                head.left = Tree(val)\n",
    "            else:\n",
    "                bst_insert(head.left, val)\n",
    "\n",
    "# print inorder traversal which should be sorted\n",
    "def inorder(root):\n",
    "    if root:\n",
    "        inorder(root.left)\n",
    "        print(root.data)\n",
    "        inorder(root.right)\n",
    "\n",
    "r = Tree(50)\n",
    "bst_insert(r, 30)\n",
    "bst_insert(r, 20)\n",
    "bst_insert(r, 40) \n",
    "bst_insert(r, 70)\n",
    "bst_insert(r, 60)\n",
    "bst_insert(r, 80)\n",
    "\n",
    "# Print inoder traversal of the BST\n",
    "inorder(r)"
   ]
  },
  {
   "cell_type": "code",
   "execution_count": 8,
   "metadata": {
    "collapsed": false
   },
   "outputs": [
    {
     "name": "stdout",
     "output_type": "stream",
     "text": [
      "9223372036854775807\n",
      "-9223372036854775808\n"
     ]
    }
   ],
   "source": [
    "import sys\n",
    "print sys.maxint\n",
    "print - sys.maxint-1"
   ]
  },
  {
   "cell_type": "code",
   "execution_count": 11,
   "metadata": {
    "collapsed": false
   },
   "outputs": [
    {
     "name": "stdout",
     "output_type": "stream",
     "text": [
      "20\n",
      "30\n",
      "40\n",
      "50\n",
      "60\n",
      "70\n",
      "80\n",
      "None\n",
      "True\n"
     ]
    }
   ],
   "source": [
    "## Class Exercise Solution \n",
    "\"\"\"\n",
    "`Remember the properties of BST and can you write a function which will say True if a binary tree is \n",
    "BST and False if it is not.` \n",
    "\n",
    "\"\"\"\n",
    "import sys\n",
    "\n",
    "# It will check if a tree is BST or not if Its a BST it will return 1 else 0\n",
    "\n",
    "def is_bst_check(node, node_min, node_max):\n",
    "    \n",
    "    #base condition\n",
    "    if not node:\n",
    "        return True\n",
    "\n",
    "    # false if this node violates the min/max constraint\n",
    "    if (node.data < node_min or node.data > node_max):\n",
    "        return False\n",
    "\n",
    "    #otherwise check the subtrees recursively,\n",
    "    # when you go to left subtree, the maximum allowed should be less than the root \n",
    "    # when you go to right subtree, the minimum allowed should be greater than the root \n",
    "    \n",
    "    return (is_bst_check(node.left, node_min, node.data) and\n",
    "            is_bst_check(node.right, node.data, node_max) )\n",
    "\n",
    "\n",
    "\n",
    "\n",
    "def is_bst( node ):\n",
    "    #we need the max and min value to verify \n",
    "    # so let's take your system limit \n",
    "    sys_max = sys.maxint\n",
    "    sys_min = -sys.maxint-1\n",
    "    return is_bst_check(node, sys_min, sys_max)\n",
    "\n",
    "r = Tree(50)\n",
    "bst_insert(r, 30)\n",
    "bst_insert(r, 20)\n",
    "bst_insert(r, 40) \n",
    "bst_insert(r, 70)\n",
    "bst_insert(r, 60)\n",
    "bst_insert(r, 80)\n",
    "\n",
    "# Print inoder traversal of the BST\n",
    "print inorder(r)\n",
    "print is_bst(r)"
   ]
  },
  {
   "cell_type": "code",
   "execution_count": 13,
   "metadata": {
    "collapsed": false
   },
   "outputs": [
    {
     "data": {
      "text/plain": [
       "20"
      ]
     },
     "execution_count": 13,
     "metadata": {},
     "output_type": "execute_result"
    }
   ],
   "source": [
    "# class exercise solution\n",
    "\n",
    "\"\"\"\n",
    "`Now since we know some cool properties of BST. Can you find the smallest element in BST. Make use of BST properties.\n",
    "You code would be just 4 lines . If you get it right!`\n",
    "\n",
    "\n",
    "\"\"\"\n",
    "\n",
    "\n",
    "\"\"\"\n",
    "\n",
    "Solution\n",
    "=========\n",
    "\n",
    "As we know the tree is BST \n",
    "Its leftmost element would be the first to traversed in Inorder\n",
    "and it is always the smallest element in BST.\n",
    "\"\"\"\n",
    "\n",
    "def smallest_ele(node):\n",
    "    current = node\n",
    " \n",
    "    # loop down to find the lefmost leaf\n",
    "    while current.left:\n",
    "        current = current.left\n",
    "    return current.data\n",
    "\n",
    "smallest_ele(r)"
   ]
  },
  {
   "cell_type": "code",
   "execution_count": 15,
   "metadata": {
    "collapsed": false
   },
   "outputs": [
    {
     "name": "stdout",
     "output_type": "stream",
     "text": [
      "60\n"
     ]
    }
   ],
   "source": [
    "# class exercise solution\n",
    "\"\"\"\n",
    "\n",
    "Find Inorder successor of a node in binary search Tree. First locate the node which contain that value \n",
    "and find the Inorder successor\n",
    "\"\"\"\n",
    "\n",
    "\n",
    "\"\"\"\n",
    "Solution\n",
    "========\n",
    "As we know that next big element in an inorder traversal is in the right subtree, so if right subtree is there\n",
    "Go to right subtree and return the node with minimumvalue in right subtree.\n",
    "\n",
    "if right subtree does not exist, go to root and start plain binary search \n",
    "\"\"\"\n",
    "\n",
    "def locate_node(head, key):\n",
    "    #do a binary search here and return the node\n",
    "    \n",
    "    # Base Cases\n",
    "    if not head or head.data == key:\n",
    "        return head\n",
    " \n",
    "    #if value is greater than the parent go to right subtree\n",
    "    if head.data < key:\n",
    "        return locate_node(head.right,key)\n",
    "   \n",
    "    #if value is smaller than the parent go to left subtree\n",
    "    return locate_node(head.left,key)\n",
    "\n",
    "def smallest_ele(node):\n",
    "    current = node\n",
    " \n",
    "    # loop down to find the lefmost leaf\n",
    "    while current.left:\n",
    "        current = current.left\n",
    "    return current.data\n",
    "\n",
    "\n",
    "def inorder_succ_util(head, node):\n",
    "   \n",
    "    #get the smallest element at right. \n",
    "    #our problem is solved\n",
    "    if  node.right:\n",
    "        return smallest_ele(node.right)\n",
    " \n",
    "     #if above case does not work\n",
    "    succ_node = locate_node(head, node.data)\n",
    "    return succ_node.data\n",
    "   \n",
    "    \n",
    "def inorder_succ(head, key):\n",
    "    node = locate_node(head, key)\n",
    "    in_succ = inorder_succ_util(head, node)\n",
    "    print in_succ\n",
    "    \n",
    "# test the solution\n",
    "inorder_succ(r, 50)"
   ]
  },
  {
   "cell_type": "markdown",
   "metadata": {},
   "source": [
    "## Assignments - Solutions\n",
    "---"
   ]
  },
  {
   "cell_type": "code",
   "execution_count": 1,
   "metadata": {
    "collapsed": true
   },
   "outputs": [],
   "source": [
    "class Tree:\n",
    "    def __init__(self, data, left=None, right=None):\n",
    "        self.data = data\n",
    "        self.left  = left\n",
    "        self.right = right"
   ]
  },
  {
   "cell_type": "markdown",
   "metadata": {},
   "source": [
    "### `1) In class we count the number node in a given Binary Tree. In this exercise You have to count nodes which  are within a given range`"
   ]
  },
  {
   "cell_type": "code",
   "execution_count": 26,
   "metadata": {
    "collapsed": false
   },
   "outputs": [
    {
     "data": {
      "text/plain": [
       "3"
      ]
     },
     "execution_count": 26,
     "metadata": {},
     "output_type": "execute_result"
    }
   ],
   "source": [
    "def get_count_bt(head, low,high):\n",
    "    \n",
    "    #Base case\n",
    "    if not head:\n",
    "        return 0\n",
    " \n",
    "    #check for the condition and recure for left and right subtree\n",
    "    if (head.data <= high and head.data >= low):\n",
    "         return 1 + get_count(head.left, low, high) + get_count(head.right, low, high)\n",
    "        \n",
    "# data can be of any Type \n",
    "data = 10\n",
    "\n",
    "# left and right shoud be of Tree type\n",
    "left = Tree(50)\n",
    "right = Tree(30)\n",
    "\n",
    "# create the tree\n",
    "my_tree = Tree(10, left, right)\n",
    "get_count_bt(my_tree, 10, 300)"
   ]
  },
  {
   "cell_type": "markdown",
   "metadata": {},
   "source": [
    "### `2) Now since you have done it for Binary Tree, what other steps you'll add if the tree is BST ? Few more step will optimize it further.`"
   ]
  },
  {
   "cell_type": "markdown",
   "metadata": {},
   "source": [
    "`The Binary Tree method will also work for BST but adding two more steps will optimize it and you can check the performance`"
   ]
  },
  {
   "cell_type": "code",
   "execution_count": 28,
   "metadata": {
    "collapsed": false
   },
   "outputs": [
    {
     "name": "stdout",
     "output_type": "stream",
     "text": [
      "4\n",
      "CPU times: user 63 µs, sys: 12 µs, total: 75 µs\n",
      "Wall time: 68.2 µs\n",
      "4\n",
      "CPU times: user 54 µs, sys: 13 µs, total: 67 µs\n",
      "Wall time: 59.1 µs\n",
      "3\n"
     ]
    }
   ],
   "source": [
    "def get_count_bst(head, low,high):\n",
    "    \n",
    "    #Base case\n",
    "    if not head:\n",
    "        return 0\n",
    " \n",
    "    #check for the condition and recure for left and right subtree\n",
    "    if (head.data <= high and head.data >= low):\n",
    "         return 1 + get_count(head.left, low, high) + get_count(head.right, low, high)\n",
    " \n",
    "    \n",
    "    #Since tree is BST use it's property to optimize your search  \n",
    "    \n",
    "    #if data is less than low go to right \n",
    "    elif head.data < low :\n",
    "         return get_count(head.right, low, high)\n",
    " \n",
    "    #else go to left \n",
    "    else :\n",
    "        return get_count(head.left, low, high)\n",
    "\n",
    "\n",
    "    \n",
    "%time print get_count_bt(r, 20, 50)\n",
    "\n",
    "%time print get_count_bst(r, 20, 50)\n",
    "\n",
    "print get_count(r, 20, 40)"
   ]
  },
  {
   "cell_type": "markdown",
   "metadata": {},
   "source": [
    "### `3) We know how to find maximum depth of a binary tree , can you find out the minimu depth of any binary tree?` "
   ]
  },
  {
   "cell_type": "code",
   "execution_count": 30,
   "metadata": {
    "collapsed": false
   },
   "outputs": [
    {
     "data": {
      "text/plain": [
       "2"
      ]
     },
     "execution_count": 30,
     "metadata": {},
     "output_type": "execute_result"
    }
   ],
   "source": [
    "def min_depth(head):\n",
    "    \n",
    "    if not head: \n",
    "        return 0\n",
    "     \n",
    "    # Base Case : Leaf node are deapth 1 \n",
    "    if not (head.left or  head.right) :\n",
    "        return 1\n",
    "     \n",
    "    # Since we are interested in finding the min depth\n",
    "    # we will check the min depth if right subtree if left subtree\n",
    "    #is not there, also add the 1 for current node\n",
    "    if not head.left:\n",
    "        return 1+ min_depth(head.right)\n",
    "     \n",
    "    #similarly for right node \n",
    "    if not head.right:\n",
    "        return 1+ min_depth(head.left)\n",
    "     \n",
    "    #finally when we rech the root we will take the min of both \n",
    "    return 1+ min( min_depth(head.right) , min_depth(head.left) )\n",
    " \n",
    "#test the algorithm \n",
    "root = Tree(1)\n",
    "root.left = Tree(2)\n",
    "root.right = Tree(3)\n",
    "root.left.left = Tree(4)\n",
    "root.left.right = Tree(5)\n",
    "min_depth(root)"
   ]
  },
  {
   "cell_type": "markdown",
   "metadata": {},
   "source": [
    "### `4) Print Nodes at k distance form a root`\n",
    "`Given a binary tree Print the nodes which are k distance from root. Distance is the level distance. root is at distance 0, the next level is at distance 1`\n",
    "\n",
    "```\n",
    "        1\n",
    "      /   \\\n",
    "     2     3\n",
    "    / \\\n",
    "   4   5\n",
    "```\n",
    "`distance 1 nodes are 2,3`\n",
    "\n",
    "`distance 2 nodes are 4,5`"
   ]
  },
  {
   "cell_type": "code",
   "execution_count": 33,
   "metadata": {
    "collapsed": false
   },
   "outputs": [
    {
     "name": "stdout",
     "output_type": "stream",
     "text": [
      "1 distance\n",
      "2\n",
      "3\n",
      "None\n",
      "0 distance\n",
      "1\n",
      "None\n",
      "4 distance\n",
      "None\n"
     ]
    }
   ],
   "source": [
    "class Tree:\n",
    "    def __init__(self, data, left=None, right=None):\n",
    "        self.data = data\n",
    "        self.left  = left\n",
    "        self.right = right\n",
    "        \n",
    "\n",
    "def print_nodes_k_distance(root , k):\n",
    "    \n",
    "    # Base Condition\n",
    "    if not root:\n",
    "        return\n",
    "   \n",
    "    if k == 0:\n",
    "        print root.data \n",
    "    \n",
    "    # recursion to sub tree with k-1\n",
    "    else:\n",
    "        print_nodes_k_distance( root.left, k-1 ) \n",
    "        print_nodes_k_distance( root.right, k-1 ) \n",
    " \n",
    "\n",
    "#Let's check the soultion\n",
    "root = Tree(1)\n",
    "root.left = Tree(2)\n",
    "root.right = Tree(3)\n",
    "root.left.left = Tree(4)\n",
    "root.left.right = Tree(5)\n",
    "\n",
    "print \"1 distance\\n\", print_nodes_k_distance(root,1)\n",
    "print \"0 distance\\n\", print_nodes_k_distance(root, 0)\n",
    "print \"4 distance\\n\",print_nodes_k_distance(root, 4)\n"
   ]
  },
  {
   "cell_type": "markdown",
   "metadata": {},
   "source": [
    "### `5) Given a binary tree and a key, print all of its Ancestors. `\n",
    "`If the tree is following and key is 4, the ancestors are 2, 1`\n",
    "\n",
    "```\n",
    "        1\n",
    "      /   \\\n",
    "     2     3\n",
    "    / \\\n",
    "   4   5\n",
    "```"
   ]
  },
  {
   "cell_type": "code",
   "execution_count": 39,
   "metadata": {
    "collapsed": false
   },
   "outputs": [
    {
     "name": "stdout",
     "output_type": "stream",
     "text": [
      "2\n",
      "1\n"
     ]
    },
    {
     "data": {
      "text/plain": [
       "True"
      ]
     },
     "execution_count": 39,
     "metadata": {},
     "output_type": "execute_result"
    }
   ],
   "source": [
    "def  ancestors(root, key):\n",
    "    # Base cases \n",
    "    if not root :\n",
    "        return False\n",
    " \n",
    "    if (root.data == key):\n",
    "        return True\n",
    "\n",
    "    # if you get true , you should go to subtree\n",
    "    if  ancestors(root.left, key) or ancestors(root.right, key) :\n",
    "        print root.data\n",
    "        return True\n",
    "\n",
    "    return False\n",
    "\n",
    "#Let's check the soultion\n",
    "root = Tree(1)\n",
    "root.left = Tree(2)\n",
    "root.right = Tree(3)\n",
    "root.left.left = Tree(4)\n",
    "root.left.right = Tree(5)\n",
    "ancestors(root, 4)"
   ]
  },
  {
   "cell_type": "markdown",
   "metadata": {},
   "source": [
    "### `6) Given a binary tree and a number, find if there is path from root to leaf such that adding the values of path are equal to that number.` \n",
    "\n",
    "```\n",
    "        1\n",
    "      /   \\\n",
    "     2     3\n",
    "    / \\\n",
    "   4   5\n",
    "```\n",
    "\n",
    "`7 => 4+2+1`\n",
    "\n",
    "`8 => 5+2+1`\n",
    "\n",
    "`4 => 3+1`"
   ]
  },
  {
   "cell_type": "code",
   "execution_count": 48,
   "metadata": {
    "collapsed": false
   },
   "outputs": [
    {
     "name": "stdout",
     "output_type": "stream",
     "text": [
      "True\n",
      "True\n",
      "True\n",
      "False\n"
     ]
    }
   ],
   "source": [
    "def path_with_num(root, number):\n",
    "\n",
    "    #if the tree is null and number is zero than it's true!\n",
    "    if not root :\n",
    "        return number == 0\n",
    "    \n",
    "    has_path = False\n",
    "    #Now reduce the sum with the value and recurse in both subtree\n",
    "    new_num = number - root.data\n",
    "\n",
    "    #if leaf and new_num is zero, we return true\n",
    "    if  new_num == 0 and not (root.left or root.right):\n",
    "        return True\n",
    "\n",
    "    if root.left:\n",
    "        has_path = has_path or path_with_num(root.left, new_num)\n",
    "    \n",
    "    if root.right :\n",
    "        has_path = has_path or path_with_num(root.right, new_num)\n",
    "\n",
    "    return has_path\n",
    "\n",
    "#Let's check the soultion\n",
    "root = Tree(1)\n",
    "root.left = Tree(2)\n",
    "root.right = Tree(3)\n",
    "root.left.left = Tree(4)\n",
    "root.left.right = Tree(5)\n",
    "\n",
    "print path_with_num(root, 7)\n",
    "print path_with_num(root, 4)\n",
    "print path_with_num(root, 8)\n",
    "print path_with_num(root, 10)\n",
    "\n",
    "\n"
   ]
  },
  {
   "cell_type": "markdown",
   "metadata": {},
   "source": [
    "### `7) Implement level order Tree Traversal` \n",
    "![](files/img/level.png)"
   ]
  },
  {
   "cell_type": "code",
   "execution_count": 22,
   "metadata": {
    "collapsed": false
   },
   "outputs": [
    {
     "name": "stdout",
     "output_type": "stream",
     "text": [
      "1\n",
      "2\n",
      "3\n",
      "4\n",
      "5\n"
     ]
    }
   ],
   "source": [
    " \n",
    "def level_order(head):\n",
    "    \n",
    "    # Base Case\n",
    "    if not head:\n",
    "        return\n",
    "     \n",
    "    # create a queue for appending the level nodes\n",
    "    queue = []\n",
    " \n",
    "    queue.append(root)\n",
    " \n",
    "    while(len(queue) > 0):\n",
    "        # print the first element and pop it \n",
    "        print queue[0].data\n",
    "        node = queue.pop(0)\n",
    " \n",
    "        # enqueue left\n",
    "        if node.left :\n",
    "            queue.append(node.left)\n",
    " \n",
    "        # enqueue right \n",
    "        if node.right:\n",
    "            queue.append(node.right)\n",
    "\n",
    "# Let's test it \n",
    "\"\"\"\n",
    "        1\n",
    "      /   \\\n",
    "     2     3\n",
    "    / \\\n",
    "   4   5\n",
    "\"\"\"\n",
    "\n",
    "\n",
    "root = Tree(1)\n",
    "root.left = Tree(2)\n",
    "root.right = Tree(3)\n",
    "root.left.left = Tree(4)\n",
    "root.left.right = Tree(5)\n",
    "level_order(root)"
   ]
  },
  {
   "cell_type": "markdown",
   "metadata": {},
   "source": [
    "### `8) How to serialize a Tree ?`  \n",
    "\n",
    "`Suppose we want to stop the calculation for a while, and save our binary tree. How would you be able to restore the same binary tree back ?`\n",
    "\n",
    "For a binary tree to restore completely We can use pre-order traversal and some marker to let us know which node is leaf, so we can use '#' to store the child of leaf node which are None. \n",
    "\n",
    "Can you get back the tree? This is very tedious and you can try. If you did it please tell the instructor as well. \n",
    "\n",
    "`Let's do this , we will store it in a list and you will convert the tree back.`"
   ]
  },
  {
   "cell_type": "code",
   "execution_count": 36,
   "metadata": {
    "collapsed": false
   },
   "outputs": [],
   "source": [
    "\n",
    "def pre_order(head,l):\n",
    "    if head:\n",
    "        l.append(head.data)\n",
    "        pre_order(head.left, l)\n",
    "        pre_order(head.right, l )\n",
    "    else:\n",
    "        l.append('#')\n",
    "    return l \n",
    "\n",
    "def bt_serialize(head):\n",
    "    l = []\n",
    "    l = pre_order(head, l)\n",
    "    print l\n",
    "    fname = \"btree.txt\"\n",
    "    fp = open(fname, 'w')\n",
    "    for n in l:\n",
    "        fp.write(str(n)+\"\\n\")\n",
    "    fp.close()\n",
    "    return fname"
   ]
  },
  {
   "cell_type": "code",
   "execution_count": null,
   "metadata": {
    "collapsed": true
   },
   "outputs": [],
   "source": [
    "#Use the pre-orded list with null marker \n",
    "# rebuild the tree.\n",
    "\n",
    "def bt_deserialize(pre_order_lst):\n",
    "    #YOUR CODE HERE\n",
    "    return"
   ]
  },
  {
   "cell_type": "markdown",
   "metadata": {},
   "source": [
    "## 9) So is there another way ? Yes !\n",
    "\n",
    "`Save both inorder and preorder traversal without the null marker and rebuild from it`\n",
    "You can see a long discussion on it [here](http://codereview.stackexchange.com/questions/108030/binary-tree-from-given-inorder-and-preorder-traversal). \n",
    "Solution is also credited to those posts."
   ]
  },
  {
   "cell_type": "code",
   "execution_count": 4,
   "metadata": {
    "collapsed": false
   },
   "outputs": [],
   "source": [
    "def inorder(head, l):\n",
    "    if head:\n",
    "        inorder(head.left, l)\n",
    "        l.append(head.data)\n",
    "        inorder(head.right, l)\n",
    "    return l \n",
    "\n",
    "def preorder(head,l):\n",
    "    if head:\n",
    "        l.append(head.data)\n",
    "        preorder(head.left, l)\n",
    "        preorder(head.right, l )\n",
    "    return l "
   ]
  },
  {
   "cell_type": "code",
   "execution_count": 7,
   "metadata": {
    "collapsed": false
   },
   "outputs": [
    {
     "name": "stdout",
     "output_type": "stream",
     "text": [
      "old tree before serialize\n",
      "inorder \n",
      "[4, 2, 5, 1, 3]\n",
      "preorder  \n",
      "[1, 2, 4, 5, 3]\n",
      "The deserialized Tree traversal\n",
      "[4, 2, 5, 1, 3]\n",
      "[1, 2, 4, 5, 3]\n"
     ]
    }
   ],
   "source": [
    "def build_tree(inorder, preorder):\n",
    "    if not inorder:\n",
    "        return None\n",
    "    else:\n",
    "        idx = inorder.index(preorder[0])\n",
    "        return Tree(preorder[0],\n",
    "                build_tree(inorder[:idx], preorder[1:idx+1]),\n",
    "                build_tree(inorder[idx+1:], preorder[idx+1:])\n",
    "                )\n",
    "    \n",
    "#let's test the solution \n",
    "root = Tree(1)\n",
    "root.left = Tree(2)\n",
    "root.right = Tree(3)\n",
    "root.left.left = Tree(4)\n",
    "root.left.right = Tree(5)\n",
    "\n",
    "print \"old tree before serialize\"\n",
    "inor_lst = inorder(root, [])\n",
    "\n",
    "preor_lst = preorder(root,[])\n",
    "\n",
    "print \"inorder \"\n",
    "print inor_lst\n",
    "\n",
    "print \"preorder  \"\n",
    "print preor_lst\n",
    "\n",
    "\n",
    "new_tree = build_tree(inor_lst, preor_lst)\n",
    "\n",
    "print \"The deserialized Tree traversal\"\n",
    "\n",
    "print inorder(new_tree, [])\n",
    "print preorder(new_tree, [])\n"
   ]
  },
  {
   "cell_type": "markdown",
   "metadata": {},
   "source": [
    "### `10) We have two trees A and B . Can you check if tree  B is a subtree of tree A? `"
   ]
  },
  {
   "cell_type": "code",
   "execution_count": 20,
   "metadata": {
    "collapsed": false
   },
   "outputs": [
    {
     "name": "stdout",
     "output_type": "stream",
     "text": [
      "[4, 2, 5, 1, 3]\n",
      "[4, 2, 5]\n"
     ]
    },
    {
     "data": {
      "text/plain": [
       "True"
      ]
     },
     "execution_count": 20,
     "metadata": {},
     "output_type": "execute_result"
    }
   ],
   "source": [
    "def is_subtree(tree, sub):\n",
    "\n",
    "    #Base Case\n",
    "    if not sub :\n",
    "        return True\n",
    "    if not tree:\n",
    "        return False\n",
    " \n",
    "    # As we know inorder traversal and preorder\n",
    "    # can make a tree unique and you can recover \n",
    "    # the exact tree back\n",
    "    # So let's save it for both\n",
    "    \n",
    "    t_in = inorder(tree, [])\n",
    "    print t_in\n",
    "    s_in = inorder(sub, [])\n",
    "    print s_in\n",
    "    # id s_in is inside t_in\n",
    "    # we will need \n",
    "    \n",
    "    if ''.join( [str(w)+'|' for w in s_in]) not in ''.join(  [str(w)+'|' for w in t_in] ) :\n",
    "        return False\n",
    " \n",
    "    # do above with preorder as well\n",
    "    t_pre = preorder(tree, [])\n",
    "    s_pre = preorder(sub, [])\n",
    "    \n",
    "    if ''.join( [str(w)+'|' for w in s_pre] ) not in ''.join(  [str(w)+'|' for w in t_pre]):\n",
    "        return False\n",
    "    else:\n",
    "        return True\n",
    "    \n",
    "\n",
    "#let's test it \n",
    "\n",
    "\"\"\"\n",
    "        1\n",
    "      /   \\\n",
    "     2     3\n",
    "    / \\\n",
    "   4   5\n",
    "\"\"\"\n",
    "root = Tree(1)\n",
    "root.left = Tree(2)\n",
    "root.right = Tree(3)\n",
    "root.left.left = Tree(4)\n",
    "root.left.right = Tree(5)\n",
    "\n",
    "sub_root = Tree(2)\n",
    "sub_root.left = Tree(4)\n",
    "sub_root.right = Tree(5)\n",
    "\n",
    "is_subtree(root, sub_root)"
   ]
  }
 ],
 "metadata": {
  "kernelspec": {
   "display_name": "Python 2",
   "language": "python",
   "name": "python2"
  },
  "language_info": {
   "codemirror_mode": {
    "name": "ipython",
    "version": 2
   },
   "file_extension": ".py",
   "mimetype": "text/x-python",
   "name": "python",
   "nbconvert_exporter": "python",
   "pygments_lexer": "ipython2",
   "version": "2.7.9"
  }
 },
 "nbformat": 4,
 "nbformat_minor": 0
}
