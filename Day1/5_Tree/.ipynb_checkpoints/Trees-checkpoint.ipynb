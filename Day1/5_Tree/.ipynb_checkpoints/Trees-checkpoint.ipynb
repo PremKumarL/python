{
 "cells": [
  {
   "cell_type": "markdown",
   "metadata": {},
   "source": [
    "# Advanced Data Structure\n",
    "---\n",
    "## Tree"
   ]
  },
  {
   "cell_type": "markdown",
   "metadata": {},
   "source": [
    "A tree data structure is a non linear data structure. It is similar to the natural tree, it also has branches and expand further from it's branch.  Tree data structure (here after named just __`tree`__) has nodes and children. Every child is also a node and can have it's own child. Let's look at how it looks. The last node in the tree are called __`leaf node`__ which has no children. The first node is called __`root node`__. Root node is considered at __`depth`__ $0$, and depth increase from there.\n",
    "\n",
    "---\n",
    "### Natural Tree\n",
    "![](files/img/natural_tree.jpg)\n",
    "\n",
    "### Tree Data Structure\n",
    "----\n",
    "![](files/img/tree.png)"
   ]
  },
  {
   "cell_type": "markdown",
   "metadata": {},
   "source": [
    "- Data is stored in tree nodes.\n",
    "- Every node has pointers for its children , so that a parent can access it's children.\n",
    "- In above example `17` is the root node and depth 0\n",
    "- `9, 15` are at depth 1 and are internal nodes; Nodes, other than leaf and root are all internal nodes.\n",
    "\n",
    "`We usually do not show the None part of leaf nodes`"
   ]
  },
  {
   "cell_type": "markdown",
   "metadata": {},
   "source": [
    "## Binary Tree\n",
    "---\n",
    "Binary tree, a node can only have maximum two children. We call them left child and right child. All the nodes which are left of a node are called __`left subtree`__ of a node. \n",
    "\n",
    "### Root Node\n",
    "![](files/img/root.png)\n",
    "\n",
    "### Leaf Node\n",
    "![](files/img/leaf.png)\n",
    "\n",
    "### `This tutorial is only about binary trees, so hereafter a tree should be read as binary tree.`"
   ]
  },
  {
   "cell_type": "markdown",
   "metadata": {},
   "source": [
    "## Why do we need such Trees ?\n",
    "\n",
    "A data structure like tree is ubiquitous in many search application. Tree are nice and efficient to implement a knowledge base, The auto-complete feature you see on many websites or your phone is implemented by a special kind of trees. \n",
    "\n",
    "__Few common places where you can find trees__\n",
    "- Information retrieval; \n",
    "- Search;\n",
    "- Database Systems;\n",
    "- Knowledge base management - Hierarchical data management.\n",
    "\n",
    "![](files/img/filesys.jpg)\n",
    "\n",
    "Image credit: <br> http://mods.octopusrex.co.uk/content/cloning/cloning3.jpg"
   ]
  },
  {
   "cell_type": "markdown",
   "metadata": {},
   "source": [
    "` Tree is a recursive data structure. A tree is either empty or a node with two tree, the left subtree and right subtree. Same story with each node. So they are defined, traversed, and used recursively.`"
   ]
  },
  {
   "cell_type": "markdown",
   "metadata": {},
   "source": [
    "## Tree in Python \n",
    "> `This class has three variables, data , left , right.`\n",
    "\n",
    "> `data can be of any data type but left , right can only be of tree type`.\n",
    "\n",
    "> `left and right are also tree nodes`.\n",
    "\n",
    "> `Now you understand why it is a recursive data structure`, `A data structure referring to itself.`\n"
   ]
  },
  {
   "cell_type": "code",
   "execution_count": 2,
   "metadata": {
    "collapsed": true
   },
   "outputs": [],
   "source": [
    "class Tree:\n",
    "    def __init__(self, data, left=None, right=None):\n",
    "        self.data = data\n",
    "        self.left  = left\n",
    "        self.right = right"
   ]
  },
  {
   "cell_type": "markdown",
   "metadata": {},
   "source": [
    "__`Let's create a tree first which look like.`__\n",
    "![](files/img/tree_first.png)"
   ]
  },
  {
   "cell_type": "code",
   "execution_count": 6,
   "metadata": {
    "collapsed": false
   },
   "outputs": [],
   "source": [
    "# data can be of any Type \n",
    "data = 10\n",
    "\n",
    "# left and right shoud be of Tree type\n",
    "left = Tree(20)\n",
    "right = Tree(30)\n",
    "\n",
    "# create the tree\n",
    "my_tree = Tree(10, left, right)"
   ]
  },
  {
   "cell_type": "markdown",
   "metadata": {},
   "source": [
    "Traverse a Tree\n",
    "---\n",
    "\n",
    "So now we have created the tree. Now first question is how do we access the data in this tree ?<br>How can we traverse a tree. Since tree itself is a recursive data structure, traversal also happen through recursion, and it's easy if you got the intuition developed for recursion.\n",
    "\n",
    "`Let's see how we can traverse the tree we have just created.`"
   ]
  },
  {
   "cell_type": "code",
   "execution_count": 9,
   "metadata": {
    "collapsed": false
   },
   "outputs": [
    {
     "name": "stdout",
     "output_type": "stream",
     "text": [
      "10\n",
      "left of 10 -->\n",
      "20\n",
      "left of 20 -->\n",
      "right of 20 -->\n",
      "right of 10 -->\n",
      "30\n",
      "left of 30 -->\n",
      "right of 30 -->\n"
     ]
    }
   ],
   "source": [
    "# recursive way \n",
    "def traverse_tree(tree):\n",
    "    \n",
    "    #Base condition when we reach the leaf node  \n",
    "    if tree == None: \n",
    "        return\n",
    "    print tree.data\n",
    "    \n",
    "    #traverse the left subtree  \n",
    "    print \"left of\", tree.data, \"-->\" \n",
    "    traverse_tree(tree.left)\n",
    "    \n",
    "    #traverse the right subtree\n",
    "    print \"right of\", tree.data, \"-->\"\n",
    "    traverse_tree(tree.right)\n",
    "    \n",
    "traverse_tree(my_tree)"
   ]
  },
  {
   "cell_type": "markdown",
   "metadata": {},
   "source": [
    "__ `A slightly bigger tree `__\n",
    "![](files/img/tree_big.png)"
   ]
  },
  {
   "cell_type": "code",
   "execution_count": 11,
   "metadata": {
    "collapsed": false
   },
   "outputs": [
    {
     "name": "stdout",
     "output_type": "stream",
     "text": [
      "50\n",
      "left of 50 -->\n",
      "10\n",
      "left of 10 -->\n",
      "20\n",
      "left of 20 -->\n",
      "right of 20 -->\n",
      "right of 10 -->\n",
      "30\n",
      "left of 30 -->\n",
      "right of 30 -->\n",
      "right of 50 -->\n",
      "10\n",
      "left of 10 -->\n",
      "20\n",
      "left of 20 -->\n",
      "right of 20 -->\n",
      "right of 10 -->\n",
      "30\n",
      "left of 30 -->\n",
      "right of 30 -->\n"
     ]
    }
   ],
   "source": [
    "# create a tree with root node as 50 and our previous tree \n",
    "# as its left and right subtrees\n",
    "my_big_tree = Tree(50, my_tree, my_tree)\n",
    "traverse_tree(my_big_tree)"
   ]
  },
  {
   "cell_type": "code",
   "execution_count": 13,
   "metadata": {
    "collapsed": false
   },
   "outputs": [
    {
     "name": "stdout",
     "output_type": "stream",
     "text": [
      "USA\n",
      "left of USA -->\n",
      "Texas\n",
      "left of Texas -->\n",
      "Dallas\n",
      "left of Dallas -->\n",
      "right of Dallas -->\n",
      "right of Texas -->\n",
      "right of USA -->\n",
      "New York\n",
      "left of New York -->\n",
      "Manhattan\n",
      "left of Manhattan -->\n",
      "right of Manhattan -->\n",
      "right of New York -->\n"
     ]
    }
   ],
   "source": [
    "# A tree of names\n",
    "tree_city = Tree('USA', Tree('Texas', Tree('Dallas')), Tree('New York', Tree('Manhattan'))   )\n",
    "traverse_tree(tree_city)"
   ]
  },
  {
   "cell_type": "markdown",
   "metadata": {},
   "source": [
    "### `Class Exercise`\n",
    "---\n",
    "`Can you create a the following tree and traverse it?`\n",
    "<img src = \"img/tree_ques.png\">\n",
    "---"
   ]
  },
  {
   "cell_type": "code",
   "execution_count": 14,
   "metadata": {
    "collapsed": true
   },
   "outputs": [],
   "source": [
    "#YOUR CODE HERE"
   ]
  },
  {
   "cell_type": "markdown",
   "metadata": {},
   "source": [
    "### `Class Exercise`\n",
    "---\n",
    "`Can you create function which accept any 3 data types and create a simple tree that allocates one parent and its two children, first parameter is parent then left child then right`"
   ]
  },
  {
   "cell_type": "code",
   "execution_count": null,
   "metadata": {
    "collapsed": true
   },
   "outputs": [],
   "source": [
    "# Here parent, left, right can be of any data type\n",
    "# you have return a tree\n",
    "\"\"\"\n",
    "    parent\n",
    "    /    \\\n",
    "left    right \n",
    "\"\"\"\n",
    "    \n",
    "def create_tree(parent, left, right):\n",
    "    #Your code here"
   ]
  },
  {
   "cell_type": "markdown",
   "metadata": {},
   "source": [
    "---\n",
    "## Tree Algorithms\n",
    "\n",
    "We will now do few example exercises and class exercises to make you a familiar with tree data structure, so that you can do awesome stuff with it."
   ]
  },
  {
   "cell_type": "markdown",
   "metadata": {},
   "source": [
    "__`Count Number of nodes in a tree`__\n",
    "\n",
    "`To count number of nodes in a tree, we add recursively `\n",
    "\n",
    "`1+ count(left subtree) + count(right subtree)`"
   ]
  },
  {
   "cell_type": "code",
   "execution_count": 20,
   "metadata": {
    "collapsed": false
   },
   "outputs": [
    {
     "name": "stdout",
     "output_type": "stream",
     "text": [
      "3\n",
      "1\n",
      "7\n"
     ]
    }
   ],
   "source": [
    "def  size_of_tree(head):\n",
    "\n",
    "    count=1\n",
    "    \n",
    "    # Base case\n",
    "    if not head:\n",
    "        return 0 \n",
    "    \n",
    "    # recursive count of node\n",
    "    count = count + size_of_tree(head.left) + size_of_tree(head.right)\n",
    "    \n",
    "    #leaf node return from recursion\n",
    "    if not (head.left  or head.right):\n",
    "        return 1\n",
    "    \n",
    "    #finally out of recursion and return the count\n",
    "    return count\n",
    "\n",
    "\n",
    "# Test cases\n",
    "print size_of_tree(my_tree)\n",
    "\n",
    "# Let's test our algo\n",
    "one_node_tree = Tree(2)\n",
    "print size_of_tree(one_node_tree)\n",
    "\n",
    "# the bigger one\n",
    "\n",
    "print size_of_tree(my_big_tree)"
   ]
  },
  {
   "cell_type": "markdown",
   "metadata": {},
   "source": [
    "__`Calculate maximum depth of a tree`__\n",
    "\n",
    "`Here we use the same recursion step as counting the number of nodes. Instead we count which subtree has more nodes ?`"
   ]
  },
  {
   "cell_type": "code",
   "execution_count": 21,
   "metadata": {
    "collapsed": false
   },
   "outputs": [
    {
     "data": {
      "text/plain": [
       "3"
      ]
     },
     "execution_count": 21,
     "metadata": {},
     "output_type": "execute_result"
    }
   ],
   "source": [
    "# python provides a max function\n",
    "max(2,3)"
   ]
  },
  {
   "cell_type": "code",
   "execution_count": 23,
   "metadata": {
    "collapsed": false
   },
   "outputs": [
    {
     "name": "stdout",
     "output_type": "stream",
     "text": [
      "2\n",
      "1\n",
      "3\n"
     ]
    }
   ],
   "source": [
    "\n",
    "def max_depth(head):\n",
    "\n",
    "    # when reached None return zero (the None child of leaf node)\n",
    "    if not head :\n",
    "        return 0\n",
    "    \n",
    "    #recursive step \n",
    "    depth_max = 1 + max( max_depth(head.left), max_depth(head.right))\n",
    "\n",
    "    # leaf\n",
    "    if not (head.left or head.right):\n",
    "        return 1\n",
    "\n",
    "    return depth_max\n",
    "\n",
    "\n",
    "# Test cases\n",
    "print max_depth(my_tree)\n",
    "\n",
    "# Let's test our algo\n",
    "one_node_tree = Tree(2)\n",
    "print max_depth(one_node_tree)\n",
    "\n",
    "# the bigger one\n",
    "\n",
    "print max_depth(my_big_tree)"
   ]
  },
  {
   "cell_type": "markdown",
   "metadata": {},
   "source": [
    "## Binary Search Tree\n",
    "\n",
    "Binary \"Search\" Tree is a binary tree with special property. They can only store numbers and used at lot of places where you need fast number search. Your phone book for example.  The properties of Binary Search Tree (BST)  is as follows:\n",
    "- `The data value of left child should be less than the data value of right child.`\n",
    "- `The data value of right child should be greater than the data value of right child.`\n",
    "- `Both left and right subtree of a node should be binary search tree`\n",
    "- `No duplicate data values`\n",
    "\n",
    "```\n",
    "    parent\n",
    "    /    \\\n",
    "left    right \n",
    "```\n",
    "\n",
    "`left.data` __<__ `parent.data`\n",
    "\n",
    "`right.data` __>__  `parent.data`"
   ]
  },
  {
   "cell_type": "markdown",
   "metadata": {},
   "source": [
    "With this property BST, can do interesting things. Let's try search. Can you think of something you want to search? Till now we have been searching things in a list. We sorted the data did binary search as well. Binary tree is well suited data structure for binary search, which comes naturally to a binary tree, Since data is already organized.\n",
    "\n",
    "`Every comparison reduce the search space by a factor of 2, so if a binary search tree has n nodes, the search complexity is `$\\ log(n)$"
   ]
  },
  {
   "cell_type": "markdown",
   "metadata": {},
   "source": [
    "### Search an element in BST\n"
   ]
  },
  {
   "cell_type": "code",
   "execution_count": 33,
   "metadata": {
    "collapsed": false
   },
   "outputs": [
    {
     "name": "stdout",
     "output_type": "stream",
     "text": [
      "10\n"
     ]
    }
   ],
   "source": [
    "def binary_search(head,key):\n",
    "     \n",
    "    # Base Cases\n",
    "    if not head or head.data == key:\n",
    "        return head\n",
    " \n",
    "    #if value is greater than the parent go to right subtree\n",
    "    if head.data < key:\n",
    "        return binary_search(head.right,key)\n",
    "   \n",
    "    #if value is smaller than the parent go to left subtree\n",
    "    return binary_search(head.left,key)\n",
    "\n",
    "\n",
    "# change the values and try out yourself\n",
    "node =  binary_search(my_big_tree, 10)\n",
    "if node:\n",
    "    print node.data\n",
    "else:\n",
    "    print \"not found\"\n"
   ]
  },
  {
   "cell_type": "markdown",
   "metadata": {},
   "source": [
    "### Inserting data into BST\n",
    "\n",
    "BST has to maintain its property. So if you want to insert a node into BST, it has follow certain algorithm. Can you think of any algorithm which will insert a new node into BST and also keep its property? Think .. Think.\n",
    "\n",
    "To your surprise, the algorithm is very simple,\n",
    "\n",
    "So with our new node we do the same thing we did with the search. We traverse as if we are searching for that value, and as soon as we hit a leaf node we insert the node __always to the right of the leaf node__\n",
    "\n",
    "Pretty simple right ? Now can you implement it ? It should be simple.\n",
    "\n",
    "### `Class Exercise`\n",
    "\n",
    "`create a insert function, which take a Tree object and a data value. Insert it at the right place. This insert function can also be used to build BST from scratch.`\n",
    "\n",
    "---\n"
   ]
  },
  {
   "cell_type": "code",
   "execution_count": 35,
   "metadata": {
    "collapsed": false
   },
   "outputs": [],
   "source": [
    "class Tree:\n",
    "    def __init__(self, data, left=None, right=None):\n",
    "        self.data = data\n",
    "        self.left  = left\n",
    "        self.right = right\n",
    "\n",
    "def bst_insert(head, val):\n",
    "    #do the same traversal as searching for the term\n",
    "    # as you reach the leaf node\n",
    "    #assign it to the right child \n",
    "  \n",
    "    ## YOUR CODE HERE\n",
    "    return"
   ]
  },
  {
   "cell_type": "markdown",
   "metadata": {},
   "source": [
    "So, you have created a BST also learned how to build it just by inserting data into it. Now how do you verfy that the tree you have build is a BST ?\n",
    "\n",
    "\n",
    "### `Class Exercise`\n",
    "\n",
    "`Remember the properties of BST and can you write a function which will say True if a binary tree is BST and False if it is not.` \n",
    "\n",
    "---"
   ]
  },
  {
   "cell_type": "code",
   "execution_count": 36,
   "metadata": {
    "collapsed": true
   },
   "outputs": [],
   "source": [
    "\n",
    "def is_bst(node):\n",
    "    \n",
    "    # when you go to left subtree, the maximum allowed should be less than the root \n",
    "    # when you go to right subtree, the minimum allowed should be greater than the root \n",
    "    \n",
    "    #YOUR CODE HETE\n",
    "    return\n"
   ]
  },
  {
   "cell_type": "markdown",
   "metadata": {},
   "source": [
    "### BST Traversals\n",
    "---\n",
    "\n",
    "There are other ways to check if a tree is BST or not. We have three ways to traverse a tree. \n",
    "\n",
    "__`Inorder` :__ \n",
    "> traverse the left subtree\n",
    "\n",
    "> traverse the root node\n",
    "\n",
    "> traverse the right subtree\n",
    "\n",
    "__`Preorder` :__ \n",
    "> traverse the root node\n",
    "\n",
    "> traverse the left subtree\n",
    "\n",
    "> traverse the right subtree\n",
    "\n",
    "__`Postorder` :__ \n",
    "> traverse the left subtree\n",
    "\n",
    "> traverse the right subtree\n",
    "\n",
    "> traverse the root node\n",
    "    "
   ]
  },
  {
   "cell_type": "markdown",
   "metadata": {},
   "source": [
    "Try [visualgo](http://visualgo.net/bst.html) to visualize the traversal."
   ]
  },
  {
   "cell_type": "markdown",
   "metadata": {},
   "source": [
    "### Inorder Traversal "
   ]
  },
  {
   "cell_type": "code",
   "execution_count": null,
   "metadata": {
    "collapsed": true
   },
   "outputs": [],
   "source": [
    "# It's very simple and intuitive \n",
    "def inorder(root):\n",
    "    if root:\n",
    "        inorder(root.left)\n",
    "        print(root.data)\n",
    "        inorder(root.right)\n"
   ]
  },
  {
   "cell_type": "markdown",
   "metadata": {},
   "source": [
    "### `Class Exercise`\n",
    "\n",
    "`Can you write the code for Preorder and Postorder traversal ?` \n",
    "\n",
    "---"
   ]
  },
  {
   "cell_type": "code",
   "execution_count": null,
   "metadata": {
    "collapsed": true
   },
   "outputs": [],
   "source": [
    "def preorder(root):\n",
    "    #Your code here    \n",
    "    return\n",
    "\n",
    "def postorder (root):\n",
    "    #Your code here\n",
    "    return \n"
   ]
  },
  {
   "cell_type": "markdown",
   "metadata": {},
   "source": [
    "### BST and Inorder traversal"
   ]
  },
  {
   "cell_type": "markdown",
   "metadata": {},
   "source": [
    "`Now Let's try to print Inorder traversal of our BST. It will always be a sorted list. You can reason why.`"
   ]
  },
  {
   "cell_type": "code",
   "execution_count": 37,
   "metadata": {
    "collapsed": false
   },
   "outputs": [
    {
     "name": "stdout",
     "output_type": "stream",
     "text": [
      "20\n",
      "30\n",
      "40\n",
      "50\n",
      "60\n",
      "70\n",
      "80\n"
     ]
    }
   ],
   "source": [
    "class Tree:\n",
    "    def __init__(self, data, left=None, right=None):\n",
    "        self.data = data\n",
    "        self.left  = left\n",
    "        self.right = right\n",
    "\n",
    "# create a bst through the function we coded in class\n",
    "def bst_insert(head, val):\n",
    "    if not head :\n",
    "        head = Tree(val)\n",
    "    else:\n",
    "        if head.data < val:\n",
    "            if not head.right :\n",
    "                head.right = Tree(val)\n",
    "            else:\n",
    "                bst_insert(head.right, val)\n",
    "        else:\n",
    "            if not head.left: \n",
    "                head.left = Tree(val)\n",
    "            else:\n",
    "                bst_insert(head.left, val)\n",
    "\n",
    "# print inorder traversal which should be sorted\n",
    "def inorder(root):\n",
    "    if root:\n",
    "        inorder(root.left)\n",
    "        print(root.data)\n",
    "        inorder(root.right)\n",
    "\n",
    "r = Tree(50)\n",
    "bst_insert(r, 30)\n",
    "bst_insert(r, 20)\n",
    "bst_insert(r, 40) \n",
    "bst_insert(r, 70)\n",
    "bst_insert(r, 60)\n",
    "bst_insert(r, 80)\n",
    "\n",
    "# Print inoder traversal of the BST\n",
    "inorder(r)"
   ]
  },
  {
   "cell_type": "markdown",
   "metadata": {},
   "source": [
    "### `Class Exercise`\n",
    "`Now since we know some cool properties of BST. Can you find the smallest element in BST. Make use of BST properties.\n",
    "You code would be just 4 lines . If you get it right!`\n",
    "\n",
    "---"
   ]
  },
  {
   "cell_type": "code",
   "execution_count": null,
   "metadata": {
    "collapsed": true
   },
   "outputs": [],
   "source": [
    "def smallest_ele(node):\n",
    "    ##YOUR CODE HERE\n",
    "    \n",
    "    return"
   ]
  },
  {
   "cell_type": "markdown",
   "metadata": {},
   "source": [
    "### `Class Exercise`\n",
    "`Find Inorder successor of a node in binary search Tree. First locate the node which contain that value and find the Inorder successor`\n",
    "\n",
    "---"
   ]
  },
  {
   "cell_type": "code",
   "execution_count": null,
   "metadata": {
    "collapsed": true
   },
   "outputs": [],
   "source": [
    "def locate_node(head, key):\n",
    "    \n",
    "    \n",
    "def inorder_succ_util(node):\n",
    "    ##Your code here\n",
    "    \n",
    "def inorder_succ(head, key):\n",
    "    node = locate_node(head, key)\n",
    "    in_succ = inorder_succ_util(node)\n",
    "    print in_succ"
   ]
  },
  {
   "cell_type": "markdown",
   "metadata": {},
   "source": [
    "__HINT : __ You'll need smallest_ele and binary search to locate the successor."
   ]
  }
 ],
 "metadata": {
  "kernelspec": {
   "display_name": "Python 2",
   "language": "python",
   "name": "python2"
  },
  "language_info": {
   "codemirror_mode": {
    "name": "ipython",
    "version": 2
   },
   "file_extension": ".py",
   "mimetype": "text/x-python",
   "name": "python",
   "nbconvert_exporter": "python",
   "pygments_lexer": "ipython2",
   "version": "2.7.9"
  }
 },
 "nbformat": 4,
 "nbformat_minor": 0
}
