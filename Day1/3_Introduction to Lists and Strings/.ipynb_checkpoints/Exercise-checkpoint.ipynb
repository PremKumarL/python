{
 "cells": [
  {
   "cell_type": "markdown",
   "metadata": {},
   "source": [
    "# Introduction to List and Strings \n",
    "---"
   ]
  },
  {
   "cell_type": "markdown",
   "metadata": {},
   "source": [
    "## Assignments "
   ]
  },
  {
   "cell_type": "markdown",
   "metadata": {},
   "source": [
    "### 1) Write a program to reverse a list"
   ]
  },
  {
   "cell_type": "code",
   "execution_count": null,
   "metadata": {
    "collapsed": false
   },
   "outputs": [],
   "source": [
    "# Write a program to reverse a list\n",
    "\n",
    "def reverse_list(list1) :\n",
    "    #YOUR CODE HERE\n",
    "    \n",
    "    \n",
    "    return list1\n",
    "\n",
    "def main():\n",
    "    sizeOfList = int(input(\"Enter list size : \"))\n",
    "    list1 = []\n",
    "    for i in range(0, sizeOfList) :\n",
    "        list1 += [int(raw_input(\"Element \" + str(i) + \" : \"))]\n",
    "    list2 = reverse_list(list1)\n",
    "    print list2\n",
    "    \n",
    "main()"
   ]
  },
  {
   "cell_type": "markdown",
   "metadata": {},
   "source": [
    "### 2) Can you write your own search of an element. \n",
    "\n",
    "Create a function `in_lst()` which accept a list and an item and return without using the `in` keyword of Python"
   ]
  },
  {
   "cell_type": "code",
   "execution_count": null,
   "metadata": {
    "collapsed": true
   },
   "outputs": [],
   "source": [
    "def in_lst(lst, item):\n",
    "    \n",
    "    #index of item in the list\n",
    "    index = -1 \n",
    "    \n",
    "    #This boolean variable would be True if item exist \n",
    "    is_there = False\n",
    " \n",
    "\n",
    "    #YOUR CODE HERE\n",
    "    \n",
    "       \n",
    "    return  is_there\n",
    "        \n",
    "\n",
    "def main():\n",
    "    lst = [1,2,3]\n",
    "    print in_lst(lst, 0)\n",
    "    print in_lst(lst, 3)\n",
    "\n",
    "main()"
   ]
  },
  {
   "cell_type": "markdown",
   "metadata": {},
   "source": [
    "### 3)  Write a program to reverse a string"
   ]
  },
  {
   "cell_type": "code",
   "execution_count": null,
   "metadata": {
    "collapsed": false
   },
   "outputs": [],
   "source": [
    "# Write a program to reverse a string\n",
    "\n",
    "def reverse_string(str1) :\n",
    "    #YOUR CODE HERE\n",
    "    \n",
    "\n",
    "def main():\n",
    "    str1 = raw_input(\"Enter string : \")\n",
    "    str2 = reverse_string(str1)\n",
    "    print str2\n",
    "    \n",
    "main()"
   ]
  },
  {
   "cell_type": "markdown",
   "metadata": {},
   "source": [
    "### 4) Check if a string is Palindrome\n",
    "\n",
    "\n",
    "__NOTE :__ Please do not use reverse function "
   ]
  },
  {
   "cell_type": "code",
   "execution_count": null,
   "metadata": {
    "collapsed": true
   },
   "outputs": [],
   "source": [
    "def is_palindrom(str1):\n",
    "    \n",
    "    #YOUR CODE HERE\n",
    "    \n",
    "    #Do not use reverse function\n",
    "    \n",
    "\n",
    "def main():\n",
    "    str1 = raw_input(\"Enter string : \")\n",
    "    res = is_palindrom(str1)\n",
    "    print res\n",
    "    \n",
    "main()\n",
    "    "
   ]
  },
  {
   "cell_type": "markdown",
   "metadata": {},
   "source": [
    "### 5-a) Convert a single word string into a list of characters. "
   ]
  },
  {
   "cell_type": "code",
   "execution_count": null,
   "metadata": {
    "collapsed": false
   },
   "outputs": [],
   "source": [
    "\n",
    "def convert_to_list(s):\n",
    "    \n",
    "    l = []\n",
    "    \n",
    "    \n",
    "    #YOUR CODE HERE\n",
    "    \n",
    "    return l\n",
    "    \n",
    "def main():\n",
    "    str1 = raw_input(\"Enter string : \")\n",
    "    res = convert_to_list(str1)\n",
    "    print res\n",
    "    \n",
    "main()"
   ]
  },
  {
   "cell_type": "markdown",
   "metadata": {},
   "source": [
    "### 5-b) Convert a String into a list of words split by space character. \n",
    "``\n",
    "input - \"This is a example string\"\n",
    "output - ['This', 'is', 'a', 'example', 'string']``"
   ]
  },
  {
   "cell_type": "code",
   "execution_count": null,
   "metadata": {
    "collapsed": true
   },
   "outputs": [],
   "source": [
    "def convert_to_list(s):\n",
    "    \n",
    "    \n",
    "    #loop over whole list\n",
    "   \n",
    "        \n",
    "        #check until you meet a break\n",
    "        #and keep moving forward\n",
    "        \n",
    "        \n",
    "        #update start and end\n",
    "       \n",
    "    return res\n",
    "    \n",
    "def main():\n",
    "    str1 = raw_input(\"Enter string : \")\n",
    "    res = convert_to_list(str1)\n",
    "    print res\n",
    "    \n",
    "main()"
   ]
  },
  {
   "cell_type": "markdown",
   "metadata": {},
   "source": [
    "### 5-C) Can you do it for any number of spaces "
   ]
  },
  {
   "cell_type": "markdown",
   "metadata": {},
   "source": [
    "### 6)  Convert a string into list by taking the split character.\n",
    "\n",
    "```\n",
    "e.g. Dallas (split on 'a')  = ['D', 'll', 's']\n",
    "Facebook (split on 'e') = ['Fac','book']\n",
    "Google (split on 'o') = ['G', 'gle']\n",
    "```"
   ]
  },
  {
   "cell_type": "code",
   "execution_count": null,
   "metadata": {
    "collapsed": true
   },
   "outputs": [],
   "source": [
    "'''\n",
    "Take a string and a split character and convert the string into the list\n",
    "by splitting on the split character\n",
    "\n",
    "'''\n",
    "\n",
    "def split(s, split_char):\n",
    "    \n",
    "    l = []\n",
    "    \n",
    "    #YOUR CODE HERE\n",
    "    \n",
    "    return l"
   ]
  },
  {
   "cell_type": "markdown",
   "metadata": {},
   "source": [
    "### 7)  Write a program to take a string and find the number of upper,lower,special case characters and numerals in it"
   ]
  },
  {
   "cell_type": "code",
   "execution_count": null,
   "metadata": {
    "collapsed": false
   },
   "outputs": [],
   "source": [
    "# Write a program to take a string and find the number of upper,lower,special case characters and numerals in it\n",
    "\n",
    "def count_cases(str1):\n",
    "    #YOUR CODE HERE\n",
    "    \n",
    "    return (upper, lower, special, nums)\n",
    "\n",
    "def main():\n",
    "    str1 = input(\"Enter string : \")\n",
    "    (upper, lower, special, nums) = compute(str1)\n",
    "    print \"Uppercase : \", upper\n",
    "    print \"Lowercase : \", lower\n",
    "    print \"Special Characters : \", special\n",
    "    print \"Numbers : \", nums\n",
    "    \n",
    "main()"
   ]
  },
  {
   "cell_type": "markdown",
   "metadata": {},
   "source": [
    "### 8) Write a program to create two string. One skipping characters in even places of the original string and the other skipping odd places"
   ]
  },
  {
   "cell_type": "code",
   "execution_count": null,
   "metadata": {
    "collapsed": false
   },
   "outputs": [],
   "source": [
    "# Write a program to create two string.\n",
    "# One skipping characters in even places of the original string\n",
    "# And the other skipping odd places\n",
    "\n",
    "def generate_string(str1):\n",
    "    #YOUR CODE HERE\n",
    "    \n",
    "    return res\n",
    "    \n",
    "\n",
    "def main():\n",
    "    str1 = input(\"Enter string : \")\n",
    "    (str2, str3) = generateString(str1)\n",
    "    print \"Modified String : \", str2\n",
    "    print \"Modified String : \", str3\n",
    "    \n",
    "main()"
   ]
  },
  {
   "cell_type": "markdown",
   "metadata": {},
   "source": [
    "### 9) Instead of using the `filter()` provided by Python, Implement your own `filter()` function.\n"
   ]
  },
  {
   "cell_type": "code",
   "execution_count": null,
   "metadata": {
    "collapsed": true
   },
   "outputs": [],
   "source": [
    "def my_filter(f, lst):\n",
    "    \n",
    "    #YOUR CODE HERE\n",
    "\n",
    "'''\n",
    "Much More precise\n",
    "'''\n",
    "def f(x):\n",
    "    return x % 3 == 0 or x % 5 == 0\n",
    "\n",
    "\n",
    "def g(x):\n",
    "    return x%2 ==0 \n",
    "\n",
    "'''\n",
    "filter create a new list with filter function f(x)\n",
    "This f(x) can change \n",
    "\n",
    "'''\n",
    "my_filter(f, range(2, 25))\n",
    "my_filter(g, range(1, 30))"
   ]
  },
  {
   "cell_type": "markdown",
   "metadata": {},
   "source": [
    "### 10) Instead of using the `map()` provided by Python, Implement your own `map()` function."
   ]
  },
  {
   "cell_type": "code",
   "execution_count": null,
   "metadata": {
    "collapsed": true
   },
   "outputs": [],
   "source": [
    "def my_map(f, lst):\n",
    "    #YOUR CODE HERE\n",
    "    \n",
    "'''\n",
    "Calculate cube\n",
    "'''\n",
    "def cube(x): return x*x*x\n",
    "\n",
    "def square(x): return x*x\n",
    "\n",
    "\n",
    "'''\n",
    "Change each element\n",
    "'''\n",
    "my_map(cube, range(1, 11))\n",
    "my_map(square, range(3, 10))"
   ]
  },
  {
   "cell_type": "markdown",
   "metadata": {},
   "source": [
    "### 11) Input a list of years and return a list of leap years in that list\n",
    "\n",
    "Use your own `map()` and `filter()` functions"
   ]
  },
  {
   "cell_type": "code",
   "execution_count": null,
   "metadata": {
    "collapsed": true
   },
   "outputs": [],
   "source": []
  }
 ],
 "metadata": {
  "kernelspec": {
   "display_name": "Python 2",
   "language": "python",
   "name": "python2"
  },
  "language_info": {
   "codemirror_mode": {
    "name": "ipython",
    "version": 2
   },
   "file_extension": ".py",
   "mimetype": "text/x-python",
   "name": "python",
   "nbconvert_exporter": "python",
   "pygments_lexer": "ipython2",
   "version": "2.7.10"
  }
 },
 "nbformat": 4,
 "nbformat_minor": 0
}
