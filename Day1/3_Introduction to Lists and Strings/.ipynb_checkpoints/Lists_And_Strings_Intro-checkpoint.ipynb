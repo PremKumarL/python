{
 "cells": [
  {
   "cell_type": "markdown",
   "metadata": {},
   "source": [
    "# Lists and Strings\n",
    "---\n"
   ]
  },
  {
   "cell_type": "markdown",
   "metadata": {},
   "source": [
    "## Lists\n",
    "---\n",
    "\n",
    "Python Lists are one of the most important data structures. Lists are very flexible versatile and found almost every code in python.\n",
    "\n",
    "## What are Lists \n",
    "\n",
    "In the earlier classes, a variable was used to store an integer or a floating point number. Lists allows us to store more than one data type in an __ordered sequence__."
   ]
  },
  {
   "cell_type": "markdown",
   "metadata": {},
   "source": [
    "### Using Lists\n",
    "\n",
    "A list is an ordered sequence of data. That means we can access data using the index of the data. Since data is saved in an order. Strings are also ordered sequence, but only for characters. Lists are more general and comparable to `ArrayList` in Java , `Vector` of C++, and `Arrays` of C."
   ]
  },
  {
   "cell_type": "markdown",
   "metadata": {},
   "source": [
    "\n",
    "\n",
    "Let us create a list to store 5 numbers.\n",
    "\n",
    "```Python \n",
    "my_list = [1, 2, 3, 4, 5]\n",
    "```\n",
    "\n",
    "To represent an empty list :\n",
    "```Python \n",
    "my_list = []\n",
    "```\n"
   ]
  },
  {
   "cell_type": "markdown",
   "metadata": {},
   "source": [
    "`Let's see how our print function work with list. Print can output the whole list at once.`"
   ]
  },
  {
   "cell_type": "code",
   "execution_count": 1,
   "metadata": {
    "collapsed": false
   },
   "outputs": [
    {
     "name": "stdout",
     "output_type": "stream",
     "text": [
      "List with values:  [1, 2, 3, 4, 5]\n",
      "Empty list:  []\n",
      "List literal:  [10, 20, 30]\n"
     ]
    }
   ],
   "source": [
    "list_1 = [1, 2, 3, 4, 5]\n",
    "list_2 = []\n",
    "\n",
    "print \"List with values: \", list_1\n",
    "print \"Empty list: \", list_2\n",
    "\n",
    "print \"List literal: \", [10, 20, 30]\n"
   ]
  },
  {
   "cell_type": "markdown",
   "metadata": {},
   "source": [
    "\n",
    "Since it is an ordered sequence, each entry of a list can be accessed using the name of the list followed by the index/position within square brackets. Remember in programming the index start with 0. List index also start with 0\n",
    "```Python \n",
    "list_1[index]\n",
    "```"
   ]
  },
  {
   "cell_type": "code",
   "execution_count": 2,
   "metadata": {
    "collapsed": false
   },
   "outputs": [
    {
     "name": "stdout",
     "output_type": "stream",
     "text": [
      "1\n",
      "3\n"
     ]
    }
   ],
   "source": [
    "# Note: the starting index of a list is 0, and not 1\n",
    "list_1 = [1, 2, 3, 4, 5]\n",
    "\n",
    "# First element of the list\n",
    "print list_1[0]\n",
    "\n",
    "# Third element of the list\n",
    "print list_1[2]"
   ]
  },
  {
   "cell_type": "markdown",
   "metadata": {},
   "source": [
    "#### `Tip :  You should always look for corner cases. So here a list take position and is able to fetch the values at that position, So can we think out of the box here ?` \n",
    "\n"
   ]
  },
  {
   "cell_type": "code",
   "execution_count": 3,
   "metadata": {
    "collapsed": false
   },
   "outputs": [
    {
     "name": "stdout",
     "output_type": "stream",
     "text": [
      "[1, 2, 3, 4, 5]\n"
     ]
    },
    {
     "ename": "IndexError",
     "evalue": "list index out of range",
     "output_type": "error",
     "traceback": [
      "\u001b[0;31m---------------------------------------------------------------------------\u001b[0m",
      "\u001b[0;31mIndexError\u001b[0m                                Traceback (most recent call last)",
      "\u001b[0;32m<ipython-input-3-328c52850c54>\u001b[0m in \u001b[0;36m<module>\u001b[0;34m()\u001b[0m\n\u001b[1;32m      1\u001b[0m \u001b[0;31m# lets try to fetch which is more than the position\u001b[0m\u001b[0;34m\u001b[0m\u001b[0;34m\u001b[0m\u001b[0m\n\u001b[1;32m      2\u001b[0m \u001b[0;32mprint\u001b[0m \u001b[0mlist_1\u001b[0m\u001b[0;34m\u001b[0m\u001b[0m\n\u001b[0;32m----> 3\u001b[0;31m \u001b[0;32mprint\u001b[0m \u001b[0mlist_1\u001b[0m\u001b[0;34m[\u001b[0m\u001b[0;36m5\u001b[0m\u001b[0;34m]\u001b[0m\u001b[0;34m\u001b[0m\u001b[0m\n\u001b[0m",
      "\u001b[0;31mIndexError\u001b[0m: list index out of range"
     ]
    }
   ],
   "source": [
    "# lets try to fetch which is more than the position \n",
    "print list_1\n",
    "print list_1[5]"
   ]
  },
  {
   "cell_type": "markdown",
   "metadata": {},
   "source": [
    "```Python \n",
    "\"IndexError: list index out of range\"```\n",
    "\n",
    "So we can not access things which are out of the range of list"
   ]
  },
  {
   "cell_type": "code",
   "execution_count": null,
   "metadata": {
    "collapsed": false
   },
   "outputs": [],
   "source": [
    "# What else can you think of ? A char constant \n",
    "\n",
    "print list_1[a]"
   ]
  },
  {
   "cell_type": "code",
   "execution_count": null,
   "metadata": {
    "collapsed": true
   },
   "outputs": [],
   "source": [
    "# A fraction \n",
    "\n",
    "print list_1['2.5']"
   ]
  },
  {
   "cell_type": "code",
   "execution_count": null,
   "metadata": {
    "collapsed": false
   },
   "outputs": [],
   "source": [
    "# A negative number \n",
    "print list_1\n",
    "print list_1[-1]"
   ]
  },
  {
   "cell_type": "markdown",
   "metadata": {},
   "source": [
    "__`Whoa, What just happened? A list accept a negative number as index. That's  a news for us. Can you explore it more on your own `__"
   ]
  },
  {
   "cell_type": "code",
   "execution_count": null,
   "metadata": {
    "collapsed": true
   },
   "outputs": [],
   "source": [
    "\n",
    "# YOUR CODE HERE\n"
   ]
  },
  {
   "cell_type": "markdown",
   "metadata": {},
   "source": [
    "### Lists are Mutable Object \n",
    "\n",
    "`you can always change the content of a list`"
   ]
  },
  {
   "cell_type": "code",
   "execution_count": null,
   "metadata": {
    "collapsed": false
   },
   "outputs": [],
   "source": [
    "list1 = [1, 2, 3, 4, 5]\n",
    "\n",
    "print list1\n",
    "\n",
    "print \"Modifying contents of the list\"\n",
    "list1[0] = -1\n",
    "list1[2] = -3\n",
    "list1[4] = -5\n",
    "\n",
    "print list1"
   ]
  },
  {
   "cell_type": "markdown",
   "metadata": {},
   "source": [
    "### Lists support all types\n",
    "\n",
    "`A list doesn't have to consist of only integers. A list can also hold floating point numbers, strings or even a combination of it all`"
   ]
  },
  {
   "cell_type": "code",
   "execution_count": null,
   "metadata": {
    "collapsed": false
   },
   "outputs": [],
   "source": [
    "print \"List of integers\"\n",
    "list1 = [1, 2, 3]\n",
    "print list1\n",
    "print \"List of floating point numbers\"\n",
    "list2 = [1.1, 2.2, 3.3]\n",
    "print list2\n",
    "print \"List of strings\"\n",
    "list3 = [\"one\", \"two\", \"three\"]\n",
    "print list3\n",
    "print \"Heterogenous list of different elements\"\n",
    "list4 = [1, 1.1, \"one\"]\n",
    "print list4"
   ]
  },
  {
   "cell_type": "markdown",
   "metadata": {},
   "source": [
    "### `Python mean it in serious way , Supporting all types - You can also store functions :)`"
   ]
  },
  {
   "cell_type": "code",
   "execution_count": null,
   "metadata": {
    "collapsed": false
   },
   "outputs": [],
   "source": [
    "# We can also use a list to store functions\n",
    "list1 = [eval, sum]\n",
    "print list1"
   ]
  },
  {
   "cell_type": "code",
   "execution_count": null,
   "metadata": {
    "collapsed": false
   },
   "outputs": [],
   "source": [
    "# eval and sum are functions in python\n",
    "x = eval(\"1\")\n",
    "y = list1[0](\"1\")\n",
    "print \"Using eval function: Value of x is, \", x\n",
    "print \"Using the first element of the list, which represents eval..\",\n",
    "print \"Value of y is, \", y\n",
    "\n",
    "# Both eval() and list1[0] refer to the same function\n"
   ]
  },
  {
   "cell_type": "markdown",
   "metadata": {},
   "source": [
    "`can you try some more functions ?`"
   ]
  },
  {
   "cell_type": "code",
   "execution_count": null,
   "metadata": {
    "collapsed": true
   },
   "outputs": [],
   "source": [
    "\n",
    "##YOUR CODE HERE\n"
   ]
  },
  {
   "cell_type": "markdown",
   "metadata": {},
   "source": [
    "### Can a list be used to hold anything more than strings, numbers and functions?\n"
   ]
  },
  {
   "cell_type": "markdown",
   "metadata": {},
   "source": [
    "`We can even use a list to hold other lists`"
   ]
  },
  {
   "cell_type": "code",
   "execution_count": null,
   "metadata": {
    "collapsed": false
   },
   "outputs": [],
   "source": [
    "list1 = [[1,2], [3,4], [5,6]]\n",
    "\n",
    "# list1, is a list\n",
    "print type(list1)\n",
    "\n",
    "# The first element of list1, is also a list\n",
    "print type(list1[0])\n"
   ]
  },
  {
   "cell_type": "code",
   "execution_count": null,
   "metadata": {
    "collapsed": false
   },
   "outputs": [],
   "source": [
    "list1 = [[1,2], [3,4], []]\n",
    "# Note, third element in list1 is an empty list!!\n",
    "\n",
    "# How can we print 4, from within list1?\n",
    "\n",
    "# Approach 1\n",
    "list2 = list1[1]\n",
    "print \"Using approach one : \", list2[1]\n",
    "\n",
    "# Approach 2\n",
    "print \"Using approach two : \", list1[1][1]"
   ]
  },
  {
   "cell_type": "markdown",
   "metadata": {},
   "source": [
    "### Let's do something with Lists"
   ]
  },
  {
   "cell_type": "code",
   "execution_count": null,
   "metadata": {
    "collapsed": false
   },
   "outputs": [],
   "source": [
    "# Assume we have a list, containing 4 numbers. \n",
    "# Let's write a program for each number to hold the sum of the all the numbers suceeding it.\n",
    "\n",
    "list1 = [1, 2, 3, 4]\n",
    "\n",
    "print list1\n",
    "list1[0] = list1[1] + list1[2] + list1[3]\n",
    "list1[1] = list1[2] + list1[3]\n",
    "list1[2] = list1[3]\n",
    "print \"Modified list : \", list1"
   ]
  },
  {
   "cell_type": "markdown",
   "metadata": {},
   "source": [
    "### Accessing values of list \n",
    "`The value/index within the [ ], we use to select an element from within a list can take different shapes!`"
   ]
  },
  {
   "cell_type": "code",
   "execution_count": null,
   "metadata": {
    "collapsed": false
   },
   "outputs": [],
   "source": [
    "\n",
    "list1 = [1, 2, 3, 4, 5]\n",
    "\n",
    "# It can be an integer\n",
    "print \"Integer : \", list1[3]\n",
    "\n",
    "# It can be a variable\n",
    "x = 0\n",
    "print \"Variable : \", list1[x]\n",
    "\n",
    "# It can also be an expression\n",
    "x = 0\n",
    "print \"Expression : \", list1[x+2]\n",
    "\n",
    "# A function\n",
    "x = 1\n",
    "y = 2\n",
    "print \"Function : \", list1[max(x,y)]"
   ]
  },
  {
   "cell_type": "markdown",
   "metadata": {},
   "source": [
    "`No matter what way we use to access the values within the list, we need to ensure the the value within the [ ] is always an integer.`\n",
    "\n",
    "`1.2 + 3.8 = 5.0, which is a floating number. Python doesn't implicitly convert 5.0 to 5`"
   ]
  },
  {
   "cell_type": "code",
   "execution_count": null,
   "metadata": {
    "collapsed": false
   },
   "outputs": [],
   "source": [
    "list1 = [\"a\", \"b\", \"c\"]\n",
    "\n",
    "print list1[1.2 + 3.8]"
   ]
  },
  {
   "cell_type": "code",
   "execution_count": null,
   "metadata": {
    "collapsed": false
   },
   "outputs": [],
   "source": [
    "list1 = [\"a\", \"b\", \"c\"]\n",
    "\n",
    "# max function over here returns a floating number\n",
    "print list1[max(1.0, 3.0)]"
   ]
  },
  {
   "cell_type": "markdown",
   "metadata": {},
   "source": [
    "## List Iterations "
   ]
  },
  {
   "cell_type": "markdown",
   "metadata": {},
   "source": [
    "`To iterate over all the elements in a list`\n",
    "\n",
    "```Python \n",
    "for <variable_name> in list:\n",
    "    block_of_code\n",
    "```"
   ]
  },
  {
   "cell_type": "code",
   "execution_count": null,
   "metadata": {
    "collapsed": false
   },
   "outputs": [],
   "source": [
    "# Let's see how we can iterate through the elements of a list\n",
    "\n",
    "list1 = [[1,2], \"one\", 1, 2.2, sum]\n",
    "\n",
    "for item in list1:\n",
    "    print item, \"Type =>\", type(item)"
   ]
  },
  {
   "cell_type": "code",
   "execution_count": null,
   "metadata": {
    "collapsed": false
   },
   "outputs": [],
   "source": [
    "# Assume we have a list. Write a program to square all the elements of the list.\n",
    "\n",
    "list1 = [2, 8, 12, 14]\n",
    "\n",
    "print \"Approach 1 ...\"\n",
    "for item in list1:\n",
    "    print item*item\n",
    "    \n",
    "print \"Approach 2 ...\"\n",
    "x = 0\n",
    "for item in list1:\n",
    "    list1[x] = item*item\n",
    "    x += 1\n",
    "print list1\n",
    "\n",
    "\n",
    "print \"Approach 3 ...\"\n",
    "list1 = [2, 8, 12, 14]\n",
    "for item in list1:\n",
    "    list1[list1.index(item)] = item*item\n",
    "print list1"
   ]
  },
  {
   "cell_type": "code",
   "execution_count": null,
   "metadata": {
    "collapsed": true
   },
   "outputs": [],
   "source": [
    "### `Can you try various list functions by yourself ?`\n",
    "\n",
    "# press tab after taking cursor near the dot below, you will be able to see all of them \n",
    "list1."
   ]
  },
  {
   "cell_type": "markdown",
   "metadata": {},
   "source": [
    "### Basic functions associated with lists"
   ]
  },
  {
   "cell_type": "code",
   "execution_count": null,
   "metadata": {
    "collapsed": false
   },
   "outputs": [],
   "source": [
    "# len() can be used to find the length of a string\n",
    "\n",
    "print len([\"a\", \"b\", \"c\"])\n",
    "\n",
    "list1 = [eval, sum, [1,2], \"string\"]\n",
    "print len(list1)"
   ]
  },
  {
   "cell_type": "code",
   "execution_count": null,
   "metadata": {
    "collapsed": false
   },
   "outputs": [],
   "source": [
    "# The plus (+) operator concatenates lists in the same way it concatenates strings.\n",
    "\n",
    "list1 = [1, 2]\n",
    "\n",
    "list1 + [3, 4]\n",
    "print list1\n",
    "# Even though we concatenate the lists, we are not assigning it to a variable!\n",
    "\n",
    "print list1 + [3,4]"
   ]
  },
  {
   "cell_type": "code",
   "execution_count": null,
   "metadata": {
    "collapsed": false
   },
   "outputs": [],
   "source": [
    "list1 = [1, 2]\n",
    "list2 = [3, 4]\n",
    "\n",
    "print list1 + list2"
   ]
  },
  {
   "cell_type": "code",
   "execution_count": null,
   "metadata": {
    "collapsed": false
   },
   "outputs": [],
   "source": [
    "# More operations ...\n",
    "list1 = [1, 2]\n",
    "\n",
    "list1 =  list1 + [3, 4]\n",
    "print list1\n",
    "\n",
    "list1 += [5, 6]\n",
    "print list1\n",
    "\n",
    "list1 = list1 + [7]\n",
    "print list1"
   ]
  },
  {
   "cell_type": "code",
   "execution_count": null,
   "metadata": {
    "collapsed": false
   },
   "outputs": [],
   "source": [
    "# + operator can only concatenate a list to another list\n",
    "\n",
    "list1 = [1, 2]\n",
    "list1 = list1 + 5\n",
    "\n",
    "# This will fail!!"
   ]
  },
  {
   "cell_type": "code",
   "execution_count": null,
   "metadata": {
    "collapsed": false
   },
   "outputs": [],
   "source": [
    "# How to create a list at run-time?\n",
    "\n",
    "# Let's write a program to read numbers from the user. \n",
    "# 1. We can only add positive numbers to the list.\n",
    "# 2. If the user enters a negative number, we exit and display the list to the user!\n",
    "\n",
    "list1 = []\n",
    "x = int(input(\"Enter number : \"))\n",
    "while (x >= 0):\n",
    "    list1 += [x]\n",
    "    x = int(input(\"Enter number : \"))\n",
    "\n",
    "print \"List : \", list1"
   ]
  },
  {
   "cell_type": "code",
   "execution_count": null,
   "metadata": {
    "collapsed": false
   },
   "outputs": [],
   "source": [
    "# Are there other ways to populate a list?\n",
    "\n",
    "list1 = list(range(1, 10, 1))\n",
    "print list1"
   ]
  },
  {
   "cell_type": "markdown",
   "metadata": {},
   "source": [
    "```\n",
    "range(start, end, step)\n",
    "```\n",
    "\n",
    "**start** : It identifies the number to begin with\n",
    "\n",
    "**end** : It is the last number, before which we want to generate values for.\n",
    "\n",
    "**step** : Value by which we want to increment/decrement. The default value for step is 1"
   ]
  },
  {
   "cell_type": "code",
   "execution_count": null,
   "metadata": {
    "collapsed": false
   },
   "outputs": [],
   "source": [
    "# Create a list of even numbers from 1 to 10\n",
    "list1 = list(range(2, 10, 2))\n",
    "print list1\n",
    "\n",
    "# Note : list1 doesn't include value 10!"
   ]
  },
  {
   "cell_type": "code",
   "execution_count": null,
   "metadata": {
    "collapsed": false
   },
   "outputs": [],
   "source": [
    "# Create a list of odd numbers in decreasing order from 10 to 20\n",
    "list1 = list(range(19, 9, -2))\n",
    "print list1\n",
    "\n",
    "# Note : list1 doesn't include value 9. "
   ]
  },
  {
   "cell_type": "markdown",
   "metadata": {},
   "source": [
    "### What will be the output of the following?\n",
    "\n",
    "```\n",
    "list(range(6, 3))\n",
    "\n",
    "list(range(6, 3, 2))\n",
    "```\n"
   ]
  },
  {
   "cell_type": "markdown",
   "metadata": {},
   "source": [
    "### `The * operator `\n",
    "`list[] * n, it concatenates the list n times`"
   ]
  },
  {
   "cell_type": "code",
   "execution_count": null,
   "metadata": {
    "collapsed": false
   },
   "outputs": [],
   "source": [
    "\n",
    "list1 = [\"one\", \"two\"]\n",
    "\n",
    "list2 = list1*2\n",
    "print list2\n",
    "\n",
    "# Both of them do the same thing!\n",
    "print 3 * [1]\n",
    "print [1] * 3"
   ]
  },
  {
   "cell_type": "code",
   "execution_count": null,
   "metadata": {
    "collapsed": false
   },
   "outputs": [],
   "source": [
    "# Let's create a program to calculate the average of numbers added by an user!\n",
    "\n",
    "sizeOfList = int(input(\"Enter number of elements to compute average for : \"))\n",
    "list1 = []\n",
    "sumNumbers = 0.0\n",
    "\n",
    "for x in range(0, sizeOfList, 1):\n",
    "    item = int(input(\"Enter number\"))\n",
    "    list1 += [item]\n",
    "    sumNumbers += item\n",
    "    \n",
    "average = sumNumbers/sizeOfList\n",
    "print \"Average of numbers for the list: \",list1,\" is : \", average\n",
    "    "
   ]
  },
  {
   "cell_type": "markdown",
   "metadata": {},
   "source": [
    "## List representation in memory "
   ]
  },
  {
   "cell_type": "markdown",
   "metadata": {},
   "source": [
    "![](files/img/list-a.png)"
   ]
  },
  {
   "cell_type": "markdown",
   "metadata": {},
   "source": [
    "`So we can check it by following program.`"
   ]
  },
  {
   "cell_type": "code",
   "execution_count": null,
   "metadata": {
    "collapsed": false
   },
   "outputs": [],
   "source": [
    "list1 = [1, 2, 3, 4]\n",
    "list2 = [1, 2, 3, 4]\n",
    "\n",
    "print \"Is list1 equal to list2 : \", list1 == list2\n",
    "\n",
    "print \"Is list1 an alias to list2 : \", list1 is list2"
   ]
  },
  {
   "cell_type": "code",
   "execution_count": null,
   "metadata": {
    "collapsed": false
   },
   "outputs": [],
   "source": [
    "list1 = [\"one\", \"two\", \"three\"]\n",
    "list2 = list1\n",
    "\n",
    "\n",
    "print \"Is list1 equal to list2 : \", list1 == list2\n",
    "\n",
    "print \"Is list1 an alias to list2 : \", list1 is list2"
   ]
  },
  {
   "cell_type": "code",
   "execution_count": null,
   "metadata": {
    "collapsed": false
   },
   "outputs": [],
   "source": [
    "# When two lists are aliases to each other, changing values in one, affects the other\n",
    "\n",
    "list1 = [1, \"two\", 3, 4]\n",
    "print list1\n",
    "\n",
    "list2 = list1\n",
    "# Value is changed in list2, but it affects the value of list1\n",
    "list2[1] = 2\n",
    "print list1"
   ]
  },
  {
   "cell_type": "markdown",
   "metadata": {},
   "source": [
    "## Bounds"
   ]
  },
  {
   "cell_type": "markdown",
   "metadata": {},
   "source": [
    "`As the index is an arbitrary integer, it's value cannot be determining till run-time. If the index if not within the bounds of a list, the interpreter will generate a run-time exception. `\n",
    "\n",
    "`It is up-to the programmer to ensure that the index input by an user is always within the bounds.`"
   ]
  },
  {
   "cell_type": "code",
   "execution_count": null,
   "metadata": {
    "collapsed": false
   },
   "outputs": [],
   "source": [
    "# If we try to access values which are not within the bounds of a list, \n",
    "# we get a OutOfBound access i.e. RunTime Exception\n",
    "\n",
    "list1 = [10, 20, 30]\n",
    "\n",
    "# All valid accesses\n",
    "print list1[0]\n",
    "print list1[1]\n",
    "print list1[2]\n",
    "\n",
    "# Invalid index\n",
    "print list1[4]"
   ]
  },
  {
   "cell_type": "markdown",
   "metadata": {},
   "source": [
    "## Negative indices "
   ]
  },
  {
   "cell_type": "markdown",
   "metadata": {},
   "source": [
    "Negative indices within a [ ], represent the element from the end of the list.\n",
    "\n",
    "`list[-1]` represents the last element in lst. \n",
    "\n",
    "The expression **`list[-2]`** represents the next to last element\n",
    "\n",
    "The expression **`list[0]`** thus corresponds to list[-len(list)]."
   ]
  },
  {
   "cell_type": "code",
   "execution_count": null,
   "metadata": {
    "collapsed": false
   },
   "outputs": [],
   "source": [
    "list1 = [10, 20, 30, 40, 50, 60]\n",
    "\n",
    "list2 = []\n",
    "#  Print the list contents in reverse using negative indices\n",
    "start = -1\n",
    "end = -len(list1) - 1\n",
    "step = -1\n",
    "for i in range(start, end, step):\n",
    "    list2 += [list1[i]]\n",
    "    # list2 += list1[i], will throw an error as list1[i] is a number and not a list!\n",
    "\n",
    "print list2"
   ]
  },
  {
   "cell_type": "markdown",
   "metadata": {},
   "source": [
    "## Slicing\n",
    "---\n",
    "\n",
    "`Slicing can create new list with elements of the existing list. We can Do the slicing as follows : `\n",
    "```\n",
    "list1 [ start : end ]\n",
    "```\n",
    "\n",
    "- __`list1`__ is a list variable referring to a list\n",
    "\n",
    "- __`start`__ is an integer representing the start of the slice\n",
    "\n",
    "- __`end`__ is an integer representing the end of the slice\n",
    "\n",
    "If missing, the start value defaults to 0. A start value less than zero is treated as zero. \n",
    "\n",
    "If the end value is missing, it defaults to the length of the list. An end value greater than the length of the list is treated as the length of the list. \n"
   ]
  },
  {
   "cell_type": "code",
   "execution_count": null,
   "metadata": {
    "collapsed": false
   },
   "outputs": [],
   "source": [
    "list1 = [\"one\", \"two\", \"three\", \"four\", \"five\"]\n",
    "\n",
    "print \"Slice one : \", list1[1:3]\n",
    "print \"Slice two : \", list1[:3]\n",
    "print \"Slice three : \", list1[1:]\n",
    "print \"Slice four : \", list1[-5:10]\n",
    "print \"Slice five : \", list1[:]"
   ]
  },
  {
   "cell_type": "markdown",
   "metadata": {},
   "source": [
    "### Try: Can you check whether the sliced lists are alias? \n"
   ]
  },
  {
   "cell_type": "code",
   "execution_count": null,
   "metadata": {
    "collapsed": true
   },
   "outputs": [],
   "source": [
    "\n",
    "#Write your code here\n"
   ]
  },
  {
   "cell_type": "markdown",
   "metadata": {},
   "source": [
    "__`A list can also be passed as an argument to a function`__\n",
    "\n",
    "`Write a program to compute the average of a list. The list has to be created by the user at run-time`"
   ]
  },
  {
   "cell_type": "code",
   "execution_count": null,
   "metadata": {
    "collapsed": false
   },
   "outputs": [],
   "source": [
    "def createList():\n",
    "    x = int(input(\"Enter size of list : \"))\n",
    "    list1 = []\n",
    "    for counter in range(0, x):\n",
    "        item = int(input(\"Enter number\"))\n",
    "        list1 += [item]\n",
    "    return list1\n",
    "\n",
    "def computeAverage(list2):\n",
    "    sumValues = 0.0\n",
    "    for item in list2:\n",
    "        sumValues += item\n",
    "        \n",
    "    lengthOfList = len(list2)\n",
    "    return sumValues/lengthOfList\n",
    "\n",
    "def main():\n",
    "    list1 = createList()\n",
    "    average = computeAverage(list1)\n",
    "    print \"Average of list \", list1, \" is : \", average\n",
    "    \n",
    "main()"
   ]
  },
  {
   "cell_type": "markdown",
   "metadata": {},
   "source": [
    "### Class Exercise \n",
    "\n",
    "__`Explore List functions - `__\n",
    "\n"
   ]
  },
  {
   "cell_type": "code",
   "execution_count": null,
   "metadata": {
    "collapsed": false
   },
   "outputs": [],
   "source": [
    "# append \n",
    "# Extend\n",
    "# index\n",
    "# insert\n",
    "# pop \n",
    "# remove\n",
    "\n"
   ]
  },
  {
   "cell_type": "markdown",
   "metadata": {},
   "source": [
    "# Strings\n",
    "---\n",
    "\n",
    "We have seen a glimpse of strings. Python is used heavily in data processing. 90% of the data on the web is text. Programmatically  if you want to deal with text, strings are your friend. Python Strings have rich features. \n",
    "\n",
    "`Later when we will deal with text data, String function will be used extensively.`"
   ]
  },
  {
   "cell_type": "code",
   "execution_count": null,
   "metadata": {
    "collapsed": false
   },
   "outputs": [],
   "source": [
    "my_str = \"example string\"\n",
    "\n",
    "print my_str[8]\n",
    "print type(my_str)\n",
    "print type(my_str[8])\n"
   ]
  },
  {
   "cell_type": "markdown",
   "metadata": {},
   "source": [
    "`Even the single character is considered a string.` "
   ]
  },
  {
   "cell_type": "markdown",
   "metadata": {},
   "source": [
    "### What all can be called as strings ?\n",
    "\n",
    "Following things you can assign to a string :\n",
    "1. Alphabets (A-Z, a-z)\n",
    "2. Digits (0-9)\n",
    "3. Punctuation (., :, ,, etc.)\n",
    "4. Special symbols (#, &, %, etc.)\n",
    "\n",
    "To control the text arrangement we use newline and tab , which are also part of strings.\n",
    "- \\n : newline \n",
    "- \\t : tab"
   ]
  },
  {
   "cell_type": "code",
   "execution_count": null,
   "metadata": {
    "collapsed": false
   },
   "outputs": [],
   "source": [
    "new_str = \"this string has a \\nnewline inserted\"\n",
    "print new_str"
   ]
  },
  {
   "cell_type": "code",
   "execution_count": null,
   "metadata": {
    "collapsed": false
   },
   "outputs": [],
   "source": [
    "tab_str = \"This string has \\t inserted\"\n",
    "print tab_str"
   ]
  },
  {
   "cell_type": "markdown",
   "metadata": {},
   "source": [
    "### Similarity to Lists"
   ]
  },
  {
   "cell_type": "markdown",
   "metadata": {},
   "source": [
    "Strings and Lists have many similar functions and operators. You can access individual elements just like Lists, you can also do slicing of a string."
   ]
  },
  {
   "cell_type": "code",
   "execution_count": null,
   "metadata": {
    "collapsed": true
   },
   "outputs": [],
   "source": [
    "my_str = \"example string\""
   ]
  },
  {
   "cell_type": "markdown",
   "metadata": {},
   "source": [
    "###  `Try : Can you do slicing of the above string ? `"
   ]
  },
  {
   "cell_type": "code",
   "execution_count": null,
   "metadata": {
    "collapsed": true
   },
   "outputs": [],
   "source": [
    "\n",
    "\n",
    "## YOUR CODE HERE\n",
    "\n",
    "\n",
    "## calculate len of a string\n"
   ]
  },
  {
   "cell_type": "markdown",
   "metadata": {},
   "source": [
    "### Strings are immutable objects unlike Lists"
   ]
  },
  {
   "cell_type": "code",
   "execution_count": null,
   "metadata": {
    "collapsed": false
   },
   "outputs": [],
   "source": [
    "\n",
    "my_str = \"wlong spelled\"\n",
    "\n",
    "\n",
    "# Lets correct the above string\n",
    "my_str[1] = 'r'\n",
    "\n",
    "print my_str\n",
    "\n",
    "# Please note the error!\n"
   ]
  },
  {
   "cell_type": "markdown",
   "metadata": {},
   "source": [
    "### The in keyword "
   ]
  },
  {
   "cell_type": "markdown",
   "metadata": {},
   "source": [
    "`We can check if a string is present inside of another string.`\n",
    "\n"
   ]
  },
  {
   "cell_type": "code",
   "execution_count": null,
   "metadata": {
    "collapsed": false
   },
   "outputs": [],
   "source": [
    "my_str = \" A good day \"\n",
    "\n",
    "# Now let's check if \"good\" is present inside of it \n",
    "\n",
    "print \"good\" in my_str\n",
    "\n",
    "# Let's see if it is case sensitive\n",
    "\n",
    "print \"Good\" in my_str\n",
    "\n",
    "# This string also has white space, care to check that ?\n",
    "\n",
    "print \" \" in my_str\n",
    "\n"
   ]
  },
  {
   "cell_type": "markdown",
   "metadata": {},
   "source": [
    "`So now you can create a search program, something like this your browser helps you find the words when you hit cntrl+f or command+f in your keyboard.`"
   ]
  },
  {
   "cell_type": "markdown",
   "metadata": {},
   "source": [
    "__`But How to get the index of the text we are searching for highlighting ?`__"
   ]
  },
  {
   "cell_type": "code",
   "execution_count": null,
   "metadata": {
    "collapsed": false
   },
   "outputs": [],
   "source": [
    "my_str = \"A good day\"\n",
    "print my_str.find('good')"
   ]
  },
  {
   "cell_type": "markdown",
   "metadata": {},
   "source": [
    "## String Functions\n",
    "\n",
    "`Strings have a function called replace which let's you replace a part of the string and return a new string.`"
   ]
  },
  {
   "cell_type": "code",
   "execution_count": null,
   "metadata": {
    "collapsed": false
   },
   "outputs": [],
   "source": [
    "my_str = \"A good day\"\n",
    "new_string = my_str.replace('good', 'sunny')\n",
    "print \"old string-- \", my_str\n",
    "print \"new  string-- \",new_string"
   ]
  },
  {
   "cell_type": "markdown",
   "metadata": {},
   "source": [
    "`There are many other string functions which you can explore on your own. A few like lower(), upper(), etc.`"
   ]
  },
  {
   "cell_type": "code",
   "execution_count": null,
   "metadata": {
    "collapsed": false
   },
   "outputs": [],
   "source": [
    "print('A\\nB\\nC')\n",
    "print('D\\tE\\tF')"
   ]
  },
  {
   "cell_type": "markdown",
   "metadata": {},
   "source": [
    "# List Advance\n",
    "---\n",
    "\n",
    "[Check more at Python doc ](https://docs.python.org/2/tutorial/datastructures.html#functional-programming-tools)"
   ]
  },
  {
   "cell_type": "markdown",
   "metadata": {},
   "source": [
    "**`filter()` :** \n",
    "\n",
    "This function evaluate to Boolean `True or False` . It filters out the elements from a sequence which do not satisfy the function passed!\n",
    "\n",
    "__Syntax  :__ `filter(function, sequence)`"
   ]
  },
  {
   "cell_type": "code",
   "execution_count": null,
   "metadata": {
    "collapsed": false
   },
   "outputs": [],
   "source": [
    "# filter out odd numbers from a list\n",
    "\n",
    "def filter_odd_numbers(item) :\n",
    "    if (item%2) == 0:\n",
    "        return True\n",
    "    else:\n",
    "        return False\n",
    "\n",
    "list1 = list(range(0,10))\n",
    "print filter(filter_odd_numbers, list1)"
   ]
  },
  {
   "cell_type": "markdown",
   "metadata": {},
   "source": [
    "**`map()` :** This function modifies each element of the list with the provided function. \n",
    "\n",
    "__Syntax :__ `map(function, sequence)` \n"
   ]
  },
  {
   "cell_type": "code",
   "execution_count": null,
   "metadata": {
    "collapsed": false
   },
   "outputs": [],
   "source": [
    "# increment each item of a list by 1\n",
    "\n",
    "def increment_item(item) :\n",
    "    return item+1\n",
    "\n",
    "list1 = list(range(1,10,2))\n",
    "print \"All odd numbers : \", list1\n",
    "print \"All even numbers : \", map(increment_item, list1)"
   ]
  },
  {
   "cell_type": "markdown",
   "metadata": {},
   "source": [
    "__`reduce()`__ returns a single value by applying a binary function on the values of the sequence, **from left to right**\n",
    "\n",
    "__Syntax :__ `reduce(function, sequence)`"
   ]
  },
  {
   "cell_type": "code",
   "execution_count": null,
   "metadata": {
    "collapsed": false
   },
   "outputs": [],
   "source": [
    "list1 = [-1, 1, 2, -2, 3, -3]\n",
    "\n",
    "def add_elements(x, y):\n",
    "    return x+y\n",
    "\n",
    "print reduce(add_elements, list1)"
   ]
  },
  {
   "cell_type": "code",
   "execution_count": null,
   "metadata": {
    "collapsed": false
   },
   "outputs": [],
   "source": [
    "# Guess the output?\n",
    "\n",
    "list1 = [3, 4, 5]\n",
    "def subtract_elements(x, y):\n",
    "    return x-y\n",
    "\n",
    "# print reduce(subtract_elements, list1)"
   ]
  },
  {
   "cell_type": "markdown",
   "metadata": {
    "collapsed": true
   },
   "source": [
    "## Reference\n",
    "\n",
    "- [Python doc on lists](https://docs.python.org/2/tutorial/datastructures.html)\n",
    "- [How to think like a computer scientist-Python](http://www.greenteapress.com/thinkpython/thinkCSpy.pdf)\n",
    "\n",
    "- [LEARNING TO PROGRAM WITH PYTHON](https://www.cs.uky.edu/~keen/115/Haltermanpythonbook.pdf)\n"
   ]
  }
 ],
 "metadata": {
  "kernelspec": {
   "display_name": "Python 2",
   "language": "python",
   "name": "python2"
  },
  "language_info": {
   "codemirror_mode": {
    "name": "ipython",
    "version": 2
   },
   "file_extension": ".py",
   "mimetype": "text/x-python",
   "name": "python",
   "nbconvert_exporter": "python",
   "pygments_lexer": "ipython2",
   "version": "2.7.10"
  }
 },
 "nbformat": 4,
 "nbformat_minor": 0
}
