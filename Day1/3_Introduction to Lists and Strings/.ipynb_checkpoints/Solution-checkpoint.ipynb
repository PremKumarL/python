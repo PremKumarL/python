{
 "cells": [
  {
   "cell_type": "markdown",
   "metadata": {},
   "source": [
    "# Introduction to List and Strings \n",
    "---"
   ]
  },
  {
   "cell_type": "markdown",
   "metadata": {},
   "source": [
    "## Solutions"
   ]
  },
  {
   "cell_type": "code",
   "execution_count": null,
   "metadata": {
    "collapsed": true
   },
   "outputs": [],
   "source": [
    "# Write a program to reverse a list\n",
    "\n",
    "def reverse_list(list1) :\n",
    "    length = len(list1)\n",
    "    j = length-1\n",
    "    for i in range(0,length/2):\n",
    "        temp = list1[i]\n",
    "        list1[i] = list1[j]\n",
    "        list1[j] = temp\n",
    "        j = j-1\n",
    "    return list1\n",
    "\n",
    "def main():\n",
    "    sizeOfList = int(input(\"Enter list size : \"))\n",
    "    list1 = []\n",
    "    for i in range(0, sizeOfList) :\n",
    "        list1 += [int(raw_input(\"Element \" + str(i) + \" : \"))]\n",
    "    list2 = reverse_list(list1)\n",
    "    print list2\n",
    "    \n",
    "main()"
   ]
  },
  {
   "cell_type": "code",
   "execution_count": 9,
   "metadata": {
    "collapsed": false
   },
   "outputs": [
    {
     "name": "stdout",
     "output_type": "stream",
     "text": [
      "(False, -1)\n",
      "(True, 2)\n"
     ]
    }
   ],
   "source": [
    "#Can you write your own search of an element. Create a function `in_lst()` which accept a list and an item \n",
    "#and return without using the `in` keyword of Python\n",
    "\n",
    "def in_lst(lst, item):\n",
    "    \n",
    "    #index of item in the list\n",
    "    index = -1 \n",
    "    \n",
    "    #This boolean variable would be True if item exist \n",
    "    is_there = False\n",
    " \n",
    "    \n",
    "    for l in lst:\n",
    "        index+=1\n",
    "        if l == item:\n",
    "            is_there = True\n",
    "            return is_there, index\n",
    "            \n",
    "       \n",
    "    return  is_there, -1\n",
    "        \n",
    "\n",
    "def main():\n",
    "    lst = [1,2,3]\n",
    "    print in_lst(lst, 0)\n",
    "    print in_lst(lst, 3)\n",
    "\n",
    "main()"
   ]
  },
  {
   "cell_type": "code",
   "execution_count": 1,
   "metadata": {
    "collapsed": false
   },
   "outputs": [
    {
     "name": "stdout",
     "output_type": "stream",
     "text": [
      "Enter string : polo\n",
      "olop\n"
     ]
    }
   ],
   "source": [
    "# Write a program to reverse a string\n",
    "\n",
    "def reverse_string(str1) :\n",
    "    list1 = list(str1)\n",
    "    length = len(list1)\n",
    "    j = length-1\n",
    "    for i in range(0,length/2):\n",
    "        temp = list1[i]\n",
    "        list1[i] = list1[j]\n",
    "        list1[j] = temp\n",
    "        j = j-1\n",
    "    return ''.join(list1)\n",
    "\n",
    "def main():\n",
    "    str1 = raw_input(\"Enter string : \")\n",
    "    str2 = reverse_string(str1)\n",
    "    print str2\n",
    "    \n",
    "main()"
   ]
  },
  {
   "cell_type": "code",
   "execution_count": 1,
   "metadata": {
    "collapsed": false
   },
   "outputs": [
    {
     "name": "stdout",
     "output_type": "stream",
     "text": [
      "Enter string : polo\n",
      "False\n"
     ]
    }
   ],
   "source": [
    "#check if string is Palindrome \n",
    "'''\n",
    "Explanation:\n",
    "\n",
    "Use slicing\n",
    "'''\n",
    "def is_palindrom(str1):\n",
    "    \n",
    "    #Do not use reverse function\n",
    "    return str(str1) == str(str1)[::-1]\n",
    "\n",
    "def main():\n",
    "    str1 = raw_input(\"Enter string : \")\n",
    "    res = is_palindrom(str1)\n",
    "    print res\n",
    "\n",
    "    \n",
    "main()"
   ]
  },
  {
   "cell_type": "code",
   "execution_count": 15,
   "metadata": {
    "collapsed": false
   },
   "outputs": [
    {
     "name": "stdout",
     "output_type": "stream",
     "text": [
      "Enter string : as as as\n",
      "['a', 's', ' ', 'a', 's', ' ', 'a', 's']\n"
     ]
    }
   ],
   "source": [
    "#Convert single word string into a list of characters\n",
    "def convert_to_list(s):\n",
    "    \n",
    "    l = []\n",
    "    \n",
    "    \n",
    "    l = list(s)\n",
    "    \n",
    "    return l\n",
    "    \n",
    "def main():\n",
    "    str1 = raw_input(\"Enter string : \")\n",
    "    res = convert_to_list(str1)\n",
    "    print res\n",
    "    \n",
    "main()"
   ]
  },
  {
   "cell_type": "code",
   "execution_count": 22,
   "metadata": {
    "collapsed": false
   },
   "outputs": [
    {
     "name": "stdout",
     "output_type": "stream",
     "text": [
      "Enter string : This is example string\n",
      "['This', 'is', 'example', 'string']\n"
     ]
    }
   ],
   "source": [
    "#Convert a String into a list of words split by space character\n",
    "def convert_to_list(s):\n",
    "    \n",
    "    l = list(s)\n",
    "    res = []\n",
    "    ls = list(s)\n",
    "    start = 0\n",
    "    res = []\n",
    "    end = 0\n",
    "    \n",
    "    #loop over whole list\n",
    "    while end < len(ls):\n",
    "        \n",
    "        #check until you meet a break\n",
    "        #and keep moving forward\n",
    "        while ls[end] != ' ':\n",
    "            end+=1\n",
    "            \n",
    "            #if go beyond the length break out of loop\n",
    "            if end == len(ls):\n",
    "                break\n",
    "        res.append(''.join(ls[start:end]))\n",
    "        \n",
    "        #update i and j \n",
    "        end+=1\n",
    "        start = end\n",
    "    return res\n",
    "    \n",
    "def main():\n",
    "    str1 = raw_input(\"Enter string : \")\n",
    "    res = convert_to_list(str1)\n",
    "    print res\n",
    "    \n",
    "main()"
   ]
  },
  {
   "cell_type": "code",
   "execution_count": 34,
   "metadata": {
    "collapsed": false
   },
   "outputs": [
    {
     "name": "stdout",
     "output_type": "stream",
     "text": [
      "Enter word : Dallas\n",
      "Enter split character : a\n",
      "['D', 'll', 's']\n"
     ]
    }
   ],
   "source": [
    "#Convert a string into list by taking the split character.\n",
    "\n",
    "def split(s, split_char):\n",
    "    l = list(s)\n",
    "    res = []\n",
    "    ls = list(s)\n",
    "    start = 0\n",
    "    res = []\n",
    "    end = 0\n",
    "    \n",
    "\n",
    "    #loop over whole list\n",
    "    while end < len(ls):\n",
    "\n",
    "        #check untill you meet a break\n",
    "        #and keep moving forward\n",
    "        while ls[end] != split_char:\n",
    "            end+=1\n",
    "\n",
    "            #if go beyond the length break out of loop\n",
    "            if end == len(ls):\n",
    "                break\n",
    "        if start< end:\n",
    "            res.append(''.join(ls[start:end]))\n",
    "\n",
    "        #update i and j \n",
    "        end+=1\n",
    "        start = end\n",
    "    return res\n",
    "\n",
    "def main():\n",
    "    str1 = raw_input(\"Enter word : \")\n",
    "    split_char = raw_input(\"Enter split character : \")\n",
    "    res = split(str1, split_char)\n",
    "    print res\n",
    "    \n",
    "main()"
   ]
  },
  {
   "cell_type": "code",
   "execution_count": null,
   "metadata": {
    "collapsed": true
   },
   "outputs": [],
   "source": [
    "# Write a program to take a string and find the number of upper,lower,special case characters and numerals in it\n",
    "\n",
    "def count_cases(str1):\n",
    "    length = len(str1)\n",
    "    upper = 0\n",
    "    lower = 0\n",
    "    special = 0\n",
    "    nums = 0\n",
    "    \n",
    "    for i in range(0, length):\n",
    "        if (str1[i].isupper()):\n",
    "            upper += 1\n",
    "        elif (str1[i].islower()):\n",
    "            lower += 1\n",
    "        else:\n",
    "            try :\n",
    "                integer = int(str1[i])\n",
    "                if integer>=0 and integer<=9:\n",
    "                    nums += 1\n",
    "            except Exception:\n",
    "                special += 1\n",
    "    return (upper, lower, special, nums)\n",
    "\n",
    "def main():\n",
    "    str1 = input(\"Enter string : \")\n",
    "    (upper, lower, special, nums) = count_cases(str1)\n",
    "    print \"Uppercase : \", upper\n",
    "    print \"Lowercase : \", lower\n",
    "    print \"Special Characters : \", special\n",
    "    print \"Numbers : \", nums\n",
    "    \n",
    "main()"
   ]
  },
  {
   "cell_type": "code",
   "execution_count": null,
   "metadata": {
    "collapsed": true
   },
   "outputs": [],
   "source": [
    "# Write a program to create two string.\n",
    "# One skipping characters in even places of the original string\n",
    "# And the other skipping odd places\n",
    "\n",
    "def generate_string(str1):\n",
    "    list1 = list(str1)\n",
    "    list2 = []\n",
    "    list3 = []\n",
    "    length = len(list1)\n",
    "    for i in range(0, length):\n",
    "        if (i%2 != 0):\n",
    "            list2 += [list1[i]]\n",
    "        else :\n",
    "            list3 += [list1[i]]\n",
    "    return (''.join(list2),''.join(list3))\n",
    "\n",
    "def main():\n",
    "    str1 = input(\"Enter string : \")\n",
    "    (str2, str3) = generate_string(str1)\n",
    "    print \"Modified String : \", str2\n",
    "    print \"Modified String : \", str3\n",
    "    \n",
    "main()"
   ]
  },
  {
   "cell_type": "code",
   "execution_count": 43,
   "metadata": {
    "collapsed": false
   },
   "outputs": [
    {
     "name": "stdout",
     "output_type": "stream",
     "text": [
      "[3, 5, 6, 9, 10, 12, 15, 18, 20, 21, 24]\n",
      "[2, 4, 6, 8, 10, 12, 14, 16, 18, 20, 22, 24, 26, 28]\n"
     ]
    }
   ],
   "source": [
    "#Instead of using the `filter()` provided by Python, Implement your own `filter()` function.\n",
    "\n",
    "\n",
    "def f(x):\n",
    "    return x % 3 == 0 or x % 5 == 0\n",
    "\n",
    "\n",
    "def g(x):\n",
    "    return x%2 ==0 \n",
    "\n",
    "'''\n",
    "filter create a new list with filter function f(x)\n",
    "This f(x) can change \n",
    "\n",
    "'''\n",
    "\n",
    "\n",
    "def my_filter(fun, lst):\n",
    "    res = []\n",
    "    for ele in lst:\n",
    "        if fun(ele):\n",
    "            res.append(ele)\n",
    "    return res\n",
    "\n",
    "print my_filter(f, range(2, 25))\n",
    "print my_filter(g, range(1, 30))"
   ]
  },
  {
   "cell_type": "code",
   "execution_count": 45,
   "metadata": {
    "collapsed": false
   },
   "outputs": [
    {
     "name": "stdout",
     "output_type": "stream",
     "text": [
      "[1, 8, 27, 64, 125, 216, 343, 512, 729, 1000]\n",
      "[9, 16, 25, 36, 49, 64, 81]\n"
     ]
    }
   ],
   "source": [
    "# Instead of using the `map()` provided by Python, Implement your own `map()` function.\n",
    "\n",
    "def my_map(func, lst):\n",
    "    return [func(ele) for ele in lst]\n",
    "    \n",
    "'''\n",
    "Calculate cube\n",
    "'''\n",
    "def cube(x): return x*x*x\n",
    "\n",
    "def square(x): return x*x\n",
    "\n",
    "\n",
    "'''\n",
    "Change each element\n",
    "'''\n",
    "print my_map(cube, range(1, 11))\n",
    "print my_map(square, range(3, 10))"
   ]
  },
  {
   "cell_type": "code",
   "execution_count": 50,
   "metadata": {
    "collapsed": false
   },
   "outputs": [
    {
     "data": {
      "text/plain": [
       "[2000, 1600]"
      ]
     },
     "execution_count": 50,
     "metadata": {},
     "output_type": "execute_result"
    }
   ],
   "source": [
    "# Input a list of years and return a list of leap years in that list\n",
    "\n",
    "\n",
    "def is_leap(year):\n",
    "    if(((year%4==0) and (year%100!=0)) or (year%400==0)):\n",
    "         return year\n",
    "    else:\n",
    "        return False\n",
    "\n",
    "lst = [2000, 1990, 1600, 1965, 1845]\n",
    "\n",
    "my_filter(is_leap, lst)"
   ]
  },
  {
   "cell_type": "markdown",
   "metadata": {},
   "source": [
    "## More on Higher Order Functions :\n",
    "\n",
    "https://en.wikipedia.org/wiki/Higher-order_function\n"
   ]
  }
 ],
 "metadata": {
  "kernelspec": {
   "display_name": "Python 2",
   "language": "python",
   "name": "python2"
  },
  "language_info": {
   "codemirror_mode": {
    "name": "ipython",
    "version": 2
   },
   "file_extension": ".py",
   "mimetype": "text/x-python",
   "name": "python",
   "nbconvert_exporter": "python",
   "pygments_lexer": "ipython2",
   "version": "2.7.10"
  }
 },
 "nbformat": 4,
 "nbformat_minor": 0
}
