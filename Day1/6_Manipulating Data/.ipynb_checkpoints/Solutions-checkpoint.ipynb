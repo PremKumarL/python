{
 "cells": [
  {
   "cell_type": "markdown",
   "metadata": {},
   "source": [
    "## Modular Programming - Solutions\n",
    "---\n",
    "\n",
    "### `1)  Create a library of sorting of your own, put all the sorting code in one file and use it as a library.`\n",
    "\n",
    "\n",
    "### `2) Organize all of your code logically and put them in .py files and keep using them whenever you want.`\n",
    "\n",
    "\n",
    "Students will do on there own. Solution can not be provided. Verify if they are able to use their previously coded modules in their Ipython notebooks.\n"
   ]
  },
  {
   "cell_type": "markdown",
   "metadata": {},
   "source": [
    "### 3) By using your own sorting and searching and other modules, do following things.\n",
    "\n",
    "List `l = [10,65,999,8,76,5,3,4,5,1,1,6 ]`\n",
    "\n",
    "__a)__ Sort this list using merge sort\n",
    "\n",
    "```Python \n",
    "from sorting import merge\n",
    "l = [10,65,999,8,76,5,3,4,5,1,1,6 ]\n",
    "res = merge(l)\n",
    "print res\n",
    "```\n",
    "\n",
    "__b)__ Sort this list using merge sort and selection sort and bubble sort and compare time,tell us which one of your is faster ?\n",
    "\n",
    "```Python \n",
    "from sorting import merge, selection, bubble\n",
    "l = [10,65,999,8,76,5,3,4,5,1,1,6 ]\n",
    "%time res = merge(l)\n",
    "print \"merge sort \", res\n",
    "\n",
    "%time res = selection(l)\n",
    "print \"selection sort \", res\n",
    "\n",
    "%time res = bubble(l)\n",
    "print \"bubble sort \", res\n",
    "\n",
    "```\n",
    "\n",
    "__c)__ Reverse this list \n",
    "\n",
    "```Python \n",
    "from list_utils import reverse\n",
    "l = [10,65,999,8,76,5,3,4,5,1,1,6 ]\n",
    "res = reverse(l)\n",
    "print res\n",
    "```\n",
    "\n",
    "\n",
    "__c)__ Search a element in the list  \n",
    "\n",
    "```Python \n",
    "from search import binary_search\n",
    "from sorting import merge\n",
    "\n",
    "l = [10,65,999,8,76,5,3,4,5,1,1,6 ]\n",
    "ele = 6 \n",
    "\n",
    "sorted_l = merge(l)\n",
    "res = binary_search(sorted_l, ele)\n",
    "print res\n",
    "```"
   ]
  },
  {
   "cell_type": "markdown",
   "metadata": {},
   "source": [
    "\n",
    "### `4) How to use pip, Please install a library called \"Requests\" and \"BeautifulSoup4\" by pip, include that in module and try to explore these libraries`\n",
    "\n",
    "This exercise will make student understand how to use pip(which is explained in class) and, how to locate libraries and install it using pip and how to explore. This is necessary exercise and important for future modules.\n",
    "\n",
    "Make sure each student is able to understand pip, and library and import statements.\n",
    "\n",
    "```Bash\n",
    "pip install requests\n",
    "\n",
    "pip install beautifulsoup4\n",
    "```\n",
    "\n",
    "BeautifulSoup has lot of dependencies, so they will learn how to resolve. It might also be a smooth installation.\n",
    "\n",
    "### `5) Uninstall and install it again, since we need it for following exercises.`\n",
    "\n",
    "```Bash\n",
    "pip uninstall beautifulsoup4\n",
    "```\n",
    "\n",
    "Look at following links and ask them to search here. \n",
    "\n",
    "- [PyPi](https://pypi.python.org/pypi)\n",
    "- [Installing Python Modules](https://docs.python.org/3.6/installing/index.html)\n",
    "\n"
   ]
  },
  {
   "cell_type": "markdown",
   "metadata": {},
   "source": [
    "### 6) `Import \"Requests\" module and explore all of its functions. Print their doc_string , locate where the code is in their system. Why not go and check out the code.`"
   ]
  },
  {
   "cell_type": "code",
   "execution_count": 2,
   "metadata": {
    "collapsed": false,
    "scrolled": true
   },
   "outputs": [
    {
     "data": {
      "text/plain": [
       "['ConnectionError',\n",
       " 'HTTPError',\n",
       " 'NullHandler',\n",
       " 'PreparedRequest',\n",
       " 'Request',\n",
       " 'RequestException',\n",
       " 'Response',\n",
       " 'Session',\n",
       " 'Timeout',\n",
       " 'TooManyRedirects',\n",
       " 'URLRequired',\n",
       " '__author__',\n",
       " '__build__',\n",
       " '__builtins__',\n",
       " '__copyright__',\n",
       " '__doc__',\n",
       " '__file__',\n",
       " '__license__',\n",
       " '__name__',\n",
       " '__package__',\n",
       " '__path__',\n",
       " '__title__',\n",
       " '__version__',\n",
       " 'adapters',\n",
       " 'api',\n",
       " 'auth',\n",
       " 'certs',\n",
       " 'codes',\n",
       " 'compat',\n",
       " 'cookies',\n",
       " 'delete',\n",
       " 'exceptions',\n",
       " 'get',\n",
       " 'head',\n",
       " 'hooks',\n",
       " 'logging',\n",
       " 'models',\n",
       " 'options',\n",
       " 'packages',\n",
       " 'patch',\n",
       " 'post',\n",
       " 'put',\n",
       " 'request',\n",
       " 'session',\n",
       " 'sessions',\n",
       " 'status_codes',\n",
       " 'structures',\n",
       " 'utils']"
      ]
     },
     "execution_count": 2,
     "metadata": {},
     "output_type": "execute_result"
    }
   ],
   "source": [
    "import requests\n",
    "dir(requests)"
   ]
  },
  {
   "cell_type": "code",
   "execution_count": 10,
   "metadata": {
    "collapsed": false
   },
   "outputs": [
    {
     "name": "stdout",
     "output_type": "stream",
     "text": [
      "Sends a GET request.\n",
      "\n",
      "    :param url: URL for the new :class:`Request` object.\n",
      "    :param params: (optional) Dictionary or bytes to be sent in the query string for the :class:`Request`.\n",
      "    :param \\*\\*kwargs: Optional arguments that ``request`` takes.\n",
      "    :return: :class:`Response <Response>` object\n",
      "    :rtype: requests.Response\n",
      "    \n"
     ]
    }
   ],
   "source": [
    "print requests.get.func_doc"
   ]
  },
  {
   "cell_type": "code",
   "execution_count": 5,
   "metadata": {
    "collapsed": true
   },
   "outputs": [],
   "source": [
    "# Another way to see the doc string.\n",
    "requests.get?"
   ]
  },
  {
   "cell_type": "markdown",
   "metadata": {},
   "source": [
    "---"
   ]
  },
  {
   "cell_type": "markdown",
   "metadata": {},
   "source": [
    "### `7) Using \"Requests\" module which they have installed earlier, get data of any website of their choice.  `"
   ]
  },
  {
   "cell_type": "code",
   "execution_count": 6,
   "metadata": {
    "collapsed": true
   },
   "outputs": [],
   "source": [
    "# This lib is used in makinh http requests from python\n",
    "# There are two types of http requests - get, post\n",
    "# post requires post parameters., get does not require any parameter\n",
    "# here we will print the response of the request\n",
    "\n",
    "url = 'https://docs.python.org/3.6/installing/index.html'\n",
    "res = requests.get(url)"
   ]
  },
  {
   "cell_type": "code",
   "execution_count": 8,
   "metadata": {
    "collapsed": false
   },
   "outputs": [
    {
     "name": "stdout",
     "output_type": "stream",
     "text": [
      "https://docs.python.org/3.6/installing/index.html\n"
     ]
    }
   ],
   "source": [
    "print res.url"
   ]
  },
  {
   "cell_type": "code",
   "execution_count": 9,
   "metadata": {
    "collapsed": false
   },
   "outputs": [
    {
     "name": "stdout",
     "output_type": "stream",
     "text": [
      "<!DOCTYPE html PUBLIC \"-//W3C//DTD XHTML 1.0 Transitional//EN\"\n",
      "  \"http://www.w3.org/TR/xhtml1/DTD/xhtml1-transitional.dtd\">\n",
      "\n",
      "\n",
      "<html xmlns=\"http://www.w3.org/1999/xhtml\">\n",
      "  <head>\n",
      "    <meta http-equiv=\"Content-Type\" content=\"text/html; charset=utf-8\" />\n",
      "    \n",
      "    <title>Installing Python Modules &mdash; Python 3.6.0a0 documentation</title>\n",
      "    \n",
      "    <link rel=\"stylesheet\" href=\"../_static/pydoctheme.css\" type=\"text/css\" />\n",
      "    <link rel=\"stylesheet\" href=\"../_static/pygments.css\" type=\"text/css\" />\n",
      "    \n",
      "    <script type=\"text/javascript\">\n",
      "      var DOCUMENTATION_OPTIONS = {\n",
      "        URL_ROOT:    '../',\n",
      "        VERSION:     '3.6.0a0',\n",
      "        COLLAPSE_INDEX: false,\n",
      "        FILE_SUFFIX: '.html',\n",
      "        HAS_SOURCE:  true\n",
      "      };\n",
      "    </script>\n",
      "    <script type=\"text/javascript\" src=\"../_static/jquery.js\"></script>\n",
      "    <script type=\"text/javascript\" src=\"../_static/underscore.js\"></script>\n",
      "    <script type=\"text/javascript\" src=\"../_static/doctools.js\"></script>\n",
      "    <script type=\"text/javascript\" src=\"../_static/sidebar.js\"></script>\n",
      "    <link rel=\"search\" type=\"application/opensearchdescription+xml\"\n",
      "          title=\"Search within Python 3.6.0a0 documentation\"\n",
      "          href=\"../_static/opensearch.xml\"/>\n",
      "    <link rel=\"author\" title=\"About these documents\" href=\"../about.html\" />\n",
      "    <link rel=\"copyright\" title=\"Copyright\" href=\"../copyright.html\" />\n",
      "    <link rel=\"top\" title=\"Python 3.6.0a0 documentation\" href=\"../contents.html\" />\n",
      "    <link rel=\"next\" title=\"Python HOWTOs\" href=\"../howto/index.html\" />\n",
      "    <link rel=\"prev\" title=\"Distributing Python Modules\" href=\"../distributing/index.html\" />\n",
      "    <link rel=\"shortcut icon\" type=\"image/png\" href=\"../_static/py.png\" />\n",
      "    <script type=\"text/javascript\" src=\"../_static/copybutton.js\"></script>\n",
      "    <script type=\"text/javascript\" src=\"../_static/version_switch.js\"></script>\n",
      "    \n",
      " \n",
      "\n",
      "  </head>\n",
      "  <body role=\"document\">  \n",
      "    <div class=\"related\" role=\"navigation\" aria-label=\"related navigation\">\n",
      "      <h3>Navigation</h3>\n",
      "      <ul>\n",
      "        <li class=\"right\" style=\"margin-right: 10px\">\n",
      "          <a href=\"../genindex.html\" title=\"General Index\"\n",
      "             accesskey=\"I\">index</a></li>\n",
      "        <li class=\"right\" >\n",
      "          <a href=\"../py-modindex.html\" title=\"Python Module Index\"\n",
      "             >modules</a> |</li>\n",
      "        <li class=\"right\" >\n",
      "          <a href=\"../howto/index.html\" title=\"Python HOWTOs\"\n",
      "             accesskey=\"N\">next</a> |</li>\n",
      "        <li class=\"right\" >\n",
      "          <a href=\"../distributing/index.html\" title=\"Distributing Python Modules\"\n",
      "             accesskey=\"P\">previous</a> |</li>\n",
      "        <li><img src=\"../_static/py.png\" alt=\"\"\n",
      "                 style=\"vertical-align: middle; margin-top: -1px\"/></li>\n",
      "        <li><a href=\"https://www.python.org/\">Python</a> &raquo;</li>\n",
      "        <li>\n",
      "          <span class=\"version_switcher_placeholder\">3.6.0a0</span>\n",
      "          <a href=\"../index.html\">Documentation </a> &raquo;\n",
      "        </li>\n",
      " \n",
      "      </ul>\n",
      "    </div>    \n",
      "\n",
      "    <div class=\"document\">\n",
      "      <div class=\"documentwrapper\">\n",
      "        <div class=\"bodywrapper\">\n",
      "          <div class=\"body\" role=\"main\">\n",
      "            \n",
      "  <div class=\"section\" id=\"installing-python-modules\">\n",
      "<span id=\"installing-index\"></span><h1>Installing Python Modules<a class=\"headerlink\" href=\"#installing-python-modules\" title=\"Permalink to this headline\">¶</a></h1>\n",
      "<table class=\"docutils field-list\" frame=\"void\" rules=\"none\">\n",
      "<col class=\"field-name\" />\n",
      "<col class=\"field-body\" />\n",
      "<tbody valign=\"top\">\n",
      "<tr class=\"field-odd field\"><th class=\"field-name\">Email:</th><td class=\"field-body\"><a class=\"reference external\" href=\"mailto:distutils-sig&#37;&#52;&#48;python&#46;org\">distutils-sig<span>&#64;</span>python<span>&#46;</span>org</a></td>\n",
      "</tr>\n",
      "</tbody>\n",
      "</table>\n",
      "<p>As a popular open source development project, Python has an active\n",
      "supporting community of contributors and users that also make their software\n",
      "available for other Python developers to use under open source license terms.</p>\n",
      "<p>This allows Python users to share and collaborate effectively, benefiting\n",
      "from the solutions others have already created to common (and sometimes\n",
      "even rare!) problems, as well as potentially contributing their own\n",
      "solutions to the common pool.</p>\n",
      "<p>This guide covers the installation part of the process. For a guide to\n",
      "creating and sharing your own Python projects, refer to the\n",
      "<a class=\"reference internal\" href=\"../distributing/index.html#distributing-index\"><span>distribution guide</span></a>.</p>\n",
      "<div class=\"admonition note\">\n",
      "<p class=\"first admonition-title\">Note</p>\n",
      "<p class=\"last\">For corporate and other institutional users, be aware that many\n",
      "organisations have their own policies around using and contributing to\n",
      "open source software. Please take such policies into account when making\n",
      "use of the distribution and installation tools provided with Python.</p>\n",
      "</div>\n",
      "<div class=\"section\" id=\"key-terms\">\n",
      "<h2>Key terms<a class=\"headerlink\" href=\"#key-terms\" title=\"Permalink to this headline\">¶</a></h2>\n",
      "<ul class=\"simple\">\n",
      "<li><code class=\"docutils literal\"><span class=\"pre\">pip</span></code> is the preferred installer program. Starting with Python 3.4, it\n",
      "is included by default with the Python binary installers.</li>\n",
      "<li>a virtual environment is a semi-isolated Python environment that allows\n",
      "packages to be installed for use by a particular application, rather than\n",
      "being installed system wide</li>\n",
      "<li><code class=\"docutils literal\"><span class=\"pre\">pyvenv</span></code> is the standard tool for creating virtual environments, and has\n",
      "been part of Python since Python 3.3. Starting with Python 3.4, it\n",
      "defaults to installing <code class=\"docutils literal\"><span class=\"pre\">pip</span></code> into all created virtual environments</li>\n",
      "<li><code class=\"docutils literal\"><span class=\"pre\">virtualenv</span></code> is a third party alternative (and predecessor) to\n",
      "<code class=\"docutils literal\"><span class=\"pre\">pyvenv</span></code>. It allows virtual environments to be used on versions of\n",
      "Python prior to 3.4, which either don&#8217;t provide <code class=\"docutils literal\"><span class=\"pre\">pyvenv</span></code> at all, or\n",
      "aren&#8217;t able to automatically install <code class=\"docutils literal\"><span class=\"pre\">pip</span></code> into created environments.</li>\n",
      "<li>the <a class=\"reference external\" href=\"https://pypi.python.org/pypi\">Python Packaging Index</a> is a public\n",
      "repository of open source licensed packages made available for use by\n",
      "other Python users</li>\n",
      "<li>the <a class=\"reference external\" href=\"https://packaging.python.org/en/latest/future.html\">Python Packaging Authority</a> are the group of\n",
      "developers and documentation authors responsible for the maintenance and\n",
      "evolution of the standard packaging tools and the associated metadata and\n",
      "file format standards. They maintain a variety of tools, documentation\n",
      "and issue trackers on both <a class=\"reference external\" href=\"https://github.com/pypa\">GitHub</a> and\n",
      "<a class=\"reference external\" href=\"https://bitbucket.org/pypa/\">BitBucket</a>.</li>\n",
      "<li><code class=\"docutils literal\"><span class=\"pre\">distutils</span></code> is the original build and distribution system first added to\n",
      "the Python standard library in 1998. While direct use of <code class=\"docutils literal\"><span class=\"pre\">distutils</span></code> is\n",
      "being phased out, it still laid the foundation for the current packaging\n",
      "and distribution infrastructure, and it not only remains part of the\n",
      "standard library, but its name lives on in other ways (such as the name\n",
      "of the mailing list used to coordinate Python packaging standards\n",
      "development).</li>\n",
      "</ul>\n",
      "</div>\n",
      "<div class=\"section\" id=\"basic-usage\">\n",
      "<h2>Basic usage<a class=\"headerlink\" href=\"#basic-usage\" title=\"Permalink to this headline\">¶</a></h2>\n",
      "<p>The standard packaging tools are all designed to be used from the command\n",
      "line.</p>\n",
      "<p>The following command will install the latest version of a module and its\n",
      "dependencies from the Python Packaging Index:</p>\n",
      "<div class=\"highlight-none\"><div class=\"highlight\"><pre>python -m pip install SomePackage\n",
      "</pre></div>\n",
      "</div>\n",
      "<div class=\"admonition note\">\n",
      "<p class=\"first admonition-title\">Note</p>\n",
      "<p>For POSIX users (including Mac OS X and Linux users), the examples in\n",
      "this guide assume the use of a <a class=\"reference internal\" href=\"../glossary.html#term-virtual-environment\"><span class=\"xref std std-term\">virtual environment</span></a>.</p>\n",
      "<p class=\"last\">For Windows users, the examples in this guide assume that the option to\n",
      "adjust the system PATH environment variable was selected when installing\n",
      "Python.</p>\n",
      "</div>\n",
      "<p>It&#8217;s also possible to specify an exact or minimum version directly on the\n",
      "command line. When using comparator operators such as <code class=\"docutils literal\"><span class=\"pre\">&gt;</span></code>, <code class=\"docutils literal\"><span class=\"pre\">&lt;</span></code> or some other\n",
      "special character which get interpreted by shell, the package name and the\n",
      "version should be enclosed within double quotes:</p>\n",
      "<div class=\"highlight-none\"><div class=\"highlight\"><pre>python -m pip install SomePackage==1.0.4    # specific version\n",
      "python -m pip install &quot;SomePackage&gt;=1.0.4&quot;  # minimum version\n",
      "</pre></div>\n",
      "</div>\n",
      "<p>Normally, if a suitable module is already installed, attempting to install\n",
      "it again will have no effect. Upgrading existing modules must be requested\n",
      "explicitly:</p>\n",
      "<div class=\"highlight-none\"><div class=\"highlight\"><pre>python -m pip install --upgrade SomePackage\n",
      "</pre></div>\n",
      "</div>\n",
      "<p>More information and resources regarding <code class=\"docutils literal\"><span class=\"pre\">pip</span></code> and its capabilities can be\n",
      "found in the <a class=\"reference external\" href=\"https://packaging.python.org\">Python Packaging User Guide</a>.</p>\n",
      "<p><code class=\"docutils literal\"><span class=\"pre\">pyvenv</span></code> has its own documentation at <a class=\"reference internal\" href=\"../using/scripts.html#scripts-pyvenv\"><span>pyvenv - Creating virtual environments</span></a>. Installing\n",
      "into an active virtual environment uses the commands shown above.</p>\n",
      "<div class=\"admonition seealso\">\n",
      "<p class=\"first admonition-title\">See also</p>\n",
      "<p class=\"last\"><a class=\"reference external\" href=\"https://packaging.python.org/en/latest/installing.html#installing-python-distribution-packages\">Python Packaging User Guide: Installing Python Distribution Packages</a></p>\n",
      "</div>\n",
      "</div>\n",
      "<div class=\"section\" id=\"how-do-i\">\n",
      "<h2>How do I ...?<a class=\"headerlink\" href=\"#how-do-i\" title=\"Permalink to this headline\">¶</a></h2>\n",
      "<p>These are quick answers or links for some common tasks.</p>\n",
      "<div class=\"section\" id=\"install-pip-in-versions-of-python-prior-to-python-3-4\">\n",
      "<h3>... install <code class=\"docutils literal\"><span class=\"pre\">pip</span></code> in versions of Python prior to Python 3.4?<a class=\"headerlink\" href=\"#install-pip-in-versions-of-python-prior-to-python-3-4\" title=\"Permalink to this headline\">¶</a></h3>\n",
      "<p>Python only started bundling <code class=\"docutils literal\"><span class=\"pre\">pip</span></code> with Python 3.4. For earlier versions,\n",
      "<code class=\"docutils literal\"><span class=\"pre\">pip</span></code> needs to be &#8220;bootstrapped&#8221; as described in the Python Packaging\n",
      "User Guide.</p>\n",
      "<div class=\"admonition seealso\">\n",
      "<p class=\"first admonition-title\">See also</p>\n",
      "<p class=\"last\"><a class=\"reference external\" href=\"https://packaging.python.org/en/latest/installing.html#setup-for-installing-distribution-packages\">Python Packaging User Guide: Setup for Installing Distribution Packages</a></p>\n",
      "</div>\n",
      "</div>\n",
      "<div class=\"section\" id=\"install-packages-just-for-the-current-user\">\n",
      "<h3>... install packages just for the current user?<a class=\"headerlink\" href=\"#install-packages-just-for-the-current-user\" title=\"Permalink to this headline\">¶</a></h3>\n",
      "<p>Passing the <code class=\"docutils literal\"><span class=\"pre\">--user</span></code> option to <code class=\"docutils literal\"><span class=\"pre\">python</span> <span class=\"pre\">-m</span> <span class=\"pre\">pip</span> <span class=\"pre\">install</span></code> will install a\n",
      "package just for the current user, rather than for all users of the system.</p>\n",
      "</div>\n",
      "<div class=\"section\" id=\"install-scientific-python-packages\">\n",
      "<h3>... install scientific Python packages?<a class=\"headerlink\" href=\"#install-scientific-python-packages\" title=\"Permalink to this headline\">¶</a></h3>\n",
      "<p>A number of scientific Python packages have complex binary dependencies, and\n",
      "aren&#8217;t currently easy to install using <code class=\"docutils literal\"><span class=\"pre\">pip</span></code> directly. At this point in\n",
      "time, it will often be easier for users to install these packages by\n",
      "<a class=\"reference external\" href=\"https://packaging.python.org/en/latest/science.html\">other means</a>\n",
      "rather than attempting to install them with <code class=\"docutils literal\"><span class=\"pre\">pip</span></code>.</p>\n",
      "<div class=\"admonition seealso\">\n",
      "<p class=\"first admonition-title\">See also</p>\n",
      "<p class=\"last\"><a class=\"reference external\" href=\"https://packaging.python.org/en/latest/science.html\">Python Packaging User Guide: Installing Scientific Packages</a></p>\n",
      "</div>\n",
      "</div>\n",
      "<div class=\"section\" id=\"work-with-multiple-versions-of-python-installed-in-parallel\">\n",
      "<h3>... work with multiple versions of Python installed in parallel?<a class=\"headerlink\" href=\"#work-with-multiple-versions-of-python-installed-in-parallel\" title=\"Permalink to this headline\">¶</a></h3>\n",
      "<p>On Linux, Mac OS X and other POSIX systems, use the versioned Python commands\n",
      "in combination with the <code class=\"docutils literal\"><span class=\"pre\">-m</span></code> switch to run the appropriate copy of\n",
      "<code class=\"docutils literal\"><span class=\"pre\">pip</span></code>:</p>\n",
      "<div class=\"highlight-none\"><div class=\"highlight\"><pre>python2   -m pip install SomePackage  # default Python 2\n",
      "python2.7 -m pip install SomePackage  # specifically Python 2.7\n",
      "python3   -m pip install SomePackage  # default Python 3\n",
      "python3.4 -m pip install SomePackage  # specifically Python 3.4\n",
      "</pre></div>\n",
      "</div>\n",
      "<p>(appropriately versioned <code class=\"docutils literal\"><span class=\"pre\">pip</span></code> commands may also be available)</p>\n",
      "<p>On Windows, use the <code class=\"docutils literal\"><span class=\"pre\">py</span></code> Python launcher in combination with the <code class=\"docutils literal\"><span class=\"pre\">-m</span></code>\n",
      "switch:</p>\n",
      "<div class=\"highlight-none\"><div class=\"highlight\"><pre>py -2   -m pip install SomePackage  # default Python 2\n",
      "py -2.7 -m pip install SomePackage  # specifically Python 2.7\n",
      "py -3   -m pip install SomePackage  # default Python 3\n",
      "py -3.4 -m pip install SomePackage  # specifically Python 3.4\n",
      "</pre></div>\n",
      "</div>\n",
      "</div>\n",
      "</div>\n",
      "<div class=\"section\" id=\"common-installation-issues\">\n",
      "<h2>Common installation issues<a class=\"headerlink\" href=\"#common-installation-issues\" title=\"Permalink to this headline\">¶</a></h2>\n",
      "<div class=\"section\" id=\"installing-into-the-system-python-on-linux\">\n",
      "<h3>Installing into the system Python on Linux<a class=\"headerlink\" href=\"#installing-into-the-system-python-on-linux\" title=\"Permalink to this headline\">¶</a></h3>\n",
      "<p>On Linux systems, a Python installation will typically be included as part\n",
      "of the distribution. Installing into this Python installation requires\n",
      "root access to the system, and may interfere with the operation of the\n",
      "system package manager and other components of the system if a component\n",
      "is unexpectedly upgraded using <code class=\"docutils literal\"><span class=\"pre\">pip</span></code>.</p>\n",
      "<p>On such systems, it is often better to use a virtual environment or a\n",
      "per-user installation when installing packages with <code class=\"docutils literal\"><span class=\"pre\">pip</span></code>.</p>\n",
      "</div>\n",
      "<div class=\"section\" id=\"installing-binary-extensions\">\n",
      "<h3>Installing binary extensions<a class=\"headerlink\" href=\"#installing-binary-extensions\" title=\"Permalink to this headline\">¶</a></h3>\n",
      "<p>Python has typically relied heavily on source based distribution, with end\n",
      "users being expected to compile extension modules from source as part of\n",
      "the installation process.</p>\n",
      "<p>With the introduction of support for the binary <code class=\"docutils literal\"><span class=\"pre\">wheel</span></code> format, and the\n",
      "ability to publish wheels for at least Windows and Mac OS X through the\n",
      "Python Packaging Index, this problem is expected to diminish over time,\n",
      "as users are more regularly able to install pre-built extensions rather\n",
      "than needing to build them themselves.</p>\n",
      "<p>Some of the solutions for installing <a class=\"reference external\" href=\"https://packaging.python.org/en/latest/science.html\">scientific software</a>\n",
      "that is not yet available as pre-built <code class=\"docutils literal\"><span class=\"pre\">wheel</span></code> files may also help with\n",
      "obtaining other binary extensions without needing to build them locally.</p>\n",
      "<div class=\"admonition seealso\">\n",
      "<p class=\"first admonition-title\">See also</p>\n",
      "<p class=\"last\"><a class=\"reference external\" href=\"https://packaging.python.org/en/latest/extensions.html\">Python Packaging User Guide: Binary Extensions</a></p>\n",
      "</div>\n",
      "</div>\n",
      "</div>\n",
      "</div>\n",
      "\n",
      "\n",
      "          </div>\n",
      "        </div>\n",
      "      </div>\n",
      "      <div class=\"sphinxsidebar\" role=\"navigation\" aria-label=\"main navigation\">\n",
      "        <div class=\"sphinxsidebarwrapper\">\n",
      "  <h3><a href=\"../contents.html\">Table Of Contents</a></h3>\n",
      "  <ul>\n",
      "<li><a class=\"reference internal\" href=\"#\">Installing Python Modules</a><ul>\n",
      "<li><a class=\"reference internal\" href=\"#key-terms\">Key terms</a></li>\n",
      "<li><a class=\"reference internal\" href=\"#basic-usage\">Basic usage</a></li>\n",
      "<li><a class=\"reference internal\" href=\"#how-do-i\">How do I ...?</a><ul>\n",
      "<li><a class=\"reference internal\" href=\"#install-pip-in-versions-of-python-prior-to-python-3-4\">... install <code class=\"docutils literal\"><span class=\"pre\">pip</span></code> in versions of Python prior to Python 3.4?</a></li>\n",
      "<li><a class=\"reference internal\" href=\"#install-packages-just-for-the-current-user\">... install packages just for the current user?</a></li>\n",
      "<li><a class=\"reference internal\" href=\"#install-scientific-python-packages\">... install scientific Python packages?</a></li>\n",
      "<li><a class=\"reference internal\" href=\"#work-with-multiple-versions-of-python-installed-in-parallel\">... work with multiple versions of Python installed in parallel?</a></li>\n",
      "</ul>\n",
      "</li>\n",
      "<li><a class=\"reference internal\" href=\"#common-installation-issues\">Common installation issues</a><ul>\n",
      "<li><a class=\"reference internal\" href=\"#installing-into-the-system-python-on-linux\">Installing into the system Python on Linux</a></li>\n",
      "<li><a class=\"reference internal\" href=\"#installing-binary-extensions\">Installing binary extensions</a></li>\n",
      "</ul>\n",
      "</li>\n",
      "</ul>\n",
      "</li>\n",
      "</ul>\n",
      "\n",
      "  <h4>Previous topic</h4>\n",
      "  <p class=\"topless\"><a href=\"../distributing/index.html\"\n",
      "                        title=\"previous chapter\">Distributing Python Modules</a></p>\n",
      "  <h4>Next topic</h4>\n",
      "  <p class=\"topless\"><a href=\"../howto/index.html\"\n",
      "                        title=\"next chapter\">Python HOWTOs</a></p>\n",
      "<h3>This Page</h3>\n",
      "<ul class=\"this-page-menu\">\n",
      "  <li><a href=\"../bugs.html\">Report a Bug</a></li>\n",
      "  <li><a href=\"../_sources/installing/index.txt\"\n",
      "         rel=\"nofollow\">Show Source</a></li>\n",
      "</ul>\n",
      "\n",
      "<div id=\"searchbox\" style=\"display: none\" role=\"search\">\n",
      "  <h3>Quick search</h3>\n",
      "    <form class=\"search\" action=\"../search.html\" method=\"get\">\n",
      "      <input type=\"text\" name=\"q\" />\n",
      "      <input type=\"submit\" value=\"Go\" />\n",
      "      <input type=\"hidden\" name=\"check_keywords\" value=\"yes\" />\n",
      "      <input type=\"hidden\" name=\"area\" value=\"default\" />\n",
      "    </form>\n",
      "    <p class=\"searchtip\" style=\"font-size: 90%\">\n",
      "    Enter search terms or a module, class or function name.\n",
      "    </p>\n",
      "</div>\n",
      "<script type=\"text/javascript\">$('#searchbox').show(0);</script>\n",
      "        </div>\n",
      "      </div>\n",
      "      <div class=\"clearer\"></div>\n",
      "    </div>  \n",
      "    <div class=\"related\" role=\"navigation\" aria-label=\"related navigation\">\n",
      "      <h3>Navigation</h3>\n",
      "      <ul>\n",
      "        <li class=\"right\" style=\"margin-right: 10px\">\n",
      "          <a href=\"../genindex.html\" title=\"General Index\"\n",
      "             >index</a></li>\n",
      "        <li class=\"right\" >\n",
      "          <a href=\"../py-modindex.html\" title=\"Python Module Index\"\n",
      "             >modules</a> |</li>\n",
      "        <li class=\"right\" >\n",
      "          <a href=\"../howto/index.html\" title=\"Python HOWTOs\"\n",
      "             >next</a> |</li>\n",
      "        <li class=\"right\" >\n",
      "          <a href=\"../distributing/index.html\" title=\"Distributing Python Modules\"\n",
      "             >previous</a> |</li>\n",
      "        <li><img src=\"../_static/py.png\" alt=\"\"\n",
      "                 style=\"vertical-align: middle; margin-top: -1px\"/></li>\n",
      "        <li><a href=\"https://www.python.org/\">Python</a> &raquo;</li>\n",
      "        <li>\n",
      "          <span class=\"version_switcher_placeholder\">3.6.0a0</span>\n",
      "          <a href=\"../index.html\">Documentation </a> &raquo;\n",
      "        </li>\n",
      " \n",
      "      </ul>\n",
      "    </div>  \n",
      "    <div class=\"footer\">\n",
      "    &copy; <a href=\"../copyright.html\">Copyright</a> 1990-2016, Python Software Foundation.\n",
      "    <br />\n",
      "    The Python Software Foundation is a non-profit corporation.\n",
      "    <a href=\"https://www.python.org/psf/donations/\">Please donate.</a>\n",
      "    <br />\n",
      "    Last updated on Jan 22, 2016.\n",
      "    <a href=\"../bugs.html\">Found a bug</a>?\n",
      "    <br />\n",
      "    Created using <a href=\"http://sphinx.pocoo.org/\">Sphinx</a> 1.3.3.\n",
      "    </div>\n",
      "\n",
      "  </body>\n",
      "</html>\n"
     ]
    }
   ],
   "source": [
    "# we are able to fetch complete html file of that link\n",
    "# this is first step in crawling any website.\n",
    "\n",
    "print res.content"
   ]
  },
  {
   "cell_type": "code",
   "execution_count": 11,
   "metadata": {
    "collapsed": false
   },
   "outputs": [
    {
     "name": "stdout",
     "output_type": "stream",
     "text": [
      "200\n"
     ]
    }
   ],
   "source": [
    "# if status code is 200 that means ok in http\n",
    "# 500 when server is not found\n",
    "# 404 when page is not available\n",
    "print res.status_code"
   ]
  },
  {
   "cell_type": "markdown",
   "metadata": {},
   "source": [
    "---"
   ]
  },
  {
   "cell_type": "markdown",
   "metadata": {},
   "source": [
    "## Working with Files "
   ]
  },
  {
   "cell_type": "markdown",
   "metadata": {},
   "source": [
    "### 1) `create a file at your home location and write the text you fetched from the website from the previous module. Name the file as the python_doc.txt`"
   ]
  },
  {
   "cell_type": "code",
   "execution_count": 15,
   "metadata": {
    "collapsed": false
   },
   "outputs": [
    {
     "name": "stdout",
     "output_type": "stream",
     "text": [
      "<type 'str'>\n"
     ]
    }
   ],
   "source": [
    "fp = open('python_doc.txt', 'w')\n",
    "\n",
    "# let's take the content into data \n",
    "data = res.content\n",
    "# check if it is string type or not \n",
    "print type(data)\n",
    "\n",
    "# since it is string we can use fp.write() funciton\n",
    "fp.write(data)\n",
    "fp.close()"
   ]
  },
  {
   "cell_type": "markdown",
   "metadata": {},
   "source": [
    "### `2) Read the file again and match the content by string function whether it is same or not? `\n",
    "\n",
    "`If same no problem, if you are not getting the same string back, what is the solution ? `"
   ]
  },
  {
   "cell_type": "code",
   "execution_count": 21,
   "metadata": {
    "collapsed": false
   },
   "outputs": [
    {
     "name": "stdout",
     "output_type": "stream",
     "text": [
      "<type 'list'>\n",
      "354\n",
      "  \"http://www.w3.org/TR/xhtml1/DTD/xhtml1-transitional.dtd\">\n",
      "\n",
      "let's think of some other solution\n"
     ]
    }
   ],
   "source": [
    "# get the data from request object\n",
    "data = res.content\n",
    "\n",
    "fp = open('python_doc.txt', 'r')\n",
    "# read it in one go \n",
    "data_read = fp.readlines()\n",
    "\n",
    "# aah! so we got back a list ? Now what  \n",
    "print type(data_read)\n",
    "\n",
    "print len(data_read)\n",
    "\n",
    "# let's see how this list look like\n",
    "\n",
    "print data_read[1]\n",
    "# Lets convert it to string ?\n",
    "\n",
    "data_str = ' '.join(data_read)\n",
    "\n",
    "if data_str == data :\n",
    "    print \"we got the same data back!\"\n",
    "else:\n",
    "    print \"let's think of some other solution\"\n",
    "\n",
    "# So the other solution is to serialize this string\n",
    "# Now you undestand why serialization is easy, robust and fast\n",
    "fp.close()"
   ]
  },
  {
   "cell_type": "markdown",
   "metadata": {},
   "source": [
    "__ `Serialize the data `__"
   ]
  },
  {
   "cell_type": "code",
   "execution_count": 23,
   "metadata": {
    "collapsed": false
   },
   "outputs": [
    {
     "name": "stdout",
     "output_type": "stream",
     "text": [
      "we got the same data back!\n"
     ]
    }
   ],
   "source": [
    "import pickle\n",
    "\n",
    "# get the data from request object\n",
    "data = res.content\n",
    "\n",
    "fp = open('python_doc.pkl', 'w')\n",
    "\n",
    "# lets dump it using pickle\n",
    "pickle.dump(data, fp)\n",
    "\n",
    "# close the file\n",
    "fp.close()\n",
    "\n",
    "fp = open(\"python_doc.pkl\")\n",
    "data_serl  = pickle.load(fp)\n",
    "\n",
    "if data_serl == data :\n",
    "    print \"we got the same data back!\"\n",
    "else:\n",
    "    print \"let's think of some other solution\"\n"
   ]
  },
  {
   "cell_type": "markdown",
   "metadata": {},
   "source": [
    "### `3) Open the same file in append mode and append your name at the last line`"
   ]
  },
  {
   "cell_type": "code",
   "execution_count": 28,
   "metadata": {
    "collapsed": false
   },
   "outputs": [],
   "source": [
    "fp = open('python_doc.txt', 'a')\n",
    "# if you are smart you would do this since you\n",
    "# have to read it back again in next exercise\n",
    "fp.write('\\n Alice')\n",
    "fp.close()"
   ]
  },
  {
   "cell_type": "markdown",
   "metadata": {},
   "source": [
    "### `4) Are you able to read your name back ? print for us :)`"
   ]
  },
  {
   "cell_type": "code",
   "execution_count": 30,
   "metadata": {
    "collapsed": false
   },
   "outputs": [
    {
     "name": "stdout",
     "output_type": "stream",
     "text": [
      " Alice\n"
     ]
    }
   ],
   "source": [
    "# read lines define lines with new line char \\n\n",
    "# So if you write string with \\n it will be read as the \n",
    "# next element in the list\n",
    "# and since you added last you can just do lines[-1]\n",
    "\n",
    "fp = open('python_doc.txt', 'r')\n",
    "lines = fp.readlines()\n",
    "print lines[-1]"
   ]
  },
  {
   "cell_type": "markdown",
   "metadata": {},
   "source": [
    "## Advance - Do Try!\n",
    "### `5) Write your own serialize de-serialize function, such that you just pass it the data structure, it should save it with the same name and read it back when you ask it to read `"
   ]
  },
  {
   "cell_type": "code",
   "execution_count": 39,
   "metadata": {
    "collapsed": false
   },
   "outputs": [
    {
     "name": "stdout",
     "output_type": "stream",
     "text": [
      "[1, 2, 3, 4]\n",
      "my_data.pkl has been sereliazed\n",
      "[1, 2, 3, 4]\n",
      "success\n"
     ]
    }
   ],
   "source": [
    "import pickle\n",
    "\n",
    "def serialize(data, name):\n",
    "\n",
    "    fp = open(name, 'w')\n",
    "\n",
    "    # lets dump it using pickle\n",
    "    pickle.dump(data, fp)\n",
    "\n",
    "    # close the file\n",
    "    fp.close()\n",
    "    print name+\" has been sereliazed\"\n",
    "\n",
    "def de_serialize(name):\n",
    "    fp = open(name)\n",
    "    data_serl  = pickle.load(fp)\n",
    "    fp.close()\n",
    "    return data_serl\n",
    "\n",
    "def main():\n",
    "    l = [1,2,3,4]\n",
    "    print l\n",
    "    name = 'my_data.pkl'\n",
    "    serialize(l, name)\n",
    "    l_de = de_serialize(name)\n",
    "    print l_de\n",
    "    if l_de == l:\n",
    "        print \"success\"\n",
    "main()"
   ]
  },
  {
   "cell_type": "markdown",
   "metadata": {},
   "source": [
    "---"
   ]
  },
  {
   "cell_type": "markdown",
   "metadata": {},
   "source": [
    "## Exception Handling\n"
   ]
  },
  {
   "cell_type": "markdown",
   "metadata": {},
   "source": [
    "### `1) Let's request a URL which is not reachable by request, a wrong URL . Can you catch the exception requests throw and show your own error message ?`"
   ]
  },
  {
   "cell_type": "code",
   "execution_count": 45,
   "metadata": {
    "collapsed": false
   },
   "outputs": [
    {
     "name": "stdout",
     "output_type": "stream",
     "text": [
      "URL http://some.wrong.url is not reachable please pass a correct one\n"
     ]
    }
   ],
   "source": [
    "import requests as re\n",
    "try:\n",
    "    url = \"http://some.wrong.url\"\n",
    "    res = re.get(url)\n",
    "except:\n",
    "    print \"URL {} is not reachable please pass a correct one\".format(url)"
   ]
  },
  {
   "cell_type": "markdown",
   "metadata": {},
   "source": [
    "### 2) `Imagine there is a file in which your name is written. Can you open and print your name?`\n",
    "\n",
    "`What if the file is not there ? and you really want this exercise to complete. You can do so by creating a new file and write your name on it.`"
   ]
  },
  {
   "cell_type": "code",
   "execution_count": 48,
   "metadata": {
    "collapsed": false
   },
   "outputs": [
    {
     "name": "stdout",
     "output_type": "stream",
     "text": [
      "My name is  EMINEM\n"
     ]
    }
   ],
   "source": [
    "fname = 'somefile.txt'\n",
    "\n",
    "try:\n",
    "    fp = open(fname, 'r')\n",
    "    data = fp.readlines()\n",
    "except IOError:\n",
    "#     create a new file\n",
    "    fp = open(fname, 'w')\n",
    "    fp.write('Slim Shedy')\n",
    "finally:\n",
    "    fp.close()\n",
    "    fp = open(fname, 'r')\n",
    "    my_name = fp.readline()\n",
    "    print \"My name is \", my_name"
   ]
  },
  {
   "cell_type": "markdown",
   "metadata": {},
   "source": [
    "### 3) `Read a file, if it does not exist ask user to whether he want to create a file? If yes create the file, ask user what to write, write that file. Print the content of the file and delete it programmatically . There should be no file once your program finish `"
   ]
  },
  {
   "cell_type": "code",
   "execution_count": 53,
   "metadata": {
    "collapsed": false
   },
   "outputs": [
    {
     "name": "stdout",
     "output_type": "stream",
     "text": [
      "do you want to create a new file? Y/NN\n",
      "cleaning up ... somefile.txt\n",
      "file is not there checked by OS\n"
     ]
    }
   ],
   "source": [
    "# You need this module to pass OS commands like deleting a file etc.\n",
    "import os \n",
    "fname = 'somefile.txt'\n",
    "try:\n",
    "    fp = open(fname, 'r')\n",
    "    data = fp.readlines()\n",
    "    print \"The file contain - \\n\", data \n",
    "\n",
    "except IOError:\n",
    "    choice = raw_input(\"do you want to create a new file? Y/N\")\n",
    "    if choice == 'Y':\n",
    "    #     create a new file\n",
    "        fp = open(fname, 'w')\n",
    "        user_msg = raw_input(\"Enter what do you want to write in file.\")\n",
    "        fp.write(\"\\n\"+ user_msg)\n",
    "        \n",
    "finally:\n",
    "#     cleanup , delete the file\n",
    "    fp.close()\n",
    "    print \"cleaning up ...\", fname\n",
    "    try:\n",
    "        os.remove(fname)\n",
    "    except OSError:\n",
    "        print \"You denied creating a file\""
   ]
  },
  {
   "cell_type": "markdown",
   "metadata": {},
   "source": [
    "### 4) `In the above example can you verify programmatically if it is really deleted ? "
   ]
  },
  {
   "cell_type": "code",
   "execution_count": 58,
   "metadata": {
    "collapsed": false
   },
   "outputs": [
    {
     "name": "stdout",
     "output_type": "stream",
     "text": [
      "do you want to create a new file? Y/Ny\n",
      "Enter what do you want to write in file.something\n",
      "cleaning up ... somefile.txt\n",
      "file is deleted\n",
      "verified! the file is gone \n"
     ]
    }
   ],
   "source": [
    "import os \n",
    "fname = 'somefile.txt'\n",
    "try:\n",
    "    fp = open(fname, 'r')\n",
    "    data = fp.readlines()\n",
    "    print \"The file contain - \\n\", data \n",
    "\n",
    "except IOError:\n",
    "    choice = raw_input(\"do you want to create a new file? Y/N\")\n",
    "    choice = choice.lower()\n",
    "    if choice == 'y':\n",
    "    #     create a new file\n",
    "        fp = open(fname, 'w')\n",
    "        user_msg = raw_input(\"Enter what do you want to write in file.\")\n",
    "        fp.write(\"\\n\"+ user_msg)\n",
    "        print \"msg have been written to file\"\n",
    "finally:\n",
    "#     cleanup , delete the file\n",
    "    fp.close()\n",
    "    print \"cleaning up ...\", fname\n",
    "    try:\n",
    "        os.remove(fname)\n",
    "        print \"file is deleted\"\n",
    "    except OSError:\n",
    "        print \"No file to remove.\"\n",
    "#    Just a double check ,\n",
    "    try:\n",
    "        fp = open(fname, 'r')\n",
    "    except IOError:\n",
    "        print \"verified! the file is gone \""
   ]
  },
  {
   "cell_type": "code",
   "execution_count": 50,
   "metadata": {
    "collapsed": false
   },
   "outputs": [
    {
     "data": {
      "text/plain": [
       "'remove(path)\\n\\nRemove a file (same as unlink(path)).'"
      ]
     },
     "execution_count": 50,
     "metadata": {},
     "output_type": "execute_result"
    }
   ],
   "source": [
    "import os\n",
    "os.remove.__doc__"
   ]
  }
 ],
 "metadata": {
  "kernelspec": {
   "display_name": "Python 2",
   "language": "python",
   "name": "python2"
  },
  "language_info": {
   "codemirror_mode": {
    "name": "ipython",
    "version": 2
   },
   "file_extension": ".py",
   "mimetype": "text/x-python",
   "name": "python",
   "nbconvert_exporter": "python",
   "pygments_lexer": "ipython2",
   "version": "2.7.10"
  }
 },
 "nbformat": 4,
 "nbformat_minor": 0
}
