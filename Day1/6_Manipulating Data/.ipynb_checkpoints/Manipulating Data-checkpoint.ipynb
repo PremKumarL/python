{
 "cells": [
  {
   "cell_type": "markdown",
   "metadata": {},
   "source": [
    "## Manipulating Data with Python \n",
    "---"
   ]
  },
  {
   "cell_type": "markdown",
   "metadata": {},
   "source": [
    "### 1. Modular Programming\n",
    "### 2. Working with Files \n",
    "### 3. Exception Handeling "
   ]
  },
  {
   "cell_type": "markdown",
   "metadata": {},
   "source": [
    "## 1. Modular Programming\n",
    "---"
   ]
  },
  {
   "cell_type": "markdown",
   "metadata": {},
   "source": [
    "Till now we have been working on Ipython notebooks which is web based advance python shell. We haven't yet created a python module which we can reuse. In software engineering, if you are doing a project which require more than just a single function, you need to structure your code and separate it in different modules.\n",
    "\n",
    "You can than import those modules and have it anywhere you want. If you remember the `math` library we imported earlier, it has many modules or functions which are separated and exposed to the programmer. We will see how can we create something like this for ourself.\n",
    "\n",
    "### It helps in many ways - \n",
    "\n",
    "- `You never have to redo things you have already done.`\n",
    "- `You can create your own library and keep on adding modules as you work on it.`\n",
    "- `It will keep your work space clean and managed.`"
   ]
  },
  {
   "cell_type": "markdown",
   "metadata": {},
   "source": [
    "### `For Instructors :`\n",
    "\n",
    "Ask students to go to following link [PyCharm](https://www.jetbrains.com/pycharm/download/) and download the community edition which is free.\n",
    "\n",
    "- Explain benefits of a IDE, and how it helps in syntax check, commenting and overall management.\n",
    "\n",
    "- Walk through the set up and tell basics of how to use PyCharm.\n",
    "\n",
    "- PyCharm also enable to view Ipython notebooks, so if students wish they can continue on pycharm itself.\n",
    "\n",
    "- An example module is available and instructor can show the demo on how to import that and reuse."
   ]
  },
  {
   "cell_type": "markdown",
   "metadata": {},
   "source": [
    "### We can import the module we have created \n",
    "Module is nothing but a file with .py extension and you can have your function there. <br>You can import that module if you are in the same directory."
   ]
  },
  {
   "cell_type": "markdown",
   "metadata": {},
   "source": [
    "- We can see the file here also, or through Pycharm or through Jupyter consol\n",
    "\n",
    "- Any file can be loaded into Jupyter by magic commands `%load filename`\n",
    "\n",
    "- You can edit and save it back into a file by adding  the cell-magic `%%writefile filename.py` at the beginning of the cell and run it \n",
    "\n",
    "Check more on magic commands at [python doc](http://ipython.org/ipython-doc/dev/interactive/tutorial.html#magic-functions)\n"
   ]
  },
  {
   "cell_type": "code",
   "execution_count": 1,
   "metadata": {
    "collapsed": true
   },
   "outputs": [],
   "source": [
    "# %load my_list.py\n",
    "\n",
    "# Write a program to reverse a list\n",
    "\n",
    "def reverse_list(list1) :\n",
    "    length = len(list1)\n",
    "    j = length-1\n",
    "    for i in range(0,length/2):\n",
    "        temp = list1[i]\n",
    "        list1[i] = list1[j]\n",
    "        list1[j] = temp\n",
    "        j = j-1\n",
    "    return list1\n",
    "\n",
    "\n",
    "def in_lst(lst, item):\n",
    "    '''\n",
    "    This function search for a element in a list \n",
    "    '''  \n",
    "    #index of item in the list\n",
    "    index = -1 \n",
    "    \n",
    "    #This boolean variable would be True if item exist \n",
    "    is_there = False\n",
    " \n",
    "    \n",
    "    for l in lst:\n",
    "        index+=1\n",
    "        if l == item:\n",
    "            is_there = True\n",
    "            return is_there, index\n",
    "            \n",
    "       \n",
    "    return  is_there, -1\n",
    "\n",
    "\n",
    "def convert_to_list(s):\n",
    "    \n",
    "    l = list(s)\n",
    "    res = []\n",
    "    ls = list(s)\n",
    "    start = 0\n",
    "    res = []\n",
    "    end = 0\n",
    "    \n",
    "    #loop over whole list\n",
    "    while end < len(ls):\n",
    "        \n",
    "        #check untill you meet a break\n",
    "        #and keep moving forward\n",
    "        while ls[end] != ' ':\n",
    "            end+=1\n",
    "            \n",
    "            #if go beyond the length break out of loop\n",
    "            if end == len(ls):\n",
    "                break\n",
    "        res.append(''.join(ls[start:end]))\n",
    "        \n",
    "        #update i and j \n",
    "        end+=1\n",
    "        start = end\n",
    "    return res"
   ]
  },
  {
   "cell_type": "markdown",
   "metadata": {},
   "source": [
    "### Importing Modules "
   ]
  },
  {
   "cell_type": "markdown",
   "metadata": {},
   "source": [
    "\n",
    "`Suppose you put all your solutions to the list in single file and you want to reuse it. Let's import my_list.py here.`"
   ]
  },
  {
   "cell_type": "code",
   "execution_count": 2,
   "metadata": {
    "collapsed": true
   },
   "outputs": [],
   "source": [
    "#just write the file name\n",
    "# remember all the ways of importing thing ?\n",
    "\n",
    "import my_list"
   ]
  },
  {
   "cell_type": "code",
   "execution_count": 4,
   "metadata": {
    "collapsed": false
   },
   "outputs": [
    {
     "data": {
      "text/plain": [
       "['__builtins__',\n",
       " '__doc__',\n",
       " '__file__',\n",
       " '__name__',\n",
       " '__package__',\n",
       " 'convert_to_list',\n",
       " 'in_lst',\n",
       " 'reverse_list']"
      ]
     },
     "execution_count": 4,
     "metadata": {},
     "output_type": "execute_result"
    }
   ],
   "source": [
    "# To see all the objects of the modules you have imported.\n",
    "\n",
    "dir(my_list)"
   ]
  },
  {
   "cell_type": "code",
   "execution_count": 4,
   "metadata": {
    "collapsed": false
   },
   "outputs": [
    {
     "data": {
      "text/plain": [
       "'my_list.pyc'"
      ]
     },
     "execution_count": 4,
     "metadata": {},
     "output_type": "execute_result"
    }
   ],
   "source": [
    "# To see the file location etc\n",
    "my_list.__file__"
   ]
  },
  {
   "cell_type": "code",
   "execution_count": 5,
   "metadata": {
    "collapsed": false
   },
   "outputs": [
    {
     "data": {
      "text/plain": [
       "['__call__',\n",
       " '__class__',\n",
       " '__closure__',\n",
       " '__code__',\n",
       " '__defaults__',\n",
       " '__delattr__',\n",
       " '__dict__',\n",
       " '__doc__',\n",
       " '__format__',\n",
       " '__get__',\n",
       " '__getattribute__',\n",
       " '__globals__',\n",
       " '__hash__',\n",
       " '__init__',\n",
       " '__module__',\n",
       " '__name__',\n",
       " '__new__',\n",
       " '__reduce__',\n",
       " '__reduce_ex__',\n",
       " '__repr__',\n",
       " '__setattr__',\n",
       " '__sizeof__',\n",
       " '__str__',\n",
       " '__subclasshook__',\n",
       " 'func_closure',\n",
       " 'func_code',\n",
       " 'func_defaults',\n",
       " 'func_dict',\n",
       " 'func_doc',\n",
       " 'func_globals',\n",
       " 'func_name']"
      ]
     },
     "execution_count": 5,
     "metadata": {},
     "output_type": "execute_result"
    }
   ],
   "source": [
    "dir(my_list.in_lst)"
   ]
  },
  {
   "cell_type": "code",
   "execution_count": 6,
   "metadata": {
    "collapsed": false
   },
   "outputs": [
    {
     "data": {
      "text/plain": [
       "'\\n    This function search for a element in a list \\n    '"
      ]
     },
     "execution_count": 6,
     "metadata": {},
     "output_type": "execute_result"
    }
   ],
   "source": [
    "# To see documentation\n",
    "my_list.in_lst.func_doc"
   ]
  },
  {
   "cell_type": "code",
   "execution_count": 7,
   "metadata": {
    "collapsed": false
   },
   "outputs": [
    {
     "data": {
      "text/plain": [
       "('lst', 'item', 'index', 'is_there', 'l')"
      ]
     },
     "execution_count": 7,
     "metadata": {},
     "output_type": "execute_result"
    }
   ],
   "source": [
    "# you can also various other things of a module\n",
    "my_list.in_lst.func_code.co_varnames"
   ]
  },
  {
   "cell_type": "code",
   "execution_count": 8,
   "metadata": {
    "collapsed": true
   },
   "outputs": [],
   "source": [
    "#explore everything \n",
    "\n",
    "# YOUR CODE HERE\n",
    "\n"
   ]
  },
  {
   "cell_type": "code",
   "execution_count": 9,
   "metadata": {
    "collapsed": true
   },
   "outputs": [],
   "source": [
    "#Lets check what all function we can see \n",
    "#Are you able to see the function ?\n",
    "\n",
    "#execute following \n",
    "\n",
    "my_list.convert_to_list?\n"
   ]
  },
  {
   "cell_type": "markdown",
   "metadata": {},
   "source": [
    "This says no doc string . You can add doc string as follows above each function which will explain work of that function, parameters etc.\n",
    "\n",
    "\n",
    "`Add the following doc string. restart your kernal and import my_list again.`\n",
    "\n",
    "```Python \n",
    "\n",
    "\n",
    "def convert_to_list(s):\n",
    "    '''\n",
    "    This function convert a string to a list \n",
    "    '''\n",
    "\n",
    "```"
   ]
  },
  {
   "cell_type": "markdown",
   "metadata": {},
   "source": [
    "__`Are you able to see the documentation of that function ? Let's try the one which we have already added.`__"
   ]
  },
  {
   "cell_type": "code",
   "execution_count": 10,
   "metadata": {
    "collapsed": true
   },
   "outputs": [],
   "source": [
    "#execute this cell\n",
    "\n",
    "my_list.in_lst?"
   ]
  },
  {
   "cell_type": "markdown",
   "metadata": {},
   "source": [
    "`Let's use one of your assignment problem. Imagine I felt a need to search a term in the list. And yeah, we have already coded one for ourself , so why not reuse it`"
   ]
  },
  {
   "cell_type": "code",
   "execution_count": 11,
   "metadata": {
    "collapsed": true
   },
   "outputs": [],
   "source": [
    "import my_list\n",
    "\n",
    "# OR\n",
    "\n",
    "from my_list import in_lst"
   ]
  },
  {
   "cell_type": "code",
   "execution_count": 12,
   "metadata": {
    "collapsed": false
   },
   "outputs": [
    {
     "name": "stdout",
     "output_type": "stream",
     "text": [
      "(True, 0)\n"
     ]
    }
   ],
   "source": [
    "# create a list \n",
    "l = [12,3,4,5,6,7]\n",
    "\n",
    "# Let use our own function in_lst\n",
    "print my_list.in_lst(l , 12)"
   ]
  },
  {
   "cell_type": "code",
   "execution_count": 13,
   "metadata": {
    "collapsed": false
   },
   "outputs": [
    {
     "data": {
      "text/plain": [
       "(False, -1)"
      ]
     },
     "execution_count": 13,
     "metadata": {},
     "output_type": "execute_result"
    }
   ],
   "source": [
    "my_list.in_lst(l, 0)"
   ]
  },
  {
   "cell_type": "code",
   "execution_count": 14,
   "metadata": {
    "collapsed": false
   },
   "outputs": [
    {
     "data": {
      "text/plain": [
       "(True, 4)"
      ]
     },
     "execution_count": 14,
     "metadata": {},
     "output_type": "execute_result"
    }
   ],
   "source": [
    "my_list.in_lst(l, 6)"
   ]
  },
  {
   "cell_type": "markdown",
   "metadata": {},
   "source": [
    "### Isn't it super cool ?\n",
    "\n",
    "We can reuse whatever we have done till now. So create functions for each and everything you feel you'll need later. Create few python files and logically arrange your functions there and reuse it.\n",
    "\n",
    "Do not forget to add doc string so that even if you use it after 2 years , you should be able to understand it."
   ]
  },
  {
   "cell_type": "markdown",
   "metadata": {},
   "source": [
    "### What if my modules are not in same directory ?\n",
    "\n",
    "`Well, then you need to add them somewhere so that your python interpreter can index it and see it. We can do it by putting them in PYTHONPATH`"
   ]
  },
  {
   "cell_type": "markdown",
   "metadata": {},
   "source": [
    "### `What is a PYTHONPATH ?`\n",
    "\n",
    "Python path is a path where your python interpreter check when you import something. So we specify folder locations (dirs) where it should search for that module.\n",
    "\n",
    "Simple!\n",
    "\n",
    "You just have to add your dir location. So keep your code at one folder location and add it to python path.\n",
    "\n",
    "If you're using  Mac or GNU/Linux  add this to your ~/.bashrc file\n",
    "```Bash\n",
    "export PYTHONPATH=\"${PYTHONPATH}:/your/own/folder/location\"\n",
    "```"
   ]
  },
  {
   "cell_type": "markdown",
   "metadata": {},
   "source": [
    "Another quick way ( not recommended ) is to add to your __System Path__ called `sys path`. This you can do programatically.\n",
    "\n",
    "`sys path is always in your python path, since your interpreter resides in sys path.`"
   ]
  },
  {
   "cell_type": "code",
   "execution_count": 15,
   "metadata": {
    "collapsed": true
   },
   "outputs": [],
   "source": [
    "import sys\n",
    "sys.path.append('/path/to/dir')"
   ]
  },
  {
   "cell_type": "markdown",
   "metadata": {},
   "source": [
    "### What if I want to share it with my friends ?"
   ]
  },
  {
   "cell_type": "markdown",
   "metadata": {},
   "source": [
    "If you want to share it with your fellow programmer or even whole python community. You have to follow some standard and you can publish it for the whole world using PyPI.\n",
    "\n",
    "`This is how python become what it is today, people implemented various useful things and shared it with community.`\n",
    "`People also do it together, (open source)  which we will discuss later`\n",
    "\n",
    "Check here for more information - [How to Publish to PyPI](http://peterdowns.com/posts/first-time-with-pypi.html)"
   ]
  },
  {
   "cell_type": "markdown",
   "metadata": {},
   "source": [
    "### How can I use what people have published ?\n",
    "\n",
    "Python has a package management system which is called __`pip`__. You just have to open your terminal and type\n",
    "\n",
    "```Bash\n",
    "pip install SomePackage\n",
    "```\n",
    "\n",
    "You can read more about it here. [Installing Python Modules](https://docs.python.org/3.6/installing/index.html)"
   ]
  },
  {
   "cell_type": "markdown",
   "metadata": {},
   "source": [
    "### Class Exercise\n",
    "\n",
    "`1. Put your functions of lists and strings in two separate .py files and add it to your python path. Check if you are able to do it`\n",
    "\n",
    "`2. Try adding to sys path also through python`\n",
    "\n",
    "`3. Try installing some package now and you should be able to use it through your notebooks`"
   ]
  },
  {
   "cell_type": "markdown",
   "metadata": {},
   "source": [
    "## Working with Files\n",
    "---"
   ]
  },
  {
   "cell_type": "markdown",
   "metadata": {
    "collapsed": true
   },
   "source": [
    "While programming, lot many times it is required to read some data from a file. Since data can only be shared through some kind of file. Also, you might write data into the file to share it across.\n",
    "\n",
    "Python has very simple way to read data from a text file.  \n",
    "\n",
    "We have a `test.txt` file which we want to read. You can see the content of the file by opening it through Jupyter consol. "
   ]
  },
  {
   "cell_type": "code",
   "execution_count": 16,
   "metadata": {
    "collapsed": false
   },
   "outputs": [
    {
     "name": "stdout",
     "output_type": "stream",
     "text": [
      "This will come as a line\n",
      "\n"
     ]
    }
   ],
   "source": [
    "# Lets read a file and show its first line\n",
    "fp = open('test.txt', 'r')\n",
    "line = fp.readline()\n",
    "print line\n",
    "fp.close()"
   ]
  },
  {
   "cell_type": "markdown",
   "metadata": {},
   "source": [
    "The above program has just read a file.\n",
    "\n",
    "```Python\n",
    "open('<path/to/file/filename>', 'flag')\n",
    "```\n",
    "\n",
    "You have to pass the path to the file as string with some flag.\n",
    "\n",
    "`'r': open the file for only reading purpose, you are not allowed to write anything back to file`\n",
    "\n",
    "`'w': open the file for writing  purpose, if file is not there a new file will be created, also if you write anything the content of the file will be overwritten with the new content.`\n",
    "\n",
    "`'a': This open a file for writing and create a new one if it does not exist, But it append the data which you write.`"
   ]
  },
  {
   "cell_type": "markdown",
   "metadata": {},
   "source": [
    "`fp.readline()`  read the file line by line"
   ]
  },
  {
   "cell_type": "code",
   "execution_count": 17,
   "metadata": {
    "collapsed": false
   },
   "outputs": [
    {
     "name": "stdout",
     "output_type": "stream",
     "text": [
      "['This will come as a line\\n', 'this will be another line\\n', 'adding through iterable line 1\\n', 'adding through iterable line 2\\n']\n"
     ]
    }
   ],
   "source": [
    "# Let's read all the content of file\n",
    "fp = open('test.txt', 'r')\n",
    "lines = fp.readlines()\n",
    "\n",
    "# This is how you close the file\n",
    "# It is necessary for file reader\n",
    "fp.close()\n",
    "\n",
    "print lines\n",
    "\n"
   ]
  },
  {
   "cell_type": "markdown",
   "metadata": {},
   "source": [
    "### `Class Exercise : `\n",
    "`Can you read the file line by line using while loop and only readline() function ?`"
   ]
  },
  {
   "cell_type": "markdown",
   "metadata": {},
   "source": [
    "### Write data to a file\n",
    "\n",
    "`For writing the file has to open with 'w' or 'a' flag.`"
   ]
  },
  {
   "cell_type": "code",
   "execution_count": 18,
   "metadata": {
    "collapsed": false
   },
   "outputs": [],
   "source": [
    "fp = open('test.txt', 'w')\n",
    "\n",
    "# write function does not add new line char, so you should add it.\n",
    "fp.write('This will come as a line\\n')\n",
    "fp.write('this will be another line\\n')\n",
    "\n",
    "# write multiple line\n",
    "\n",
    "fp.writelines(['adding through iterable line 1\\n', 'adding through iterable line 2\\n'])\n",
    "fp.close()"
   ]
  },
  {
   "cell_type": "code",
   "execution_count": 19,
   "metadata": {
    "collapsed": false
   },
   "outputs": [
    {
     "ename": "SyntaxError",
     "evalue": "invalid syntax (<ipython-input-19-40d38fab2925>, line 2)",
     "output_type": "error",
     "traceback": [
      "\u001b[0;36m  File \u001b[0;32m\"<ipython-input-19-40d38fab2925>\"\u001b[0;36m, line \u001b[0;32m2\u001b[0m\n\u001b[0;31m    This will come as a line\u001b[0m\n\u001b[0m            ^\u001b[0m\n\u001b[0;31mSyntaxError\u001b[0m\u001b[0;31m:\u001b[0m invalid syntax\n"
     ]
    }
   ],
   "source": [
    "# %load test.txt\n",
    "This will come as a line\n",
    "this will be another line\n",
    "adding through iterable line 1\n",
    "adding through iterable line 2\n"
   ]
  },
  {
   "cell_type": "markdown",
   "metadata": {},
   "source": [
    "### `Class Exercise : `\n",
    "`Can you open the same file and append some data into it ?`\n",
    "\n",
    "`Can you see why closing a file is necessary? Let's check a file without closing the filepointer fp`"
   ]
  },
  {
   "cell_type": "markdown",
   "metadata": {},
   "source": [
    "## Serialization "
   ]
  },
  {
   "cell_type": "markdown",
   "metadata": {},
   "source": [
    "When a program is running, every data structure resides in RAM. There may be a times when you'll be in need of saving that data to hard drive reading it back and do some more calculation later.\n",
    "\n",
    "Serialization is a standard process which write the objects into file and read them back. Python has a library called `pickle` which has pre build algorithms to serialize any python object.\n",
    "\n",
    "It also provides functionalities of compressing the data, also converting data file to binary format which is not human readable.\n",
    "\n",
    "`Let's install pickle library, go to your terminal and type`\n",
    "\n",
    "```Python\n",
    "pip install pickle\n",
    "```"
   ]
  },
  {
   "cell_type": "code",
   "execution_count": null,
   "metadata": {
    "collapsed": true
   },
   "outputs": [],
   "source": [
    "import pickle"
   ]
  },
  {
   "cell_type": "code",
   "execution_count": null,
   "metadata": {
    "collapsed": false
   },
   "outputs": [],
   "source": [
    "# Lets explore what pickle has to offer to us\n",
    "\n",
    "dir(pickle)"
   ]
  },
  {
   "cell_type": "markdown",
   "metadata": {},
   "source": [
    "__Let's dump some object into file, start with list ?__"
   ]
  },
  {
   "cell_type": "code",
   "execution_count": null,
   "metadata": {
    "collapsed": false
   },
   "outputs": [],
   "source": [
    "# create a list\n",
    "my_list = list(range(0, 100))\n",
    "\n",
    "print my_list\n",
    "# It is not require to put .pkl extension\n",
    "# it is for us to keep it clean and organized\n",
    "# we can see that this is a pickle file\n",
    "\n",
    "fp = open('list_dump.pkl', 'w')\n",
    "\n",
    "\n",
    "# lets dump it using pickle\n",
    "pickle.dump(my_list, fp)\n",
    "\n",
    "# close the file\n",
    "fp.close()"
   ]
  },
  {
   "cell_type": "markdown",
   "metadata": {},
   "source": [
    "__`Lets check the if the file is there`__"
   ]
  },
  {
   "cell_type": "code",
   "execution_count": null,
   "metadata": {
    "collapsed": false
   },
   "outputs": [],
   "source": [
    "# to run any linux command from Jupyter just start with !\n",
    "!ls"
   ]
  },
  {
   "cell_type": "code",
   "execution_count": null,
   "metadata": {
    "collapsed": false
   },
   "outputs": [],
   "source": [
    "# Let's try to read it back using pickle\n",
    "\n",
    "fp = open(\"list_dump.pkl\")\n",
    "data = pickle.load(fp)\n",
    "print data"
   ]
  },
  {
   "cell_type": "markdown",
   "metadata": {},
   "source": [
    "### `Class Exercise `\n",
    "`Can you try to read the pickle file by normal file read operation? `"
   ]
  },
  {
   "cell_type": "markdown",
   "metadata": {},
   "source": [
    "`Write something by normal file write operation to the same file and than read it again through both pickle and file read`."
   ]
  },
  {
   "cell_type": "markdown",
   "metadata": {},
   "source": [
    "## Exception handling\n",
    "---"
   ]
  },
  {
   "cell_type": "markdown",
   "metadata": {},
   "source": [
    "`All this while, I have been looking for a programming language which can do this ..`"
   ]
  },
  {
   "cell_type": "code",
   "execution_count": null,
   "metadata": {
    "collapsed": false
   },
   "outputs": [],
   "source": [
    "1/0"
   ]
  },
  {
   "cell_type": "markdown",
   "metadata": {},
   "source": [
    "oops! What just happened ? I think till now you might have seen many such errors. These are exceptions. The corner cases. Remember `the corner cases` of any algorithm? Similarly any programming language has few cases which violate their rules. \n",
    "\n",
    "`ZeroDivisionError` is one of such case. Since language does not know why you gave such a input, it gives programmer the freedom to decide their own error messages, or error logic. "
   ]
  },
  {
   "cell_type": "markdown",
   "metadata": {},
   "source": [
    "Exceptions are rare occurrence or excuse to the rule of any programming language. Almost every programming language support exceptions."
   ]
  },
  {
   "cell_type": "markdown",
   "metadata": {},
   "source": [
    "### Let's see how we can handle it "
   ]
  },
  {
   "cell_type": "code",
   "execution_count": null,
   "metadata": {
    "collapsed": false
   },
   "outputs": [],
   "source": [
    "# one programmer may want to show this message\n",
    "\n",
    "try:\n",
    "    1/0\n",
    "except:\n",
    "    print 'Error : please do not divide by zero, it is not possible'"
   ]
  },
  {
   "cell_type": "code",
   "execution_count": null,
   "metadata": {
    "collapsed": false
   },
   "outputs": [],
   "source": [
    "# Another one might be little angry on your math knowledge\n",
    "\n",
    "try:\n",
    "    1/0\n",
    "except:\n",
    "    print \"Were you sleeping in your math class ?\""
   ]
  },
  {
   "cell_type": "code",
   "execution_count": null,
   "metadata": {
    "collapsed": false
   },
   "outputs": [],
   "source": [
    "from IPython.display import Image, display\n",
    "\n",
    "#  Another one is little grupmy and want to do this \n",
    "# surprise for you.. \n",
    "\n",
    "try:\n",
    "    1/0\n",
    "except:\n",
    "    display(Image(filename='img/grumpy.jpg'))"
   ]
  },
  {
   "cell_type": "markdown",
   "metadata": {},
   "source": [
    "I think you get the point. So exceptions are for us `The Programmers`. We can make our code more robust, domain specific, and according to our logic. Exceptions follow something called __`try `__ and  __`catch`__\n",
    "\n",
    "\n",
    "__`try :`__ You can put a block of code inside try by doing the indentation, just like `if`  and `for` etc. You put a code inside a try block you feel there may be some cases for which user input may create some problem, and you want to let the user know by your error message. So that means every try block has to be followed by a `except` block, where you write your error handling.\n",
    "\n",
    "__`except :`__ except catch the exception and implement the logic of error handling. One more thing is that, Your program does not end, it follow the next line of instruction after except. So it does not crash.\n"
   ]
  },
  {
   "cell_type": "markdown",
   "metadata": {},
   "source": [
    "### Crash a program "
   ]
  },
  {
   "cell_type": "markdown",
   "metadata": {},
   "source": [
    "`let's  write a function which take input from user two numbers and calculate sum. `"
   ]
  },
  {
   "cell_type": "code",
   "execution_count": null,
   "metadata": {
    "collapsed": false
   },
   "outputs": [],
   "source": [
    "# Run the above program and give some string \n",
    "\n",
    "def cal_sum(n1, n2):\n",
    "    return n1+n2\n",
    "\n",
    "def main():\n",
    "    n1 = int(raw_input('please enter the first number '))\n",
    "    n2 = int(raw_input('please enter the second number '))\n",
    "    sum = cal_sum(n1, n2)\n",
    "    print sum\n",
    "main()"
   ]
  },
  {
   "cell_type": "markdown",
   "metadata": {},
   "source": [
    "Now since we are converting the user input to `int` , giving a `string` will raise an exception called `ValueError`. You might have seen this error many times. So how can we let user know that we want only `integer` ?"
   ]
  },
  {
   "cell_type": "code",
   "execution_count": null,
   "metadata": {
    "collapsed": false
   },
   "outputs": [],
   "source": [
    "# Lets re write the program\n",
    "\n",
    "def cal_sum(n1, n2):\n",
    "    return n1+n2\n",
    "\n",
    "def main():\n",
    "    try:\n",
    "        n1 = int(raw_input('please enter the first number '))\n",
    "        n2 = int(raw_input('please enter the second number '))\n",
    "        sum = cal_sum(n1, n2)\n",
    "        print sum\n",
    "    except:\n",
    "        print \"please provide only integers\"\n",
    "main()"
   ]
  },
  {
   "cell_type": "markdown",
   "metadata": {},
   "source": [
    "`So we anticipated that there might be a case we may have to handle`"
   ]
  },
  {
   "cell_type": "code",
   "execution_count": null,
   "metadata": {
    "collapsed": false
   },
   "outputs": [],
   "source": [
    "# Lets write another program which take integer input and calculate division\n",
    "\n",
    "def cal_division(n1, n2):\n",
    "     return n1/n2\n",
    "\n",
    "def main():\n",
    "    try:\n",
    "        n1 = int(raw_input('please enter the first number '))\n",
    "        n2 = int(raw_input('please enter the second number '))\n",
    "        div = cal_division(n1, n2)\n",
    "        print div\n",
    "    except:\n",
    "        print \"please provide only integers\"  \n",
    "main()"
   ]
  },
  {
   "cell_type": "markdown",
   "metadata": {},
   "source": [
    "`Is zero not an integer ?  So why did the except block run and why did it happen ?`\n",
    "\n",
    "__`division by zero`__\n",
    "\n",
    "We have a solution for it . Run the following program and give strings. Also try dividing 1 by 0. "
   ]
  },
  {
   "cell_type": "code",
   "execution_count": null,
   "metadata": {
    "collapsed": false
   },
   "outputs": [],
   "source": [
    "from IPython.display import Image, display\n",
    "\n",
    "\n",
    "def cal_division(n1, n2):\n",
    "     return n1/n2\n",
    "\n",
    "def main():\n",
    "    \n",
    "    #catch exception if integer is not provided\n",
    "    try:\n",
    "        n1 = int(raw_input('please enter the first number '))\n",
    "        n2 = int(raw_input('please enter the second number '))\n",
    "    \n",
    "    \n",
    "        #catch if zero division occure\n",
    "        try:    \n",
    "            div = cal_division(n1, n2)\n",
    "            print div\n",
    "\n",
    "        except ZeroDivisionError:\n",
    "            print \"I left the earth and you still ...\"\n",
    "            display(Image(filename='img/zero.jpeg'))\n",
    "        \n",
    "    except ValueError:\n",
    "        print \"please provide only integers\" \n",
    "main()"
   ]
  },
  {
   "cell_type": "markdown",
   "metadata": {},
   "source": [
    "``"
   ]
  },
  {
   "cell_type": "markdown",
   "metadata": {},
   "source": [
    "`So we can also catch specifc exceptions by giving the name of the exception raised.`"
   ]
  },
  {
   "cell_type": "markdown",
   "metadata": {},
   "source": [
    "We have one more thing to show you - The program does not terminate when an exception occurred. It jump from try block to exception block execute the except block and then continue normally.\n",
    "\n",
    "![](files/img/try.png)"
   ]
  },
  {
   "cell_type": "code",
   "execution_count": null,
   "metadata": {
    "collapsed": false
   },
   "outputs": [],
   "source": [
    "# This program will continue even if input is 1 and 0 \n",
    "# This is how you can create a robust program.\n",
    "\n",
    "def cal_division(n1, n2):\n",
    "     return n1/n2\n",
    "    \n",
    "def cal_sum(n1, n2):\n",
    "     return n1+n2\n",
    "\n",
    "def main():\n",
    "    \n",
    "    #catch exception if integer is not provided\n",
    "    try:\n",
    "        n1 = int(raw_input('please enter the first number '))\n",
    "        n2 = int(raw_input('please enter the second number '))\n",
    "        \n",
    "        print 'calculating division'\n",
    "        print \"====================\"\n",
    "        try:    \n",
    "            div = cal_division(n1, n2)\n",
    "            print \"division is -- \",div\n",
    "\n",
    "        except ZeroDivisionError:\n",
    "            print \"division can not be calculated\"\n",
    "            \n",
    "        print 'calculating sum'\n",
    "        print \"====================\"\n",
    "        sum = cal_sum(n1,n2)\n",
    "        print \"sum is -- \", sum\n",
    "        \n",
    "    except ValueError:\n",
    "        print \"please provide only integers\" \n",
    "main()"
   ]
  },
  {
   "cell_type": "markdown",
   "metadata": {},
   "source": [
    "### `Class Exercise `\n",
    "\n",
    "`Can you create a program which take two numbers as input from user. Calculate their division, and if user give wrong input such as division by zero , or strings , it should show the error message and ` __`ask for input again.`__\n",
    "\n",
    "`Until and unless user provide correct input it should not terminate.`"
   ]
  },
  {
   "cell_type": "markdown",
   "metadata": {},
   "source": [
    "## One Final thing \n",
    "\n",
    "### Finally \n",
    "`Finally` is combined with `try` and `except` As the name suggest, this block execute irrespective of whether there is an exception occur or not. \n",
    "\n",
    "Finally is also called __clean-up__ or termination block. Taking example from the class exercise above, irrespective of the exception raised or not you may want to thank the user to go through your painful program. "
   ]
  },
  {
   "cell_type": "code",
   "execution_count": null,
   "metadata": {
    "collapsed": false
   },
   "outputs": [],
   "source": [
    "# Let's say you want to show a message that you are shutting down the program\n",
    "\n",
    "def cal_division(n1, n2):\n",
    "     return n1/n2\n",
    "\n",
    "def main():\n",
    "    try:\n",
    "        n1 = int(raw_input('please enter the first number '))\n",
    "        n2 = int(raw_input('please enter the second number '))\n",
    "        div = cal_division(n1, n2)\n",
    "        print \"division is \", div\n",
    "    finally :\n",
    "        print \"closing the program. I do not know if there were any exception\"  \n",
    "main()\n",
    "\n"
   ]
  },
  {
   "cell_type": "markdown",
   "metadata": {},
   "source": [
    "It can also be combined with try, and except both "
   ]
  },
  {
   "cell_type": "code",
   "execution_count": null,
   "metadata": {
    "collapsed": false
   },
   "outputs": [],
   "source": [
    "def cal_division(n1, n2):\n",
    "     return n1/n2\n",
    "\n",
    "def main():\n",
    "    try:\n",
    "        n1 = int(raw_input('please enter the first number '))\n",
    "        n2 = int(raw_input('please enter the second number '))\n",
    "        div = cal_division(n1, n2)\n",
    "        print \"division is \", div\n",
    "    except:\n",
    "        print \"please provide valid input\"\n",
    "    \n",
    "    finally :\n",
    "        print \"closing the program. I do not know if there were any exception\"  \n",
    "main()"
   ]
  },
  {
   "cell_type": "markdown",
   "metadata": {},
   "source": [
    "As you got to know finally will run for sure. We usually keep the clean up code in finally. For example, your program is creating few temporary files on your system. What if some exception occur and your program has to close after showing error message to user. You should clean all the temporary files you have created irrespective your program execution status. "
   ]
  },
  {
   "cell_type": "markdown",
   "metadata": {},
   "source": [
    "### `Final Class Exercise`\n",
    "\n",
    "`Can you modify the previous class exercise to thank the user once the program is finished. `"
   ]
  }
 ],
 "metadata": {
  "kernelspec": {
   "display_name": "Python 2",
   "language": "python",
   "name": "python2"
  },
  "language_info": {
   "codemirror_mode": {
    "name": "ipython",
    "version": 2
   },
   "file_extension": ".py",
   "mimetype": "text/x-python",
   "name": "python",
   "nbconvert_exporter": "python",
   "pygments_lexer": "ipython2",
   "version": "2.7.10"
  }
 },
 "nbformat": 4,
 "nbformat_minor": 0
}
