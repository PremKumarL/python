{
 "cells": [
  {
   "cell_type": "markdown",
   "metadata": {},
   "source": [
    "## Modular Programming - Exercise\n",
    "---\n",
    "\n",
    "### `1)  Create a library of sorting of your own, put all the sorting code in one file and use it as a library.`\n",
    "\n",
    "\n",
    "### `2) Organize all of your code logically and put them in .py files and keep using them whenever you want.`\n",
    "\n",
    "\n",
    "Students will do on there own. Solution can not be provided. Verify if they are able to use their previously coded modules in their Ipython notebooks.\n"
   ]
  },
  {
   "cell_type": "markdown",
   "metadata": {},
   "source": [
    "### 3) By using your own sorting and searching and other modules, do following things.\n",
    "\n",
    "List `l = [10,65,999,8,76,5,3,4,5,1,1,6 ]`\n",
    "\n",
    "__a)__ Sort this list using merge sort\n",
    "\n",
    "\n",
    "__b)__ Sort this list using merge sort and selection sort and bubble sort and compare time,tell us which one of your is faster ?\n",
    "\n",
    "__c)__ Reverse this list \n",
    "\n",
    "\n",
    "\n",
    "__c)__ Search a element in the list  \n",
    "\n"
   ]
  },
  {
   "cell_type": "markdown",
   "metadata": {},
   "source": [
    "\n",
    "### `4) How to use pip, Please install a library called \"Requests\" and \"BeautifulSoup4\" by pip, include that in module and try to explore these libraries`\n",
    "\n",
    "This exercise will make student understand how to use pip(which is explained in class) and, how to locate libraries and install it using pip and how to explore. This is necessary exercise and important for future modules.\n",
    "\n",
    "Make sure each student is able to understand pip, and library and import statements.\n",
    "\n",
    "```Bash\n",
    "pip install requests\n",
    "\n",
    "pip install beautifulsoup4\n",
    "```\n",
    "\n",
    "BeautifulSoup has lot of dependencies, so they will learn how to resolve. It might also be a smooth installation.\n",
    "\n",
    "### `5) Uninstall and install it again, since we need it for following exercises.`\n",
    "\n",
    "```Bash\n",
    "pip uninstall beautifulsoup4\n",
    "```\n",
    "\n",
    "Look at following links and ask them to search here. \n",
    "\n",
    "- [PyPi](https://pypi.python.org/pypi)\n",
    "- [Installing Python Modules](https://docs.python.org/3.6/installing/index.html)\n",
    "\n"
   ]
  },
  {
   "cell_type": "markdown",
   "metadata": {},
   "source": [
    "### 6) `Import \"Requests\" module and explore all of its functions. Print their doc_string , locate where the code is in their system. Why not go and check out the code.`"
   ]
  },
  {
   "cell_type": "code",
   "execution_count": null,
   "metadata": {
    "collapsed": false,
    "scrolled": true
   },
   "outputs": [],
   "source": [
    "# See all function"
   ]
  },
  {
   "cell_type": "code",
   "execution_count": 10,
   "metadata": {
    "collapsed": false
   },
   "outputs": [
    {
     "name": "stdout",
     "output_type": "stream",
     "text": [
      "Sends a GET request.\n",
      "\n",
      "    :param url: URL for the new :class:`Request` object.\n",
      "    :param params: (optional) Dictionary or bytes to be sent in the query string for the :class:`Request`.\n",
      "    :param \\*\\*kwargs: Optional arguments that ``request`` takes.\n",
      "    :return: :class:`Response <Response>` object\n",
      "    :rtype: requests.Response\n",
      "    \n"
     ]
    }
   ],
   "source": [
    "# See the doc for GET request"
   ]
  },
  {
   "cell_type": "code",
   "execution_count": 5,
   "metadata": {
    "collapsed": true
   },
   "outputs": [],
   "source": [
    "# Another way to see the doc string using ?.\n"
   ]
  },
  {
   "cell_type": "markdown",
   "metadata": {},
   "source": [
    "---"
   ]
  },
  {
   "cell_type": "markdown",
   "metadata": {},
   "source": [
    "### `7) Using \"Requests\" module which they have installed earlier, get data of any website of their choice.  `"
   ]
  },
  {
   "cell_type": "code",
   "execution_count": 6,
   "metadata": {
    "collapsed": true
   },
   "outputs": [],
   "source": [
    "# This lib is used in makinh http requests from python\n",
    "# There are two types of http requests - get, post\n",
    "# post requires post parameters., get does not require any parameter\n",
    "# here we will print the response of the request\n",
    "\n"
   ]
  },
  {
   "cell_type": "code",
   "execution_count": 2,
   "metadata": {
    "collapsed": false
   },
   "outputs": [],
   "source": [
    "# Print the data from the website "
   ]
  },
  {
   "cell_type": "code",
   "execution_count": 3,
   "metadata": {
    "collapsed": false
   },
   "outputs": [],
   "source": [
    "# if status code is 200 that means ok in http\n",
    "# 500 when server is not found\n",
    "# 404 when page is not available\n"
   ]
  },
  {
   "cell_type": "markdown",
   "metadata": {},
   "source": [
    "---"
   ]
  },
  {
   "cell_type": "markdown",
   "metadata": {},
   "source": [
    "## Working with Files "
   ]
  },
  {
   "cell_type": "markdown",
   "metadata": {},
   "source": [
    "### 1) `create a file at your home location and write the text you fetched from the website from the previous module. Name the file as the python_doc.txt`"
   ]
  },
  {
   "cell_type": "code",
   "execution_count": 4,
   "metadata": {
    "collapsed": false
   },
   "outputs": [],
   "source": [
    "fp = open('python_doc.txt', 'w')\n",
    "\n",
    "# YOUR CODE HERE\n"
   ]
  },
  {
   "cell_type": "markdown",
   "metadata": {},
   "source": [
    "### `2) Read the file again and match the content by string function whether it is same or not? `\n",
    "\n",
    "`If same no problem, if you are not getting the same string back, what is the solution ? `"
   ]
  },
  {
   "cell_type": "code",
   "execution_count": 6,
   "metadata": {
    "collapsed": false
   },
   "outputs": [],
   "source": [
    "# get the data from request object\n",
    "data = res.content\n",
    "\n",
    "fp = open('python_doc.txt', 'r')\n",
    "# read it in one go \n",
    "data_read = fp.readlines()\n",
    "\n",
    "# Your code here"
   ]
  },
  {
   "cell_type": "markdown",
   "metadata": {},
   "source": [
    "### `3) Open the same file in append mode and append your name at the last line`"
   ]
  },
  {
   "cell_type": "code",
   "execution_count": 28,
   "metadata": {
    "collapsed": false
   },
   "outputs": [],
   "source": [
    "fp = open('python_doc.txt', 'a')\n",
    "\n",
    "# Your code here \n",
    "\n"
   ]
  },
  {
   "cell_type": "markdown",
   "metadata": {},
   "source": [
    "### `4) Are you able to read your name back ? print for us :)`"
   ]
  },
  {
   "cell_type": "code",
   "execution_count": 7,
   "metadata": {
    "collapsed": false
   },
   "outputs": [],
   "source": [
    "#Your code here"
   ]
  },
  {
   "cell_type": "markdown",
   "metadata": {},
   "source": [
    "## Advance - Do Try!\n",
    "### `5) Write your own serialize de-serialize function, such that you just pass it the data structure, it should save it with the same name and read it back when you ask it to read `"
   ]
  },
  {
   "cell_type": "code",
   "execution_count": 39,
   "metadata": {
    "collapsed": false
   },
   "outputs": [
    {
     "name": "stdout",
     "output_type": "stream",
     "text": [
      "[1, 2, 3, 4]\n",
      "my_data.pkl has been sereliazed\n",
      "[1, 2, 3, 4]\n",
      "success\n"
     ]
    }
   ],
   "source": [
    "import pickle\n",
    "\n",
    "def serialize(data, name):\n",
    "\n",
    "    #Your code here\n",
    "    \n",
    "    print name+\" has been sereliazed\"\n",
    "\n",
    "def de_serialize(name):\n",
    "    \n",
    "    #Your code here\n",
    "\n",
    "def main():\n",
    "    l = [1,2,3,4]\n",
    "    print l\n",
    "    name = 'my_data.pkl'\n",
    "    serialize(l, name)\n",
    "    l_de = de_serialize(name)\n",
    "    print l_de\n",
    "    if l_de == l:\n",
    "        print \"success\"\n",
    "main()"
   ]
  },
  {
   "cell_type": "markdown",
   "metadata": {},
   "source": [
    "---"
   ]
  },
  {
   "cell_type": "markdown",
   "metadata": {},
   "source": [
    "## Exception Handling\n"
   ]
  },
  {
   "cell_type": "markdown",
   "metadata": {},
   "source": [
    "### `1) Let's request a URL which is not reachable by request, a wrong URL . Can you catch the exception requests throw and show your own error message ?`"
   ]
  },
  {
   "cell_type": "code",
   "execution_count": 45,
   "metadata": {
    "collapsed": false
   },
   "outputs": [
    {
     "name": "stdout",
     "output_type": "stream",
     "text": [
      "URL http://some.wrong.url is not reachable please pass a correct one\n"
     ]
    }
   ],
   "source": [
    "import requests as re\n",
    "try:\n",
    "    #Your code here\n",
    "except:\n",
    "    #Your code here"
   ]
  },
  {
   "cell_type": "markdown",
   "metadata": {},
   "source": [
    "### 2) `Imagine there is a file in which your name is written. Can you open and print your name?`\n",
    "\n",
    "`What if the file is not there ? and you really want this exercise to complete. You can do so by creating a new file and write your name on it.`"
   ]
  },
  {
   "cell_type": "code",
   "execution_count": 48,
   "metadata": {
    "collapsed": false
   },
   "outputs": [
    {
     "name": "stdout",
     "output_type": "stream",
     "text": [
      "My name is  EMINEM\n"
     ]
    }
   ],
   "source": [
    "fname = 'somefile.txt'\n",
    "\n",
    "try:\n",
    "     #Your code here"
   ]
  },
  {
   "cell_type": "markdown",
   "metadata": {},
   "source": [
    "### 3) `Read a file, if it does not exist ask user to whether he want to create a file? If yes create the file, ask user what to write, write that file. Print the content of the file and delete it programmatically . There should be no file once your program finish `"
   ]
  },
  {
   "cell_type": "code",
   "execution_count": 53,
   "metadata": {
    "collapsed": false
   },
   "outputs": [
    {
     "name": "stdout",
     "output_type": "stream",
     "text": [
      "do you want to create a new file? Y/NN\n",
      "cleaning up ... somefile.txt\n",
      "file is not there checked by OS\n"
     ]
    }
   ],
   "source": [
    "# You need this module to pass OS commands like deleting a file etc.\n",
    "import os \n",
    "fname = 'somefile.txt'\n",
    "try:\n",
    "    fp = open(fname, 'r')\n",
    "    data = fp.readlines()\n",
    "    print \"The file contain - \\n\", data \n",
    "\n",
    "except IOError:\n",
    "      #Your code here\n",
    "        \n",
    "finally:\n",
    "#     cleanup , delete the file\n",
    "    "
   ]
  },
  {
   "cell_type": "markdown",
   "metadata": {},
   "source": [
    "### 4) `In the above example can you verify programmatically if it is really deleted ? `"
   ]
  },
  {
   "cell_type": "code",
   "execution_count": 58,
   "metadata": {
    "collapsed": false
   },
   "outputs": [
    {
     "name": "stdout",
     "output_type": "stream",
     "text": [
      "do you want to create a new file? Y/Ny\n",
      "Enter what do you want to write in file.something\n",
      "cleaning up ... somefile.txt\n",
      "file is deleted\n",
      "verified! the file is gone \n"
     ]
    }
   ],
   "source": [
    "import os \n",
    "# Your code here "
   ]
  },
  {
   "cell_type": "code",
   "execution_count": 50,
   "metadata": {
    "collapsed": false
   },
   "outputs": [
    {
     "data": {
      "text/plain": [
       "'remove(path)\\n\\nRemove a file (same as unlink(path)).'"
      ]
     },
     "execution_count": 50,
     "metadata": {},
     "output_type": "execute_result"
    }
   ],
   "source": [
    "# explore OS module\n",
    "import os\n",
    "os.remove.__doc__"
   ]
  },
  {
   "cell_type": "markdown",
   "metadata": {},
   "source": [
    "## Fun Exercise\n",
    "### 5) ` Using OS Module create folders, subfolders, files in your system`"
   ]
  }
 ],
 "metadata": {
  "kernelspec": {
   "display_name": "Python 2",
   "language": "python",
   "name": "python2"
  },
  "language_info": {
   "codemirror_mode": {
    "name": "ipython",
    "version": 2
   },
   "file_extension": ".py",
   "mimetype": "text/x-python",
   "name": "python",
   "nbconvert_exporter": "python",
   "pygments_lexer": "ipython2",
   "version": "2.7.10"
  }
 },
 "nbformat": 4,
 "nbformat_minor": 0
}
