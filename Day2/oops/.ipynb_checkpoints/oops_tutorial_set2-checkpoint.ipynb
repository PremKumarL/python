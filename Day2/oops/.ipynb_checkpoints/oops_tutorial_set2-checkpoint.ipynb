{
 "cells": [
  {
   "cell_type": "markdown",
   "metadata": {},
   "source": [
    "# Object Oriented Programming in Python: Module II\n",
    "\n",
    "In this section we will discuss about the topics which are continuation from Module I. Stable Object Oriented programming requires much more than just code, but a well planning and robust coding methodology. In this module we shall go over the steps, following which we can build stable great code! \n",
    "\n",
    "The following topics will be touched  are hereunder:\n",
    "* Exception Handling with Object Oriented Design flavor\n",
    "* Object Oriented Programming : How and when to apply\n",
    "\n",
    "This will be followed by some code design which will explain some of the concepts that involve depth and analysis. The following topics will be discussed\n",
    "* topic 1\n",
    "* topic 2"
   ]
  },
  {
   "cell_type": "markdown",
   "metadata": {},
   "source": [
    "### 1. Exception Handling with Object Oriented Design flavor\n",
    "\n",
    "An exception is just an object. Even though there are many differnt classes available, we can define our own. Exceptions are derived from a built-in class called **BaseException**  This section considers that you have aleady gone through material on Data Handling.We will build some more examples here considering our newly learnt concept of objects and class. \n",
    "\n",
    "It may be observed that most exceptions are subclasses of the **Exception** class. But this is not true for all exceptions. **Exception** itself actually inherits from a class called **Base Exception**. There are two exceptions, **SystemExit** and **KeyboardInterrupt**, that  derive from **BaseException** instead of **Exception**. \n",
    "\n",
    "\n",
    "\n"
   ]
  },
  {
   "cell_type": "markdown",
   "metadata": {},
   "source": [
    "\n",
    " <img src=\"files/exceptionhierarchy.png\", width = 350>\n",
    " \n",
    "A class diagram that fully illustrates the exception hierarchy"
   ]
  },
  {
   "cell_type": "markdown",
   "metadata": {},
   "source": [
    "While writing a lot of code, often we realise that we need certain exceptions that none of the built-in exceptions are quite what we might need. This brings us to defining our very own exceptions! "
   ]
  },
  {
   "cell_type": "code",
   "execution_count": 34,
   "metadata": {
    "collapsed": false
   },
   "outputs": [
    {
     "ename": "FruitType",
     "evalue": "You have not defined the edible status",
     "output_type": "error",
     "traceback": [
      "\u001b[0;31m---------------------------------------------------------------------------\u001b[0m\n\u001b[0;31mFruitType\u001b[0m                                 Traceback (most recent call last)",
      "\u001b[0;32m<ipython-input-34-4f8a21f8ce10>\u001b[0m in \u001b[0;36m<module>\u001b[0;34m()\u001b[0m\n\u001b[1;32m      2\u001b[0m     \u001b[0;32mpass\u001b[0m\u001b[0;34m\u001b[0m\u001b[0m\n\u001b[1;32m      3\u001b[0m \u001b[0;34m\u001b[0m\u001b[0m\n\u001b[0;32m----> 4\u001b[0;31m \u001b[0;32mraise\u001b[0m \u001b[0mFruitType\u001b[0m\u001b[0;34m(\u001b[0m\u001b[0;34m\"You have not defined the edible status\"\u001b[0m\u001b[0;34m)\u001b[0m\u001b[0;34m\u001b[0m\u001b[0m\n\u001b[0m",
      "\u001b[0;31mFruitType\u001b[0m: You have not defined the edible status"
     ]
    }
   ],
   "source": [
    "class FruitType(Exception):\n",
    "    pass\n",
    "\n",
    "raise FruitType(\"You have not defined the edible status\")"
   ]
  },
  {
   "cell_type": "code",
   "execution_count": 5,
   "metadata": {
    "collapsed": false
   },
   "outputs": [],
   "source": [
    "class FruitType(Exception):\n",
    "    def __init__(self,name,edible_status):\n",
    "        super().__init__(\"You have not defined the edible status\")\n",
    "        self.name = name\n",
    "        self.edible_status = edible_status\n",
    "        \n",
    "    def checkEdible(self):\n",
    "        return self.edible_status == 'edible'\n",
    "        "
   ]
  },
  {
   "cell_type": "code",
   "execution_count": 6,
   "metadata": {
    "collapsed": false
   },
   "outputs": [
    {
     "ename": "FruitType",
     "evalue": "You have not defined the edible status",
     "output_type": "error",
     "traceback": [
      "\u001b[0;31m---------------------------------------------------------------------------\u001b[0m\n\u001b[0;31mFruitType\u001b[0m                                 Traceback (most recent call last)",
      "\u001b[0;32m<ipython-input-6-75a82917d22a>\u001b[0m in \u001b[0;36m<module>\u001b[0;34m()\u001b[0m\n\u001b[0;32m----> 1\u001b[0;31m \u001b[0;32mraise\u001b[0m \u001b[0mFruitType\u001b[0m\u001b[0;34m(\u001b[0m\u001b[0;34m'banana'\u001b[0m\u001b[0;34m,\u001b[0m\u001b[0;34m'edible'\u001b[0m\u001b[0;34m)\u001b[0m\u001b[0;34m\u001b[0m\u001b[0m\n\u001b[0m",
      "\u001b[0;31mFruitType\u001b[0m: You have not defined the edible status"
     ]
    }
   ],
   "source": [
    "raise FruitType('banana','edible')"
   ]
  },
  {
   "cell_type": "code",
   "execution_count": 10,
   "metadata": {
    "collapsed": false
   },
   "outputs": [
    {
     "name": "stdout",
     "output_type": "stream",
     "text": [
      "The fruit is poisonous\n"
     ]
    }
   ],
   "source": [
    "try :\n",
    "    raise FruitType('banana','poisnous')\n",
    "except FruitType as fruity:\n",
    "    if fruity.checkEdible():\n",
    "        print(\"The fruit is edible\")\n",
    "    else:\n",
    "        print(\"The fruit is poisonous\") \n"
   ]
  },
  {
   "cell_type": "markdown",
   "metadata": {},
   "source": [
    "The Exception \\__init\\__ method is designed store any arguments as tuple in an attribute named args. If we do want to customize the initializer, it may be achieved using the super().\\__init\\__ as shown in example above. The **raise** statement at the end shows how to construct the exception.  \n",
    "\n",
    "The execption variable **fruity** gives us control over exceptions and their methods. We may add as many methods or functions to our defined exception class. There are multiple reasons why defining your own exceptions is helpful. In order to log information using exception is an efficient step towards code maintainace and debugging. "
   ]
  },
  {
   "cell_type": "markdown",
   "metadata": {},
   "source": [
    "### 2. Object Oriented Programming : How and when to apply"
   ]
  },
  {
   "cell_type": "markdown",
   "metadata": {},
   "source": [
    "There is a wealth of information online about object oriented programming. This and earlier tutorials have clearly shown the detailed syntax and scope. However, more often that not it is not clear how and when to apply these principles. In this section, we shall see how and when we apply object oriented design paradigm. We will deal with the following sub-topics here:\n",
    "\n",
    "* How to make out an object in a design scope\n",
    "* Understanding data and behaviors.\n",
    "* Data Wrapping and Restricted Usage\n",
    "* How they all fit in "
   ]
  },
  {
   "cell_type": "markdown",
   "metadata": {},
   "source": [
    "The process is generally to identify objects in the problem and then model their data and behaviors. Identifyng objects is an important task in object oriented analysis and programming. Lets jog our memory - Objects are things athat have both data and behavior. If we are working with data, we will be storing them in data strcutures as available with the python framework, for exampple - list, tuple, dictionary. In  cases where we might need to work with both data and behavior (associated to data ), we need object oriented structure of design.\n",
    "\n",
    "\n",
    "Separation of data and behavior. In python the separation goes blur. In case of python, we set the **property** keyword to make methods look like class attribute. This benefits a design style where if originaly the code was written to use direct memory access, methods can be added later to get and set the name without changing the interface. Lets us see an example:"
   ]
  },
  {
   "cell_type": "code",
   "execution_count": 100,
   "metadata": {
    "collapsed": false
   },
   "outputs": [],
   "source": [
    "class Fruit:\n",
    "    def __init__(self, edible_status, name):\n",
    "        self.edible_status = edible_status\n",
    "        self._name = name\n",
    " \n",
    "    def isNotEmpty(self, s):\n",
    "        return bool(s and s.strip())\n",
    "        \n",
    "    def _set_name(self,name):\n",
    "        if not self.isNotEmpty(name):\n",
    "            raise Exception(\"Invalid fruit name\")\n",
    "        self._name = name\n",
    "    \n",
    "    def _get_name(self):\n",
    "        return self._name\n",
    "    \n",
    "    name = property(_get_name, _set_name)\n",
    "            \n"
   ]
  },
  {
   "cell_type": "code",
   "execution_count": 101,
   "metadata": {
    "collapsed": false
   },
   "outputs": [],
   "source": [
    "banana = Fruit(\"edible\",\"banana\")"
   ]
  },
  {
   "cell_type": "code",
   "execution_count": 102,
   "metadata": {
    "collapsed": false
   },
   "outputs": [
    {
     "name": "stdout",
     "output_type": "stream",
     "text": [
      "banana\n"
     ]
    }
   ],
   "source": [
    "print(banana.name)"
   ]
  },
  {
   "cell_type": "code",
   "execution_count": 103,
   "metadata": {
    "collapsed": false
   },
   "outputs": [],
   "source": [
    "banana.name = \"new banana\""
   ]
  },
  {
   "cell_type": "markdown",
   "metadata": {},
   "source": [
    "Well, you may argue so what is the big deal about this. Why go all the pain to even form such methods when we may actually access the methods directly? Well here lies the importance:"
   ]
  },
  {
   "cell_type": "code",
   "execution_count": 105,
   "metadata": {
    "collapsed": false
   },
   "outputs": [
    {
     "ename": "Exception",
     "evalue": "Invalid fruit name",
     "output_type": "error",
     "traceback": [
      "\u001b[0;31m---------------------------------------------------------------------------\u001b[0m\n\u001b[0;31mException\u001b[0m                                 Traceback (most recent call last)",
      "\u001b[0;32m<ipython-input-105-1dcce2722a22>\u001b[0m in \u001b[0;36m<module>\u001b[0;34m()\u001b[0m\n\u001b[0;32m----> 1\u001b[0;31m \u001b[0mbanana\u001b[0m\u001b[0;34m.\u001b[0m\u001b[0mname\u001b[0m \u001b[0;34m=\u001b[0m \u001b[0;34m\" \"\u001b[0m\u001b[0;34m\u001b[0m\u001b[0m\n\u001b[0m",
      "\u001b[0;32m<ipython-input-100-014f3be3a6fb>\u001b[0m in \u001b[0;36m_set_name\u001b[0;34m(self, name)\u001b[0m\n\u001b[1;32m      9\u001b[0m     \u001b[0;32mdef\u001b[0m \u001b[0m_set_name\u001b[0m\u001b[0;34m(\u001b[0m\u001b[0mself\u001b[0m\u001b[0;34m,\u001b[0m\u001b[0mname\u001b[0m\u001b[0;34m)\u001b[0m\u001b[0;34m:\u001b[0m\u001b[0;34m\u001b[0m\u001b[0m\n\u001b[1;32m     10\u001b[0m         \u001b[0;32mif\u001b[0m \u001b[0;32mnot\u001b[0m \u001b[0mself\u001b[0m\u001b[0;34m.\u001b[0m\u001b[0misNotEmpty\u001b[0m\u001b[0;34m(\u001b[0m\u001b[0mname\u001b[0m\u001b[0;34m)\u001b[0m\u001b[0;34m:\u001b[0m\u001b[0;34m\u001b[0m\u001b[0m\n\u001b[0;32m---> 11\u001b[0;31m             \u001b[0;32mraise\u001b[0m \u001b[0mException\u001b[0m\u001b[0;34m(\u001b[0m\u001b[0;34m\"Invalid fruit name\"\u001b[0m\u001b[0;34m)\u001b[0m\u001b[0;34m\u001b[0m\u001b[0m\n\u001b[0m\u001b[1;32m     12\u001b[0m         \u001b[0mself\u001b[0m\u001b[0;34m.\u001b[0m\u001b[0m_name\u001b[0m \u001b[0;34m=\u001b[0m \u001b[0mname\u001b[0m\u001b[0;34m\u001b[0m\u001b[0m\n\u001b[1;32m     13\u001b[0m \u001b[0;34m\u001b[0m\u001b[0m\n",
      "\u001b[0;31mException\u001b[0m: Invalid fruit name"
     ]
    }
   ],
   "source": [
    "banana.name = \" \""
   ]
  },
  {
   "cell_type": "markdown",
   "metadata": {},
   "source": [
    "Try the same for banana.name = \" \" as \"\" and None. The newly added function, isNotEmpty ascertains if there is any spurious entry by the user. Based on our earlier study of exceptions, we combine two features here - an understanding of how to protect dumb or mistaken updates by the user and secondly how to notify them of the error message via exceptions, thereby halting the progress of the program any further. Such design practises saves a lot of headache and ultimately saves time. \n",
    "\n",
    "\n",
    "There is another way to create properties and they are known as decorators. **Decorators** are a way to modify functions dynamically by passing them as arguments to other functions, which will eventually return a new function.\n",
    "\n",
    "We may simplify our definitions here, before we proceed ahead. In Python, data, properties and methods are all attributes of a class.  It is possible to  create normal objects that are callable. In addition, the functions and methods are themsleves normal objects. Methods being callable attributes and properties customized attributes may help us in our decision.\n",
    "\n",
    "* Methods represents **actions** : Things that can be done or performed by the object.\n",
    "* It is best to use a standard attribute until control access to a property is needed. Therefore it is possible to invoke custom actions automatically when a property is retrieved.\n"
   ]
  },
  {
   "cell_type": "code",
   "execution_count": 11,
   "metadata": {
    "collapsed": false
   },
   "outputs": [
    {
     "name": "stdout",
     "output_type": "stream",
     "text": [
      "Calling fruitNameTypeLoc with ('apple', 'temperate', 'france') and {}\n",
      " function1\n",
      "Calling fruitColor with ('green',) and {}\n",
      " function2\n",
      "Calling fruitEdible with ('edible',) and {'taste': 'sweet'}\n",
      " function3\n"
     ]
    }
   ],
   "source": [
    "def Fruits(func):\n",
    "    def wrapper(*args, **kwargs):\n",
    "        print(\"Calling {0} with {1} and {2}\".format(\n",
    "            func.__name__, args, kwargs))\n",
    "        return_value = func(*args, **kwargs)\n",
    "        return return_value\n",
    "    return wrapper\n",
    "\n",
    "def fruitNameTypeLoc(fname,ftype,floc):\n",
    "    print(\" function1\")\n",
    "    \n",
    "def fruitColor(fcolor):\n",
    "    print(\" function2\")\n",
    "\n",
    "def fruitEdible(edible_status,taste):\n",
    "    print(\" function3\")\n",
    "   \n",
    "# defining the decorator functions after the method was defined    \n",
    "fruitNameTypeLoc = Fruits(fruitNameTypeLoc)\n",
    "fruitColor = Fruits(fruitColor)\n",
    "fruitEdible = Fruits(fruitEdible)\n",
    "\n",
    "fruitNameTypeLoc('apple','temperate','france')\n",
    "fruitColor('green')\n",
    "fruitEdible('edible',taste = 'sweet')"
   ]
  },
  {
   "cell_type": "markdown",
   "metadata": {},
   "source": [
    "In this case, the decorator function is log_calls which takes a function as object and returns a new function object. Let us understand the program flow:\n",
    "* Function, Fruits accepts a function\n",
    "* The function defines internally a new function called wrapper, which does some extra calculations before calling the original function.\n",
    "* The new function is returned, which replaces the original function\n",
    "\n",
    "The three sample functions shows the decorator in use. This syntax does allow us to build up decorated function objects dynamically. \n",
    "\n",
    "**Note!**  In case, anyone has difficulty with the concepts of \\*args and \\**kwargs may execute and follow the instruction set hereunder. For someone well versed may skip. You would use \\*args when you're not sure how many arguments might be passed to your function, i.e. it allows you pass an arbitrary number of arguments to your function.Similarly, \\**kwargs allows you to handle named arguments that you have not defined in advance.\n",
    "\n"
   ]
  },
  {
   "cell_type": "code",
   "execution_count": 4,
   "metadata": {
    "collapsed": false
   },
   "outputs": [],
   "source": [
    "def func(required_arg, *args, **kwargs):\n",
    "    # required_arg is a positional-only parameter.\n",
    "    print (required_arg)\n",
    "\n",
    "    # args is a tuple of positional arguments,\n",
    "    # because the parameter name has * prepended.\n",
    "    if args: # If args is not empty.\n",
    "        print (args)\n",
    "\n",
    "    # kwargs is a dictionary of keyword arguments,\n",
    "    # because the parameter name has ** prepended.\n",
    "    if kwargs: # If kwargs is not empty.\n",
    "        print (kwargs)"
   ]
  },
  {
   "cell_type": "code",
   "execution_count": 6,
   "metadata": {
    "collapsed": false
   },
   "outputs": [
    {
     "name": "stdout",
     "output_type": "stream",
     "text": [
      "required argument\n"
     ]
    }
   ],
   "source": [
    "func(\"required argument\")"
   ]
  },
  {
   "cell_type": "code",
   "execution_count": 7,
   "metadata": {
    "collapsed": false
   },
   "outputs": [
    {
     "name": "stdout",
     "output_type": "stream",
     "text": [
      "required argument\n",
      "(1, 2, '3')\n"
     ]
    }
   ],
   "source": [
    "func(\"required argument\", 1, 2, '3')"
   ]
  },
  {
   "cell_type": "code",
   "execution_count": 8,
   "metadata": {
    "collapsed": false
   },
   "outputs": [
    {
     "name": "stdout",
     "output_type": "stream",
     "text": [
      "required argument\n",
      "(1, 2, '3')\n",
      "{'keyword1': 4, 'keyword2': 'foo'}\n"
     ]
    }
   ],
   "source": [
    "func(\"required argument\", 1, 2, '3', keyword1=4, keyword2=\"foo\")"
   ]
  },
  {
   "cell_type": "markdown",
   "metadata": {},
   "source": [
    "Now coming back to using decorators, often these decorators are in general modifications that are applied permanently to differnt functions.  In Python, there are special syntax to apply the decorator at the time the function is defined. In previous example we applied the decorator function after the method definition. Instead we can use the @decorator syntax to do it all at once.\n",
    "\n",
    "    @Fruits\n",
    "    def fruitNameTypeLoc(fname,ftype,floc):\n",
    "        print(\" function1\")\n",
    "        \n",
    "        \n",
    "This makes the function decorated at the time it has been defined.Decorators can be created as callable objects, not just functions that return functions. Even classes can be decorated, with decorators return a new class instead of a new function. The details and depth of the scope is limited here in this tutorial and is apt for advanced study. However, we shall touch a bit here:\n",
    "\n",
    "The **property()** function returns a special descriptor object. You may find the details in this link here.  https://docs.python.org/2/howto/descriptor.html \n",
    "\n"
   ]
  },
  {
   "cell_type": "code",
   "execution_count": 15,
   "metadata": {
    "collapsed": false
   },
   "outputs": [
    {
     "data": {
      "text/plain": [
       "<builtins.property at 0x7f586419fb88>"
      ]
     },
     "execution_count": 15,
     "metadata": {},
     "output_type": "execute_result"
    }
   ],
   "source": [
    "property()"
   ]
  },
  {
   "cell_type": "markdown",
   "metadata": {},
   "source": [
    "It is an object that has *extra* methods."
   ]
  },
  {
   "cell_type": "code",
   "execution_count": 19,
   "metadata": {
    "collapsed": false
   },
   "outputs": [
    {
     "data": {
      "text/plain": [
       "<function getter>"
      ]
     },
     "execution_count": 19,
     "metadata": {},
     "output_type": "execute_result"
    }
   ],
   "source": [
    "property().getter"
   ]
  },
  {
   "cell_type": "code",
   "execution_count": 20,
   "metadata": {
    "collapsed": false
   },
   "outputs": [
    {
     "data": {
      "text/plain": [
       "<function setter>"
      ]
     },
     "execution_count": 20,
     "metadata": {},
     "output_type": "execute_result"
    }
   ],
   "source": [
    "property().setter"
   ]
  },
  {
   "cell_type": "code",
   "execution_count": 21,
   "metadata": {
    "collapsed": false
   },
   "outputs": [
    {
     "data": {
      "text/plain": [
       "<function deleter>"
      ]
     },
     "execution_count": 21,
     "metadata": {},
     "output_type": "execute_result"
    }
   ],
   "source": [
    "property().deleter"
   ]
  },
  {
   "cell_type": "markdown",
   "metadata": {},
   "source": [
    "These act as decorators too. They return a new property object:"
   ]
  },
  {
   "cell_type": "code",
   "execution_count": 22,
   "metadata": {
    "collapsed": false
   },
   "outputs": [
    {
     "data": {
      "text/plain": [
       "<builtins.property at 0x7f586419c3b8>"
      ]
     },
     "execution_count": 22,
     "metadata": {},
     "output_type": "execute_result"
    }
   ],
   "source": [
    "# This is a copy of the old object, but with one of the functions \n",
    "#  replaced. \n",
    "property().getter(None)"
   ]
  },
  {
   "cell_type": "markdown",
   "metadata": {},
   "source": [
    "Do remember that the @decorator syntax is just syntactic sugar; the syntax:\n",
    "\n",
    "    @property\n",
    "    def foo(self): return self._foo\n",
    "    \n",
    "really means the same thing as \n",
    "\n",
    "    def foo(self): return self._foo\n",
    "    foo = property(foo)\n",
    "    \n",
    "Therefore **foo** the function is replaced by property(foo), which we saw above is special object. Then when we use @foo.setter, what we we are doing is call that property().setter method shown above is called, which returns a copy of the same property, but with the setter function replaced with the decorated method.  To see how **property()** is implemented in terms of the descriptor protocol, pure python equivalent is given hereunder and the link https://docs.python.org/2/howto/descriptor.html#properties\n",
    "    "
   ]
  },
  {
   "cell_type": "code",
   "execution_count": 23,
   "metadata": {
    "collapsed": false
   },
   "outputs": [],
   "source": [
    "class Property(object):\n",
    "    \"Emulate PyProperty_Type() in Objects/descrobject.c\"\n",
    "\n",
    "    def __init__(self, fget=None, fset=None, fdel=None, doc=None):\n",
    "        self.fget = fget\n",
    "        self.fset = fset\n",
    "        self.fdel = fdel\n",
    "        if doc is None and fget is not None:\n",
    "            doc = fget.__doc__\n",
    "        self.__doc__ = doc\n",
    "\n",
    "    def __get__(self, obj, objtype=None):\n",
    "        if obj is None:\n",
    "            return self\n",
    "        if self.fget is None:\n",
    "            raise AttributeError(\"unreadable attribute\")\n",
    "        return self.fget(obj)\n",
    "\n",
    "    def __set__(self, obj, value):\n",
    "        if self.fset is None:\n",
    "            raise AttributeError(\"can't set attribute\")\n",
    "        self.fset(obj, value)\n",
    "\n",
    "    def __delete__(self, obj):\n",
    "        if self.fdel is None:\n",
    "            raise AttributeError(\"can't delete attribute\")\n",
    "        self.fdel(obj)\n",
    "\n",
    "    def getter(self, fget):\n",
    "        return type(self)(fget, self.fset, self.fdel, self.__doc__)\n",
    "\n",
    "    def setter(self, fset):\n",
    "        return type(self)(self.fget, fset, self.fdel, self.__doc__)\n",
    "\n",
    "    def deleter(self, fdel):\n",
    "        return type(self)(self.fget, self.fset, fdel, self.__doc__)"
   ]
  },
  {
   "cell_type": "markdown",
   "metadata": {},
   "source": [
    "**Recap**\n",
    "\n",
    "So what did we find out about decorators over here? We found that decorator pattern allows us to *wrap* an object that provides the core functionality with other objects that alter that functionality. An object that uses the decorated object will interact with it in the same way as if it were identical to the core object.\n",
    "\n",
    " <img src=\"files/descriptor.png\", width = 550>\n",
    " \n",
    " \n"
   ]
  },
  {
   "cell_type": "markdown",
   "metadata": {},
   "source": [
    "The **core** and all the decorators implement a specific **Interface**. The decorators via composition maintain a refernece to another instance of that Interface. The figure above is Unifed Flow Model (UML) diagram. Do look it up during implementation session. When a decorator is called, it does some added procesisng before or after the wrapped interface. The wrapped object may be another decorator or the core functionality. Multiple decorators may wrap each other as well.\n",
    " \n",
    " \n",
    "### 3. Design Patterns \n",
    " \n",
    "In the following set, we shall cover **design pattern**. A design pattern is not a finished design (transformed directly into code), but a description\\template for how to solve a problem that can be used in many different situations. Two of the decorator patterens that will be listed here are:\n",
    "\n",
    "* Observer Pattern\n",
    "* Template Pattern\n",
    "\n",
    "Discussing design patterns exclusively is beyond the scope of this tutorial. It is advised that the reader look up into Design Pattern books and learn the nitty gritty details prior to this tutorial. A list of design patterns which we did not cover here will be listed at the end of this module for reference purposes."
   ]
  },
  {
   "cell_type": "markdown",
   "metadata": {},
   "source": [
    "**Observer Pattern**\n",
    "\n",
    "The observer pattern is useful for event handling and state monitoring situations.  A single core object can be monitored by an unknown observer object/objects. This means that whenever there is a change in the core object, it lets all the observer objects know that a change has occured by calling an update mechanism.\n",
    "\n",
    "In our case, our deisgn problem is a fruit basket with specific fruit type. The update is made when the quantity of the specified fruit in the basket changes."
   ]
  },
  {
   "cell_type": "code",
   "execution_count": 1,
   "metadata": {
    "collapsed": false
   },
   "outputs": [],
   "source": [
    "class FruitBasket:\n",
    "    def __init__(self):\n",
    "        self.observers = []\n",
    "        self._fruit = None\n",
    "        self._quantity = 0\n",
    "        \n",
    "    def attach(self,observer):\n",
    "        self.observers.append(observer)\n",
    "   \n",
    "    #    Recall from before : syntax sugar? fruit = property(fruit).\n",
    "    #    Once the property has been defined, we can proceed with \n",
    "    #    fruit.setter / getter/  deleter as wished. In this case,\n",
    "    #    we chose to use the setter to update the variable self._fruit\n",
    "    @property\n",
    "    def fruit(self):\n",
    "        return self._fruit\n",
    "    @fruit.setter\n",
    "    def fruit(self,name):\n",
    "        self._fruit = name\n",
    "        self._update_observers()\n",
    "       \n",
    "    # The same applies here for quantity    \n",
    "    @property\n",
    "    def quantity(self):\n",
    "        return self._quantity\n",
    "    @quantity.setter\n",
    "    def quantity(self,value):\n",
    "        self._quantity = value\n",
    "        self._update_observers()\n",
    "        \n",
    "    def _update_observers(self):\n",
    "        for observer in self.observers:\n",
    "            observer()"
   ]
  },
  {
   "cell_type": "code",
   "execution_count": 5,
   "metadata": {
    "collapsed": false
   },
   "outputs": [],
   "source": [
    "class ConsoleObserver:\n",
    "    def __init__(self,inventory):\n",
    "        self.inventory = inventory\n",
    "        \n",
    "    def __call__(self):\n",
    "        print(self.inventory.fruit)\n",
    "        print(self.inventory.quantity)"
   ]
  },
  {
   "cell_type": "code",
   "execution_count": 6,
   "metadata": {
    "collapsed": false
   },
   "outputs": [],
   "source": [
    "fb = FruitBasket()\n",
    "ConOb = ConsoleObserver(fb)"
   ]
  },
  {
   "cell_type": "code",
   "execution_count": 7,
   "metadata": {
    "collapsed": false
   },
   "outputs": [
    {
     "name": "stdout",
     "output_type": "stream",
     "text": [
      "apple\n",
      "0\n"
     ]
    }
   ],
   "source": [
    "fb.attach(ConOb)\n",
    "fb.fruit = \"apple\""
   ]
  },
  {
   "cell_type": "code",
   "execution_count": 8,
   "metadata": {
    "collapsed": false
   },
   "outputs": [
    {
     "name": "stdout",
     "output_type": "stream",
     "text": [
      "apple\n",
      "15\n"
     ]
    }
   ],
   "source": [
    "fb.quantity = 15"
   ]
  },
  {
   "cell_type": "markdown",
   "metadata": {},
   "source": [
    "** Template Pattern **\n",
    "\n",
    "The template pattern finds usefulness in removing duplicate code. In situations, where we have several different tasks to complete that have some if not all the steps in common. The design approach is that the common steps are implemented in a base class, and the different steps are overriden in subclass to provide custom behavior.\n",
    "\n",
    "In our case we shall work as consolidated report generation for sales handlers at a fruit shop. In our cases, we will stick to fruit baskets as unit items sold. \n"
   ]
  },
  {
   "cell_type": "code",
   "execution_count": 1,
   "metadata": {
    "collapsed": false
   },
   "outputs": [],
   "source": [
    "import sqlite3"
   ]
  },
  {
   "cell_type": "code",
   "execution_count": 13,
   "metadata": {
    "collapsed": false
   },
   "outputs": [],
   "source": [
    "conn = sqlite3.connect(\"fsales.db\")\n",
    "\n",
    "conn.execute(\"CREATE TABLE FSales (salesperson text,\"\n",
    "             \"amt currency, year integer, fruitset text, new boolean)\")\n",
    "\n",
    "conn.execute(\"INSERT INTO FSales values\"\n",
    "             \"('Shifu Hu',1216, 2016, 'Apple Basket','true')\")\n",
    "\n",
    "conn.execute(\"INSERT INTO FSales values\"\n",
    "             \"('Shifu Hu',119, 2015, 'Mango Basket','false')\")\n",
    "\n",
    "conn.execute(\"INSERT INTO FSales values\"\n",
    "             \"('Chin Long',80, 2014, 'Orange Basket','false')\")\n",
    "\n",
    "conn.execute(\"INSERT INTO FSales values\"\n",
    "             \"('Chin Long',128, 2016, 'Pineapple Basket','true')\")\n",
    "\n",
    "conn.execute(\"INSERT INTO FSales values\"\n",
    "             \"('Chin Long',12, 2016, 'Dragon Fruit Basket','true')\")\n",
    "\n",
    "conn.execute(\"INSERT INTO FSales values\"\n",
    "             \"('Shifu Hu',200, 2016, 'Papaya Basket','false')\")\n",
    "\n",
    "conn.commit()\n",
    "conn.close()"
   ]
  },
  {
   "cell_type": "markdown",
   "metadata": {},
   "source": [
    "We've created a table to hold the data, and used six insert statements to add fruit sales records. The data is stored in a file named fsales.db. Now we have a sample we can work with in developing our template pattern.\n",
    "\n",
    "In case you may need to look up for syntax to sqlite : https://www.sqlite.org/\n",
    "It is recommeneded you insert a cell underneath and play around with the syntax."
   ]
  },
  {
   "cell_type": "code",
   "execution_count": 14,
   "metadata": {
    "collapsed": false
   },
   "outputs": [],
   "source": [
    "class QueryTemplate:\n",
    "    def connect(self):\n",
    "        self.conn =sqlite3.connect(\"fsales.db\")\n",
    "    \n",
    "    def construct_query(self):\n",
    "        raise NotImplemenetedError()\n",
    "        \n",
    "    def do_query(self):\n",
    "        results = self.conn.execute(self.query)\n",
    "        self.results = results.fetchall()\n",
    "        \n",
    "    def format_results(self):\n",
    "        output = []\n",
    "        for row in self.results:\n",
    "            row = [str(i) for i in row]\n",
    "            output.append(\",\".join(row))\n",
    "        self.formatted_results = \"\\n\".join(output)\n",
    "        \n",
    "    def output_results(self):\n",
    "        raise NotImplementedError()\n",
    "    \n",
    "    def process_format(self):\n",
    "        self.connect()\n",
    "        self.construct_query()\n",
    "        self.do_query()\n",
    "        self.format_results()\n",
    "        self.output_results()\n",
    "        \n",
    "    "
   ]
  },
  {
   "cell_type": "markdown",
   "metadata": {},
   "source": [
    "process_format method is required to be called by an outside client. The method ensures that each step is executed in order, but does not care if that step is implemented in this class or in a subclass. In order to assist with implementation of subclasses, the two methods that are not specified will raise NotImplementedError. This serves as a way to specify abstract interfaces and helps the programmer understand that the class is meant to be subclassed."
   ]
  },
  {
   "cell_type": "code",
   "execution_count": 15,
   "metadata": {
    "collapsed": false
   },
   "outputs": [],
   "source": [
    "import datetime\n",
    "\n",
    "class NewFruitBasketQuery(QueryTemplate):\n",
    "    def construct_query(self):\n",
    "        self.query = \"select * from FSales where new='true'\"\n",
    "        \n",
    "    def output_results(self):\n",
    "        print(self.formatted_results)\n",
    "\n",
    "class UserGrossQuery(QueryTemplate):\n",
    "    def construct_query(self):\n",
    "        self.query = (\"select salesperson, sum(amt) \" +\n",
    "            \" from FSales group by salesperson\")\n",
    "    def output_results(self):\n",
    "        filename = \"gross_sales_{0}\".format(\n",
    "        datetime.date.today().strftime(\"%Y%m%d\"))\n",
    "        \n",
    "        with open(filename, 'w') as outfile:\n",
    "            outfile.write(self.formatted_results)"
   ]
  },
  {
   "cell_type": "code",
   "execution_count": 16,
   "metadata": {
    "collapsed": false
   },
   "outputs": [],
   "source": [
    "v = NewFruitBasketQuery()"
   ]
  },
  {
   "cell_type": "code",
   "execution_count": 17,
   "metadata": {
    "collapsed": false
   },
   "outputs": [],
   "source": [
    "v.construct_query()"
   ]
  },
  {
   "cell_type": "code",
   "execution_count": 18,
   "metadata": {
    "collapsed": false
   },
   "outputs": [
    {
     "name": "stdout",
     "output_type": "stream",
     "text": [
      "Shifu Hu,1216,2016,Apple Basket,true\n",
      "Chin Long,128,2016,Pineapple Basket,true\n",
      "Chin Long,12,2016,Dragon Fruit Basket,true\n"
     ]
    }
   ],
   "source": [
    "v.process_format()"
   ]
  },
  {
   "cell_type": "code",
   "execution_count": 19,
   "metadata": {
    "collapsed": false
   },
   "outputs": [
    {
     "name": "stdout",
     "output_type": "stream",
     "text": [
      "Shifu Hu,1216,2016,Apple Basket,true\n",
      "Chin Long,128,2016,Pineapple Basket,true\n",
      "Chin Long,12,2016,Dragon Fruit Basket,true\n"
     ]
    }
   ],
   "source": [
    "v.output_results()"
   ]
  },
  {
   "cell_type": "markdown",
   "metadata": {},
   "source": [
    "These two classes are abstracted as the reader may see, The superclass takes care of this repetitive work while allowing us to easily specify the steps that vary between tasks.  We may also change the steps in the base class."
   ]
  },
  {
   "cell_type": "markdown",
   "metadata": {},
   "source": [
    "In terms of design patterns, there are further more styles namely:\n",
    "* Strategy Pattern  \n",
    "* State Pattern\n",
    "* Singleton Pattern\n",
    "* Adapter Pattern \n",
    "* Facade Pattern\n",
    "* Flyweight Pattern\n",
    "* Command Pattern\n",
    "* Abstract Factory Pattern\n",
    "* Composite Pattern\n",
    "\n",
    "\n",
    "It is not possible to list down every design patterm methods in this single tutorial and beyond the scope at present. However the reader may wish to explore and the reward is worth the effort."
   ]
  },
  {
   "cell_type": "code",
   "execution_count": null,
   "metadata": {
    "collapsed": false
   },
   "outputs": [],
   "source": []
  }
 ],
 "metadata": {
  "kernelspec": {
   "display_name": "Python 2",
   "language": "python",
   "name": "python2"
  },
  "language_info": {
   "codemirror_mode": {
    "name": "ipython",
    "version": 2
   },
   "file_extension": ".py",
   "mimetype": "text/x-python",
   "name": "python",
   "nbconvert_exporter": "python",
   "pygments_lexer": "ipython2",
   "version": "2.7.10"
  }
 },
 "nbformat": 4,
 "nbformat_minor": 0
}
