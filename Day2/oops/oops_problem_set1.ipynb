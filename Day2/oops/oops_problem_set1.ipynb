{
 "cells": [
  {
   "cell_type": "markdown",
   "metadata": {},
   "source": [
    "###  1. How does it work?\n",
    "\n",
    "In this section, some quirky instances of coding will be given. The task is to find them out, provide logical explanations to whay and how they work. Finally the task is to write the best possible code to do the same task."
   ]
  },
  {
   "cell_type": "markdown",
   "metadata": {},
   "source": [
    "#### Problem 1:"
   ]
  },
  {
   "cell_type": "code",
   "execution_count": 1,
   "metadata": {
    "collapsed": false
   },
   "outputs": [],
   "source": [
    "class MasterClass(object):\n",
    "    def __init__(self,MasterName):\n",
    "        self.MasterName = MasterName\n",
    "        \n",
    "    def update(self,MasterName):\n",
    "        self.MasterName = MasterName\n",
    "        \n",
    "class derivedClass(MasterClass):\n",
    "    def __init__(self,attribute, MasterName):\n",
    "        self.attribute = attribute\n",
    "        "
   ]
  },
  {
   "cell_type": "code",
   "execution_count": 2,
   "metadata": {
    "collapsed": false
   },
   "outputs": [],
   "source": [
    "john = derivedClass(\"warrior\",\"jet li\")"
   ]
  },
  {
   "cell_type": "code",
   "execution_count": 3,
   "metadata": {
    "collapsed": false
   },
   "outputs": [
    {
     "data": {
      "text/plain": [
       "'warrior'"
      ]
     },
     "execution_count": 3,
     "metadata": {},
     "output_type": "execute_result"
    }
   ],
   "source": [
    "john.attribute"
   ]
  },
  {
   "cell_type": "code",
   "execution_count": 4,
   "metadata": {
    "collapsed": false
   },
   "outputs": [
    {
     "ename": "AttributeError",
     "evalue": "'derivedClass' object has no attribute 'MasterName'",
     "output_type": "error",
     "traceback": [
      "\u001b[0;31m---------------------------------------------------------------------------\u001b[0m\n\u001b[0;31mAttributeError\u001b[0m                            Traceback (most recent call last)",
      "\u001b[0;32m<ipython-input-4-02763b4900dd>\u001b[0m in \u001b[0;36m<module>\u001b[0;34m()\u001b[0m\n\u001b[0;32m----> 1\u001b[0;31m \u001b[0mjohn\u001b[0m\u001b[0;34m.\u001b[0m\u001b[0mMasterName\u001b[0m\u001b[0;34m\u001b[0m\u001b[0m\n\u001b[0m",
      "\u001b[0;31mAttributeError\u001b[0m: 'derivedClass' object has no attribute 'MasterName'"
     ]
    }
   ],
   "source": [
    "john.MasterName"
   ]
  },
  {
   "cell_type": "markdown",
   "metadata": {},
   "source": [
    "Why did it fail here?  Do mention the reasons clearly."
   ]
  },
  {
   "cell_type": "code",
   "execution_count": 5,
   "metadata": {
    "collapsed": false
   },
   "outputs": [],
   "source": [
    "john.update(\"jet-li\")"
   ]
  },
  {
   "cell_type": "code",
   "execution_count": 6,
   "metadata": {
    "collapsed": false
   },
   "outputs": [
    {
     "data": {
      "text/plain": [
       "'jet-li'"
      ]
     },
     "execution_count": 6,
     "metadata": {},
     "output_type": "execute_result"
    }
   ],
   "source": [
    "john.MasterName"
   ]
  },
  {
   "cell_type": "markdown",
   "metadata": {},
   "source": [
    "Okay! So why does it work now. Look into the Tutorial Set I of OOPS. Write down the reasons as to why it works in this case and did not work in the earlier case. Finally, write down the best code according to you."
   ]
  },
  {
   "cell_type": "markdown",
   "metadata": {},
   "source": [
    "#### Problem 2:"
   ]
  },
  {
   "cell_type": "code",
   "execution_count": 7,
   "metadata": {
    "collapsed": false
   },
   "outputs": [],
   "source": [
    "class sampleClass(object):\n",
    "    def __init__(weird, identity):\n",
    "        weird.identity = identity\n",
    "    "
   ]
  },
  {
   "cell_type": "code",
   "execution_count": 8,
   "metadata": {
    "collapsed": false
   },
   "outputs": [],
   "source": [
    "strange = sampleClass(\"Harry\")"
   ]
  },
  {
   "cell_type": "code",
   "execution_count": 9,
   "metadata": {
    "collapsed": false
   },
   "outputs": [
    {
     "data": {
      "text/plain": [
       "'Harry'"
      ]
     },
     "execution_count": 9,
     "metadata": {},
     "output_type": "execute_result"
    }
   ],
   "source": [
    "strange.identity"
   ]
  },
  {
   "cell_type": "markdown",
   "metadata": {},
   "source": [
    "What does this work? We did not use the typical  **self.identity**. Is it possible to replace **weird** with **i_do_not_comply** and still the code may run? List down your solution and reasoning."
   ]
  },
  {
   "cell_type": "markdown",
   "metadata": {},
   "source": [
    "#### Problem 3:\n",
    "\n",
    "Assuming you have fairly good knowledge of Objects, classes and dictionary from previous tutorials, lets try to solve an useless but thought provoking problem:\n",
    "\n",
    "** Is it possible to convert dict to object ?**\n",
    "\n",
    "If yes, how? Write a program that follows the following example:\n",
    "\n",
    "    Input >>> d = {'John': 33, 'Janice': {'Jenny': 23}, 'Peter': [\"Dawg\", {'LilFist': \"Swag\"}]}\n",
    "\n",
    "should be accessible this way:\n",
    "\n",
    "    x = dict2obj(d)\n",
    "    x.John\n",
    "    33\n",
    "\n",
    "    x.Janice.Jenny\n",
    "    23\n",
    "\n",
    "    x.Peter[1].Lilfist\n",
    "    Swag"
   ]
  },
  {
   "cell_type": "markdown",
   "metadata": {},
   "source": [
    "### 2. Programming Assignment \n",
    "\n",
    "<div style=\"font-size:12pt;color:blue;\">Note: If you are not familar with binary tree, do spend some time learning that before attempting this assignment</div>\n"
   ]
  },
  {
   "cell_type": "markdown",
   "metadata": {},
   "source": [
    "**Assignment 1**: Write some code to grow a binary tree followed by traversal of a binary search tree using Python. You may start with defining the class Node as :\n",
    "\n",
    "    class Node(object):\n",
    "        def __init__(self,nodeid):\n",
    "            self.left = None\n",
    "            self.right = None\n",
    "            self.nodeid = nodeid\n",
    "    \n",
    "    class BinaryTree(object):\n",
    "        def __init__(self):\n",
    "            self.node = None  # As this is the starting node.\n",
    "            \n",
    "        def addNode(self,data):\n",
    "             return Node(data)\n",
    "         \n",
    "        def insert(self,root,data):\n",
    "            - \n",
    "            - < complete this part>\n",
    "            -\n",
    "        \n",
    "        def treetraversal(self,root):\n",
    "           -\n",
    "           - <complete this part>\n",
    "           -\n",
    "            \n",
    "\n",
    "    \n",
    "You may grow the tree as : \n",
    "\n",
    "    nodeA = Node(n1)\n",
    "    nodeB = Node(n2)\n",
    "    nodeC = Node(n3)\n",
    "    \n",
    "    nodeA.left = nodeB\n",
    "    nodeA.right = nodeC\n",
    "\n",
    "This gives you a structure of a subset of a tree to start with. This way you may grow a tree. After you have done that, do traverse the tree based on Pre Post or Inorder traversal. Do print the id as you traverse the tree, to check if your program runs as expected. \n",
    "\n",
    "\n",
    "                          \n",
    "              \n",
    "            \n",
    "            "
   ]
  },
  {
   "cell_type": "markdown",
   "metadata": {},
   "source": [
    "\n",
    "**Assignment 2**\\*:\n",
    "\n",
    "After you are done with the above, do think about the problem and what you have learned so far in python course. You have been exposed to list in earlier chapters. What is your opinion about list of lists? Is it possible to grow a tree using list of list? If yes, why not write a tree traversal program as well. \n",
    "                \n",
    "Hint: You may instantiate the class as node objects while you append them in a list.  "
   ]
  },
  {
   "cell_type": "markdown",
   "metadata": {},
   "source": [
    "#### Assignment 3\\*:\n",
    "\n",
    "Implement Assignment 2 problem using Hash/Dictionary instead of lists. \n"
   ]
  },
  {
   "cell_type": "code",
   "execution_count": null,
   "metadata": {
    "collapsed": false
   },
   "outputs": [],
   "source": []
  }
 ],
 "metadata": {
  "kernelspec": {
   "display_name": "Python 2",
   "language": "python",
   "name": "python2"
  },
  "language_info": {
   "codemirror_mode": {
    "name": "ipython",
    "version": 2
   },
   "file_extension": ".py",
   "mimetype": "text/x-python",
   "name": "python",
   "nbconvert_exporter": "python",
   "pygments_lexer": "ipython2",
   "version": "2.7.10"
  }
 },
 "nbformat": 4,
 "nbformat_minor": 0
}
